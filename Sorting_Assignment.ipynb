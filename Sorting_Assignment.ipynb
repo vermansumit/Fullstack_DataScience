{
 "cells": [
  {
   "cell_type": "code",
   "execution_count": null,
   "id": "029eb566-f42f-471e-af37-62990bbe9052",
   "metadata": {},
   "outputs": [],
   "source": [
    "''' Sorting Assignment '''"
   ]
  },
  {
   "cell_type": "code",
   "execution_count": 1,
   "id": "50086470-9b7f-4c5b-947d-159267d9cf95",
   "metadata": {},
   "outputs": [
    {
     "name": "stdout",
     "output_type": "stream",
     "text": [
      "4\n"
     ]
    }
   ],
   "source": [
    "# Problem 1.Given an array of n numbers, give an algorithm which gives the element appearing maximum number of times?\n",
    "\n",
    "# Answer:\n",
    "def max_occurrence_element(arr):\n",
    "    count = {}\n",
    "    max_count = 0\n",
    "    max_element = None\n",
    "    for num in arr:\n",
    "        count[num] = count.get(num, 0) + 1\n",
    "        if count[num] > max_count:\n",
    "            max_count = count[num]\n",
    "            max_element = num\n",
    "    return max_element\n",
    "\n",
    "# Test\n",
    "print(max_occurrence_element([1,2,2,3,3,3,4,4,4,4]))  # Output: 4"
   ]
  },
  {
   "cell_type": "code",
   "execution_count": 3,
   "id": "3ca09f01-4076-458c-bbe2-cc1822597a4d",
   "metadata": {},
   "outputs": [
    {
     "name": "stdout",
     "output_type": "stream",
     "text": [
      "5\n"
     ]
    }
   ],
   "source": [
    "# Problem 2 : We are given a list of n-1 integers and these integers are in the range of 1 to n . There are no duplicates in the list. One of the integers is missing in the list. Give an algorithm to find that element Ex: [1,2,4,6,3,7,8] 5 is the missing num.\n",
    "\n",
    "# answer :\n",
    "def find_missing_element(arr, n):\n",
    "    return n*(n+1)//2 - sum(arr)\n",
    "\n",
    "# Test \n",
    "print(find_missing_element([1,2,4,6,3,7,8], 8))  # Output: 5\n"
   ]
  },
  {
   "cell_type": "code",
   "execution_count": 5,
   "id": "2c0c3c14-b310-4983-bc56-10b4c8128433",
   "metadata": {},
   "outputs": [
    {
     "name": "stdout",
     "output_type": "stream",
     "text": [
      "3\n"
     ]
    }
   ],
   "source": [
    "# Problem 3 : Given an array of n positive numbers. All numbers occurs even number of times except 1 which occurs odd number of times. Find that number in O(n) time and O(1) space. Ex: [1,2,3,2,3,1,3]. 3 is repeats odd times.\n",
    "\n",
    "# Answer :\n",
    "def find_odd_occurrence(arr):\n",
    "    result = 0\n",
    "    for num in arr:\n",
    "        result ^= num\n",
    "    return result\n",
    "\n",
    "# Test\n",
    "print(find_odd_occurrence([1,2,3,2,3,1,3]))  # Output: 3\n"
   ]
  },
  {
   "cell_type": "code",
   "execution_count": 7,
   "id": "299fe628-3699-4229-8131-ac713ab984ae",
   "metadata": {},
   "outputs": [
    {
     "name": "stdout",
     "output_type": "stream",
     "text": [
      "(3, 4)\n"
     ]
    }
   ],
   "source": [
    "# Problem 4 : Given an array of n elements. Find two elements in the array such that their sum is equal to given element K.\n",
    "\n",
    "def find_two_sum(arr, K):\n",
    "    seen = set()\n",
    "    for num in arr:\n",
    "        if (complement := K - num) in seen:\n",
    "            return (complement, num)\n",
    "        seen.add(num)\n",
    "    return None\n",
    "\n",
    "# Test\n",
    "print(find_two_sum([1,2,3,4,5], 7))  # Output: (3,4)\n"
   ]
  },
  {
   "cell_type": "code",
   "execution_count": 11,
   "id": "c777bb55-7e42-43bb-9272-83ec24217555",
   "metadata": {},
   "outputs": [
    {
     "name": "stdout",
     "output_type": "stream",
     "text": [
      "(-80, 85)\n"
     ]
    }
   ],
   "source": [
    "# Problem 5 : Given an array of both positive and negative numbers, find two numbers such that their sum is closest to 0. Ex: [ 1 ,60 ,-10, 70, -80,85]. Ans : -80,85.\n",
    "\n",
    "#Answer :\n",
    "def find_closest_sum_zero(arr):\n",
    "    arr.sort()\n",
    "    left, right = 0, len(arr)-1\n",
    "    min_sum = float('inf')\n",
    "    closest = (None, None)\n",
    "    while left < right:\n",
    "        current_sum = arr[left] + arr[right]\n",
    "        if abs(current_sum) < abs(min_sum):\n",
    "            min_sum = current_sum\n",
    "            closest = (arr[left], arr[right])\n",
    "        if current_sum < 0:\n",
    "            left += 1\n",
    "        else:\n",
    "            right -= 1\n",
    "    return closest\n",
    "\n",
    "# Test\n",
    "print(find_closest_sum_zero([1,60,-10,70,-80,85]))  # Output: (-80,85)"
   ]
  },
  {
   "cell_type": "code",
   "execution_count": 13,
   "id": "892bb762-7828-4724-bbd9-b86599342436",
   "metadata": {},
   "outputs": [
    {
     "name": "stdout",
     "output_type": "stream",
     "text": [
      "(1, 3, 5)\n"
     ]
    }
   ],
   "source": [
    "# Problem 6 : Given an array of n elements . Find three elements such that their sum is equal to the given number.\n",
    "\n",
    "# Answer :\n",
    "\n",
    "def find_three_sum(arr, target):\n",
    "    arr.sort()\n",
    "    for i in range(len(arr)-2):\n",
    "        left, right = i+1, len(arr)-1\n",
    "        while left < right:\n",
    "            current = arr[i] + arr[left] + arr[right]\n",
    "            if current == target:\n",
    "                return (arr[i], arr[left], arr[right])\n",
    "            elif current < target:\n",
    "                left += 1\n",
    "            else:\n",
    "                right -= 1\n",
    "    return None\n",
    "\n",
    "# Test\n",
    "print(find_three_sum([1,2,3,4,5], 9))  # Output: (1,3,5)\n"
   ]
  },
  {
   "cell_type": "code",
   "execution_count": 15,
   "id": "fc02c63a-9e01-4305-9e2a-0b58c5502f90",
   "metadata": {},
   "outputs": [
    {
     "name": "stdout",
     "output_type": "stream",
     "text": [
      "(3, 4, 5)\n"
     ]
    }
   ],
   "source": [
    "# Problem 7 : Given an array of n elements . Find three elements i, j, k in the array such that i * i + j * j = k*k.\n",
    "\n",
    "# Answer :\n",
    "def find_pythagorean_triplet(arr):\n",
    "    squares = {x*x for x in arr}\n",
    "    for i in range(len(arr)):\n",
    "        for j in range(i+1, len(arr)):\n",
    "            if (arr[i]**2 + arr[j]**2) in squares:\n",
    "                return (arr[i], arr[j], int((arr[i]**2 + arr[j]**2)**0.5))\n",
    "    return None\n",
    "\n",
    "# Test\n",
    "print(find_pythagorean_triplet([3,1,4,6,5]))  # Output: (3,4,5)\n"
   ]
  },
  {
   "cell_type": "code",
   "execution_count": 17,
   "id": "d21b1f7f-6b33-4bdc-abbe-e3a0cd5c3171",
   "metadata": {},
   "outputs": [
    {
     "name": "stdout",
     "output_type": "stream",
     "text": [
      "2\n"
     ]
    }
   ],
   "source": [
    "# Problem 8 : An element is a majority if it appears more than n/2 times. Give an algorithm takes an array of n element as argument and identifies a majority (if it exists).\n",
    "\n",
    "# Answer:\n",
    "def find_majority_element(arr):\n",
    "    count = 0\n",
    "    candidate = None\n",
    "    for num in arr:\n",
    "        if count == 0:\n",
    "            candidate = num\n",
    "        count += 1 if num == candidate else -1\n",
    "    return candidate if arr.count(candidate) > len(arr)//2 else None\n",
    "\n",
    "# Test\n",
    "print(find_majority_element([2,2,1,1,1,2,2]))  # Output: 2\n"
   ]
  },
  {
   "cell_type": "code",
   "execution_count": 19,
   "id": "fbb7a693-f08f-45ac-a9c9-e248f7bcc231",
   "metadata": {},
   "outputs": [
    {
     "name": "stdout",
     "output_type": "stream",
     "text": [
      "1\n"
     ]
    }
   ],
   "source": [
    "# Problem 9 : Given n × n matrix, and in each row all 1’s are followed by 0’s. Find the row with the maximum number of 0’s.\n",
    "\n",
    "# Answer :\n",
    "def row_with_max_zeros(matrix):\n",
    "    return max(enumerate(matrix), key=lambda x: x[1].count(0))[0]\n",
    "\n",
    "# Test\n",
    "print(row_with_max_zeros([[1,1,0,0],[1,0,0,0],[1,1,1,0]]))  # Output: 1\n"
   ]
  },
  {
   "cell_type": "code",
   "execution_count": 21,
   "id": "a25cf654-9a43-43cf-a372-40b1b4da095e",
   "metadata": {},
   "outputs": [
    {
     "name": "stdout",
     "output_type": "stream",
     "text": [
      "[0, 0, 0, 0, 0, 1, 1, 1, 1, 1, 2, 2]\n"
     ]
    }
   ],
   "source": [
    "# Problem 10 : Sort an array of 0’s, 1’s and 2’s [or R’s, G’s and B’s]: Given an array A[] consisting of 0’s, 1’s and 2’s, give an algorithm for sorting A[].The algorithm should put all 0’s first, then all 1’s and finally all 2’s at the end. Example Input = {0,1,1,0,1,2,1,2,0,0,0,1}, Output = {0,0,0,0,0,1,1,1,1,1,2,2}\n",
    "\n",
    "# Answer :\n",
    "def sort_012(arr):\n",
    "    low, mid, high = 0, 0, len(arr)-1\n",
    "    while mid <= high:\n",
    "        if arr[mid] == 0:\n",
    "            arr[low], arr[mid] = arr[mid], arr[low]\n",
    "            low += 1\n",
    "            mid += 1\n",
    "        elif arr[mid] == 1:\n",
    "            mid += 1\n",
    "        else:\n",
    "            arr[mid], arr[high] = arr[high], arr[mid]\n",
    "            high -= 1\n",
    "    return arr\n",
    "\n",
    "# Test\n",
    "print(sort_012([0,1,1,0,1,2,1,2,0,0,0,1]))  # Output: [0,0,0,0,0,1,1,1,1,1,2,2]\n"
   ]
  },
  {
   "cell_type": "code",
   "execution_count": null,
   "id": "481cbab5-d52f-41d0-a0d4-a0ffa92e5c4d",
   "metadata": {},
   "outputs": [],
   "source": []
  }
 ],
 "metadata": {
  "kernelspec": {
   "display_name": "Python [conda env:base] *",
   "language": "python",
   "name": "conda-base-py"
  },
  "language_info": {
   "codemirror_mode": {
    "name": "ipython",
    "version": 3
   },
   "file_extension": ".py",
   "mimetype": "text/x-python",
   "name": "python",
   "nbconvert_exporter": "python",
   "pygments_lexer": "ipython3",
   "version": "3.12.4"
  }
 },
 "nbformat": 4,
 "nbformat_minor": 5
}
