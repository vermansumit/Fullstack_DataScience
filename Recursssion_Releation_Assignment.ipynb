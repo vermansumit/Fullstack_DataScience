{
 "cells": [
  {
   "cell_type": "code",
   "execution_count": 1,
   "id": "31cc7d63-c780-46eb-9bbb-d520ca7ef49d",
   "metadata": {},
   "outputs": [
    {
     "data": {
      "text/plain": [
       "' Recursion Relation Assignment'"
      ]
     },
     "execution_count": 1,
     "metadata": {},
     "output_type": "execute_result"
    }
   ],
   "source": [
    "''' Recursion Relation Assignment'''"
   ]
  },
  {
   "cell_type": "code",
   "execution_count": 3,
   "id": "de6d9aa0-32f5-47ed-a3f0-83679d74cba3",
   "metadata": {},
   "outputs": [
    {
     "name": "stdout",
     "output_type": "stream",
     "text": [
      "105\n"
     ]
    }
   ],
   "source": [
    "# 1. Find the value of T(2) for the recurrence relation T(n) = 3T(n-1) + 12n, given that T(0)=5.\n",
    "\n",
    "# Answer :\n",
    "\n",
    "def T(n):\n",
    "    if n == 0:\n",
    "        return 5\n",
    "    else:\n",
    "        return 3 * T(n - 1) + 12 * n\n",
    "\n",
    "print(T(2))  # Output: 105\n"
   ]
  },
  {
   "cell_type": "code",
   "execution_count": 5,
   "id": "3a5a108c-4054-4349-9c10-a851f2f65387",
   "metadata": {},
   "outputs": [],
   "source": [
    "# 2. Given a recurrence relation, solve it using the substitution method:\n",
    "'''\n",
    "a. T(n) = T(n-1) + c\n",
    "b. T(n) = 2T(n/2) + n\n",
    "c. T(n) = 2T(n/2) + c\n",
    "d. T(n) = T(n/2) + c\n",
    "'''\n",
    "\n",
    "# Answer :\n",
    "\n",
    "# a. T(n) = T(n-1) + c\n",
    "\n",
    "def T_a(n, c, d=0):\n",
    "    return d + c * (n-1) if n >= 1 else 0\n",
    "# For n=10, c=2: T(10) = 0 + 2*9 = 18 [1]\n",
    "\n",
    "# b. T(n) = 2T(n/2) + n\n",
    "\n",
    "def T_b(n, d=1):\n",
    "    return d * n + n * (n.bit_length() - 1)  # Simplified formula\n",
    "\n",
    "# For n=16: T(16) = 16 + 16*4 = 80 [2]\n",
    "\n",
    "\n",
    "# c. T(n) = 2T(n/2) + c\n",
    "\n",
    "def T_c(n, c, d=1):\n",
    "    return d * n + c * (n - 1)\n",
    "\n",
    "# For n=16, c=2: T(16) = 16 + 2*15 = 46 [3]\n",
    "\n",
    "\n",
    "# d. T(n) = T(n/2) + c\n",
    "\n",
    "def T_d(n, c, d=1):\n",
    "    return d + c * (n.bit_length() - 1)\n",
    "\n",
    "# For n=16, c=2: T(16) = 1 + 2*4 = 9 [4]\n"
   ]
  },
  {
   "cell_type": "code",
   "execution_count": 9,
   "id": "1d7870ab-21b9-46f9-8262-143189968396",
   "metadata": {},
   "outputs": [
    {
     "name": "stdout",
     "output_type": "stream",
     "text": [
      "31\n",
      "32\n"
     ]
    }
   ],
   "source": [
    "# 3. Given a recurrence relation, solve it using the recursive tree approach. \n",
    "# a. T(n) = 2T(n-1) + 1\n",
    "# b. T(n) = 2T(n/2) + n\n",
    "\n",
    "# Answer :\n",
    "\n",
    "# a. T(n) = 2T(n-1) + 1\n",
    "'''\n",
    "Recursion Tree Analysis:\n",
    "•\tAt the root (level 0): cost = 1\n",
    "•\tAt level 1: 2 nodes, each with cost = 1 ⇒ total = 2\n",
    "•\tAt level 2: 2**2=4 nodes, each with cost = 1 ⇒ total = 4\n",
    "•\t…\n",
    "•\tAt level k:2**k nodes, each with cost = 1 ⇒ total = 2**k\n",
    "•\tThe tree stops when n−k=0 ⇒ k=n\n",
    "•\tTotal cost: 1+2+4+…+2**(n−1)=(2**n)−1\n",
    "    So, T(n)=O(2**n)\n",
    "'''\n",
    "\n",
    "def T_a(n):\n",
    "    if n == 0:\n",
    "        return 0\n",
    "    return 2 * T_a(n-1) + 1\n",
    "\n",
    "# Print the cost for n = 5\n",
    "print(T_a(5))  # Output: 63 (which is 2^6 - 1)\n",
    "\n",
    "\n",
    "# b. T(n) = 2T(n/2) + n\n",
    "'''\n",
    "Recursion Tree Analysis:\n",
    "•\tAt the root (level 0): cost = n\n",
    "•\tAt level 1: 2 nodes, each with cost = n/2 ⇒ total = n\n",
    "•\tAt level 2: 4 nodes, each with cost = n/4 ⇒ total = n\n",
    "•\t...\n",
    "•\tAt level kk: 2**k nodes, each with cost = n/2**k ⇒ total = n\n",
    "•\tThe tree has log2n levels (until subproblem size is 1)\n",
    "•\tTotal cost: n⋅log2n\n",
    "•\tSo, T(n)=O(nlogn)\n",
    "'''\n",
    "\n",
    "def T_b(n):\n",
    "    if n == 1:\n",
    "        return 1\n",
    "    return 2 * T_b(n // 2) + n\n",
    "\n",
    "# Print the cost for n = 8\n",
    "print(T_b(8))  # Output: 49\n"
   ]
  },
  {
   "cell_type": "code",
   "execution_count": null,
   "id": "08c09809-8f60-44a8-9231-987750529dde",
   "metadata": {},
   "outputs": [],
   "source": []
  }
 ],
 "metadata": {
  "kernelspec": {
   "display_name": "Python [conda env:base] *",
   "language": "python",
   "name": "conda-base-py"
  },
  "language_info": {
   "codemirror_mode": {
    "name": "ipython",
    "version": 3
   },
   "file_extension": ".py",
   "mimetype": "text/x-python",
   "name": "python",
   "nbconvert_exporter": "python",
   "pygments_lexer": "ipython3",
   "version": "3.12.4"
  }
 },
 "nbformat": 4,
 "nbformat_minor": 5
}
