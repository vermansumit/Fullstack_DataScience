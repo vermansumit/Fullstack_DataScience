{
 "cells": [
  {
   "cell_type": "code",
   "execution_count": 1,
   "id": "360d4599-385d-4c53-bfee-ec3e3a9b6f31",
   "metadata": {},
   "outputs": [
    {
     "data": {
      "text/plain": [
       "' String Based Assignment Problem. '"
      ]
     },
     "execution_count": 1,
     "metadata": {},
     "output_type": "execute_result"
    }
   ],
   "source": [
    "''' String Based Assignment Problem. '''"
   ]
  },
  {
   "cell_type": "code",
   "execution_count": 4,
   "id": "2ade06b3-ca55-4867-8532-ecf38ee78bab",
   "metadata": {},
   "outputs": [
    {
     "name": "stdin",
     "output_type": "stream",
     "text": [
      "provide your Text here Assignment\n"
     ]
    },
    {
     "name": "stdout",
     "output_type": "stream",
     "text": [
      "your reversed text is -  tnemngissA\n"
     ]
    }
   ],
   "source": [
    "'''1. Write a program to reverse a string.'''\n",
    "# for getting text from a user\n",
    "text = input('provide your Text here')\n",
    "\n",
    "# for reversing the text\n",
    "r = text[::-1]\n",
    "\n",
    "#result of the reversed text.\n",
    "print('your reversed text is - ', r)"
   ]
  },
  {
   "cell_type": "code",
   "execution_count": 5,
   "id": "585186d2-4eb6-481d-988b-1b61090d2264",
   "metadata": {},
   "outputs": [
    {
     "name": "stdin",
     "output_type": "stream",
     "text": [
      "give your text tomato\n"
     ]
    },
    {
     "name": "stdout",
     "output_type": "stream",
     "text": [
      "No, it is not a palindrome\n"
     ]
    }
   ],
   "source": [
    "'''2. Check if a string is a palindrome.'''\n",
    "\n",
    "# Asking input from user\n",
    "word = input(\"give your text\")\n",
    "\n",
    "# palindrome condition test\n",
    "check = \"\"\n",
    "for i in word:\n",
    "    check = i + check\n",
    "\n",
    "#Result of the text.\n",
    "if (word == check):\n",
    "    print(\"Yes, it is a palindrome\")\n",
    "else:\n",
    "    print(\"No, it is not a palindrome\")\n"
   ]
  },
  {
   "cell_type": "code",
   "execution_count": 9,
   "id": "778db0a7-1327-4248-b70c-7b1fe76ad00c",
   "metadata": {},
   "outputs": [
    {
     "name": "stdin",
     "output_type": "stream",
     "text": [
      "provide your text here -  sumit\n"
     ]
    },
    {
     "name": "stdout",
     "output_type": "stream",
     "text": [
      "SUMIT\n"
     ]
    }
   ],
   "source": [
    "''' 3. Convert a string to uppercase.'''\n",
    "\n",
    "# Asking user for input\n",
    "x = input('provide your text here - ')\n",
    "\n",
    "# converting the string in uppercase.\n",
    "y = x.upper()\n",
    "\n",
    "#showing the result\n",
    "print(y)\n"
   ]
  },
  {
   "cell_type": "code",
   "execution_count": 10,
   "id": "232cc1ea-ad47-47ca-a523-e594b61c64c4",
   "metadata": {},
   "outputs": [
    {
     "name": "stdin",
     "output_type": "stream",
     "text": [
      "provide your text here -  JiTEndrA\n"
     ]
    },
    {
     "name": "stdout",
     "output_type": "stream",
     "text": [
      "jitendra\n"
     ]
    }
   ],
   "source": [
    "''' 4. Convert a string to lowercase..'''\n",
    "\n",
    "# Asking user for input\n",
    "x = input('provide your text here - ')\n",
    "\n",
    "# converting the string in uppercase.\n",
    "y = x.lower()\n",
    "\n",
    "#showing the result\n",
    "print(y)\n"
   ]
  },
  {
   "cell_type": "code",
   "execution_count": 11,
   "id": "12c07b7b-2309-4e61-8653-7e5f2cb6caba",
   "metadata": {},
   "outputs": [
    {
     "name": "stdin",
     "output_type": "stream",
     "text": [
      "enter a text I am studying python\n"
     ]
    },
    {
     "name": "stdout",
     "output_type": "stream",
     "text": [
      "The number of vowels in test is: 5\n"
     ]
    }
   ],
   "source": [
    "''' 5. Count the number of vowels in a string.'''\n",
    "\n",
    "#getting input from user\n",
    "s = input(\"enter a text\")\n",
    "\n",
    "#following the condition\n",
    "vowel = 0\n",
    "for i in s:\n",
    "    if i == 'a' or i == 'e' or i == 'i' or i == 'o' or i == 'u' or i == 'A' or i == 'E' or i == 'I' or i == 'O' or i == 'U':\n",
    "        vowel = vowel+1\n",
    "        \n",
    "#shwoing the result\n",
    "print(\"The number of vowels in test is:\",vowel)\n"
   ]
  },
  {
   "cell_type": "code",
   "execution_count": 1,
   "id": "ff922176-b647-4894-9b06-1409b62fcc6e",
   "metadata": {},
   "outputs": [
    {
     "name": "stdin",
     "output_type": "stream",
     "text": [
      "enter a text jumbo\n"
     ]
    },
    {
     "name": "stdout",
     "output_type": "stream",
     "text": [
      "The number of consonants in text is: 3\n"
     ]
    }
   ],
   "source": [
    "''' 6. Count the number of consonants in a string. '''\n",
    "\n",
    "#getting input from user\n",
    "s = input(\"enter a text\")\n",
    "s1 = s.lower()\n",
    "\n",
    "vowel = 0\n",
    "consonants = 0\n",
    "#following the condition\n",
    "for i in s1:\n",
    "    if i == 'a' or i == 'e' or i == 'i' or i == 'o' or i == 'u' or i == 'A' or i == 'E' or i == 'I' or i == 'O' or i == 'U':\n",
    "        vowel = vowel + 1\n",
    "    else :\n",
    "        consonants = consonants+1\n",
    "        \n",
    "#shwoing the result\n",
    "print(\"The number of consonants in text is:\",consonants)\n"
   ]
  },
  {
   "cell_type": "code",
   "execution_count": 4,
   "id": "55c0fecf-505e-4487-aef5-143ac80c0156",
   "metadata": {},
   "outputs": [
    {
     "name": "stdin",
     "output_type": "stream",
     "text": [
      "enter your text Ja   m sh  e d p    u r\n"
     ]
    },
    {
     "name": "stdout",
     "output_type": "stream",
     "text": [
      "Text without whitespace -  Jamshedpur\n"
     ]
    }
   ],
   "source": [
    "''' 7. Remove all whitespaces from a string.'''\n",
    "# taking input a string from user \n",
    "user_input = input(\"enter your text\")\n",
    "\n",
    "# appyling condition for removing whitespaces.\n",
    "\n",
    "result = user_input.replace(\" \",\"\")\n",
    "\n",
    "#for getting output\n",
    "print(\"Text without whitespace - \", result)"
   ]
  },
  {
   "cell_type": "code",
   "execution_count": 6,
   "id": "7bf8be7b-cdb6-4d3f-aa37-a17597807111",
   "metadata": {},
   "outputs": [
    {
     "name": "stdin",
     "output_type": "stream",
     "text": [
      "provide the text Tamilnadu\n"
     ]
    },
    {
     "name": "stdout",
     "output_type": "stream",
     "text": [
      " Length of the text is  9\n"
     ]
    }
   ],
   "source": [
    "''' 8. Find the length of a string without using the `len()` function.'''\n",
    "\n",
    "# getting input from user\n",
    "a1 = input('provide the text')\n",
    "\n",
    "count = 0\n",
    "\n",
    "for i in a1:\n",
    "    count = count+1\n",
    "    \n",
    "print(\" Length of the text is \", count)"
   ]
  },
  {
   "cell_type": "code",
   "execution_count": 10,
   "id": "a7d83ddd-542c-4eda-a600-15a2e218d3db",
   "metadata": {},
   "outputs": [
    {
     "name": "stdin",
     "output_type": "stream",
     "text": [
      "provide your sentance -  print(\"word '\",text2,\"' found in the sentence given\")\n",
      "provide your word to find -  skills\n"
     ]
    },
    {
     "name": "stdout",
     "output_type": "stream",
     "text": [
      "word ' skills ' not found in the sentence given\n"
     ]
    }
   ],
   "source": [
    "''' 9. Check if a string contains a specific word.'''\n",
    "\n",
    "# Asking for input from user.\n",
    "text1 = input(\"provide your sentance - \")\n",
    "text2 = input(\"provide your word to find - \")\n",
    "\n",
    "# checking the condition that if string contains a specific word or not.\n",
    "\n",
    "if text2 in text1:\n",
    "    print(\"word '\",text2,\"' found in the sentence given\")\n",
    "else:\n",
    "    print(\"word '\",text2,\"' not found in the sentence given\")\n",
    "    "
   ]
  },
  {
   "cell_type": "code",
   "execution_count": 12,
   "id": "47a82bc5-ba53-4301-996f-1fe18f8b93fd",
   "metadata": {},
   "outputs": [
    {
     "name": "stdin",
     "output_type": "stream",
     "text": [
      " I want to eat apples and Bananas.\n",
      " Bananas\n",
      " Oranges\n"
     ]
    },
    {
     "name": "stdout",
     "output_type": "stream",
     "text": [
      "I want to eat apples and Oranges.\n"
     ]
    }
   ],
   "source": [
    "''' 10. Replace a word in a string with another word.'''\n",
    "\n",
    "# Asking user for providing Sentences.\n",
    "txt = input()\n",
    "# word to replace in sentance.\n",
    "a = input()\n",
    "# new word as replacement in sentance. \n",
    "b = input()\n",
    "\n",
    "# Result after replacement.\n",
    "x = txt.replace(a, b)\n",
    "\n",
    "print(x)\n"
   ]
  },
  {
   "cell_type": "code",
   "execution_count": 5,
   "id": "17be2649-07be-4791-9b56-77359ea6a630",
   "metadata": {},
   "outputs": [
    {
     "name": "stdin",
     "output_type": "stream",
     "text": [
      "Give your Sentences Name of the City is Mathura. Mathura is the city of Krishna, This gives us many things. This is the very nice thing.\n",
      " Provide your Word  the\n"
     ]
    },
    {
     "name": "stdout",
     "output_type": "stream",
     "text": [
      "3\n"
     ]
    }
   ],
   "source": [
    "'''11. Count the occurrences of a word in a string.'''\n",
    "\n",
    "## initializing the string and the word\n",
    "text1 = input(\"Give your Sentences\")\n",
    "text2 = text1.lower()\n",
    "word = input(\" Provide your Word \")\n",
    "## splitting the string at space\n",
    "text3 = text2.split()\n",
    "## initializing count variable to 0\n",
    "count = 0\n",
    "## iterating over the list\n",
    "for w in text3:\n",
    "   ## checking the match of the words\n",
    "   if w == word:\n",
    "      ## incrementint count on match\n",
    "      count += 1\n",
    "## printing the count\n",
    "print(\"count of words\", count)"
   ]
  },
  {
   "cell_type": "code",
   "execution_count": 7,
   "id": "544be8ea-7da6-42e3-b7f1-3c94f701ab89",
   "metadata": {},
   "outputs": [
    {
     "name": "stdin",
     "output_type": "stream",
     "text": [
      "Provide your text :- I like rose flower, Rose is the beautiful flower. Rose is available in red, White, black, pink and other colors.\n",
      "word to find :- rose\n"
     ]
    },
    {
     "name": "stdout",
     "output_type": "stream",
     "text": [
      "7\n"
     ]
    }
   ],
   "source": [
    "'''12. Find the first occurrence of a word in a string'''\n",
    "s1 = input('Provide your text :-' )\n",
    "s2 = input(\"word to find :-\")\n",
    "\n",
    "# find the index of the letter 'w'\n",
    "first_Occur = s1.find(s2)\n",
    "\n",
    "print(first_Occur)"
   ]
  },
  {
   "cell_type": "code",
   "execution_count": 9,
   "id": "a5ca9798-3770-4aa7-a8af-5595f408e219",
   "metadata": {},
   "outputs": [
    {
     "name": "stdin",
     "output_type": "stream",
     "text": [
      "Provide your text :- I like play games like chess, badminton, cricket.\n",
      "word to find :- chess\n"
     ]
    },
    {
     "name": "stdout",
     "output_type": "stream",
     "text": [
      "23\n"
     ]
    }
   ],
   "source": [
    "'''13. Find the last occurrence of a word in a string.'''\n",
    "s1 = input('Provide your text :-' )\n",
    "s2 = input(\"word to find :-\")\n",
    "\n",
    "# find the last occurence of the word\n",
    "Last_Occur = s1.rfind(s2)\n",
    "\n",
    "print(Last_Occur)"
   ]
  },
  {
   "cell_type": "code",
   "execution_count": 10,
   "id": "930fa341-4e4e-487d-9a93-601af9fa9546",
   "metadata": {},
   "outputs": [
    {
     "name": "stdin",
     "output_type": "stream",
     "text": [
      "Provide your text :- I am studying python from pwskills.\n"
     ]
    },
    {
     "name": "stdout",
     "output_type": "stream",
     "text": [
      "['I', 'am', 'studying', 'python', 'from', 'pwskills.']\n"
     ]
    }
   ],
   "source": [
    "'''14. Split a string into a list of words.'''\n",
    "s1 = input('Provide your text :-' )\n",
    "\n",
    "# splitting the string in list.\n",
    "Lst1 = s1.split()\n",
    "\n",
    "print(Lst1)"
   ]
  },
  {
   "cell_type": "code",
   "execution_count": 21,
   "id": "7556f99f-c3ab-4a06-ac28-63be500dc5f8",
   "metadata": {},
   "outputs": [
    {
     "name": "stdout",
     "output_type": "stream",
     "text": [
      "I am leaving in Bhopal.\n"
     ]
    }
   ],
   "source": [
    "'''15. Join a list of words into a string.'''\n",
    "text1 = [\"I\", \"am\", \"leaving\", \"in\", \"Bhopal.\"] \n",
    "spc = ' '\n",
    "# converting list of words into a string.\n",
    "Str1 = spc.join(text1)\n",
    "#Printing the list converted in a string. \n",
    "print(Str1)"
   ]
  },
  {
   "cell_type": "code",
   "execution_count": 27,
   "id": "4f4d76ef-3e7c-4cc4-a94e-30b2fbea86d6",
   "metadata": {},
   "outputs": [
    {
     "name": "stdin",
     "output_type": "stream",
     "text": [
      " i n d i a\n"
     ]
    },
    {
     "name": "stdout",
     "output_type": "stream",
     "text": [
      "i_n_d_i_a\n"
     ]
    }
   ],
   "source": [
    "'''16. Convert a string where words are separated by spaces to one where words are separated by underscores.'''\n",
    "#getting input word with space\n",
    "str1 = input()\n",
    "#splitting the words into into list\n",
    "str2 = str1.split()\n",
    "jnt = '_'\n",
    "# converting list of words into a string.\n",
    "Str3 = jnt.join(str2)\n",
    "#Printing the list converted in a string. \n",
    "print(Str3)"
   ]
  },
  {
   "cell_type": "code",
   "execution_count": 5,
   "id": "d13855e0-f905-4467-8777-406f5f2f633b",
   "metadata": {},
   "outputs": [
    {
     "name": "stdout",
     "output_type": "stream",
     "text": [
      "Provide your string : There is many stars in the sky.\n",
      "Provide your word : There\n",
      "your string is start with There\n"
     ]
    }
   ],
   "source": [
    "'''17. Check if a string starts with a specific word or phrase.'''\n",
    "\n",
    "# Getting user input\n",
    "str = input(\"Provide your string : \")\n",
    "word = input(\"Provide your word : \")\n",
    "\n",
    "# applying condition for getting result that string start with specific word\n",
    "if str.startswith(word):\n",
    "    print(\"your string is start with\", word,)\n",
    "else:\n",
    "    print(\"your string is not start with\", word,)"
   ]
  },
  {
   "cell_type": "code",
   "execution_count": 8,
   "id": "0232947f",
   "metadata": {},
   "outputs": [
    {
     "name": "stdout",
     "output_type": "stream",
     "text": [
      "Provide your string : There is many stars in the sky\n",
      "Provide your word : sky\n",
      "your string is end with sky\n"
     ]
    }
   ],
   "source": [
    "'''18. Check if a string ends with a specific word or phrase.'''\n",
    "\n",
    "# Getting user input\n",
    "str = input(\"Provide your string : \")\n",
    "word = input(\"Provide your word : \")\n",
    "\n",
    "# applying condition for searching string ending with specific text\n",
    "if str.endswith(word):\n",
    "    print(\"your string is end with\", word,)\n",
    "else:\n",
    "    print(\"your string is not end with\", word,)"
   ]
  },
  {
   "cell_type": "code",
   "execution_count": 11,
   "id": "0811e8b7",
   "metadata": {},
   "outputs": [
    {
     "name": "stdout",
     "output_type": "stream",
     "text": [
      "Provide your string : This world is full of colors.\n",
      "This World Is Full Of Colors.\n"
     ]
    }
   ],
   "source": [
    "'''19. Convert a string to title case (e.g., \"hello world\" to \"Hello World\").'''\n",
    "\n",
    "# Getting user input\n",
    "str1 = input(\"Provide your string : \")\n",
    "\n",
    "# applying condition\n",
    "title = str1.title()\n",
    "print(title)"
   ]
  },
  {
   "cell_type": "code",
   "execution_count": 2,
   "id": "f3196eb6",
   "metadata": {},
   "outputs": [
    {
     "name": "stdout",
     "output_type": "stream",
     "text": [
      "Enter sentence: I live in Bhopal, Madhya Pradesh.\n",
      "Longest word is:  Pradesh.\n"
     ]
    }
   ],
   "source": [
    "'''20. Find the longest word in a string.'''\n",
    "\n",
    "# Getting input from user.\n",
    "str1 = input(\"Enter sentence: \")\n",
    "str2 = str1.split()\n",
    "\n",
    "# applying condition for getting longest word in string. \n",
    "longest = max(str2, key=len)\n",
    "\n",
    "# getting output of longest word.\n",
    "print(\"Longest word is: \", longest)"
   ]
  },
  {
   "cell_type": "code",
   "execution_count": 3,
   "id": "69463d85",
   "metadata": {},
   "outputs": [
    {
     "name": "stdout",
     "output_type": "stream",
     "text": [
      "Enter sentence: He is good boy.\n",
      "shortest word is:  He\n"
     ]
    }
   ],
   "source": [
    "'''21. Find the shortest word in a string..'''\n",
    "\n",
    "# Getting input from user.\n",
    "str1 = input(\"Enter sentence: \")\n",
    "str2 = str1.split()\n",
    "\n",
    "# applying condition for getting shortest word in string. \n",
    "Shortest = min(str2, key=len)\n",
    "\n",
    "# getting output of longest word.\n",
    "print(\"shortest word is: \", Shortest)"
   ]
  },
  {
   "cell_type": "code",
   "execution_count": 6,
   "id": "15794a3f",
   "metadata": {},
   "outputs": [
    {
     "name": "stdout",
     "output_type": "stream",
     "text": [
      "Enter sentence: I am learning python from pwskills\n",
      "reversed string :  pwskills from python learning am I\n"
     ]
    }
   ],
   "source": [
    "'''22. Reverse the order of words in a string.'''\n",
    "\n",
    "# Getting input from user.\n",
    "str1 = input(\"Enter sentence: \")\n",
    "str2 = str1.split()\n",
    "rev = []\n",
    "\n",
    "# applying condition reverse the order of words. \n",
    "for str3 in str2:\n",
    "    rev.insert(0,str3)\n",
    "\n",
    "# getting output\n",
    "print(\"reversed string : \",\" \".join(rev))"
   ]
  },
  {
   "cell_type": "code",
   "execution_count": 1,
   "id": "690dc8bb",
   "metadata": {},
   "outputs": [
    {
     "name": "stdout",
     "output_type": "stream",
     "text": [
      "Your string please : sumit12\n",
      "sumit12 is a alphanumeric string : True\n"
     ]
    }
   ],
   "source": [
    "'''23. Check if a string is alphanumeric.'''\n",
    "\n",
    "# Getting input from user.\n",
    "str1 = input(\"Your string please : \")\n",
    "\n",
    "# checking alphanumberic condition of string. \n",
    "str2 = str1.isalnum()\n",
    "print(str1,\"is a alphanumeric string :\", str2)"
   ]
  },
  {
   "cell_type": "code",
   "execution_count": 1,
   "id": "e511ea59",
   "metadata": {},
   "outputs": [
    {
     "name": "stdout",
     "output_type": "stream",
     "text": [
      "Your string please : i Have 4 appels and 6 bananas.\n",
      "4 6 "
     ]
    }
   ],
   "source": [
    "'''24. Extract all digits from a string.'''\n",
    "\n",
    "# Getting input from user.\n",
    "str1 = input(\"Your string please : \")\n",
    "\n",
    "# spliting the string \n",
    "str2 = str1.split()\n",
    "# applying condition for getting digits from string. \n",
    "for i in str2:\n",
    "    if i.isdigit():\n",
    "        print(i, end=\" \")"
   ]
  },
  {
   "cell_type": "code",
   "execution_count": 4,
   "id": "55826b8f",
   "metadata": {},
   "outputs": [
    {
     "name": "stdout",
     "output_type": "stream",
     "text": [
      "Your string please : apples mangoes 4 8 bhopal 24 sky\n",
      "apples mangoes bhopal sky "
     ]
    }
   ],
   "source": [
    "'''25. Extract all alphabets from a string.'''\n",
    "\n",
    "# Getting input from user.\n",
    "st1 = input(\"Your string please : \")\n",
    "\n",
    "# spliting the string \n",
    "st2 = st1.split()\n",
    "\n",
    "# applying condition for getting alphabets from string. \n",
    "for i in st2:\n",
    "    if i.isalpha():\n",
    "        print(i, end=\" \")"
   ]
  },
  {
   "cell_type": "code",
   "execution_count": 7,
   "id": "bff6f873",
   "metadata": {},
   "outputs": [
    {
     "name": "stdout",
     "output_type": "stream",
     "text": [
      "My name is Sumit Verman.\n",
      "number of upper case letters : 3\n"
     ]
    }
   ],
   "source": [
    "'''26. Count the number of uppercase letters in a string.'''\n",
    "\n",
    "# defining function for getting uppercase words in string. \n",
    "def count_uppercase_letters(s):\n",
    "    count = 0\n",
    "    for char in s:\n",
    "        if char.isupper():\n",
    "            count += 1\n",
    "    return count\n",
    "# getting input from user.\n",
    "input_string = input()\n",
    "#applying condition for getting numbers of uppercase\n",
    "uppercase = count_uppercase_letters(input_string)\n",
    "# getting result.\n",
    "print(\"number of upper case letters :\", uppercase)"
   ]
  },
  {
   "cell_type": "code",
   "execution_count": 8,
   "id": "bc21a3de",
   "metadata": {},
   "outputs": [
    {
     "name": "stdout",
     "output_type": "stream",
     "text": [
      "My name is SUMIT VERMAN.\n",
      "number of Lower case letters : 7\n"
     ]
    }
   ],
   "source": [
    "'''27. Count the number of lowercase letters in a string.'''\n",
    "# defining fuction for lowercase letters in string. \n",
    "def lower(s):\n",
    "    count = 0\n",
    "    for char in s:\n",
    "        if char.islower():\n",
    "            count += 1\n",
    "    return count\n",
    "# taking input from user.\n",
    "input_string = input()\n",
    "# condition apply\n",
    "lowercase = lower(input_string)\n",
    "#printing the result\n",
    "print(\"number of Lower case letters :\", lowercase)"
   ]
  },
  {
   "cell_type": "code",
   "execution_count": 14,
   "id": "b88e0d54",
   "metadata": {},
   "outputs": [
    {
     "name": "stdout",
     "output_type": "stream",
     "text": [
      "i live in bhopal.\n",
      "I LIVE IN BHOPAL.\n"
     ]
    }
   ],
   "source": [
    "'''28. Swap the case of each character in a string.'''\n",
    "# defining fuction for lowercase letters in string. \n",
    "def swap(st1):\n",
    "    return st1.swapcase()\n",
    "\n",
    "# taking input from user.\n",
    "input_string = input()\n",
    "# condition apply\n",
    "swapcase = swap(input_string)\n",
    "#printing the result\n",
    "print(swapcase)"
   ]
  },
  {
   "cell_type": "code",
   "execution_count": 1,
   "id": "b7328ef6",
   "metadata": {},
   "outputs": [
    {
     "name": "stdout",
     "output_type": "stream",
     "text": [
      "provide your sentence:I live in bhopal.\n",
      "provide your word to remove :live\n",
      "I  in bhopal.\n"
     ]
    }
   ],
   "source": [
    "'''29. Remove a specific word from a string.'''\n",
    "\n",
    "# taking input from user.\n",
    "str = input(\"provide your sentence:\" )\n",
    "\n",
    "# getting word to remove\n",
    "word = input(\"provide your word to remove :\")\n",
    "\n",
    "#applying condition to remove \n",
    "str = str.replace(word, \"\")\n",
    "\n",
    "# printing the result\n",
    "print(str)"
   ]
  },
  {
   "cell_type": "code",
   "execution_count": 14,
   "id": "e229d293",
   "metadata": {},
   "outputs": [
    {
     "name": "stdout",
     "output_type": "stream",
     "text": [
      "your email id : vishal$singh@pingcom\n",
      "False\n"
     ]
    }
   ],
   "source": [
    "'''30. Check if a string is a valid email address.'''\n",
    "\n",
    "#Defining function for email validation\n",
    "def check(email):\n",
    "   pat = \"^[a-zA-Z0-9-._]+@[a-zA-Z0-9]+\\.[a-z]{1,3}$\"\n",
    "#Applying condition to check email ID\n",
    "   if re.match(pat,email):\n",
    "      return True\n",
    "   return False\n",
    "# getting email input from user\n",
    "email = input(\"your email id : \")\n",
    "# result of valid email ID\n",
    "print(check(email))"
   ]
  },
  {
   "cell_type": "code",
   "execution_count": 18,
   "id": "56721e0a",
   "metadata": {},
   "outputs": [
    {
     "name": "stdout",
     "output_type": "stream",
     "text": [
      "your email address :sumit_burman@gmail.com\n",
      "Username: sumit_burman\n"
     ]
    }
   ],
   "source": [
    "'''31. Extract the username from an email address string.'''\n",
    "\n",
    "# defining function for extrating user name\n",
    "def extract_username(email_address):\n",
    "    match = re.match(r\"([a-zA-Z._]+)@\", email_address)\n",
    "    if match:\n",
    "        return match.group(1)\n",
    "    return None\n",
    "# getting user input\n",
    "email = input(\"your email address :\")\n",
    "# extracting User name from email ID\n",
    "username = extract_username(email)\n",
    "# printing the result\n",
    "print(f\"Username: {username}\")"
   ]
  },
  {
   "cell_type": "code",
   "execution_count": 21,
   "id": "9be73bbd",
   "metadata": {},
   "outputs": [
    {
     "name": "stdout",
     "output_type": "stream",
     "text": [
      "your email address :sum.verman@hotmail.com\n",
      "Username: hotmail\n"
     ]
    }
   ],
   "source": [
    "'''32. Extract the domain name from an email address string.'''\n",
    "\n",
    "# defining function for finding domain Name\n",
    "def ext_domain(email_address):\n",
    "    match = re.search(r\"@([A-Za-z0-9.-]+)\\.\", email_address)\n",
    "    if match:\n",
    "        return match.group(1)\n",
    "    return None\n",
    "\n",
    "# getting user input\n",
    "email = input(\"your email address :\")\n",
    "\n",
    "# extracting domain name\n",
    "domain = ext_domain(email)\n",
    "\n",
    "# printing the result\n",
    "print(f\"Username: {domain}\")"
   ]
  },
  {
   "cell_type": "code",
   "execution_count": 24,
   "id": "58bf06ce",
   "metadata": {},
   "outputs": [
    {
     "name": "stdout",
     "output_type": "stream",
     "text": [
      "Your String :i    am     working    in a   comapny, with     good     salary.\n",
      "correction : i am working in a comapny, with good salary.\n"
     ]
    }
   ],
   "source": [
    "'''33. Replace multiple spaces in a string with a single space.'''\n",
    "\n",
    "# function for removing multiple space into single one. \n",
    "def replace_multiple_spaces(input_string):\n",
    "    \n",
    "    return re.sub(r'\\s+', ' ', input_string)\n",
    "\n",
    "# Example usage:\n",
    "original_string = input(\"Your String :\")\n",
    "\n",
    "string = replace_multiple_spaces(original_string)\n",
    "\n",
    "\n",
    "print(f\"correction : {string}\")\n"
   ]
  },
  {
   "cell_type": "code",
   "execution_count": 7,
   "id": "990f0422",
   "metadata": {},
   "outputs": [
    {
     "name": "stdout",
     "output_type": "stream",
     "text": [
      "https://www.facebook.com\n",
      "https://www.facebook.com is  True\n"
     ]
    }
   ],
   "source": [
    "''' 34. Check if a string is a valid URL. '''\n",
    "\n",
    "import re\n",
    "# Defining fucntion for url test\n",
    "def valid_url(url):\n",
    "    pattern = r'^(http|https):\\/\\/([\\w.-]+)(\\.[\\w.-]+)+([\\/\\w\\.-]*)*\\/?$'\n",
    "    return bool(re.match(pattern, url))\n",
    "\n",
    "url = input()\n",
    "print(url, \"is \", valid_url(url))"
   ]
  },
  {
   "cell_type": "code",
   "execution_count": 9,
   "id": "0465d6f7",
   "metadata": {},
   "outputs": [
    {
     "name": "stdout",
     "output_type": "stream",
     "text": [
      "Please Enter your URL : https://www.google.com\n",
      "protocol :  https:\n"
     ]
    }
   ],
   "source": [
    "'''35. Extract the protocol (http or https) from a URL string.'''\n",
    "# getting input from user\n",
    "url = input(\"Please Enter your URL : \")\n",
    "\n",
    "#applying condition for getting result\n",
    "s = url.split(\"//\")\n",
    "a = s[0]    \n",
    "print(\"protocol : \", a)"
   ]
  },
  {
   "cell_type": "code",
   "execution_count": 1,
   "id": "e731f083",
   "metadata": {},
   "outputs": [
    {
     "name": "stdout",
     "output_type": "stream",
     "text": [
      "provide your input : culcutta\n",
      "{'c': 2, 'u': 2, 'l': 1, 't': 2, 'a': 1}\n"
     ]
    }
   ],
   "source": [
    "'''36. Find the frequency of each character in a string.'''\n",
    "\n",
    "# Getting input from user.\n",
    "str = input(\"provide your input : \")\n",
    "\n",
    "# creating dictionary to store key & value pair\n",
    "dict = {}\n",
    "\n",
    "# creating loop for finding frequency of string.\n",
    "for i in str:\n",
    "    # if i already appears as key in dict, increment the count\n",
    "    if i in dict:\n",
    "        dict[i] += 1\n",
    "        \n",
    "    # else i appears for the first time, add to dict\n",
    "    else:\n",
    "        dict[i] = 1\n",
    "\n",
    "# printing result \n",
    "print(dict)"
   ]
  },
  {
   "cell_type": "code",
   "execution_count": 1,
   "id": "20c7b496",
   "metadata": {},
   "outputs": [
    {
     "name": "stdout",
     "output_type": "stream",
     "text": [
      "Enter a string: I, from satna, living in Bhopal !. \n",
      "String without punctuations: I from satna living in Bhopal  \n"
     ]
    }
   ],
   "source": [
    "''' 37. Remove all punctuation from a string.'''\n",
    "\n",
    "import re\n",
    "\n",
    "def remove_punctuations(text):\n",
    "    # Define the pattern to match punctuation characters\n",
    "    pattern = r\"[^\\w\\s]\"\n",
    "\n",
    "    # Remove punctuations using regex substitution\n",
    "    text_without_punctuations = re.sub(pattern, \"\", text)\n",
    "\n",
    "    return text_without_punctuations\n",
    "\n",
    "# Test the function\n",
    "input_text = input(\"Enter a string: \")\n",
    "text_without_punctuations = remove_punctuations(input_text)\n",
    "print(\"String without punctuations:\", text_without_punctuations)\n"
   ]
  },
  {
   "cell_type": "code",
   "execution_count": 6,
   "id": "b6338471",
   "metadata": {},
   "outputs": [
    {
     "name": "stdout",
     "output_type": "stream",
     "text": [
      "Enter your String : 83738\n",
      "Initial String :  83738\n",
      "String1 contains Only digits\n"
     ]
    }
   ],
   "source": [
    "''' 38. Check if a string contains only digits.'''\n",
    "\n",
    "# Getting input from  user\n",
    "string1 = input(\"Enter your String : \")\n",
    " \n",
    "# printing initial string\n",
    "print(\"Initial String : \", string1)\n",
    " \n",
    "digits = \"0123456789\"\n",
    "# checking for condition\n",
    "for i in digits:\n",
    "    string1 = string1.replace(i, \"\")\n",
    "    \n",
    "if len(string1) == 0:\n",
    "    print(\"String1 contains Only digits\")\n",
    "else:\n",
    "    print(\"String1 contains digits with alphabets.\")"
   ]
  },
  {
   "cell_type": "code",
   "execution_count": 8,
   "id": "f6b957ef",
   "metadata": {},
   "outputs": [
    {
     "name": "stdout",
     "output_type": "stream",
     "text": [
      "Enter your String :-sumit\n",
      "Contains only Alphabets.\n"
     ]
    }
   ],
   "source": [
    "'''39. Check if a string contains only alphabets.'''\n",
    "\n",
    "# Getting input from User.\n",
    "Str1 = input(\"Enter your String :-\")\n",
    "\n",
    "# Checking condition if string contains alphabets.\n",
    "if Str1.isalpha():\n",
    "    print (\"Contains only Alphabets.\")\n",
    "# Checking condition if string does not contains alphabets.\n",
    "else :\n",
    "    print(\"Does not contains only alphabets.\")"
   ]
  },
  {
   "cell_type": "code",
   "execution_count": 25,
   "id": "8e6bfe0a",
   "metadata": {},
   "outputs": [
    {
     "name": "stdout",
     "output_type": "stream",
     "text": [
      "Enter your textsumit\n",
      "['s', 'u', 'm', 'i', 't']\n"
     ]
    }
   ],
   "source": [
    "'''40. Convert a string to a list of characters.'''\n",
    "\n",
    "# Asking for user input\n",
    "str1 = input(\"Enter your text\")\n",
    "\n",
    "# converting string into list.\n",
    "def l2s(str):\n",
    "    list1 = []\n",
    "    list1[:0] = str\n",
    "    return list1\n",
    "\n",
    "print(l2s(str1))\n"
   ]
  },
  {
   "cell_type": "code",
   "execution_count": 1,
   "id": "d30cca9a",
   "metadata": {},
   "outputs": [
    {
     "name": "stdout",
     "output_type": "stream",
     "text": [
      "Enter your first String :sumit\n",
      "Enter your Second String :mitus\n",
      "Both text are anagrams\n"
     ]
    }
   ],
   "source": [
    "'''41. Check if two strings are anagrams.'''\n",
    "\n",
    "# Getting input of strings. \n",
    "str1 = input(\"Enter your first String :\")\n",
    "str2 = input(\"Enter your Second String :\")\n",
    "\n",
    "# sorting input\n",
    "s1 = set(str1)\n",
    "s2 = set(str2)\n",
    "\n",
    "# checking string are anagrams or not.\n",
    "if s1 == s2 :\n",
    "    print('Both text are anagrams')\n",
    "else :\n",
    "    print('Given texts are not anagrams')"
   ]
  },
  {
   "cell_type": "code",
   "execution_count": 2,
   "id": "29a76330",
   "metadata": {},
   "outputs": [
    {
     "name": "stdout",
     "output_type": "stream",
     "text": [
      "['R', 'Y', 'U', 'M', 'K', 'N', 'N', 'U']\n"
     ]
    }
   ],
   "source": [
    "'''42. Encode a string using a Caesar cipher.'''\n",
    "\n",
    "def caesar_encrypt(realText, step):\n",
    "    # Initialize two empty lists to store the output and the corresponding numeric values.\n",
    "    outText = []\n",
    "    cryptText = []\n",
    "\n",
    "    # Define lists for uppercase and lowercase letters of the English alphabet.\n",
    "    uppercase = ['A', 'B', 'C', 'D', 'E', 'F', 'G', 'H', 'I', 'J', 'K', 'L', 'M', 'N', 'O', 'P', 'Q', 'R', 'S', 'T', 'U', 'V', 'W', 'X', 'Y', 'Z']\n",
    "    lowercase = ['a', 'b', 'c', 'd', 'e', 'f', 'g', 'h', 'i', 'j', 'k', 'l', 'm', 'n', 'o', 'p', 'q', 'r', 's', 't', 'u', 'v', 'w', 'x', 'y', 'z']\n",
    "\n",
    "    # Iterate through each letter in the 'realText' string.\n",
    "    for eachLetter in realText:\n",
    "        \n",
    "        # Check if the letter is an uppercase letter.\n",
    "        if eachLetter in uppercase:\n",
    "            \n",
    "            # Find the index of the letter in the 'uppercase' list.\n",
    "            index = uppercase.index(eachLetter)\n",
    "\n",
    "            # Perform Caesar cipher encryption by adding 'step' and taking the modulus 26.\n",
    "            crypting = (index + step) % 26\n",
    "            cryptText.append(crypting)\n",
    "\n",
    "            # Find the new letter corresponding to the encrypted value and append it to the 'outText' list.\n",
    "            newLetter = uppercase[crypting]\n",
    "            outText.append(newLetter)\n",
    "            \n",
    "        # Check if the letter is a lowercase letter.\n",
    "        elif eachLetter in lowercase:\n",
    "            \n",
    "            # Find the index of the letter in the 'lowercase' list.\n",
    "            index = lowercase.index(eachLetter)\n",
    "\n",
    "            # Perform Caesar cipher encryption by adding 'step' and taking the modulus 26.\n",
    "            crypting = (index + step) % 26\n",
    "            cryptText.append(crypting)\n",
    "\n",
    "            # Find the new letter corresponding to the encrypted value and append it to the 'outText' list.\n",
    "            newLetter = lowercase[crypting]\n",
    "            outText.append(newLetter)\n",
    "\n",
    "    # Return the 'outText' list containing the encrypted letters.\n",
    "    return outText\n",
    "\n",
    "# Call the caesar_encrypt function with the input 'abc' and a step of 2, and store the result in 'code'.\n",
    "code = caesar_encrypt('PWSKILLS', 2)\n",
    "\n",
    "# Print the 'code', which contains the result of the Caesar cipher encryption.\n",
    "print(code)\n",
    "\n"
   ]
  },
  {
   "cell_type": "code",
   "execution_count": 7,
   "id": "14a1ff74",
   "metadata": {},
   "outputs": [
    {
     "name": "stdout",
     "output_type": "stream",
     "text": [
      "Provide your Input :Sumit Verman\n",
      "Tvnju Wfsnbo\n"
     ]
    }
   ],
   "source": [
    "''' 43. Decode a Caesar cipher encoded string.'''\n",
    "# Taking user input\n",
    "message = input(\"Provide your Input :\")\n",
    "\n",
    "# Letters list fo decode the text. \n",
    "LETTERS = 'ABCDEFGHIJKLMNOPQRSTUVWXYZabcdefghijklmnopqrstuvwxyz'\n",
    "\n",
    "# Caesar Cipher condition applying.\n",
    "for key in range(len(LETTERS)):\n",
    "   translated = ''\n",
    "   for symbol in message:\n",
    "      if symbol in LETTERS:\n",
    "         num = LETTERS.find(symbol)\n",
    "         num = num - key\n",
    "         if num < 0:\n",
    "            num = num + len(LETTERS)\n",
    "         translated = translated + LETTERS[num]\n",
    "      else:\n",
    "         translated = translated + symbol\n",
    "            \n",
    "# Printing the result. \n",
    "print(translated)"
   ]
  },
  {
   "cell_type": "code",
   "execution_count": 16,
   "id": "40bdefd4",
   "metadata": {},
   "outputs": [
    {
     "name": "stdout",
     "output_type": "stream",
     "text": [
      "provide your test : cat dog cat lion deer cat buffalo goat dog cow\n",
      "Most repeated word: cat\n"
     ]
    }
   ],
   "source": [
    "'''44. Find the most frequent word in a string.'''\n",
    "\n",
    "str1 = input(\"provide your test : \")\n",
    "frequent_word = \"\" \n",
    "frequency = 0  \n",
    "words = str1.split()\n",
    "\n",
    "# Finding the max occured word \n",
    "for i in range(0, len(words)):   \n",
    "\n",
    "    # Declaring count \n",
    "    count = 1;   \n",
    "      \n",
    "    # Count each word in the file   \n",
    "    for j in range(i+1, len(words)):   \n",
    "        if(words[i] == words[j]):   \n",
    "            count = count + 1;   \n",
    "  \n",
    "    # If the count value is more \n",
    "    # than highest frequency then \n",
    "    if(count > frequency):   \n",
    "        frequency = count;   \n",
    "        frequent_word = words[i];   \n",
    "\n",
    "print(\"Most repeated word: \" + frequent_word)"
   ]
  },
  {
   "cell_type": "code",
   "execution_count": 1,
   "id": "e70af43c",
   "metadata": {},
   "outputs": [
    {
     "name": "stdout",
     "output_type": "stream",
     "text": [
      "Enter a string: Some moments are nice, some are nicer, some are even worth writing.\n",
      "some moments are nice, nicer, even worth writing. "
     ]
    }
   ],
   "source": [
    "'''45. Find all unique words in a string.'''\n",
    "\n",
    "# Getting user input\n",
    "text = input('Enter a string: ').lower()\n",
    "# splitting words into a set\n",
    "words = text.split()\n",
    "        \n",
    "d = {}\n",
    "# appyling condition for unique words\n",
    "for word in words:\n",
    "    if not word in d:\n",
    "        d[word]=0\n",
    "        \n",
    "        # printing the result\n",
    "        print(word, end=\" \")"
   ]
  },
  {
   "cell_type": "code",
   "execution_count": 1,
   "id": "99d575dc",
   "metadata": {},
   "outputs": [
    {
     "name": "stdout",
     "output_type": "stream",
     "text": [
      "Enter the word:sumit\n",
      "The number of syllables in the word is:  2\n"
     ]
    }
   ],
   "source": [
    "'''46. Count the number of syllables in a string.'''\n",
    "# Getting text as input\n",
    "word = input(\"Enter the word:\")\n",
    "syllable_count = 0\n",
    "\n",
    "#applying condition\n",
    "for w in word:\n",
    "    if (\n",
    "        w == \"a\"\n",
    "        or w == \"e\"\n",
    "        or w == \"i\"\n",
    "        or w == \"o\"\n",
    "        or w == \"u\"\n",
    "        or w == \"A\"\n",
    "        or w == \"E\"\n",
    "        or w == \"I\"\n",
    "        or w == \"O\"\n",
    "        or w == \"U\"\n",
    "    ):\n",
    "        syllable_count = syllable_count + 1\n",
    "print(\"The number of syllables in the word is: \", syllable_count)\n",
    "\n"
   ]
  },
  {
   "cell_type": "code",
   "execution_count": 20,
   "id": "362fccf2",
   "metadata": {},
   "outputs": [
    {
     "name": "stdout",
     "output_type": "stream",
     "text": [
      "Please Enter your string : Check if a string contains any special characters\n",
      "No, string is not containing special charecter.\n"
     ]
    }
   ],
   "source": [
    "''' 47. Check if a string contains any special characters.'''\n",
    "\n",
    "text = input(\"Please Enter your string : \")\n",
    "text1 = text.lower()\n",
    "char = [ ]\n",
    "def specialchar(text):\n",
    "    for c in text:\n",
    "        if not (c.isalpha() or c.isdigit() or c == ' '):\n",
    "            return True\n",
    "    return False\n",
    "\n",
    "if specialchar(text):\n",
    "    print(\"Yes, string is containing special charecter.\")\n",
    "    print(\"Special Charecter = \", char)\n",
    "else:\n",
    "    print(\"No, string is not containing special charecter.\")"
   ]
  },
  {
   "cell_type": "code",
   "execution_count": 2,
   "id": "6ed1c2cb",
   "metadata": {},
   "outputs": [
    {
     "name": "stdout",
     "output_type": "stream",
     "text": [
      "provide your string : Check if a string contains any special characters\n",
      "provide your number to remove :4\n",
      "contains\n",
      "Check if a string any special characters\n"
     ]
    }
   ],
   "source": [
    "''' 48. Remove the nth word from a string.'''\n",
    "\n",
    "text = input(\"provide your string : \")\n",
    "nth_word = int(input('provide your number to remove :'))\n",
    "text1 = text.split()\n",
    "\n",
    "# removing nth word from string\n",
    "result = text1.pop(nth_word)\n",
    "\n",
    "#printing the nth word removed from string\n",
    "print(result)\n",
    "\n",
    "#converting list in string aftter removing nth word. \n",
    "text2 = \" \".join(text1)\n",
    "\n",
    "# Text after removing nth word\n",
    "print(text2)\n",
    "\n"
   ]
  },
  {
   "cell_type": "code",
   "execution_count": 2,
   "id": "becf77ed",
   "metadata": {},
   "outputs": [
    {
     "name": "stdin",
     "output_type": "stream",
     "text": [
      "provide your text :  I am working in in bhopal.\n",
      "provide your string to insert:  google\n",
      "position of text to insert :  4\n"
     ]
    },
    {
     "name": "stdout",
     "output_type": "stream",
     "text": [
      "I am working in google in bhopal.\n"
     ]
    }
   ],
   "source": [
    "''' 49. Insert a word at the nth position in a string.'''\n",
    "# getting string as input\n",
    "text = input(\"provide your text : \")\n",
    "# asking for word to insert\n",
    "str1 = input (\"provide your string to insert: \")\n",
    "# asking for position to insert\n",
    "position = int(input(\"position of text to insert : \" ))\n",
    "\n",
    "#applying condition to insert word in string in nth position.\n",
    "l1 = text.split()\n",
    "l1.insert(position, str1)\n",
    "result = \" \".join(l1)\n",
    "\n",
    "# printing the result\n",
    "print(result)\n",
    "\n"
   ]
  },
  {
   "cell_type": "code",
   "execution_count": null,
   "id": "0568b175-1457-418f-a724-fe3b5ecc5358",
   "metadata": {},
   "outputs": [],
   "source": [
    "''' 50. Convert a CSV string to a list of lists.'''\n",
    "\n",
    "\n",
    "\n"
   ]
  },
  {
   "cell_type": "code",
   "execution_count": 4,
   "id": "3f66d227-83e1-49bd-825b-38c17d5f29c5",
   "metadata": {},
   "outputs": [
    {
     "data": {
      "text/plain": [
       "' List Based Practice Problem : '"
      ]
     },
     "execution_count": 4,
     "metadata": {},
     "output_type": "execute_result"
    }
   ],
   "source": [
    "''' List Based Practice Problem : '''"
   ]
  },
  {
   "cell_type": "code",
   "execution_count": 38,
   "id": "e13aa3aa-bb8c-4c9c-8a0d-d1c0f743d3e9",
   "metadata": {},
   "outputs": [
    {
     "name": "stdout",
     "output_type": "stream",
     "text": [
      "[1, 2, 3, 4, 5, 6, 7, 8, 9, 10]\n"
     ]
    }
   ],
   "source": [
    "'''1. Create a list with integers from 1 to 10.'''\n",
    "\n",
    "# creating list of integers from 1 to 10.\n",
    "n = 10\n",
    "list1 = []\n",
    "for i in range (n):\n",
    "    i = i + 1\n",
    "    list1.append(i)\n",
    "\n",
    "print (list1)"
   ]
  },
  {
   "cell_type": "code",
   "execution_count": 48,
   "id": "45b9a59c-a6e7-4e2c-bd60-275c56a4ada1",
   "metadata": {},
   "outputs": [
    {
     "name": "stdout",
     "output_type": "stream",
     "text": [
      "length of list without using lenth function is :  9\n"
     ]
    }
   ],
   "source": [
    "'''2. Find the length of a list without using the `len()` function.'''\n",
    "\n",
    "# getting list\n",
    "l1 = [1,2,3,4,5,6,7,8]\n",
    "\n",
    "# checking the length of list \n",
    "count = 0\n",
    "for i in l1:\n",
    "    count = i + 1\n",
    "    \n",
    "#printing the length of list  \n",
    "print('length of list without using lenth function is : ', count)"
   ]
  },
  {
   "cell_type": "code",
   "execution_count": 62,
   "id": "06db471e-830a-4061-9af6-e2bb062b77ec",
   "metadata": {},
   "outputs": [
    {
     "name": "stdin",
     "output_type": "stream",
     "text": [
      "provide your list seperated with comma, : 1,2,3,4,5,6,7,8\n",
      "provide your element :  100\n"
     ]
    },
    {
     "name": "stdout",
     "output_type": "stream",
     "text": [
      "['1', '2', '3', '4', '5', '6', '7', '8', 100]\n"
     ]
    }
   ],
   "source": [
    "''' 3. Append an element to the end of a list.'''\n",
    "# getting input a list \n",
    "text1 = input('provide your list seperated with comma, :' )\n",
    "#converting string into list\n",
    "l1 = text1.split(',')\n",
    "#getting input element to insert at the end\n",
    "element = int(input('provide your element : '))\n",
    "l1.append(element)\n",
    "#printing the result\n",
    "print(l1)"
   ]
  },
  {
   "cell_type": "code",
   "execution_count": 66,
   "id": "03d8e4cc-623d-4859-80df-eedc31b90d15",
   "metadata": {},
   "outputs": [
    {
     "name": "stdin",
     "output_type": "stream",
     "text": [
      "Please provide your list seperated with comma, : 1,2,3,4,5,6,7,8\n",
      "Please provide your element :  102\n",
      "Please provide your index number:  3\n"
     ]
    },
    {
     "name": "stdout",
     "output_type": "stream",
     "text": [
      "Please find the updated list :  ['1', '2', '3', 102, '4', '5', '6', '7', '8']\n"
     ]
    }
   ],
   "source": [
    "''' 4. Insert an element at a specific index in a list.'''\n",
    "# getting input from user\n",
    "text1 = input('Please provide your list seperated with comma, :' )\n",
    "# converting input into list.\n",
    "l1 = text1.split(',')\n",
    "# getting input new element and index number to place new element\n",
    "element = int(input('Please provide your element : '))\n",
    "place = int(input('Please provide your index number: '))\n",
    "\n",
    "#applying condition\n",
    "l1.insert(place, element)\n",
    "\n",
    "# printing the result\n",
    "print('Please find the updated list : ', l1)\n",
    "\n"
   ]
  },
  {
   "cell_type": "code",
   "execution_count": 70,
   "id": "1c9d6fbb-0ac9-45b4-a888-2c1a9019f780",
   "metadata": {},
   "outputs": [
    {
     "name": "stdin",
     "output_type": "stream",
     "text": [
      "Please provide your list seperated with comma, : 10,20,30,40,50,60,70\n",
      "please provide your element to remove 40\n"
     ]
    },
    {
     "name": "stdout",
     "output_type": "stream",
     "text": [
      "Please find the updated list :  ['10', '20', '30', '50', '60', '70']\n"
     ]
    }
   ],
   "source": [
    "''' 5. Remove an element from a list by its value.'''\n",
    "\n",
    "# getting input from user\n",
    "text1 = input('Please provide your list seperated with comma, :' )\n",
    "# converting input into list.\n",
    "l1 = text1.split(',')\n",
    "\n",
    "# getting element to remove\n",
    "element = input(\"please provide your element to remove\") \n",
    "\n",
    "#applying condition\n",
    "l1.remove(element)\n",
    "\n",
    "# printing the result\n",
    "print('Please find the updated list : ', l1)\n"
   ]
  },
  {
   "cell_type": "code",
   "execution_count": 74,
   "id": "02be785c-d92f-4d95-9069-e638a6ac56b1",
   "metadata": {},
   "outputs": [
    {
     "name": "stdin",
     "output_type": "stream",
     "text": [
      "Please provide your list seperated with comma, : 10, 20,30,40,50,60,70,80,90,100,110\n",
      "please provide your index number to remove element 5\n"
     ]
    },
    {
     "name": "stdout",
     "output_type": "stream",
     "text": [
      "Please find the updated list :  ['10', ' 20', '30', '40', '50', '70', '80', '90', '100', '110']\n"
     ]
    }
   ],
   "source": [
    "''' 6. Remove an element from a list by its index. '''\n",
    "\n",
    "# getting input from user\n",
    "text1 = input('Please provide your list seperated with comma, :' )\n",
    "# converting input into list.\n",
    "l1 = text1.split(',')\n",
    "\n",
    "# getting element to remove\n",
    "itemindex = int(input(\"please provide your index number to remove element\"))\n",
    "\n",
    "#applying condition\n",
    "l1.pop(itemindex)\n",
    "\n",
    "# printing the result\n",
    "print('Please find the updated list : ', l1)"
   ]
  },
  {
   "cell_type": "code",
   "execution_count": 86,
   "id": "9e0e1b06-5e81-41ac-a961-3ace7fd81055",
   "metadata": {},
   "outputs": [
    {
     "name": "stdin",
     "output_type": "stream",
     "text": [
      "Please provide your list seperated with comma : Delhi,Mumbai,agara,chennai,shimla,bhopal,indore\n",
      "please provide your element to check :  chennai\n"
     ]
    },
    {
     "name": "stdout",
     "output_type": "stream",
     "text": [
      "given item is in the list.\n"
     ]
    }
   ],
   "source": [
    "''' 7. Check if an element exists in a list.'''\n",
    "# getting input from user\n",
    "text1 = input('Please provide your list seperated with comma :' )\n",
    "# converting input into list.\n",
    "l1 = text1.split(',')\n",
    "\n",
    "# getting element to remove\n",
    "element = input(\"please provide your element to check : \")\n",
    "\n",
    "#applying condition\n",
    "if element in l1:\n",
    "    print('given item is in the list.')\n",
    "else :\n",
    "    print('Given item is not in the list')"
   ]
  },
  {
   "cell_type": "code",
   "execution_count": 8,
   "id": "2b773e92-0da0-416f-9e3f-ceac0c3c863d",
   "metadata": {},
   "outputs": [
    {
     "name": "stdin",
     "output_type": "stream",
     "text": [
      "Please provide your list :  10,20,30,40,50,60,70,80,90,100,110\n"
     ]
    },
    {
     "name": "stdout",
     "output_type": "stream",
     "text": [
      "['10', '20', '30', '40', '50', '60', '70', '80', '90', '100', '110']\n"
     ]
    },
    {
     "name": "stdin",
     "output_type": "stream",
     "text": [
      "please provide your element :  60\n"
     ]
    },
    {
     "name": "stdout",
     "output_type": "stream",
     "text": [
      "Index number of your 60 is 5\n"
     ]
    }
   ],
   "source": [
    "'''8. Find the index of the first occurrence of an element in a list.'''\n",
    "# getting input from user\n",
    "str1 = input('Please provide your list : ' )\n",
    "l1 = str1.split(',')\n",
    "print(l1)\n",
    "element =input('please provide your element : ')\n",
    "# applying condition\n",
    "place = l1.index(element)\n",
    "# printing the result\n",
    "print ('Index number of your', element, 'is', place)"
   ]
  },
  {
   "cell_type": "code",
   "execution_count": 36,
   "id": "2d892c64-5b07-4c9c-85eb-e665f91fee28",
   "metadata": {},
   "outputs": [
    {
     "name": "stdin",
     "output_type": "stream",
     "text": [
      "provide your list here seprated by comma :  10,20,30,30,50,30,60,80,30\n",
      "provide your element her :  30\n"
     ]
    },
    {
     "name": "stdout",
     "output_type": "stream",
     "text": [
      "element 30 has occured 4 times\n"
     ]
    }
   ],
   "source": [
    "''' 9. Count the occurrences of an element in a list.'''\n",
    "# function for converting string into list and counting occurance of element\n",
    "def countx(userinput, x):\n",
    "    l1 = []\n",
    "    for i in userinput.split(\",\"):\n",
    "        l1.append(i)\n",
    "    \n",
    "    count = 0\n",
    "    for ele in l1:\n",
    "        if (ele == x):\n",
    "            count = count + 1\n",
    "    return count\n",
    "\n",
    "\n",
    "# Getting input from user\n",
    "userinput = input(\"provide your list here seprated by comma : \")\n",
    "x = input(\"provide your element her : \")\n",
    "\n",
    "# getting result \n",
    "R1 = countx(userinput, x)\n",
    "print(\"element\", x, \"has occured\", R1, \"times\")\n"
   ]
  },
  {
   "cell_type": "code",
   "execution_count": 46,
   "id": "224ad26a-1915-48ad-837f-50bafbb35215",
   "metadata": {},
   "outputs": [
    {
     "name": "stdout",
     "output_type": "stream",
     "text": [
      "[9, 8, 7, 6, 5, 4, 3, 2, 1, 0]\n"
     ]
    }
   ],
   "source": [
    "\"\"\"10. Reverse the order of elements in a list.\"\"\"\n",
    "# creating the function for reversing the list. \n",
    "def revlist(l1):\n",
    "    rev = []\n",
    "    for i in l1:\n",
    "        rev.insert(0, i)\n",
    "    return rev\n",
    "\n",
    "# applying function and getting result.\n",
    "l1 = [0,1,2,3,4,5,6,7,8,9]\n",
    "reversedlist = revlist(l1)\n",
    "print(reversedlist)"
   ]
  },
  {
   "cell_type": "code",
   "execution_count": 4,
   "id": "8d7bc7db-d297-48d4-b3e6-a75f186aed69",
   "metadata": {},
   "outputs": [
    {
     "name": "stdout",
     "output_type": "stream",
     "text": [
      "[2, 2, 3, 4, 5, 5, 6, 7]\n"
     ]
    }
   ],
   "source": [
    "'''11. Sort a list in ascending order.'''\n",
    "\n",
    "#created program for sort list in ascending order. \n",
    "def sort_list_ascending(lst):\n",
    "    return sorted(lst)\n",
    "    \n",
    "# printing the result of list \n",
    "sample_list = [2,4,5,3,2,5,6,7]\n",
    "print(sort_list_ascending(sample_list))"
   ]
  },
  {
   "cell_type": "code",
   "execution_count": 6,
   "id": "1ae806c3-44de-4ed8-923a-78b30ba6368d",
   "metadata": {},
   "outputs": [
    {
     "name": "stdout",
     "output_type": "stream",
     "text": [
      "[7, 6, 5, 5, 4, 3, 2, 2]\n"
     ]
    }
   ],
   "source": [
    "''' 12. Sort a list in descending order.'''\n",
    "\n",
    "# applying condition for sorting list in descending order. \n",
    "def sort_list_descending(lst):\n",
    "    return sorted(lst, reverse=True)\n",
    "\n",
    "# printing the result of list \n",
    "sample_list = [2,4,5,3,2,5,6,7]\n",
    "print(sort_list_descending(sample_list))\n"
   ]
  },
  {
   "cell_type": "code",
   "execution_count": 8,
   "id": "82766895-17af-4479-8019-e09355f7816e",
   "metadata": {},
   "outputs": [
    {
     "name": "stdout",
     "output_type": "stream",
     "text": [
      "List of Even Number : [2, 4, 6, 8, 10, 12, 14, 16, 18, 20]\n"
     ]
    }
   ],
   "source": [
    "''' 13. Create a list of even numbers from 1 to 20. '''\n",
    "\n",
    "# applying condition for creating list of even numbers . \n",
    "\n",
    "def even_numbers_1_to_20():\n",
    "    return [i for i in range(1, 21) if i % 2 == 0]\n",
    "\n",
    "# printing the result of list \n",
    "print(\"List of Even Number :\", even_numbers_1_to_20())"
   ]
  },
  {
   "cell_type": "code",
   "execution_count": 13,
   "id": "9dbb7aa2-47ea-46ca-9026-8c7f88241b62",
   "metadata": {},
   "outputs": [
    {
     "name": "stdout",
     "output_type": "stream",
     "text": [
      "List of Odd numbers 1 to 20: [1, 3, 5, 7, 9, 11, 13, 15, 17, 19]\n"
     ]
    }
   ],
   "source": [
    "''' 14. Create a list of odd numbers from 1 to 20. '''\n",
    "\n",
    "# applying condition for creating list of odd numbers . \n",
    "\n",
    "def odd_numbers_1_to_20():\n",
    "    return [i for i in range(1, 21) if i % 2 != 0]\n",
    "\n",
    "# printing the result of list \n",
    "print(\"List of Odd numbers 1 to 20:\", odd_numbers_1_to_20())"
   ]
  },
  {
   "cell_type": "code",
   "execution_count": 17,
   "id": "f6ba4d23-8e0b-4fb1-826c-3e829b6a72d1",
   "metadata": {},
   "outputs": [
    {
     "name": "stdout",
     "output_type": "stream",
     "text": [
      "Sum of elements:  425\n"
     ]
    }
   ],
   "source": [
    "''' 15. Find the sum of all elements in a list. '''\n",
    "\n",
    "# applying condition to find the sume of all elements.\n",
    "\n",
    "def sum_of_elements(lst):\n",
    "    return sum(lst)\n",
    "\n",
    "# printing the result of list\n",
    "sample_list = [11,52,83,94,45,66,27,18,29]\n",
    "print(\"Sum of elements: \", sum_of_elements(sample_list))"
   ]
  },
  {
   "cell_type": "code",
   "execution_count": 19,
   "id": "ae2a078f-0423-470f-a5fc-3c83ca18d9c5",
   "metadata": {},
   "outputs": [
    {
     "name": "stdout",
     "output_type": "stream",
     "text": [
      "Max value:  94\n"
     ]
    }
   ],
   "source": [
    "''' 16. Find the maximum value in a list. '''\n",
    "\n",
    "# applying condition to find maximum value of the list.\n",
    "\n",
    "def max_in_list(lst):\n",
    "    return max(lst)\n",
    "\n",
    "# printing the result of list\n",
    "sample_list = [11,52,83,94,45,66,27,18,29]\n",
    "print(\"Max value: \", max_in_list(sample_list))"
   ]
  },
  {
   "cell_type": "code",
   "execution_count": 21,
   "id": "caccb25e-67ca-4020-8778-ef0c937eaaf5",
   "metadata": {},
   "outputs": [
    {
     "name": "stdout",
     "output_type": "stream",
     "text": [
      "Min value: 11\n"
     ]
    }
   ],
   "source": [
    "''' 17. Find the minimum value in a list. '''\n",
    "\n",
    "# applying condition to find minimum value of the list.\n",
    "\n",
    "def min_in_list(lst):\n",
    "    return min(lst)\n",
    "\n",
    "# printing the result of list\n",
    "sample_list = [11,52,83,94,45,66,27,18,29]\n",
    "print(\"Min value:\", min_in_list(sample_list))"
   ]
  },
  {
   "cell_type": "code",
   "execution_count": 23,
   "id": "98888f3a-73a4-4574-a129-82f045f3b5ed",
   "metadata": {},
   "outputs": [
    {
     "name": "stdout",
     "output_type": "stream",
     "text": [
      "Squares of 1 to 10 :  [1, 4, 9, 16, 25, 36, 49, 64, 81, 100]\n"
     ]
    }
   ],
   "source": [
    "''' 18. Create a list of squares of numbers from 1 to 10. '''\n",
    "\n",
    "# applying condition of list of squares\n",
    "\n",
    "def squares_of_1_to_10():\n",
    "    return [i ** 2 for i in range(1, 11)]\n",
    "\n",
    "# printing the result of list\n",
    "\n",
    "print(\"Squares of 1 to 10 : \", squares_of_1_to_10())"
   ]
  },
  {
   "cell_type": "code",
   "execution_count": 31,
   "id": "516fa4e4-aaae-4add-9588-5896f0fb428c",
   "metadata": {},
   "outputs": [
    {
     "name": "stdout",
     "output_type": "stream",
     "text": [
      "Random numbers :  [87, 56, 62, 7, 17]\n"
     ]
    }
   ],
   "source": [
    "''' 19. Create a list of random numbers. '''\n",
    "\n",
    "import random\n",
    "import math\n",
    "# applying condition to create list of random numbers\n",
    "\n",
    "def random_numbers(count, start=1, end=100):\n",
    "    return [random.randint(start, end) for _ in range(count)]\n",
    "\n",
    "# printing the result of list\n",
    "\n",
    "print(\"Random numbers : \", random_numbers(5))"
   ]
  },
  {
   "cell_type": "code",
   "execution_count": 33,
   "id": "1fabb098-2b79-49c4-9319-4fb1e5c10e19",
   "metadata": {},
   "outputs": [
    {
     "name": "stdout",
     "output_type": "stream",
     "text": [
      "duplicates removed from list :  [1, 2, 3, 5, 6, 7]\n"
     ]
    }
   ],
   "source": [
    "''' 20. Remove duplicates from a list. '''\n",
    "\n",
    "\n",
    "# applying condition to remove duplicates from list. \n",
    "\n",
    "def remove_duplicates(lst):\n",
    "    return list(set(lst))\n",
    "\n",
    "# printing the result of list\n",
    "\n",
    "print(\"duplicates removed from list : \", remove_duplicates([1, 6, 7, 6, 3, 2, 5, 2, 1, 6, 3]))"
   ]
  },
  {
   "cell_type": "code",
   "execution_count": 35,
   "id": "1c1153e6-5811-4262-a74f-d0718fd16865",
   "metadata": {},
   "outputs": [
    {
     "name": "stdout",
     "output_type": "stream",
     "text": [
      "21. Common elements between [1, 2, 3] and [2, 3, 4]: [2, 3]\n"
     ]
    }
   ],
   "source": [
    "''' 21. Find the common elements between two lists. '''\n",
    "\n",
    "# applying condition to find the common elements\n",
    "def common_elements(lst1, lst2):\n",
    "    return list(set(lst1) & set(lst2))\n",
    "\n",
    "# printing the result of common items. \n",
    "\n",
    "print(\"Common elements between List 1 and List 2:\", common_elements([1, 2, 3, 5, 7], [2, 3, 4, 9, 4]))"
   ]
  },
  {
   "cell_type": "code",
   "execution_count": 43,
   "id": "da30fd08-cd20-484a-972a-14253f15c53c",
   "metadata": {},
   "outputs": [
    {
     "name": "stdout",
     "output_type": "stream",
     "text": [
      "Difference between List 1 and List 2 :  [1, 5]\n"
     ]
    }
   ],
   "source": [
    "''' 22. Find the difference between two lists. '''\n",
    "\n",
    "# applying condition to find difference\n",
    "def list_difference(lst1, lst2):\n",
    "    return list(set(lst1) - set(lst2))\n",
    "\n",
    "# printing the result of difference in lists. \n",
    "\n",
    "print(\"Difference between List 1 and List 2 : \", list_difference([1, 2, 3, 5], [2, 3, 4, 6]))"
   ]
  },
  {
   "cell_type": "code",
   "execution_count": 47,
   "id": "944e673a-6d9c-4e04-8b17-e426be5d33c9",
   "metadata": {},
   "outputs": [
    {
     "name": "stdout",
     "output_type": "stream",
     "text": [
      "merging two list :  [1, 2, 5, 9, 3, 4, 8]\n"
     ]
    }
   ],
   "source": [
    "''' 23. Merge two lists. '''\n",
    "\n",
    "# applying condition to merge two list. \n",
    "def merge_lists(lst1, lst2):\n",
    "    return lst1 + lst2\n",
    "\n",
    "# printing the result of common items. \n",
    "\n",
    "print(\"merging two list : \", merge_lists([1, 2, 5, 9], [3, 4, 8]))"
   ]
  },
  {
   "cell_type": "code",
   "execution_count": 51,
   "id": "7f43bc02-5257-4768-a5f2-b8637f96f87f",
   "metadata": {},
   "outputs": [
    {
     "name": "stdout",
     "output_type": "stream",
     "text": [
      " Multiply by 2 :  [22, 104, 166, 188, 90, 132, 54, 36, 58]\n"
     ]
    }
   ],
   "source": [
    "''' 24. Multiply all elements in a list by 2. '''\n",
    "\n",
    "# applying condition to Multiply all elements. \n",
    "def multiply_by_2(lst):\n",
    "    return [x * 2 for x in lst]\n",
    "\n",
    "# printing the result to Multiply all elements.\n",
    "sample_list = [11,52,83,94,45,66,27,18,29]\n",
    "print(\" Multiply by 2 : \", multiply_by_2(sample_list))"
   ]
  },
  {
   "cell_type": "code",
   "execution_count": 57,
   "id": "21d06577-9d27-4551-9435-3b2b894902ca",
   "metadata": {},
   "outputs": [
    {
     "name": "stdout",
     "output_type": "stream",
     "text": [
      "Filtered evem numbers from list:  [52, 94, 66, 18]\n"
     ]
    }
   ],
   "source": [
    "''' 25. Filter out all even numbers from a list. '''\n",
    "\n",
    "# applying condition to filter even number\n",
    "def filter_out_even(lst):\n",
    "    return [x for x in lst if x % 2 == 0]\n",
    "\n",
    "# printing the result of even numbers. \n",
    "sample_list = [11,52,83,94,45,66,27,18,29]\n",
    "print(\"Filtered evem numbers from list: \", filter_out_even(sample_list))"
   ]
  },
  {
   "cell_type": "code",
   "execution_count": 59,
   "id": "9108c92d-b8ba-4df8-9982-177513075dbc",
   "metadata": {},
   "outputs": [
    {
     "name": "stdout",
     "output_type": "stream",
     "text": [
      "Strings to integers: [1, 2, 3, 4, 5]\n"
     ]
    }
   ],
   "source": [
    "''' 26. Convert a list of strings to a list of integers. '''\n",
    "\n",
    "# applying condition to covert list\n",
    "def strings_to_integers(lst):\n",
    "    return [int(x) for x in lst]\n",
    "\n",
    "# printing the result\n",
    "print(\"Strings to integers:\", strings_to_integers([\"1\", \"2\", \"3\", \"4\", \"5\"]))"
   ]
  },
  {
   "cell_type": "code",
   "execution_count": 61,
   "id": "af18032d-3b65-4d92-9b7b-839443767606",
   "metadata": {},
   "outputs": [
    {
     "name": "stdout",
     "output_type": "stream",
     "text": [
      "Integers to strings: ['1', '2', '3']\n"
     ]
    }
   ],
   "source": [
    "''' 27. Convert a list of integers to a list of strings. '''\n",
    "\n",
    "# applying condition to covert list\n",
    "def integers_to_strings(lst):\n",
    "    return [str(x) for x in lst]\n",
    "\n",
    "# printing the result\n",
    "print(\"Integers to strings:\", integers_to_strings([1, 2, 3]))"
   ]
  },
  {
   "cell_type": "code",
   "execution_count": 65,
   "id": "51670b4d-a09e-41eb-b61b-7ea3723409e1",
   "metadata": {},
   "outputs": [
    {
     "name": "stdout",
     "output_type": "stream",
     "text": [
      "Flatten nested list: [1, 2, 3, 4]\n"
     ]
    }
   ],
   "source": [
    "''' 28. Flatten a nested list. '''\n",
    "\n",
    "# applying condition to flatten a nested list. \n",
    "def flatten_list(nested_lst):\n",
    "    return [item for sublist in nested_lst for item in sublist]\n",
    "\n",
    "# printing the result.\n",
    "print(\"Flatten nested list:\", flatten_list([[1, 2], [3, 4]]))"
   ]
  },
  {
   "cell_type": "code",
   "execution_count": 69,
   "id": "fb7b3214-42e2-4988-803d-edce5cb966f4",
   "metadata": {},
   "outputs": [
    {
     "name": "stdout",
     "output_type": "stream",
     "text": [
      "First 10 Fibonacci numbers: [0, 1, 1, 2, 3, 5, 8, 13, 21, 34]\n"
     ]
    }
   ],
   "source": [
    "''' 29. Create a list of the first 10 Fibonacci numbers. '''\n",
    "\n",
    "# applying condition to create list of fibonnaci series\n",
    "def fibonacci_numbers(n=10):\n",
    "    fib = [0, 1]\n",
    "    for i in range(2, n):\n",
    "        fib.append(fib[i - 1] + fib[i - 2])\n",
    "    return fib[:n]\n",
    "\n",
    "# printing the result fibonacci series\n",
    "print(\"First 10 Fibonacci numbers:\", fibonacci_numbers())"
   ]
  },
  {
   "cell_type": "code",
   "execution_count": 71,
   "id": "b8f3cacb-6050-4b36-956a-c46f3a3838ad",
   "metadata": {},
   "outputs": [
    {
     "name": "stdout",
     "output_type": "stream",
     "text": [
      "sorted list: True\n"
     ]
    }
   ],
   "source": [
    "''' 30. Check if a list is sorted. '''\n",
    "\n",
    "# applying condition to check the sorting of list\n",
    "def is_sorted(lst):\n",
    "    return lst == sorted(lst)\n",
    "\n",
    "# printing the result to check sorted or not\n",
    "print(\"sorted list:\", is_sorted([1, 2, 3]))"
   ]
  },
  {
   "cell_type": "code",
   "execution_count": 79,
   "id": "5147e9a9-b835-4197-866d-018d4447f903",
   "metadata": {},
   "outputs": [
    {
     "name": "stdout",
     "output_type": "stream",
     "text": [
      "Rotated list left by 2: [3, 4, 5, 1, 2]\n"
     ]
    }
   ],
   "source": [
    "''' 31. Rotate a list to the left by `n` positions. '''\n",
    "\n",
    "# applying condition to rotate the list \n",
    "def rotate_left(lst, n):\n",
    "    n = n % len(lst)  # To handle n larger than the list length\n",
    "    return lst[n:] + lst[:n]\n",
    "\n",
    "# printing the result of rotated list. \n",
    "print(\"Rotated list left by 2:\", rotate_left([1, 2, 3, 4, 5], 2))"
   ]
  },
  {
   "cell_type": "code",
   "execution_count": 81,
   "id": "14672c23-a2dc-405f-b93b-483ea6b5c5a4",
   "metadata": {},
   "outputs": [
    {
     "name": "stdout",
     "output_type": "stream",
     "text": [
      "Rotate right by 2: [4, 5, 1, 2, 3]\n"
     ]
    }
   ],
   "source": [
    "''' 32. Rotate a list to the right by `n` positions. '''\n",
    "\n",
    "# applying condition to rotate the list \n",
    "def rotate_right(lst, n):\n",
    "    n = n % len(lst)\n",
    "    return lst[-n:] + lst[:-n]\n",
    "\n",
    "# printing the result of rotated list. \n",
    "print(\"Rotated list right by 2:\", rotate_right([1, 2, 3, 4, 5], 2))"
   ]
  },
  {
   "cell_type": "code",
   "execution_count": 83,
   "id": "96721563-e0ea-45d7-883c-6b896614a9c2",
   "metadata": {},
   "outputs": [
    {
     "name": "stdout",
     "output_type": "stream",
     "text": [
      "Prime numbers up to 50: [2, 3, 5, 7, 11, 13, 17, 19, 23, 29, 31, 37, 41, 43, 47]\n"
     ]
    }
   ],
   "source": [
    "''' 33. Create a list of prime numbers up to 50.. '''\n",
    "\n",
    "# applying condition to create a list of prime numbers \n",
    "def prime_numbers_up_to_50():\n",
    "    primes = []\n",
    "    for num in range(2, 51):\n",
    "        is_prime = True\n",
    "        for i in range(2, int(math.sqrt(num)) + 1):\n",
    "            if num % i == 0:\n",
    "                is_prime = False\n",
    "                break\n",
    "        if is_prime:\n",
    "            primes.append(num)\n",
    "    return primes\n",
    "\n",
    "# printing the result of list. \n",
    "print(\"Prime numbers up to 50:\", prime_numbers_up_to_50())"
   ]
  },
  {
   "cell_type": "code",
   "execution_count": 87,
   "id": "2b5b071d-ad86-45a1-8ce0-addc9bb6e323",
   "metadata": {},
   "outputs": [
    {
     "name": "stdout",
     "output_type": "stream",
     "text": [
      "Split into chunks of 2: [[1, 2], [3, 4], [5]]\n"
     ]
    }
   ],
   "source": [
    "''' 34. Split a list into chunks of size `n`. '''\n",
    "\n",
    "# applying condition to split the list\n",
    "def split_into_chunks(lst, n):\n",
    "    return [lst[i:i + n] for i in range(0, len(lst), n)]\n",
    "\n",
    "# printing the result of list. \n",
    "print(\"Split into chunks of 2:\", split_into_chunks([1, 2, 3, 4, 5], 2))"
   ]
  },
  {
   "cell_type": "code",
   "execution_count": 89,
   "id": "1b1f53f1-65b4-4c58-96f0-f27627917d84",
   "metadata": {},
   "outputs": [
    {
     "name": "stdout",
     "output_type": "stream",
     "text": [
      "Second largest in :  4\n"
     ]
    }
   ],
   "source": [
    "''' 35. Find the second largest number in a list. '''\n",
    "\n",
    "# applying condition to finding largest number in list\n",
    "def second_largest(lst):\n",
    "    unique_lst = list(set(lst))\n",
    "    unique_lst.sort()\n",
    "    return unique_lst[-2] if len(unique_lst) >= 2 else None\n",
    "\n",
    "\n",
    "# printing the result\n",
    "print(\"Second largest in : \", second_largest([1, 2, 3, 4, 5]))"
   ]
  },
  {
   "cell_type": "code",
   "execution_count": 93,
   "id": "c49217bc-be0d-4588-b751-2c947fc3b143",
   "metadata": {},
   "outputs": [
    {
     "name": "stdout",
     "output_type": "stream",
     "text": [
      "Square elements: [121, 2704, 6889, 8836, 2025, 4356, 729, 324, 841]\n"
     ]
    }
   ],
   "source": [
    "''' 36. Replace every element in a list with its square. '''\n",
    "\n",
    "# applying condition to replacing the number\n",
    "def square_elements(lst):\n",
    "    return [x ** 2 for x in lst]\n",
    "\n",
    "\n",
    "# printing the result\n",
    "sample_list = [11,52,83,94,45,66,27,18,29]\n",
    "print(\"Square elements:\", square_elements(sample_list))"
   ]
  },
  {
   "cell_type": "code",
   "execution_count": 95,
   "id": "28f2b509-5c4f-4fea-8a54-8da39738b1a0",
   "metadata": {},
   "outputs": [
    {
     "name": "stdout",
     "output_type": "stream",
     "text": [
      "List to dict: {11: 0, 52: 1, 83: 2, 94: 3, 45: 4, 66: 5, 27: 6, 18: 7, 29: 8}\n"
     ]
    }
   ],
   "source": [
    "''' 37. Convert a list to a dictionary where list elements become keys and their\n",
    "indices become values. '''\n",
    "\n",
    "# applying condition to conver list in dictionary\n",
    "def list_to_dict(lst):\n",
    "    return {lst[i]: i for i in range(len(lst))}\n",
    "\n",
    "\n",
    "# printing the result\n",
    "sample_list = [11, 52, 83, 94, 45, 66, 27, 18, 29]\n",
    "print(\"List to dict:\", list_to_dict(sample_list))"
   ]
  },
  {
   "cell_type": "code",
   "execution_count": 97,
   "id": "a8d25426-af9c-47e0-8499-b9124b8ce5f6",
   "metadata": {},
   "outputs": [
    {
     "name": "stdout",
     "output_type": "stream",
     "text": [
      "Shuffle list: [83, 52, 18, 94, 29, 45, 27, 11, 66]\n"
     ]
    }
   ],
   "source": [
    "''' 38. Shuffle the elements of a list randomly. '''\n",
    "\n",
    "# applying condition to suffling enelments\n",
    "def shuffle_list(lst):\n",
    "    random.shuffle(lst)\n",
    "    return lst\n",
    "\n",
    "\n",
    "# printing the result\n",
    "sample_list = [11, 52, 83, 94, 45, 66, 27, 18, 29]\n",
    "print(\"Shuffle list:\", shuffle_list(sample_list.copy()))"
   ]
  },
  {
   "cell_type": "code",
   "execution_count": 101,
   "id": "fa4d3cdb-be90-4ff0-b202-4c43811a8b2b",
   "metadata": {},
   "outputs": [
    {
     "name": "stdout",
     "output_type": "stream",
     "text": [
      " list of First 10 factorial numbers: [1, 1, 2, 6, 24, 120, 720, 5040, 40320, 362880]\n"
     ]
    }
   ],
   "source": [
    "''' 39. Create a list of the first 10 factorial numbers. '''\n",
    "\n",
    "# applying condition to get list of 10 factorial numbers. \n",
    "def factorial_numbers(n=10):\n",
    "    factorials = [math.factorial(i) for i in range(n)]\n",
    "    return factorials\n",
    "\n",
    "# printing the result\n",
    "print(\" list of First 10 factorial numbers:\", factorial_numbers())"
   ]
  },
  {
   "cell_type": "code",
   "execution_count": 103,
   "id": "31c1eb56-47ce-4741-82b7-ff7ae8de6484",
   "metadata": {},
   "outputs": [
    {
     "name": "stdout",
     "output_type": "stream",
     "text": [
      "Have common elements: True\n"
     ]
    }
   ],
   "source": [
    "''' 40. Check if two lists have at least one element in common. '''\n",
    "\n",
    "# applying condition to check common elements\n",
    "def have_common_elements(lst1, lst2):\n",
    "    return bool(set(lst1) & set(lst2))\n",
    "\n",
    "# printing the result\n",
    "print(\"Have common elements:\", have_common_elements([1, 2, 6,8], [2, 3,6,9,5]))"
   ]
  },
  {
   "cell_type": "code",
   "execution_count": 103,
   "id": "ddfb56c1-8daf-4e74-984f-38878c302404",
   "metadata": {},
   "outputs": [
    {
     "name": "stdout",
     "output_type": "stream",
     "text": [
      "Have common elements: True\n"
     ]
    }
   ],
   "source": [
    "''' 40. Check if two lists have at least one element in common. '''\n",
    "\n",
    "# applying condition to check common elements\n",
    "def have_common_elements(lst1, lst2):\n",
    "    return bool(set(lst1) & set(lst2))\n",
    "\n",
    "# printing the result\n",
    "print(\"Have common elements:\", have_common_elements([1, 2, 6,8], [2, 3,6,9,5]))"
   ]
  },
  {
   "cell_type": "code",
   "execution_count": 2,
   "id": "9ea3d866-1b19-488f-8dd7-8a87d7c4338b",
   "metadata": {},
   "outputs": [
    {
     "name": "stdout",
     "output_type": "stream",
     "text": [
      "Clear list: None\n"
     ]
    }
   ],
   "source": [
    "''' 41. Remove all elements from a list. '''\n",
    "\n",
    "# applying condition to remove elements from list\n",
    "def clear_list(lst):\n",
    "    lst.clear()\n",
    "\n",
    "# printing the result\n",
    "sample_list = [11, 52, 83, 94, 45, 66, 27, 18, 29]\n",
    "print(\"Clear list:\", clear_list(sample_list))"
   ]
  },
  {
   "cell_type": "code",
   "execution_count": 4,
   "id": "04aef9f3-d374-4510-a8e9-74d81acc84d1",
   "metadata": {},
   "outputs": [
    {
     "name": "stdout",
     "output_type": "stream",
     "text": [
      "Replacement of negatives with zero: [0, 0, 1, 0, 2]\n"
     ]
    }
   ],
   "source": [
    "''' 42. Replace negative numbers in a list with 0. '''\n",
    "\n",
    "# applying condition to replace negative numbers with zero\n",
    "def replace_negatives_with_zero(lst):\n",
    "    return [max(x, 0) for x in lst]\n",
    "\n",
    "# printing the result\n",
    "print(\"Replacement of negatives with zero:\", replace_negatives_with_zero([-1, 0, 1, -2, 2]))"
   ]
  },
  {
   "cell_type": "code",
   "execution_count": 2,
   "id": "6fb8cc4e-2fa7-4b40-afdc-58c293d59520",
   "metadata": {},
   "outputs": [
    {
     "name": "stdin",
     "output_type": "stream",
     "text": [
      "Enter your text here My name is rahul.\n"
     ]
    },
    {
     "name": "stdout",
     "output_type": "stream",
     "text": [
      "String to word list :  ['My', 'name', 'is', 'rahul.']\n"
     ]
    }
   ],
   "source": [
    "''' 43. Convert a string into a list of words. '''\n",
    "\n",
    "# applying condition to convert list of words\n",
    "def string_to_word_list(s):\n",
    "    return s.split()\n",
    "\n",
    "# printing the result\n",
    "str1 = input(\"Enter your text here\")\n",
    "print(\"String to word list : \", string_to_word_list(str1))"
   ]
  },
  {
   "cell_type": "code",
   "execution_count": 4,
   "id": "57d64b02-5da9-4f88-a344-e42aa418a48f",
   "metadata": {},
   "outputs": [
    {
     "name": "stdout",
     "output_type": "stream",
     "text": [
      "Word list to string: Hello world! this is Python Program\n"
     ]
    }
   ],
   "source": [
    "''' 44. Convert a list of words into a string. '''\n",
    "\n",
    "# applying condition to converting into list\n",
    "def word_list_to_string(lst):\n",
    "    return ' '.join(lst)\n",
    "\n",
    "# printing the result\n",
    "print(\"Word list to string:\", word_list_to_string([\"Hello\", \"world!\", \"this\", \"is\", \"Python\", \"Program\"]))"
   ]
  },
  {
   "cell_type": "code",
   "execution_count": 6,
   "id": "94fc33c2-d735-4b71-8cb4-c8dedb1431c6",
   "metadata": {},
   "outputs": [
    {
     "name": "stdout",
     "output_type": "stream",
     "text": [
      "45. Powers of 2 (first 5): [1, 2, 4, 8, 16]\n"
     ]
    }
   ],
   "source": [
    "''' 45. Create a list of the first `n` powers of 2. '''\n",
    "\n",
    "# applying condition \n",
    "def powers_of_2(n):\n",
    "    return [2 ** i for i in range(n)]\n",
    "\n",
    "# printing the result\n",
    "print(\"Powers of 2 (first 5):\", powers_of_2(5))"
   ]
  },
  {
   "cell_type": "code",
   "execution_count": 8,
   "id": "19bbff03-1912-4f3a-98ef-0a43218d6732",
   "metadata": {},
   "outputs": [
    {
     "name": "stdout",
     "output_type": "stream",
     "text": [
      "Longest string: banana\n"
     ]
    }
   ],
   "source": [
    "''' 46. Find the longest string in a list of strings. '''\n",
    "\n",
    "# applying condition to find longest string in list\n",
    "def longest_string(lst):\n",
    "    return max(lst, key=len)\n",
    "\n",
    "\n",
    "# printing the result\n",
    "print(\"Longest string:\", longest_string([\"apple\", \"banana\", \"cherry\"]))"
   ]
  },
  {
   "cell_type": "code",
   "execution_count": 10,
   "id": "b483c390-ffb4-4954-b067-6ffd2e21c95c",
   "metadata": {},
   "outputs": [
    {
     "name": "stdout",
     "output_type": "stream",
     "text": [
      "Shortest string: apple\n"
     ]
    }
   ],
   "source": [
    "''' 47. Find the shortest string in a list of strings. '''\n",
    "\n",
    "# applying condition to find the shortest string \n",
    "def shortest_string(lst):\n",
    "    return min(lst, key=len)\n",
    "\n",
    "\n",
    "# printing the result\n",
    "print(\"Shortest string:\", shortest_string([\"apple\", \"banana\", \"cherry\"]))"
   ]
  },
  {
   "cell_type": "code",
   "execution_count": 12,
   "id": "7e9f2e1d-2adc-4d26-ba6e-1e430de67521",
   "metadata": {},
   "outputs": [
    {
     "name": "stdout",
     "output_type": "stream",
     "text": [
      "Triangular numbers (first 5): [0, 1, 3, 6, 10]\n"
     ]
    }
   ],
   "source": [
    "''' 48. Create a list of the first `n` triangular numbers. '''\n",
    "\n",
    "# applying condition to create list\n",
    "def triangular_numbers(n):\n",
    "    return [i * (i + 1) // 2 for i in range(n)]\n",
    "\n",
    "# printing the result\n",
    "print(\"Triangular numbers (first 5):\", triangular_numbers(5))"
   ]
  },
  {
   "cell_type": "code",
   "execution_count": 18,
   "id": "20a8d258-8027-4752-a93c-f67c3ac27b6e",
   "metadata": {},
   "outputs": [
    {
     "name": "stdout",
     "output_type": "stream",
     "text": [
      "Contains subsequence: True\n"
     ]
    }
   ],
   "source": [
    "''' 49. Check if a list contains another list as a subsequence. '''\n",
    "\n",
    "# applying condition to check the list \n",
    "def contains_subsequence(lst, sublst):\n",
    "    it = iter(lst)\n",
    "    return all(elem in it for elem in sublst)\n",
    "\n",
    "# printing the result\n",
    "print(\"Contains subsequence:\", contains_subsequence([1, 2, 3, 4], [2, 3]))"
   ]
  },
  {
   "cell_type": "code",
   "execution_count": 22,
   "id": "47410c40-cdfb-43b1-b52f-67a43a4e56cb",
   "metadata": {},
   "outputs": [
    {
     "name": "stdout",
     "output_type": "stream",
     "text": [
      "Swap elements at index 1 and 2: [1, 2, 3, 4]\n"
     ]
    }
   ],
   "source": [
    "''' 50. Swap two elements in a list by their indices. '''\n",
    "\n",
    "# applying condition to swapping of list\n",
    "def swap_elements(lst, index1, index2):\n",
    "    lst[index1], lst[index2] = lst[index2], lst[index1]\n",
    "\n",
    "\n",
    "# printing the result\n",
    "list1 = ([1,2,3,4,5,6,7], 1, 4) \n",
    "\n",
    "print(\"Swap elements at index 1 and 2:\", swap_list)"
   ]
  },
  {
   "cell_type": "code",
   "execution_count": null,
   "id": "7eed711a-911b-4bde-8e16-547abf112f7c",
   "metadata": {},
   "outputs": [],
   "source": [
    "''' Tuple Based Practice Problem :'''"
   ]
  },
  {
   "cell_type": "code",
   "execution_count": 2,
   "id": "c46883eb-cf49-4021-8844-17e8971a3bde",
   "metadata": {},
   "outputs": [
    {
     "name": "stdout",
     "output_type": "stream",
     "text": [
      "1. Tuple from 1 to 5: (1, 2, 3, 4, 5)\n",
      "2. Third element: 3\n",
      "3. Length of tuple: 5\n",
      "4. Count occurrences of 2: 1\n",
      "5. Index of first occurrence of 2: 1\n",
      "6. Exists 3 in tuple: True\n",
      "7. Tuple to list: [1, 2, 3, 4, 5]\n",
      "8. List to tuple: (1, 2, 3)\n",
      "9. Unpack tuple: (1, 2, 3, 4, 5)\n",
      "10. Even numbers 1 to 10: (2, 4, 6, 8, 10)\n",
      "11. Odd numbers 1 to 10: (1, 3, 5, 7, 9)\n",
      "12. Concatenate (1, 2) and (3, 4): (1, 2, 3, 4)\n",
      "13. Repeat (1, 2): (1, 2, 1, 2, 1, 2)\n",
      "14. Is tuple empty?: True\n",
      "15. Nested tuple: ((1, 2), (3, 4))\n",
      "16. First element of nested tuple: 1\n",
      "17. Single element tuple: (42,)\n",
      "18. Compare tuples (1,2) and (1,2): True\n",
      "19. Deleting tuple is not shown in sample usage.\n",
      "20. Slice tuple: (2, 3, 4)\n",
      "21. Max in tuple: 5\n",
      "22. Min in tuple: 1\n",
      "23. String to tuple: ('H', 'e', 'l', 'l', 'o')\n",
      "24. Tuple to string: Hello\n",
      "25. Mixed type tuple: (1, 'Hello', 3.14, True)\n",
      "26. Are tuples identical: True\n",
      "27. Sort tuple: (1, 2, 3)\n",
      "28. Int to str tuple: ('1', '2', '3')\n",
      "29. Str to int tuple: (1, 2, 3)\n",
      "30. Merge tuples: (1, 2, 3, 4)\n",
      "31. Flatten nested tuple: (1, 2, 3, 4)\n",
      "32. First 5 primes: (2, 3, 5, 7, 11)\n",
      "33. Is palindrome (1,2,1): True\n",
      "34. Squares of 1 to 5: (1, 4, 9, 16, 25)\n",
      "35. Filter out evens from (1,2,3,4): (1, 3)\n",
      "36. Multiply tuple by 2: (2, 4, 6)\n",
      "37. Random number tuple: (77, 71, 13, 35, 35)\n",
      "38. Is tuple sorted?: True\n",
      "39. Rotate left (1, 2, 3, 4) by 1: (2, 3, 4, 1)\n",
      "40. Rotate right (1, 2, 3, 4) by 1: (4, 1, 2, 3)\n",
      "41. First 5 Fibonacci: (0, 1, 1, 2, 3)\n",
      "43. Swap elements in (1, 2, 3, 4): (2, 1, 3, 4)\n",
      "44. Reverse tuple (1, 2, 3): (3, 2, 1)\n",
      "45. Powers of 2 (first 5): (1, 2, 4, 8, 16)\n",
      "46. Longest string in tuple: banana\n",
      "47. Shortest string in tuple: kiwi\n",
      "48. First 5 triangular numbers: (0, 1, 3, 6, 10)\n",
      "49. Contains subsequence: True\n",
      "50. Alternating tuple of length 6: (1, 0, 1, 0, 1, 0)\n"
     ]
    }
   ],
   "source": [
    "import random\n",
    "\n",
    "# 1. Create a tuple with integers from 1 to 5\n",
    "def create_tuple_1_to_5():\n",
    "    return tuple(range(1, 6))\n",
    "\n",
    "# 2. Access the third element of a tuple\n",
    "def access_third_element(tup):\n",
    "    return tup[2] if len(tup) >= 3 else None\n",
    "\n",
    "# 3. Find the length of a tuple without using the len() function\n",
    "def length_of_tuple(tup):\n",
    "    count = 0\n",
    "    for _ in tup:\n",
    "        count += 1\n",
    "    return count\n",
    "\n",
    "# 4. Count the occurrences of an element in a tuple\n",
    "def count_occurrences(tup, element):\n",
    "    return tup.count(element)\n",
    "\n",
    "# 5. Find the index of the first occurrence of an element in a tuple\n",
    "def index_of_first_occurrence(tup, element):\n",
    "    return tup.index(element) if element in tup else -1\n",
    "\n",
    "# 6. Check if an element exists in a tuple\n",
    "def exists_in_tuple(tup, element):\n",
    "    return element in tup\n",
    "\n",
    "# 7. Convert a tuple to a list\n",
    "def tuple_to_list(tup):\n",
    "    return list(tup)\n",
    "\n",
    "# 8. Convert a list to a tuple\n",
    "def list_to_tuple(lst):\n",
    "    return tuple(lst)\n",
    "\n",
    "# 9. Unpack the elements of a tuple into variables\n",
    "def unpack_tuple(tup):\n",
    "    return tup  # This can be used with unpacking in a real scenario\n",
    "\n",
    "# 10. Create a tuple of even numbers from 1 to 10\n",
    "def even_numbers_1_to_10():\n",
    "    return tuple(i for i in range(1, 11) if i % 2 == 0)\n",
    "\n",
    "# 11. Create a tuple of odd numbers from 1 to 10\n",
    "def odd_numbers_1_to_10():\n",
    "    return tuple(i for i in range(1, 11) if i % 2 != 0)\n",
    "\n",
    "# 12. Concatenate two tuples\n",
    "def concatenate_tuples(tup1, tup2):\n",
    "    return tup1 + tup2\n",
    "\n",
    "# 13. Repeat a tuple three times\n",
    "def repeat_tuple(tup):\n",
    "    return tup * 3\n",
    "\n",
    "# 14. Check if a tuple is empty\n",
    "def is_empty_tuple(tup):\n",
    "    return len(tup) == 0\n",
    "\n",
    "# 15. Create a nested tuple\n",
    "def create_nested_tuple():\n",
    "    return ((1, 2), (3, 4))\n",
    "\n",
    "# 16. Access the first element of a nested tuple\n",
    "def access_nested_first(tup):\n",
    "    return tup[0][0] if tup and tup[0] else None\n",
    "\n",
    "# 17. Create a tuple with a single element\n",
    "def single_element_tuple(element):\n",
    "    return (element,)\n",
    "\n",
    "# 18. Compare two tuples\n",
    "def compare_tuples(tup1, tup2):\n",
    "    return tup1 == tup2\n",
    "\n",
    "# 19. Delete a tuple (use del)\n",
    "def delete_tuple(tup):\n",
    "    del tup  # Will only work in a local scope\n",
    "\n",
    "# 20. Slice a tuple\n",
    "def slice_tuple(tup, start, end):\n",
    "    return tup[start:end]\n",
    "\n",
    "# 21. Find the maximum value in a tuple\n",
    "def max_in_tuple(tup):\n",
    "    return max(tup)\n",
    "\n",
    "# 22. Find the minimum value in a tuple\n",
    "def min_in_tuple(tup):\n",
    "    return min(tup)\n",
    "\n",
    "# 23. Convert a string to a tuple of characters\n",
    "def string_to_tuple(s):\n",
    "    return tuple(s)\n",
    "\n",
    "# 24. Convert a tuple of characters to a string\n",
    "def tuple_to_string(tup):\n",
    "    return ''.join(tup)\n",
    "\n",
    "# 25. Create a tuple from multiple data types\n",
    "def mixed_type_tuple():\n",
    "    return (1, 'Hello', 3.14, True)\n",
    "\n",
    "# 26. Check if two tuples are identical\n",
    "def are_tuples_identical(tup1, tup2):\n",
    "    return tup1 == tup2\n",
    "\n",
    "# 27. Sort the elements of a tuple\n",
    "def sort_tuple(tup):\n",
    "    return tuple(sorted(tup))\n",
    "\n",
    "# 28. Convert a tuple of integers to a tuple of strings\n",
    "def int_to_str_tuple(tup):\n",
    "    return tuple(str(x) for x in tup)\n",
    "\n",
    "# 29. Convert a tuple of strings to a tuple of integers\n",
    "def str_to_int_tuple(tup):\n",
    "    return tuple(int(x) for x in tup)\n",
    "\n",
    "# 30. Merge two tuples\n",
    "def merge_tuples(tup1, tup2):\n",
    "    return tup1 + tup2\n",
    "\n",
    "# 31. Flatten a nested tuple\n",
    "def flatten_nested_tuple(nested_tup):\n",
    "    return tuple(item for sublist in nested_tup for item in sublist)\n",
    "\n",
    "# 32. Create a tuple of the first 5 prime numbers\n",
    "def first_5_primes():\n",
    "    primes = [2, 3, 5, 7, 11]\n",
    "    return tuple(primes)\n",
    "\n",
    "# 33. Check if a tuple is a palindrome\n",
    "def is_palindrome(tup):\n",
    "    return tup == tup[::-1]\n",
    "\n",
    "# 34. Create a tuple of squares of numbers from 1 to 5\n",
    "def squares_1_to_5():\n",
    "    return tuple(i ** 2 for i in range(1, 6))\n",
    "\n",
    "# 35. Filter out all even numbers from a tuple\n",
    "def filter_out_even(tup):\n",
    "    return tuple(x for x in tup if x % 2 != 0)\n",
    "\n",
    "# 36. Multiply all elements in a tuple by 2\n",
    "def multiply_tuple_by_2(tup):\n",
    "    return tuple(x * 2 for x in tup)\n",
    "\n",
    "# 37. Create a tuple of random numbers\n",
    "def random_number_tuple(count, start=1, end=100):\n",
    "    return tuple(random.randint(start, end) for _ in range(count))\n",
    "\n",
    "# 38. Check if a tuple is sorted\n",
    "def is_sorted_tuple(tup):\n",
    "    return tup == tuple(sorted(tup))\n",
    "\n",
    "# 39. Rotate a tuple to the left by n positions\n",
    "def rotate_tuple_left(tup, n):\n",
    "    n = n % len(tup)  # To handle n larger than the tuple length\n",
    "    return tup[n:] + tup[:n]\n",
    "\n",
    "# 40. Rotate a tuple to the right by n positions\n",
    "def rotate_tuple_right(tup, n):\n",
    "    n = n % len(tup)\n",
    "    return tup[-n:] + tup[:-n]\n",
    "\n",
    "# 41. Create a tuple of the first 5 Fibonacci numbers\n",
    "def first_5_fibonacci():\n",
    "    fib = [0, 1]\n",
    "    for _ in range(2, 5):\n",
    "        fib.append(fib[-1] + fib[-2])\n",
    "    return tuple(fib)\n",
    "\n",
    "# 42. Create a tuple from user input\n",
    "def tuple_from_input():\n",
    "    input_values = input(\"Enter values separated by spaces: \")\n",
    "    return tuple(input_values.split())\n",
    "\n",
    "# 43. Swap two elements in a tuple\n",
    "def swap_tuple_elements(tup, index1, index2):\n",
    "    lst = list(tup)\n",
    "    lst[index1], lst[index2] = lst[index2], lst[index1]\n",
    "    return tuple(lst)\n",
    "\n",
    "# 44. Reverse the elements of a tuple\n",
    "def reverse_tuple(tup):\n",
    "    return tup[::-1]\n",
    "\n",
    "# 45. Create a tuple of the first n powers of 2\n",
    "def powers_of_2(n):\n",
    "    return tuple(2 ** i for i in range(n))\n",
    "\n",
    "# 46. Find the longest string in a tuple of strings\n",
    "def longest_string_in_tuple(tup):\n",
    "    return max(tup, key=len)\n",
    "\n",
    "# 47. Find the shortest string in a tuple of strings\n",
    "def shortest_string_in_tuple(tup):\n",
    "    return min(tup, key=len)\n",
    "\n",
    "# 48. Create a tuple of the first n triangular numbers\n",
    "def triangular_numbers(n):\n",
    "    return tuple(i * (i + 1) // 2 for i in range(n))\n",
    "\n",
    "# 49. Check if a tuple contains another tuple as a subsequence\n",
    "def contains_subsequence(tup, sub_tup):\n",
    "    sub_len = len(sub_tup)\n",
    "    return any(tup[i:i + sub_len] == sub_tup for i in range(len(tup) - sub_len + 1))\n",
    "\n",
    "# 50. Create a tuple of alternating 1s and 0s of length n\n",
    "def alternating_tuple(n):\n",
    "    return tuple(1 if i % 2 == 0 else 0 for i in range(n))\n",
    "\n",
    "# Sample usage\n",
    "if __name__ == \"__main__\":\n",
    "    print(\"1. Tuple from 1 to 5:\", create_tuple_1_to_5())\n",
    "    tup = create_tuple_1_to_5()\n",
    "    print(\"2. Third element:\", access_third_element(tup))\n",
    "    print(\"3. Length of tuple:\", length_of_tuple(tup))\n",
    "    print(\"4. Count occurrences of 2:\", count_occurrences(tup, 2))\n",
    "    print(\"5. Index of first occurrence of 2:\", index_of_first_occurrence(tup, 2))\n",
    "    print(\"6. Exists 3 in tuple:\", exists_in_tuple(tup, 3))\n",
    "    print(\"7. Tuple to list:\", tuple_to_list(tup))\n",
    "    print(\"8. List to tuple:\", list_to_tuple([1, 2, 3]))\n",
    "    print(\"9. Unpack tuple:\", unpack_tuple(tup))\n",
    "    print(\"10. Even numbers 1 to 10:\", even_numbers_1_to_10())\n",
    "    print(\"11. Odd numbers 1 to 10:\", odd_numbers_1_to_10())\n",
    "    print(\"12. Concatenate (1, 2) and (3, 4):\", concatenate_tuples((1, 2), (3, 4)))\n",
    "    print(\"13. Repeat (1, 2):\", repeat_tuple((1, 2)))\n",
    "    print(\"14. Is tuple empty?:\", is_empty_tuple(()))\n",
    "    print(\"15. Nested tuple:\", create_nested_tuple())\n",
    "    print(\"16. First element of nested tuple:\", access_nested_first(create_nested_tuple()))\n",
    "    print(\"17. Single element tuple:\", single_element_tuple(42))\n",
    "    print(\"18. Compare tuples (1,2) and (1,2):\", compare_tuples((1, 2), (1, 2)))\n",
    "    print(\"19. Deleting tuple is not shown in sample usage.\")\n",
    "    print(\"20. Slice tuple:\", slice_tuple(tup, 1, 4))\n",
    "    print(\"21. Max in tuple:\", max_in_tuple(tup))\n",
    "    print(\"22. Min in tuple:\", min_in_tuple(tup))\n",
    "    print(\"23. String to tuple:\", string_to_tuple(\"Hello\"))\n",
    "    print(\"24. Tuple to string:\", tuple_to_string(('H', 'e', 'l', 'l', 'o')))\n",
    "    print(\"25. Mixed type tuple:\", mixed_type_tuple())\n",
    "    print(\"26. Are tuples identical:\", are_tuples_identical((1, 2), (1, 2)))\n",
    "    print(\"27. Sort tuple:\", sort_tuple((3, 1, 2)))\n",
    "    print(\"28. Int to str tuple:\", int_to_str_tuple((1, 2, 3)))\n",
    "    print(\"29. Str to int tuple:\", str_to_int_tuple((\"1\", \"2\", \"3\")))\n",
    "    print(\"30. Merge tuples:\", merge_tuples((1, 2), (3, 4)))\n",
    "    print(\"31. Flatten nested tuple:\", flatten_nested_tuple(((1, 2), (3, 4))))\n",
    "    print(\"32. First 5 primes:\", first_5_primes())\n",
    "    print(\"33. Is palindrome (1,2,1):\", is_palindrome((1, 2, 1)))\n",
    "    print(\"34. Squares of 1 to 5:\", squares_1_to_5())\n",
    "    print(\"35. Filter out evens from (1,2,3,4):\", filter_out_even((1, 2, 3, 4)))\n",
    "    print(\"36. Multiply tuple by 2:\", multiply_tuple_by_2((1, 2, 3)))\n",
    "    print(\"37. Random number tuple:\", random_number_tuple(5))\n",
    "    print(\"38. Is tuple sorted?:\", is_sorted_tuple((1, 2, 3)))\n",
    "    print(\"39. Rotate left (1, 2, 3, 4) by 1:\", rotate_tuple_left((1, 2, 3, 4), 1))\n",
    "    print(\"40. Rotate right (1, 2, 3, 4) by 1:\", rotate_tuple_right((1, 2, 3, 4), 1))\n",
    "    print(\"41. First 5 Fibonacci:\", first_5_fibonacci())\n",
    "    # 42. User input is interactive and won't run here.\n",
    "    print(\"43. Swap elements in (1, 2, 3, 4):\", swap_tuple_elements((1, 2, 3, 4), 0, 1))\n",
    "    print(\"44. Reverse tuple (1, 2, 3):\", reverse_tuple((1, 2, 3)))\n",
    "    print(\"45. Powers of 2 (first 5):\", powers_of_2(5))\n",
    "    print(\"46. Longest string in tuple:\", longest_string_in_tuple((\"apple\", \"banana\", \"kiwi\")))\n",
    "    print(\"47. Shortest string in tuple:\", shortest_string_in_tuple((\"apple\", \"banana\", \"kiwi\")))\n",
    "    print(\"48. First 5 triangular numbers:\", triangular_numbers(5))\n",
    "    print(\"49. Contains subsequence:\", contains_subsequence((1, 2, 3, 4), (2, 3)))\n",
    "    print(\"50. Alternating tuple of length 6:\", alternating_tuple(6))\n"
   ]
  },
  {
   "cell_type": "code",
   "execution_count": null,
   "id": "dd3e42a4-c62f-4df5-b233-ecf443c1c117",
   "metadata": {},
   "outputs": [],
   "source": [
    "''' Set Based Practice Problem :'''"
   ]
  },
  {
   "cell_type": "code",
   "execution_count": 4,
   "id": "2780779a-fb87-4b85-a10b-37a2b1b8e2c2",
   "metadata": {},
   "outputs": [
    {
     "name": "stdout",
     "output_type": "stream",
     "text": [
      "1. Tuple from 1 to 5: (1, 2, 3, 4, 5)\n",
      "2. Third element: 3\n",
      "3. Length of tuple: 5\n",
      "4. Count occurrences of 2: 1\n",
      "5. Index of first occurrence of 2: 1\n",
      "6. Exists 3 in tuple: True\n",
      "7. Tuple to list: [1, 2, 3, 4, 5]\n",
      "8. List to tuple: (1, 2, 3)\n",
      "9. Unpack tuple: (1, 2, 3, 4, 5)\n",
      "10. Even numbers 1 to 10: (2, 4, 6, 8, 10)\n",
      "11. Odd numbers 1 to 10: (1, 3, 5, 7, 9)\n",
      "12. Concatenate (1, 2) and (3, 4): (1, 2, 3, 4)\n",
      "13. Repeat (1, 2): (1, 2, 1, 2, 1, 2)\n",
      "14. Is tuple empty?: True\n",
      "15. Nested tuple: ((1, 2), (3, 4))\n",
      "16. First element of nested tuple: 1\n",
      "17. Single element tuple: (42,)\n",
      "18. Compare tuples (1,2) and (1,2): True\n",
      "19. Deleting tuple is not shown in sample usage.\n",
      "20. Slice tuple: (2, 3, 4)\n",
      "21. Max in tuple: 5\n",
      "22. Min in tuple: 1\n",
      "23. String to tuple: ('H', 'e', 'l', 'l', 'o')\n",
      "24. Tuple to string: Hello\n",
      "25. Mixed type tuple: (1, 'Hello', 3.14, True)\n",
      "26. Are tuples identical: True\n",
      "27. Sort tuple: (1, 2, 3)\n",
      "28. Int to str tuple: ('1', '2', '3')\n",
      "29. Str to int tuple: (1, 2, 3)\n",
      "30. Merge tuples: (1, 2, 3, 4)\n",
      "31. Flatten nested tuple: (1, 2, 3, 4)\n",
      "32. First 5 primes: (2, 3, 5, 7, 11)\n",
      "33. Is palindrome (1,2,1): True\n",
      "34. Squares of 1 to 5: (1, 4, 9, 16, 25)\n",
      "35. Filter out evens from (1,2,3,4): (1, 3)\n",
      "36. Multiply tuple by 2: (2, 4, 6)\n",
      "37. Random number tuple: (57, 28, 47, 96, 33)\n",
      "38. Is tuple sorted?: True\n",
      "39. Rotate left (1, 2, 3, 4) by 1: (2, 3, 4, 1)\n",
      "40. Rotate right (1, 2, 3, 4) by 1: (4, 1, 2, 3)\n",
      "41. First 5 Fibonacci: (0, 1, 1, 2, 3)\n",
      "43. Swap elements in (1, 2, 3, 4): (2, 1, 3, 4)\n",
      "44. Reverse tuple (1, 2, 3): (3, 2, 1)\n",
      "45. Powers of 2 (first 5): (1, 2, 4, 8, 16)\n",
      "46. Longest string in tuple: banana\n",
      "47. Shortest string in tuple: kiwi\n",
      "48. First 5 triangular numbers: (0, 1, 3, 6, 10)\n",
      "49. Contains subsequence: True\n",
      "50. Alternating tuple of length 6: (1, 0, 1, 0, 1, 0)\n"
     ]
    }
   ],
   "source": [
    "import random\n",
    "\n",
    "# 1. Create a tuple with integers from 1 to 5\n",
    "def create_tuple_1_to_5():\n",
    "    return tuple(range(1, 6))\n",
    "\n",
    "# 2. Access the third element of a tuple\n",
    "def access_third_element(tup):\n",
    "    return tup[2] if len(tup) >= 3 else None\n",
    "\n",
    "# 3. Find the length of a tuple without using the len() function\n",
    "def length_of_tuple(tup):\n",
    "    count = 0\n",
    "    for _ in tup:\n",
    "        count += 1\n",
    "    return count\n",
    "\n",
    "# 4. Count the occurrences of an element in a tuple\n",
    "def count_occurrences(tup, element):\n",
    "    return tup.count(element)\n",
    "\n",
    "# 5. Find the index of the first occurrence of an element in a tuple\n",
    "def index_of_first_occurrence(tup, element):\n",
    "    return tup.index(element) if element in tup else -1\n",
    "\n",
    "# 6. Check if an element exists in a tuple\n",
    "def exists_in_tuple(tup, element):\n",
    "    return element in tup\n",
    "\n",
    "# 7. Convert a tuple to a list\n",
    "def tuple_to_list(tup):\n",
    "    return list(tup)\n",
    "\n",
    "# 8. Convert a list to a tuple\n",
    "def list_to_tuple(lst):\n",
    "    return tuple(lst)\n",
    "\n",
    "# 9. Unpack the elements of a tuple into variables\n",
    "def unpack_tuple(tup):\n",
    "    return tup  # This can be used with unpacking in a real scenario\n",
    "\n",
    "# 10. Create a tuple of even numbers from 1 to 10\n",
    "def even_numbers_1_to_10():\n",
    "    return tuple(i for i in range(1, 11) if i % 2 == 0)\n",
    "\n",
    "# 11. Create a tuple of odd numbers from 1 to 10\n",
    "def odd_numbers_1_to_10():\n",
    "    return tuple(i for i in range(1, 11) if i % 2 != 0)\n",
    "\n",
    "# 12. Concatenate two tuples\n",
    "def concatenate_tuples(tup1, tup2):\n",
    "    return tup1 + tup2\n",
    "\n",
    "# 13. Repeat a tuple three times\n",
    "def repeat_tuple(tup):\n",
    "    return tup * 3\n",
    "\n",
    "# 14. Check if a tuple is empty\n",
    "def is_empty_tuple(tup):\n",
    "    return len(tup) == 0\n",
    "\n",
    "# 15. Create a nested tuple\n",
    "def create_nested_tuple():\n",
    "    return ((1, 2), (3, 4))\n",
    "\n",
    "# 16. Access the first element of a nested tuple\n",
    "def access_nested_first(tup):\n",
    "    return tup[0][0] if tup and tup[0] else None\n",
    "\n",
    "# 17. Create a tuple with a single element\n",
    "def single_element_tuple(element):\n",
    "    return (element,)\n",
    "\n",
    "# 18. Compare two tuples\n",
    "def compare_tuples(tup1, tup2):\n",
    "    return tup1 == tup2\n",
    "\n",
    "# 19. Delete a tuple (use del)\n",
    "def delete_tuple(tup):\n",
    "    del tup  # Will only work in a local scope\n",
    "\n",
    "# 20. Slice a tuple\n",
    "def slice_tuple(tup, start, end):\n",
    "    return tup[start:end]\n",
    "\n",
    "# 21. Find the maximum value in a tuple\n",
    "def max_in_tuple(tup):\n",
    "    return max(tup)\n",
    "\n",
    "# 22. Find the minimum value in a tuple\n",
    "def min_in_tuple(tup):\n",
    "    return min(tup)\n",
    "\n",
    "# 23. Convert a string to a tuple of characters\n",
    "def string_to_tuple(s):\n",
    "    return tuple(s)\n",
    "\n",
    "# 24. Convert a tuple of characters to a string\n",
    "def tuple_to_string(tup):\n",
    "    return ''.join(tup)\n",
    "\n",
    "# 25. Create a tuple from multiple data types\n",
    "def mixed_type_tuple():\n",
    "    return (1, 'Hello', 3.14, True)\n",
    "\n",
    "# 26. Check if two tuples are identical\n",
    "def are_tuples_identical(tup1, tup2):\n",
    "    return tup1 == tup2\n",
    "\n",
    "# 27. Sort the elements of a tuple\n",
    "def sort_tuple(tup):\n",
    "    return tuple(sorted(tup))\n",
    "\n",
    "# 28. Convert a tuple of integers to a tuple of strings\n",
    "def int_to_str_tuple(tup):\n",
    "    return tuple(str(x) for x in tup)\n",
    "\n",
    "# 29. Convert a tuple of strings to a tuple of integers\n",
    "def str_to_int_tuple(tup):\n",
    "    return tuple(int(x) for x in tup)\n",
    "\n",
    "# 30. Merge two tuples\n",
    "def merge_tuples(tup1, tup2):\n",
    "    return tup1 + tup2\n",
    "\n",
    "# 31. Flatten a nested tuple\n",
    "def flatten_nested_tuple(nested_tup):\n",
    "    return tuple(item for sublist in nested_tup for item in sublist)\n",
    "\n",
    "# 32. Create a tuple of the first 5 prime numbers\n",
    "def first_5_primes():\n",
    "    primes = [2, 3, 5, 7, 11]\n",
    "    return tuple(primes)\n",
    "\n",
    "# 33. Check if a tuple is a palindrome\n",
    "def is_palindrome(tup):\n",
    "    return tup == tup[::-1]\n",
    "\n",
    "# 34. Create a tuple of squares of numbers from 1 to 5\n",
    "def squares_1_to_5():\n",
    "    return tuple(i ** 2 for i in range(1, 6))\n",
    "\n",
    "# 35. Filter out all even numbers from a tuple\n",
    "def filter_out_even(tup):\n",
    "    return tuple(x for x in tup if x % 2 != 0)\n",
    "\n",
    "# 36. Multiply all elements in a tuple by 2\n",
    "def multiply_tuple_by_2(tup):\n",
    "    return tuple(x * 2 for x in tup)\n",
    "\n",
    "# 37. Create a tuple of random numbers\n",
    "def random_number_tuple(count, start=1, end=100):\n",
    "    return tuple(random.randint(start, end) for _ in range(count))\n",
    "\n",
    "# 38. Check if a tuple is sorted\n",
    "def is_sorted_tuple(tup):\n",
    "    return tup == tuple(sorted(tup))\n",
    "\n",
    "# 39. Rotate a tuple to the left by n positions\n",
    "def rotate_tuple_left(tup, n):\n",
    "    n = n % len(tup)  # To handle n larger than the tuple length\n",
    "    return tup[n:] + tup[:n]\n",
    "\n",
    "# 40. Rotate a tuple to the right by n positions\n",
    "def rotate_tuple_right(tup, n):\n",
    "    n = n % len(tup)\n",
    "    return tup[-n:] + tup[:-n]\n",
    "\n",
    "# 41. Create a tuple of the first 5 Fibonacci numbers\n",
    "def first_5_fibonacci():\n",
    "    fib = [0, 1]\n",
    "    for _ in range(2, 5):\n",
    "        fib.append(fib[-1] + fib[-2])\n",
    "    return tuple(fib)\n",
    "\n",
    "# 42. Create a tuple from user input\n",
    "def tuple_from_input():\n",
    "    input_values = input(\"Enter values separated by spaces: \")\n",
    "    return tuple(input_values.split())\n",
    "\n",
    "# 43. Swap two elements in a tuple\n",
    "def swap_tuple_elements(tup, index1, index2):\n",
    "    lst = list(tup)\n",
    "    lst[index1], lst[index2] = lst[index2], lst[index1]\n",
    "    return tuple(lst)\n",
    "\n",
    "# 44. Reverse the elements of a tuple\n",
    "def reverse_tuple(tup):\n",
    "    return tup[::-1]\n",
    "\n",
    "# 45. Create a tuple of the first n powers of 2\n",
    "def powers_of_2(n):\n",
    "    return tuple(2 ** i for i in range(n))\n",
    "\n",
    "# 46. Find the longest string in a tuple of strings\n",
    "def longest_string_in_tuple(tup):\n",
    "    return max(tup, key=len)\n",
    "\n",
    "# 47. Find the shortest string in a tuple of strings\n",
    "def shortest_string_in_tuple(tup):\n",
    "    return min(tup, key=len)\n",
    "\n",
    "# 48. Create a tuple of the first n triangular numbers\n",
    "def triangular_numbers(n):\n",
    "    return tuple(i * (i + 1) // 2 for i in range(n))\n",
    "\n",
    "# 49. Check if a tuple contains another tuple as a subsequence\n",
    "def contains_subsequence(tup, sub_tup):\n",
    "    sub_len = len(sub_tup)\n",
    "    return any(tup[i:i + sub_len] == sub_tup for i in range(len(tup) - sub_len + 1))\n",
    "\n",
    "# 50. Create a tuple of alternating 1s and 0s of length n\n",
    "def alternating_tuple(n):\n",
    "    return tuple(1 if i % 2 == 0 else 0 for i in range(n))\n",
    "\n",
    "# Sample usage\n",
    "if __name__ == \"__main__\":\n",
    "    print(\"1. Tuple from 1 to 5:\", create_tuple_1_to_5())\n",
    "    tup = create_tuple_1_to_5()\n",
    "    print(\"2. Third element:\", access_third_element(tup))\n",
    "    print(\"3. Length of tuple:\", length_of_tuple(tup))\n",
    "    print(\"4. Count occurrences of 2:\", count_occurrences(tup, 2))\n",
    "    print(\"5. Index of first occurrence of 2:\", index_of_first_occurrence(tup, 2))\n",
    "    print(\"6. Exists 3 in tuple:\", exists_in_tuple(tup, 3))\n",
    "    print(\"7. Tuple to list:\", tuple_to_list(tup))\n",
    "    print(\"8. List to tuple:\", list_to_tuple([1, 2, 3]))\n",
    "    print(\"9. Unpack tuple:\", unpack_tuple(tup))\n",
    "    print(\"10. Even numbers 1 to 10:\", even_numbers_1_to_10())\n",
    "    print(\"11. Odd numbers 1 to 10:\", odd_numbers_1_to_10())\n",
    "    print(\"12. Concatenate (1, 2) and (3, 4):\", concatenate_tuples((1, 2), (3, 4)))\n",
    "    print(\"13. Repeat (1, 2):\", repeat_tuple((1, 2)))\n",
    "    print(\"14. Is tuple empty?:\", is_empty_tuple(()))\n",
    "    print(\"15. Nested tuple:\", create_nested_tuple())\n",
    "    print(\"16. First element of nested tuple:\", access_nested_first(create_nested_tuple()))\n",
    "    print(\"17. Single element tuple:\", single_element_tuple(42))\n",
    "    print(\"18. Compare tuples (1,2) and (1,2):\", compare_tuples((1, 2), (1, 2)))\n",
    "    print(\"19. Deleting tuple is not shown in sample usage.\")\n",
    "    print(\"20. Slice tuple:\", slice_tuple(tup, 1, 4))\n",
    "    print(\"21. Max in tuple:\", max_in_tuple(tup))\n",
    "    print(\"22. Min in tuple:\", min_in_tuple(tup))\n",
    "    print(\"23. String to tuple:\", string_to_tuple(\"Hello\"))\n",
    "    print(\"24. Tuple to string:\", tuple_to_string(('H', 'e', 'l', 'l', 'o')))\n",
    "    print(\"25. Mixed type tuple:\", mixed_type_tuple())\n",
    "    print(\"26. Are tuples identical:\", are_tuples_identical((1, 2), (1, 2)))\n",
    "    print(\"27. Sort tuple:\", sort_tuple((3, 1, 2)))\n",
    "    print(\"28. Int to str tuple:\", int_to_str_tuple((1, 2, 3)))\n",
    "    print(\"29. Str to int tuple:\", str_to_int_tuple((\"1\", \"2\", \"3\")))\n",
    "    print(\"30. Merge tuples:\", merge_tuples((1, 2), (3, 4)))\n",
    "    print(\"31. Flatten nested tuple:\", flatten_nested_tuple(((1, 2), (3, 4))))\n",
    "    print(\"32. First 5 primes:\", first_5_primes())\n",
    "    print(\"33. Is palindrome (1,2,1):\", is_palindrome((1, 2, 1)))\n",
    "    print(\"34. Squares of 1 to 5:\", squares_1_to_5())\n",
    "    print(\"35. Filter out evens from (1,2,3,4):\", filter_out_even((1, 2, 3, 4)))\n",
    "    print(\"36. Multiply tuple by 2:\", multiply_tuple_by_2((1, 2, 3)))\n",
    "    print(\"37. Random number tuple:\", random_number_tuple(5))\n",
    "    print(\"38. Is tuple sorted?:\", is_sorted_tuple((1, 2, 3)))\n",
    "    print(\"39. Rotate left (1, 2, 3, 4) by 1:\", rotate_tuple_left((1, 2, 3, 4), 1))\n",
    "    print(\"40. Rotate right (1, 2, 3, 4) by 1:\", rotate_tuple_right((1, 2, 3, 4), 1))\n",
    "    print(\"41. First 5 Fibonacci:\", first_5_fibonacci())\n",
    "    # 42. User input is interactive and won't run here.\n",
    "    print(\"43. Swap elements in (1, 2, 3, 4):\", swap_tuple_elements((1, 2, 3, 4), 0, 1))\n",
    "    print(\"44. Reverse tuple (1, 2, 3):\", reverse_tuple((1, 2, 3)))\n",
    "    print(\"45. Powers of 2 (first 5):\", powers_of_2(5))\n",
    "    print(\"46. Longest string in tuple:\", longest_string_in_tuple((\"apple\", \"banana\", \"kiwi\")))\n",
    "    print(\"47. Shortest string in tuple:\", shortest_string_in_tuple((\"apple\", \"banana\", \"kiwi\")))\n",
    "    print(\"48. First 5 triangular numbers:\", triangular_numbers(5))\n",
    "    print(\"49. Contains subsequence:\", contains_subsequence((1, 2, 3, 4), (2, 3)))\n",
    "    print(\"50. Alternating tuple of length 6:\", alternating_tuple(6))\n"
   ]
  }
 ],
 "metadata": {
  "kernelspec": {
   "display_name": "Python 3 (ipykernel)",
   "language": "python",
   "name": "python3"
  },
  "language_info": {
   "codemirror_mode": {
    "name": "ipython",
    "version": 3
   },
   "file_extension": ".py",
   "mimetype": "text/x-python",
   "name": "python",
   "nbconvert_exporter": "python",
   "pygments_lexer": "ipython3",
   "version": "3.12.4"
  }
 },
 "nbformat": 4,
 "nbformat_minor": 5
}
