{
 "cells": [
  {
   "cell_type": "code",
   "execution_count": null,
   "id": "9d8474d5-df01-4cae-8722-0d764ee0080f",
   "metadata": {},
   "outputs": [],
   "source": [
    "''' Basic Level:'''"
   ]
  },
  {
   "cell_type": "code",
   "execution_count": 1,
   "id": "a5f667e5-f170-4713-926b-4605c858d066",
   "metadata": {},
   "outputs": [
    {
     "name": "stdout",
     "output_type": "stream",
     "text": [
      "1\n",
      "2\n",
      "3\n",
      "4\n",
      "5\n",
      "6\n",
      "7\n",
      "8\n",
      "9\n",
      "10\n"
     ]
    }
   ],
   "source": [
    "# 1. Write a Python program to print the numbers from 1 to 10 using a `for` loop.\n",
    "\n",
    "\n",
    "for i in range(1, 11):\n",
    "    print(i)\n"
   ]
  },
  {
   "cell_type": "code",
   "execution_count": 3,
   "id": "3f132c25-d6e4-45a1-827d-7b4275e02dc7",
   "metadata": {},
   "outputs": [
    {
     "name": "stdout",
     "output_type": "stream",
     "text": [
      "15\n"
     ]
    }
   ],
   "source": [
    "# 2. Create a program that calculates the sum of all numbers in a list using a `for` loop.\n",
    "\n",
    "# List of numbers\n",
    "numbers = [1, 2, 3, 4, 5]\n",
    "# Variable to store the sum\n",
    "total = 0\n",
    "\n",
    "# Calculate the sum using a for loop\n",
    "for num in numbers:\n",
    "    total += num\n",
    "\n",
    "# Print the result\n",
    "print(\"The sum of the numbers is:\", total)\n"
   ]
  },
  {
   "cell_type": "code",
   "execution_count": 2,
   "id": "480ae810-0840-49bc-be88-a6d432f8181c",
   "metadata": {},
   "outputs": [
    {
     "name": "stdout",
     "output_type": "stream",
     "text": [
      "!dlroW ,olleH\n"
     ]
    }
   ],
   "source": [
    "# 3. Write a program to print the characters of a string in reverse order using a `for` loop.\n",
    "\n",
    "# Input string\n",
    "text = \"Hello, World!\"\n",
    "\n",
    "# Loop through the string in reverse order\n",
    "for char in reversed(text):\n",
    "    print(char, end=\"\")  # Use end=\"\" to keep the characters on the same line\n",
    "\n",
    "# Add a newline after the loop\n",
    "print()"
   ]
  },
  {
   "cell_type": "code",
   "execution_count": 4,
   "id": "3dbfb97c-c556-48a9-99e5-b6c6e4da3b14",
   "metadata": {},
   "outputs": [
    {
     "name": "stdin",
     "output_type": "stream",
     "text": [
      "Enter a number to find its factorial:  6\n"
     ]
    },
    {
     "name": "stdout",
     "output_type": "stream",
     "text": [
      "The factorial of 6 is 720.\n"
     ]
    }
   ],
   "source": [
    "# 4. Develop a program that finds the factorial of a given number using a `for` loop.\n",
    "\n",
    "\n",
    "# Input: Number to find the factorial of\n",
    "num = int(input(\"Enter a number to find its factorial: \"))\n",
    "\n",
    "# Initialize the factorial to 1 (as 0! is 1)\n",
    "factorial = 1\n",
    "\n",
    "# Calculate factorial using a for loop\n",
    "for i in range(1, num + 1):\n",
    "    factorial *= i\n",
    "\n",
    "# Output the result\n",
    "print(f\"The factorial of {num} is {factorial}.\")"
   ]
  },
  {
   "cell_type": "code",
   "execution_count": 6,
   "id": "1e334934-84f0-40f0-a97c-3d2943527a31",
   "metadata": {},
   "outputs": [
    {
     "name": "stdin",
     "output_type": "stream",
     "text": [
      "Enter a number to display its multiplication table:  6\n"
     ]
    },
    {
     "name": "stdout",
     "output_type": "stream",
     "text": [
      "Multiplication table for 6:\n",
      "6 x 1 = 6\n",
      "6 x 2 = 12\n",
      "6 x 3 = 18\n",
      "6 x 4 = 24\n",
      "6 x 5 = 30\n",
      "6 x 6 = 36\n",
      "6 x 7 = 42\n",
      "6 x 8 = 48\n",
      "6 x 9 = 54\n",
      "6 x 10 = 60\n"
     ]
    }
   ],
   "source": [
    "# 5. Create a program to print the multiplication table of a given number using a `for` loop.\n",
    "\n",
    "# Input: Number to generate the multiplication table for\n",
    "number = int(input(\"Enter a number to display its multiplication table: \"))\n",
    "\n",
    "# Print the multiplication table\n",
    "print(f\"Multiplication table for {number}:\")\n",
    "for i in range(1, 11):\n",
    "    print(f\"{number} x {i} = {number * i}\")"
   ]
  },
  {
   "cell_type": "code",
   "execution_count": 8,
   "id": "fd0b521f-da27-4294-9c71-4183b07a5b2a",
   "metadata": {},
   "outputs": [
    {
     "name": "stdout",
     "output_type": "stream",
     "text": [
      "Number of even numbers: 5\n",
      "Number of odd numbers: 5\n"
     ]
    }
   ],
   "source": [
    "# 6. Write a program that counts the number of even and odd numbers in a list using a `for` loop.\n",
    "\n",
    "# List of numbers\n",
    "numbers = [1, 2, 3, 4, 5, 6, 7, 8, 9, 10]\n",
    "\n",
    "# Counters for even and odd numbers\n",
    "even_count = 0\n",
    "odd_count = 0\n",
    "\n",
    "# Loop through the list to count even and odd numbers\n",
    "for number in numbers:\n",
    "    if number % 2 == 0:\n",
    "        even_count += 1\n",
    "    else:\n",
    "        odd_count += 1\n",
    "\n",
    "# Output the results\n",
    "print(f\"Number of even numbers: {even_count}\")\n",
    "print(f\"Number of odd numbers: {odd_count}\")"
   ]
  },
  {
   "cell_type": "code",
   "execution_count": 12,
   "id": "5a19f619-c37c-4ae7-b3c4-f5a07fce180e",
   "metadata": {},
   "outputs": [
    {
     "name": "stdout",
     "output_type": "stream",
     "text": [
      "The square of 1 is 1\n",
      "The square of 2 is 4\n",
      "The square of 3 is 9\n",
      "The square of 4 is 16\n",
      "The square of 5 is 25\n"
     ]
    }
   ],
   "source": [
    "# 7. Develop a program that prints the squares of numbers from 1 to 5 using a `for` loop.\n",
    "\n",
    "# Loop through numbers 1 to 5\n",
    "for number in range(1, 6):\n",
    "    square = number ** 2\n",
    "    print(f\"The square of {number} is {square}\")"
   ]
  },
  {
   "cell_type": "code",
   "execution_count": 14,
   "id": "7851a7dc-634e-4818-b902-09d9fb9f8f1b",
   "metadata": {},
   "outputs": [
    {
     "name": "stdin",
     "output_type": "stream",
     "text": [
      "Enter a string:  pwskills\n"
     ]
    },
    {
     "name": "stdout",
     "output_type": "stream",
     "text": [
      "The length of the string is: 8\n"
     ]
    }
   ],
   "source": [
    "# 8. Create a program to find the length of a string without using the `len()` function.\n",
    "\n",
    "def calculate_length(string):\n",
    "    count = 0\n",
    "    for _ in string:  # Loop through each character in the string\n",
    "        count += 1\n",
    "    return count\n",
    "\n",
    "# Input: User provides a string\n",
    "user_string = input(\"Enter a string: \")\n",
    "\n",
    "# Calculate the length of the string\n",
    "length = calculate_length(user_string)\n",
    "\n",
    "# Display the result\n",
    "print(f\"The length of the string is: {length}\")\n"
   ]
  },
  {
   "cell_type": "code",
   "execution_count": 16,
   "id": "cca21a47-f4f9-4be2-bf73-19a2011c3f65",
   "metadata": {},
   "outputs": [
    {
     "name": "stdin",
     "output_type": "stream",
     "text": [
      "Enter numbers separated by spaces:  1 2 3 4 5 6 8 7 9\n"
     ]
    },
    {
     "name": "stdout",
     "output_type": "stream",
     "text": [
      "The average of the numbers is: 5.0\n"
     ]
    }
   ],
   "source": [
    "# 9. Write a program that calculates the average of a list of numbers using a `for` loop.\n",
    "\n",
    "def calculate_average(numbers):\n",
    "    total = 0\n",
    "    count = 0\n",
    "    for num in numbers:  # Iterate through the list\n",
    "        total += num  # Add each number to the total\n",
    "        count += 1    # Increment the count of numbers\n",
    "    return total / count if count != 0 else 0  # Return average, avoid division by zero\n",
    "\n",
    "# Input: User provides a list of numbers\n",
    "numbers = list(map(float, input(\"Enter numbers separated by spaces: \").split()))\n",
    "\n",
    "# Calculate the average\n",
    "average = calculate_average(numbers)\n",
    "\n",
    "# Display the result\n",
    "print(f\"The average of the numbers is: {average}\")\n",
    "\n"
   ]
  },
  {
   "cell_type": "code",
   "execution_count": 20,
   "id": "3a2dfc6c-5120-459a-b4be-4f82d890c22e",
   "metadata": {},
   "outputs": [
    {
     "name": "stdin",
     "output_type": "stream",
     "text": [
      "Enter the number of Fibonacci numbers to generate:  8\n"
     ]
    },
    {
     "name": "stdout",
     "output_type": "stream",
     "text": [
      "The first 8 Fibonacci numbers are: [0, 1, 1, 2, 3, 5, 8, 13]\n"
     ]
    }
   ],
   "source": [
    "# 10. Develop a program that prints the first `n` Fibonacci numbers using a `for` loop.\n",
    "\n",
    "def generate_fibonacci(n):\n",
    "    fib_sequence = []\n",
    "    a, b = 0, 1  # Starting values for the Fibonacci sequence\n",
    "    for _ in range(n):\n",
    "        fib_sequence.append(a)  # Add the current Fibonacci number to the list\n",
    "        a, b = b, a + b         # Update to the next Fibonacci numbers\n",
    "    return fib_sequence\n",
    "\n",
    "# Input: User provides the value of n\n",
    "n = int(input(\"Enter the number of Fibonacci numbers to generate: \"))\n",
    "\n",
    "# Generate and print the Fibonacci sequence\n",
    "if n <= 0:\n",
    "    print(\"Please enter a positive integer.\")\n",
    "else:\n",
    "    fibonacci_numbers = generate_fibonacci(n)\n",
    "    print(f\"The first {n} Fibonacci numbers are: {fibonacci_numbers}\")\n"
   ]
  },
  {
   "cell_type": "code",
   "execution_count": 23,
   "id": "fc4c7074-3c17-474f-87a7-67f732f1bc94",
   "metadata": {},
   "outputs": [
    {
     "data": {
      "text/plain": [
       "' Intermediate Level:'"
      ]
     },
     "execution_count": 23,
     "metadata": {},
     "output_type": "execute_result"
    }
   ],
   "source": [
    "''' Intermediate Level:''' "
   ]
  },
  {
   "cell_type": "code",
   "execution_count": 22,
   "id": "45c1485e-615b-4d1c-b22a-701ac9fde52f",
   "metadata": {},
   "outputs": [
    {
     "name": "stdin",
     "output_type": "stream",
     "text": [
      "Enter elements of the list separated by spaces:  9 5 6 4 7 8 9\n"
     ]
    },
    {
     "name": "stdout",
     "output_type": "stream",
     "text": [
      "The list contains duplicates.\n"
     ]
    }
   ],
   "source": [
    "# 11. Write a program to check if a given list contains any duplicates using a `for` loop.\n",
    "\n",
    "def contains_duplicates(lst):\n",
    "    seen = []  # List to keep track of seen elements\n",
    "    for item in lst:\n",
    "        if item in seen:  # Check if the current item is already in the seen list\n",
    "            return True   # Duplicate found\n",
    "        seen.append(item) # Add the item to the seen list\n",
    "    return False          # No duplicates found\n",
    "\n",
    "# Input: User provides a list of elements\n",
    "user_list = input(\"Enter elements of the list separated by spaces: \").split()\n",
    "\n",
    "# Check for duplicates\n",
    "if contains_duplicates(user_list):\n",
    "    print(\"The list contains duplicates.\")\n",
    "else:\n",
    "    print(\"The list does not contain duplicates.\")\n",
    "\n"
   ]
  },
  {
   "cell_type": "code",
   "execution_count": 24,
   "id": "16294d97-f08e-4310-a96c-2c155cac9b6a",
   "metadata": {},
   "outputs": [
    {
     "name": "stdin",
     "output_type": "stream",
     "text": [
      "Enter the start of the range:  1\n",
      "Enter the end of the range:  25\n"
     ]
    },
    {
     "name": "stdout",
     "output_type": "stream",
     "text": [
      "Prime numbers between 1 and 25 are:\n",
      "2 3 5 7 11 13 17 19 23 "
     ]
    }
   ],
   "source": [
    "# 12. Create a program that prints the prime numbers in a given range using a `for` loop.\n",
    "\n",
    "def is_prime(num):\n",
    "    \"\"\"Check if a number is prime.\"\"\"\n",
    "    if num < 2:\n",
    "        return False\n",
    "    for i in range(2, int(num ** 0.5) + 1):  # Check divisors up to the square root of num\n",
    "        if num % i == 0:\n",
    "            return False\n",
    "    return True\n",
    "\n",
    "def primes_in_range(start, end):\n",
    "    \"\"\"Print prime numbers in a given range.\"\"\"\n",
    "    for num in range(start, end + 1):  # Iterate through the range\n",
    "        if is_prime(num):  # Check if the number is prime\n",
    "            print(num, end=\" \")  # Print the prime number\n",
    "\n",
    "# Input: User provides the range\n",
    "start = int(input(\"Enter the start of the range: \"))\n",
    "end = int(input(\"Enter the end of the range: \"))\n",
    "\n",
    "# Output: Print all prime numbers in the range\n",
    "print(f\"Prime numbers between {start} and {end} are:\")\n",
    "primes_in_range(start, end)\n"
   ]
  },
  {
   "cell_type": "code",
   "execution_count": 26,
   "id": "6004d7e9-d346-45ae-9c3d-f4e9e412c949",
   "metadata": {},
   "outputs": [
    {
     "name": "stdin",
     "output_type": "stream",
     "text": [
      "Enter a string:  calcutta\n"
     ]
    },
    {
     "name": "stdout",
     "output_type": "stream",
     "text": [
      "The number of vowels in the string is: 3\n"
     ]
    }
   ],
   "source": [
    "# 13. Develop a program that counts the number of vowels in a string using a `for` loop.\n",
    "\n",
    "def count_vowels(string):\n",
    "    vowels = \"aeiouAEIOU\"  # Define vowels (both lowercase and uppercase)\n",
    "    count = 0\n",
    "    for char in string:    # Iterate through each character in the string\n",
    "        if char in vowels: # Check if the character is a vowel\n",
    "            count += 1     # Increment the count if it's a vowel\n",
    "    return count\n",
    "\n",
    "# Input: User provides a string\n",
    "user_string = input(\"Enter a string: \")\n",
    "\n",
    "# Count vowels in the string\n",
    "vowel_count = count_vowels(user_string)\n",
    "\n",
    "# Display the result\n",
    "print(f\"The number of vowels in the string is: {vowel_count}\")"
   ]
  },
  {
   "cell_type": "code",
   "execution_count": 1,
   "id": "4bea59fb-4c4f-4198-93e3-7271d078f29b",
   "metadata": {},
   "outputs": [
    {
     "name": "stdin",
     "output_type": "stream",
     "text": [
      "Enter the number of rows in the 2D list:  2\n"
     ]
    },
    {
     "name": "stdout",
     "output_type": "stream",
     "text": [
      "Enter the elements row by row:\n"
     ]
    },
    {
     "name": "stdin",
     "output_type": "stream",
     "text": [
      "Row 1:  1 5 9\n",
      "Row 2:  4 8 6\n"
     ]
    },
    {
     "name": "stdout",
     "output_type": "stream",
     "text": [
      "The maximum element in the 2D list is: 9\n"
     ]
    }
   ],
   "source": [
    "# 14. Write a program to find the maximum element in a 2D list using a nested `for` loop.\n",
    "\n",
    "def find_max_in_2d_list(matrix):\n",
    "    max_element = float('-inf')  # Initialize to the smallest possible value\n",
    "    for row in matrix:           # Loop through each row\n",
    "        for element in row:      # Loop through each element in the row\n",
    "            if element > max_element:\n",
    "                max_element = element  # Update the maximum value\n",
    "    return max_element\n",
    "\n",
    "# Input: User provides a 2D list\n",
    "rows = int(input(\"Enter the number of rows in the 2D list: \"))\n",
    "matrix = []\n",
    "print(\"Enter the elements row by row:\")\n",
    "for i in range(rows):\n",
    "    row = list(map(int, input(f\"Row {i+1}: \").split()))\n",
    "    matrix.append(row)\n",
    "\n",
    "# Find and display the maximum element\n",
    "max_value = find_max_in_2d_list(matrix)\n",
    "print(f\"The maximum element in the 2D list is: {max_value}\")\n"
   ]
  },
  {
   "cell_type": "code",
   "execution_count": 3,
   "id": "d2ded845-6aaa-433d-a9ce-4e8b556630b2",
   "metadata": {},
   "outputs": [
    {
     "name": "stdin",
     "output_type": "stream",
     "text": [
      "Enter the list elements separated by spaces:  15 6 3 4 8 9 645 6 58\n",
      "Enter the element to remove:  645\n"
     ]
    },
    {
     "name": "stdout",
     "output_type": "stream",
     "text": [
      "Updated list: ['15', '6', '3', '4', '8', '9', '6', '58']\n"
     ]
    }
   ],
   "source": [
    "# 15. Create a program that removes all occurrences of a specific element from a list using a `for` loop.\n",
    "\n",
    "def remove_element(lst, element):\n",
    "    result = []  # Create an empty list to store elements that are not removed\n",
    "    for item in lst:  # Iterate through the original list\n",
    "        if item != element:  # If the current item is not the element to remove\n",
    "            result.append(item)  # Add it to the result list\n",
    "    return result\n",
    "\n",
    "# Input: User provides a list and the element to remove\n",
    "user_list = input(\"Enter the list elements separated by spaces: \").split()\n",
    "element_to_remove = input(\"Enter the element to remove: \")\n",
    "\n",
    "# Remove the element\n",
    "updated_list = remove_element(user_list, element_to_remove)\n",
    "\n",
    "# Output: Display the updated list\n",
    "print(\"Updated list:\", updated_list)\n",
    "\n"
   ]
  },
  {
   "cell_type": "code",
   "execution_count": 5,
   "id": "5bd19283-4432-4b6d-ae79-5e94baf7cfe8",
   "metadata": {},
   "outputs": [
    {
     "name": "stdout",
     "output_type": "stream",
     "text": [
      "1 x 1 = 1\t1 x 2 = 2\t1 x 3 = 3\t1 x 4 = 4\t1 x 5 = 5\t1 x 6 = 6\t1 x 7 = 7\t1 x 8 = 8\t1 x 9 = 9\t1 x 10 = 10\t\n",
      "2 x 1 = 2\t2 x 2 = 4\t2 x 3 = 6\t2 x 4 = 8\t2 x 5 = 10\t2 x 6 = 12\t2 x 7 = 14\t2 x 8 = 16\t2 x 9 = 18\t2 x 10 = 20\t\n",
      "3 x 1 = 3\t3 x 2 = 6\t3 x 3 = 9\t3 x 4 = 12\t3 x 5 = 15\t3 x 6 = 18\t3 x 7 = 21\t3 x 8 = 24\t3 x 9 = 27\t3 x 10 = 30\t\n",
      "4 x 1 = 4\t4 x 2 = 8\t4 x 3 = 12\t4 x 4 = 16\t4 x 5 = 20\t4 x 6 = 24\t4 x 7 = 28\t4 x 8 = 32\t4 x 9 = 36\t4 x 10 = 40\t\n",
      "5 x 1 = 5\t5 x 2 = 10\t5 x 3 = 15\t5 x 4 = 20\t5 x 5 = 25\t5 x 6 = 30\t5 x 7 = 35\t5 x 8 = 40\t5 x 9 = 45\t5 x 10 = 50\t\n"
     ]
    }
   ],
   "source": [
    "# 16. Develop a program that generates a multiplication table for numbers from 1 to 5 using a nested `for` loop.\n",
    "\n",
    "# Generate multiplication table for numbers 1 to 5\n",
    "for i in range(1, 6):  # Outer loop for rows (numbers 1 to 5)\n",
    "    for j in range(1, 11):  # Inner loop for columns (1 to 10)\n",
    "        print(f\"{i} x {j} = {i * j}\", end=\"\\t\")  # Print multiplication in tabular format\n",
    "    print()  # Add a newline after each row\n"
   ]
  },
  {
   "cell_type": "code",
   "execution_count": 9,
   "id": "79c29b80-6edd-4270-a16a-f0f3c9714157",
   "metadata": {},
   "outputs": [
    {
     "name": "stdin",
     "output_type": "stream",
     "text": [
      "Enter Fahrenheit temperatures separated by spaces:  36\n"
     ]
    },
    {
     "name": "stdout",
     "output_type": "stream",
     "text": [
      "Fahrenheit temperatures: [36.0]\n",
      "Converted Celsius temperatures: [2.22]\n"
     ]
    }
   ],
   "source": [
    "# 17. Write a program that converts a list of Fahrenheit temperatures to Celsius using a `for` loop.\n",
    "\n",
    "\n",
    "# Function to convert Fahrenheit to Celsius\n",
    "def fahrenheit_to_celsius(fahrenheit_list):\n",
    "    celsius_list = []  # Create an empty list to store Celsius values\n",
    "    for temp in fahrenheit_list:  # Iterate through the Fahrenheit temperatures\n",
    "        celsius = (temp - 32) * 5 / 9  # Convert to Celsius using the formula\n",
    "        celsius_list.append(round(celsius, 2))  # Append rounded Celsius value to the list\n",
    "    return celsius_list\n",
    "\n",
    "# Input: List of Fahrenheit temperatures\n",
    "fahrenheit_list = list(map(float, input(\"Enter Fahrenheit temperatures separated by spaces: \").split()))\n",
    "\n",
    "# Convert to Celsius\n",
    "celsius_list = fahrenheit_to_celsius(fahrenheit_list)\n",
    "\n",
    "# Output: Display the Celsius temperatures\n",
    "print(\"Fahrenheit temperatures:\", fahrenheit_list)\n",
    "print(\"Converted Celsius temperatures:\", celsius_list)\n"
   ]
  },
  {
   "cell_type": "code",
   "execution_count": 11,
   "id": "098e3780-ada8-4230-ab2f-85ed7ee5d845",
   "metadata": {},
   "outputs": [
    {
     "name": "stdin",
     "output_type": "stream",
     "text": [
      "Enter elements of the first list separated by spaces:  5 6 9 7 5 9 4 5 \n",
      "Enter elements of the second list separated by spaces:  5 48 5 6 9 5 48\n"
     ]
    },
    {
     "name": "stdout",
     "output_type": "stream",
     "text": [
      "Common elements: [5, 6, 9, 5, 9, 5]\n"
     ]
    }
   ],
   "source": [
    "# 18. Create a program to print the common elements from two lists using a `for` loop.\n",
    "\n",
    "# Function to find common elements between two lists\n",
    "def find_common_elements(list1, list2):\n",
    "    common_elements = []  # Create an empty list to store common elements\n",
    "    for element in list1:  # Loop through the first list\n",
    "        if element in list2:  # Check if the element is present in the second list\n",
    "            common_elements.append(element)  # If yes, add it to the common_elements list\n",
    "    return common_elements\n",
    "\n",
    "# Input: Two lists from the user\n",
    "list1 = list(map(int, input(\"Enter elements of the first list separated by spaces: \").split()))\n",
    "list2 = list(map(int, input(\"Enter elements of the second list separated by spaces: \").split()))\n",
    "\n",
    "# Find common elements\n",
    "common_elements = find_common_elements(list1, list2)\n",
    "\n",
    "# Output: Display the common elements\n",
    "print(\"Common elements:\", common_elements)\n",
    "\n"
   ]
  },
  {
   "cell_type": "code",
   "execution_count": 13,
   "id": "fad68638-d4b4-4df0-bd6b-57de9b620353",
   "metadata": {},
   "outputs": [
    {
     "name": "stdin",
     "output_type": "stream",
     "text": [
      "Enter the height of the triangle:  30\n"
     ]
    },
    {
     "name": "stdout",
     "output_type": "stream",
     "text": [
      "*\n",
      "**\n",
      "***\n",
      "****\n",
      "*****\n",
      "******\n",
      "*******\n",
      "********\n",
      "*********\n",
      "**********\n",
      "***********\n",
      "************\n",
      "*************\n",
      "**************\n",
      "***************\n",
      "****************\n",
      "*****************\n",
      "******************\n",
      "*******************\n",
      "********************\n",
      "*********************\n",
      "**********************\n",
      "***********************\n",
      "************************\n",
      "*************************\n",
      "**************************\n",
      "***************************\n",
      "****************************\n",
      "*****************************\n",
      "******************************\n"
     ]
    }
   ],
   "source": [
    "# 19. Develop a program that prints the pattern of right-angled triangles using a `for` loop. Use ‘*’ to draw the pattern\n",
    "\n",
    "\n",
    "# Function to print right-angled triangle pattern using '*'\n",
    "def print_triangle(height):\n",
    "    for i in range(1, height + 1):  # Loop through rows\n",
    "        print('*' * i)  # Print '*' i times in each row\n",
    "\n",
    "# Input: Height of the triangle from the user\n",
    "height = int(input(\"Enter the height of the triangle: \"))\n",
    "\n",
    "# Output: Print the right-angled triangle\n",
    "print_triangle(height)\n",
    "\n"
   ]
  },
  {
   "cell_type": "code",
   "execution_count": 19,
   "id": "c9360b84-90a9-4f69-80fc-b4dd44eb56e4",
   "metadata": {},
   "outputs": [
    {
     "name": "stdin",
     "output_type": "stream",
     "text": [
      "Enter the first number:  30\n",
      "Enter the second number:  240\n"
     ]
    },
    {
     "name": "stdout",
     "output_type": "stream",
     "text": [
      "The GCD of 30 and 240 is: 30\n"
     ]
    }
   ],
   "source": [
    "# 20. Write a program to find the greatest common divisor (GCD) of two numbers using a `for` loop.\n",
    "\n",
    "# Function to find the GCD using a for loop\n",
    "def find_gcd(a, b):\n",
    "    # Find the smaller of the two numbers to limit the loop\n",
    "    smallest = min(a, b)\n",
    "    \n",
    "    # Loop through numbers from smallest down to 1\n",
    "    for i in range(smallest, 0, -1):\n",
    "        if a % i == 0 and b % i == 0:  # Check if 'i' divides both numbers\n",
    "            return i  # Return the first common divisor (GCD)\n",
    "    \n",
    "    return 1  # If no greater common divisor, return 1 (GCD of any two numbers is at least 1)\n",
    "\n",
    "# Input: Two numbers from the user\n",
    "a = int(input(\"Enter the first number: \"))\n",
    "b = int(input(\"Enter the second number: \"))\n",
    "\n",
    "# Output: Display the GCD\n",
    "gcd = find_gcd(a, b)\n",
    "print(f\"The GCD of {a} and {b} is: {gcd}\")\n",
    "\n"
   ]
  },
  {
   "cell_type": "code",
   "execution_count": 45,
   "id": "5709f32d-a430-414a-add9-0584551aa165",
   "metadata": {},
   "outputs": [
    {
     "data": {
      "text/plain": [
       "' Advanced Level: '"
      ]
     },
     "execution_count": 45,
     "metadata": {},
     "output_type": "execute_result"
    }
   ],
   "source": [
    "''' Advanced Level: '''"
   ]
  },
  {
   "cell_type": "code",
   "execution_count": 23,
   "id": "a0f6fe73-ec68-4854-800c-a7f2a772eaf7",
   "metadata": {},
   "outputs": [
    {
     "name": "stdin",
     "output_type": "stream",
     "text": [
      "Enter a list of numbers separated by spaces:  56 98 65 65\n"
     ]
    },
    {
     "name": "stdout",
     "output_type": "stream",
     "text": [
      "Sum of digits for each number: [11, 17, 11, 11]\n"
     ]
    }
   ],
   "source": [
    "# 21. Create a program that calculates the sum of the digits of numbers in a list using a list comprehension.\n",
    "\n",
    "# Function to calculate sum of digits for a single number\n",
    "def sum_of_digits(num):\n",
    "    return sum(int(digit) for digit in str(num))  # Sum the digits of the number\n",
    "\n",
    "# Input: List of numbers\n",
    "numbers = list(map(int, input(\"Enter a list of numbers separated by spaces: \").split()))\n",
    "\n",
    "# Using list comprehension to find the sum of digits for each number in the list\n",
    "digit_sums = [sum_of_digits(num) for num in numbers]\n",
    "\n",
    "# Output: Display the sum of digits for each number\n",
    "print(\"Sum of digits for each number:\", digit_sums)\n",
    "\n"
   ]
  },
  {
   "cell_type": "code",
   "execution_count": 29,
   "id": "988bfabb-9f4e-486c-82b1-7f6746a4ada3",
   "metadata": {},
   "outputs": [
    {
     "name": "stdin",
     "output_type": "stream",
     "text": [
      "Enter a number to find its prime factors:  60\n"
     ]
    },
    {
     "name": "stdout",
     "output_type": "stream",
     "text": [
      "The prime factors of 60 are: [2, 2, 3, 5]\n"
     ]
    }
   ],
   "source": [
    "# 22. Write a program to find the prime factors of a given number using a `for` loop and list comprehension.\n",
    "\n",
    "# Function to find the prime factors of a given number\n",
    "def prime_factors(n):\n",
    "    factors = []\n",
    "    for i in range(2, n + 1):  # Check numbers from 2 to n\n",
    "        while n % i == 0:  # Check if i divides n\n",
    "            factors.append(i)  # If so, it's a prime factor\n",
    "            n //= i  # Divide n by i\n",
    "    return factors\n",
    "\n",
    "# Input: A number from the user\n",
    "number = int(input(\"Enter a number to find its prime factors: \"))\n",
    "\n",
    "# Finding prime factors using the function\n",
    "factors = prime_factors(number)\n",
    "\n",
    "# Output: Display the prime factors\n",
    "print(f\"The prime factors of {number} are: {factors}\")\n",
    "\n"
   ]
  },
  {
   "cell_type": "code",
   "execution_count": 31,
   "id": "c4ddffec-e88c-49b8-9472-28ea0022f818",
   "metadata": {},
   "outputs": [
    {
     "name": "stdin",
     "output_type": "stream",
     "text": [
      "Enter a list of elements separated by spaces:  6 5 9 4 5 8 6 9 4 5 6 3 2 1 \n"
     ]
    },
    {
     "name": "stdout",
     "output_type": "stream",
     "text": [
      "The unique elements are: ['6', '5', '9', '4', '8', '3', '2', '1']\n"
     ]
    }
   ],
   "source": [
    "# 23. Develop a program that extracts unique elements from a list and stores them in a new list using a list comprehension.\n",
    "\n",
    "\n",
    "# Function to extract unique elements from a list\n",
    "def unique_elements(input_list):\n",
    "    return [element for index, element in enumerate(input_list) if element not in input_list[:index]]\n",
    "\n",
    "# Input: A list of elements (can be integers, strings, etc.)\n",
    "input_list = input(\"Enter a list of elements separated by spaces: \").split()\n",
    "\n",
    "# Extract unique elements using list comprehension\n",
    "unique_list = unique_elements(input_list)\n",
    "\n",
    "# Output: Display the list of unique elements\n",
    "print(\"The unique elements are:\", unique_list)"
   ]
  },
  {
   "cell_type": "code",
   "execution_count": 33,
   "id": "7ba6d6ca-78bf-4849-a256-1707fdf6d8e4",
   "metadata": {},
   "outputs": [
    {
     "name": "stdin",
     "output_type": "stream",
     "text": [
      "Enter the limit up to which to find palindromic numbers:  20\n"
     ]
    },
    {
     "name": "stdout",
     "output_type": "stream",
     "text": [
      "Palindromic numbers up to 20 are: [1, 2, 3, 4, 5, 6, 7, 8, 9, 11]\n"
     ]
    }
   ],
   "source": [
    "# 24. Create a program that generates a list of all palindromic numbers up to a specified limit using a list comprehension.\n",
    "\n",
    "# Function to check if a number is a palindrome\n",
    "def is_palindrome(num):\n",
    "    return str(num) == str(num)[::-1]\n",
    "\n",
    "# Input: A limit up to which to find palindromic numbers\n",
    "limit = int(input(\"Enter the limit up to which to find palindromic numbers: \"))\n",
    "\n",
    "# Using list comprehension to generate a list of palindromic numbers up to the limit\n",
    "palindromic_numbers = [num for num in range(1, limit + 1) if is_palindrome(num)]\n",
    "\n",
    "# Output: Display the list of palindromic numbers\n",
    "print(f\"Palindromic numbers up to {limit} are: {palindromic_numbers}\")"
   ]
  },
  {
   "cell_type": "code",
   "execution_count": 35,
   "id": "0b4da21d-3e45-4cf1-a6a3-0da6031a6558",
   "metadata": {},
   "outputs": [
    {
     "name": "stdout",
     "output_type": "stream",
     "text": [
      "Flattened list: [1, 2, 3, 4, 5, 6, 7, 8, 9]\n"
     ]
    }
   ],
   "source": [
    "# 25. Write a program to flatten a nested list using list comprehension.\n",
    "\n",
    "# Function to flatten a nested list\n",
    "def flatten(nested_list):\n",
    "    return [item for sublist in nested_list for item in sublist]\n",
    "\n",
    "# Input: A nested list\n",
    "nested_list = [[1, 2, 3], [4, 5], [6, 7, 8, 9]]\n",
    "\n",
    "# Flattening the nested list using list comprehension\n",
    "flattened_list = flatten(nested_list)\n",
    "\n",
    "# Output: Display the flattened list\n",
    "print(\"Flattened list:\", flattened_list)"
   ]
  },
  {
   "cell_type": "code",
   "execution_count": 37,
   "id": "66ce4c89-97dc-4b19-bb89-7663fd584077",
   "metadata": {},
   "outputs": [
    {
     "name": "stdout",
     "output_type": "stream",
     "text": [
      "Sum of even numbers: 30\n",
      "Sum of odd numbers: 25\n"
     ]
    }
   ],
   "source": [
    "# 26. Develop a program that computes the sum of even and odd numbers in a list separately using list comprehension.\n",
    "\n",
    "\n",
    "# Function to compute the sum of even and odd numbers separately\n",
    "def sum_even_odd(numbers):\n",
    "    # List comprehension to calculate sum of even numbers\n",
    "    even_sum = sum([num for num in numbers if num % 2 == 0])\n",
    "    \n",
    "    # List comprehension to calculate sum of odd numbers\n",
    "    odd_sum = sum([num for num in numbers if num % 2 != 0])\n",
    "    \n",
    "    return even_sum, odd_sum\n",
    "\n",
    "# Input: A list of numbers\n",
    "numbers = [1, 2, 3, 4, 5, 6, 7, 8, 9, 10]\n",
    "\n",
    "# Compute the sum of even and odd numbers\n",
    "even_sum, odd_sum = sum_even_odd(numbers)\n",
    "\n",
    "# Output: Display the sums of even and odd numbers\n",
    "print(f\"Sum of even numbers: {even_sum}\")\n",
    "print(f\"Sum of odd numbers: {odd_sum}\")\n",
    "\n"
   ]
  },
  {
   "cell_type": "code",
   "execution_count": 39,
   "id": "c4749637-bfaf-41f5-8a3d-fff8aa884dd0",
   "metadata": {},
   "outputs": [
    {
     "name": "stdout",
     "output_type": "stream",
     "text": [
      "Squares of odd numbers between 1 and 10: [1, 9, 25, 49, 81]\n"
     ]
    }
   ],
   "source": [
    "# 27. Create a program that generates a list of squares of odd numbers between 1 and 10 using list comprehension.\n",
    "\n",
    "# Using list comprehension to generate the squares of odd numbers between 1 and 10\n",
    "squares_of_odds = [num**2 for num in range(1, 11) if num % 2 != 0]\n",
    "\n",
    "# Output: Display the list of squares of odd numbers\n",
    "print(\"Squares of odd numbers between 1 and 10:\", squares_of_odds)\n",
    "\n"
   ]
  },
  {
   "cell_type": "code",
   "execution_count": 41,
   "id": "11ee4a73-6631-4a75-a907-8f1f5084d891",
   "metadata": {},
   "outputs": [
    {
     "name": "stdout",
     "output_type": "stream",
     "text": [
      "Combined dictionary: {'a': 1, 'b': 2, 'c': 3, 'd': 4}\n"
     ]
    }
   ],
   "source": [
    "# 28. Write a program that combines two lists into a dictionary using list comprehension.\n",
    "\n",
    "# Two lists\n",
    "keys = ['a', 'b', 'c', 'd']\n",
    "values = [1, 2, 3, 4]\n",
    "\n",
    "# Using list comprehension to combine the two lists into a dictionary\n",
    "combined_dict = {keys[i]: values[i] for i in range(len(keys))}\n",
    "\n",
    "# Output: Display the resulting dictionary\n",
    "print(\"Combined dictionary:\", combined_dict)\n"
   ]
  },
  {
   "cell_type": "code",
   "execution_count": 43,
   "id": "8f328485-cc92-49a3-8eac-1631532d81e1",
   "metadata": {},
   "outputs": [
    {
     "name": "stdout",
     "output_type": "stream",
     "text": [
      "Vowels in the string: ['e', 'o', 'o']\n"
     ]
    }
   ],
   "source": [
    "# 29. Develop a program that extracts the vowels from a string and stores them in a list using list comprehension.\n",
    "\n",
    "\n",
    "# Function to extract vowels from a string\n",
    "def extract_vowels(input_string):\n",
    "    # Using list comprehension to extract vowels\n",
    "    vowels = [char for char in input_string if char.lower() in 'aeiou']\n",
    "    return vowels\n",
    "\n",
    "# Input string\n",
    "input_string = \"Hello, World!\"\n",
    "\n",
    "# Extract vowels from the string\n",
    "vowels = extract_vowels(input_string)\n",
    "\n",
    "# Output: Display the list of vowels\n",
    "print(\"Vowels in the string:\", vowels)\n"
   ]
  },
  {
   "cell_type": "code",
   "execution_count": 45,
   "id": "4c8348b2-21e0-4b51-8c7e-e90f857c54ef",
   "metadata": {},
   "outputs": [
    {
     "name": "stdout",
     "output_type": "stream",
     "text": [
      "Strings with non-numeric characters removed: ['123', '45', '67', '789']\n"
     ]
    }
   ],
   "source": [
    "# 30. Create a program that removes all non-numeric characters from a list of strings using list comprehension.\n",
    "\n",
    "# Function to remove non-numeric characters from a list of strings\n",
    "def remove_non_numeric(strings):\n",
    "    # Using list comprehension to remove non-numeric characters from each string\n",
    "    numeric_strings = [''.join([char for char in string if char.isdigit()]) for string in strings]\n",
    "    return numeric_strings\n",
    "\n",
    "# List of strings\n",
    "strings = [\"abc123\", \"45def\", \"gh67i\", \"789\"]\n",
    "\n",
    "# Remove non-numeric characters\n",
    "numeric_strings = remove_non_numeric(strings)\n",
    "\n",
    "# Output: Display the list of strings with only numeric characters\n",
    "print(\"Strings with non-numeric characters removed:\", numeric_strings)\n"
   ]
  },
  {
   "cell_type": "code",
   "execution_count": 67,
   "id": "02bc267d-7b9a-4f83-9ab2-0a3cf9289ea2",
   "metadata": {},
   "outputs": [
    {
     "data": {
      "text/plain": [
       "' Challenge Level:'"
      ]
     },
     "execution_count": 67,
     "metadata": {},
     "output_type": "execute_result"
    }
   ],
   "source": [
    "''' Challenge Level:'''"
   ]
  },
  {
   "cell_type": "code",
   "execution_count": 83,
   "id": "70381d53-5a46-47cd-ba8a-e2313dc2cc17",
   "metadata": {},
   "outputs": [
    {
     "name": "stdin",
     "output_type": "stream",
     "text": [
      "Enter the upper limit to generate prime numbers:  20\n"
     ]
    },
    {
     "name": "stdout",
     "output_type": "stream",
     "text": [
      "Prime numbers up to 20: [2, 3, 5, 7, 11, 13, 17, 19]\n"
     ]
    }
   ],
   "source": [
    "# 31. Write a program to generate a list of prime numbers using the Sieve of Eratosthenes algorithm and list comprehension.\n",
    "\n",
    "def sieve_of_eratosthenes(limit):\n",
    "    # Create a boolean list to track prime candidates\n",
    "    is_prime = [True] * (limit + 1)\n",
    "    is_prime[0], is_prime[1] = False, False  # 0 and 1 are not prime numbers\n",
    "    \n",
    "    # Perform the Sieve of Eratosthenes\n",
    "    for num in range(2, int(limit**0.5) + 1):  # Loop up to the square root of the limit\n",
    "        if is_prime[num]:  # If num is still marked as prime\n",
    "            for multiple in range(num * num, limit + 1, num):  # Mark all multiples of num\n",
    "                is_prime[multiple] = False\n",
    "\n",
    "    # Generate the list of primes using list comprehension\n",
    "    primes = [i for i in range(limit + 1) if is_prime[i]]\n",
    "    return primes\n",
    "\n",
    "# Input from the user\n",
    "n = int(input(\"Enter the upper limit to generate prime numbers: \"))\n",
    "\n",
    "# Generate and display the prime numbers\n",
    "prime_numbers = sieve_of_eratosthenes(n)\n",
    "print(f\"Prime numbers up to {n}: {prime_numbers}\")\n"
   ]
  },
  {
   "cell_type": "code",
   "execution_count": 85,
   "id": "1003510b-4d14-411a-86a9-6a559e4725b1",
   "metadata": {},
   "outputs": [
    {
     "name": "stdin",
     "output_type": "stream",
     "text": [
      "Enter the upper limit for Pythagorean triplets:  9\n"
     ]
    },
    {
     "name": "stdout",
     "output_type": "stream",
     "text": [
      "Pythagorean triplets up to 9: [(3, 4, 5)]\n"
     ]
    }
   ],
   "source": [
    "# 32. Create a program that generates a list of all Pythagorean triplets up to a specified limit using list comprehension.\n",
    "\n",
    "def pythagorean_triplets(limit):\n",
    "    triplets = []\n",
    "    for a in range(1, limit + 1):\n",
    "        for b in range(a, limit + 1):  # Start from 'a' to avoid duplicates\n",
    "            for c in range(b, limit + 1):  # Start from 'b' to ensure order\n",
    "                if a**2 + b**2 == c**2:  # Check Pythagorean condition\n",
    "                    triplets.append((a, b, c))  # Add valid triplet\n",
    "    return triplets\n",
    "\n",
    "# Input from the user\n",
    "n = int(input(\"Enter the upper limit for Pythagorean triplets: \"))\n",
    "\n",
    "# Generate and display the triplets\n",
    "triplets = pythagorean_triplets(n)\n",
    "print(f\"Pythagorean triplets up to {n}: {triplets}\")\n"
   ]
  },
  {
   "cell_type": "code",
   "execution_count": 87,
   "id": "10d1abf9-0719-4c4b-a5d8-7d7371b87b85",
   "metadata": {},
   "outputs": [
    {
     "name": "stdin",
     "output_type": "stream",
     "text": [
      "Enter the elements of the first list, separated by spaces:  4 5 9 6 3 4 5 6\n",
      "Enter the elements of the second list, separated by spaces:  5 4 8 6 9 4 5 89 \n"
     ]
    },
    {
     "name": "stdout",
     "output_type": "stream",
     "text": [
      "All combinations: [('4', '5'), ('4', '4'), ('4', '8'), ('4', '6'), ('4', '9'), ('4', '4'), ('4', '5'), ('4', '89'), ('5', '5'), ('5', '4'), ('5', '8'), ('5', '6'), ('5', '9'), ('5', '4'), ('5', '5'), ('5', '89'), ('9', '5'), ('9', '4'), ('9', '8'), ('9', '6'), ('9', '9'), ('9', '4'), ('9', '5'), ('9', '89'), ('6', '5'), ('6', '4'), ('6', '8'), ('6', '6'), ('6', '9'), ('6', '4'), ('6', '5'), ('6', '89'), ('3', '5'), ('3', '4'), ('3', '8'), ('3', '6'), ('3', '9'), ('3', '4'), ('3', '5'), ('3', '89'), ('4', '5'), ('4', '4'), ('4', '8'), ('4', '6'), ('4', '9'), ('4', '4'), ('4', '5'), ('4', '89'), ('5', '5'), ('5', '4'), ('5', '8'), ('5', '6'), ('5', '9'), ('5', '4'), ('5', '5'), ('5', '89'), ('6', '5'), ('6', '4'), ('6', '8'), ('6', '6'), ('6', '9'), ('6', '4'), ('6', '5'), ('6', '89')]\n"
     ]
    }
   ],
   "source": [
    "# 33. Develop a program that generates a list of all possible combinations of two lists using list comprehension.\n",
    "\n",
    "def generate_combinations(list1, list2):\n",
    "    combinations = []\n",
    "    for item1 in list1:\n",
    "        for item2 in list2:\n",
    "            combinations.append((item1, item2))\n",
    "    return combinations\n",
    "\n",
    "# Input: Two lists\n",
    "list1 = input(\"Enter the elements of the first list, separated by spaces: \").split()\n",
    "list2 = input(\"Enter the elements of the second list, separated by spaces: \").split()\n",
    "\n",
    "# Generate and display combinations\n",
    "combinations = generate_combinations(list1, list2)\n",
    "print(f\"All combinations: {combinations}\")\n",
    "\n"
   ]
  },
  {
   "cell_type": "code",
   "execution_count": 89,
   "id": "c952b0be-5b89-4c97-aaa6-ad7907e76c72",
   "metadata": {},
   "outputs": [
    {
     "name": "stdin",
     "output_type": "stream",
     "text": [
      "Enter numbers separated by spaces:  4 5 6 9 7\n"
     ]
    },
    {
     "name": "stdout",
     "output_type": "stream",
     "text": [
      "Mean: 6.2\n",
      "Median: 6\n",
      "Mode: [4, 5, 6, 7, 9]\n"
     ]
    }
   ],
   "source": [
    "# 34. Write a program that calculates the mean, median, and mode of a list of numbers using list comprehension.\n",
    "\n",
    "from collections import Counter\n",
    "\n",
    "def calculate_mean(numbers):\n",
    "    total = 0\n",
    "    for num in numbers:\n",
    "        total += num\n",
    "    return total / len(numbers)\n",
    "\n",
    "def calculate_median(numbers):\n",
    "    numbers.sort()\n",
    "    n = len(numbers)\n",
    "    if n % 2 == 0:  # Even number of elements\n",
    "        median = (numbers[n // 2 - 1] + numbers[n // 2]) / 2\n",
    "    else:  # Odd number of elements\n",
    "        median = numbers[n // 2]\n",
    "    return median\n",
    "\n",
    "def calculate_mode(numbers):\n",
    "    frequency = Counter(numbers)\n",
    "    max_freq = max(frequency.values())\n",
    "    modes = []\n",
    "    for num, count in frequency.items():\n",
    "        if count == max_freq:\n",
    "            modes.append(num)\n",
    "    return modes if len(modes) > 1 else modes[0]\n",
    "\n",
    "# Input from the user\n",
    "numbers = list(map(int, input(\"Enter numbers separated by spaces: \").split()))\n",
    "\n",
    "# Calculate mean, median, and mode\n",
    "mean = calculate_mean(numbers)\n",
    "median = calculate_median(numbers)\n",
    "mode = calculate_mode(numbers)\n",
    "\n",
    "# Display results\n",
    "print(f\"Mean: {mean}\")\n",
    "print(f\"Median: {median}\")\n",
    "print(f\"Mode: {mode}\")\n"
   ]
  },
  {
   "cell_type": "code",
   "execution_count": 91,
   "id": "9b0a783c-0a33-450f-85f6-9b5997c3889a",
   "metadata": {},
   "outputs": [
    {
     "name": "stdin",
     "output_type": "stream",
     "text": [
      "Enter the number of rows for Pascal's Triangle:  9\n"
     ]
    },
    {
     "name": "stdout",
     "output_type": "stream",
     "text": [
      "Pascal's Triangle:\n",
      "[1]\n",
      "[1, 1]\n",
      "[1, 2, 1]\n",
      "[1, 3, 3, 1]\n",
      "[1, 4, 6, 4, 1]\n",
      "[1, 5, 10, 10, 5, 1]\n",
      "[1, 6, 15, 20, 15, 6, 1]\n",
      "[1, 7, 21, 35, 35, 21, 7, 1]\n",
      "[1, 8, 28, 56, 70, 56, 28, 8, 1]\n"
     ]
    }
   ],
   "source": [
    "# 35. Create a program that generates Pascal's triangle up to a specified number of rows using list comprehension.\n",
    "\n",
    "def generate_pascals_triangle(rows):\n",
    "    triangle = []\n",
    "    for i in range(rows):\n",
    "        # Use list comprehension to generate the row\n",
    "        row = [1 if j == 0 or j == i else triangle[i-1][j-1] + triangle[i-1][j] for j in range(i+1)]\n",
    "        triangle.append(row)\n",
    "    return triangle\n",
    "\n",
    "# Input: Number of rows\n",
    "rows = int(input(\"Enter the number of rows for Pascal's Triangle: \"))\n",
    "\n",
    "# Generate and display Pascal's Triangle\n",
    "pascals_triangle = generate_pascals_triangle(rows)\n",
    "print(\"Pascal's Triangle:\")\n",
    "for row in pascals_triangle:\n",
    "    print(row)\n"
   ]
  },
  {
   "cell_type": "code",
   "execution_count": 93,
   "id": "c2487479-1f34-419a-aca0-d90c2867f71d",
   "metadata": {},
   "outputs": [
    {
     "name": "stdout",
     "output_type": "stream",
     "text": [
      "Sum of digits of 1! = 1\n",
      "Sum of digits of 2! = 2\n",
      "Sum of digits of 3! = 6\n",
      "Sum of digits of 4! = 6\n",
      "Sum of digits of 5! = 3\n"
     ]
    }
   ],
   "source": [
    "# 36. Develop a program that calculates the sum of the digits of a factorial of numbers from 1 to 5 using list comprehension.\n",
    "\n",
    "import math\n",
    "\n",
    "def factorial_digit_sum(n):\n",
    "    \"\"\"Calculate the sum of digits of the factorial of a number.\"\"\"\n",
    "    factorial = math.factorial(n)  # Calculate factorial\n",
    "    digit_sum = 0\n",
    "    for digit in str(factorial):  # Convert factorial to string and iterate over digits\n",
    "        digit_sum += int(digit)\n",
    "    return digit_sum\n",
    "\n",
    "# Main program: Iterate from 1 to 5 and calculate the sum of digits of each factorial\n",
    "results = []\n",
    "for i in range(1, 6):  # Loop from 1 to 5\n",
    "    results.append(factorial_digit_sum(i))\n",
    "\n",
    "# Display results\n",
    "for i, result in enumerate(results, 1):\n",
    "    print(f\"Sum of digits of {i}! = {result}\")\n"
   ]
  },
  {
   "cell_type": "code",
   "execution_count": 59,
   "id": "79b63e6c-a57a-46bf-a360-7004495ca723",
   "metadata": {},
   "outputs": [
    {
     "name": "stdout",
     "output_type": "stream",
     "text": [
      "The longest word in the sentence is: greatest\n"
     ]
    }
   ],
   "source": [
    "# 37. Write a program that finds the longest word in a sentence using list comprehension.\n",
    "# Function to find the longest word in a sentence\n",
    "def longest_word(sentence):\n",
    "    # Split the sentence into words and find the word with the maximum length using list comprehension\n",
    "    words = sentence.split()\n",
    "    longest = max([word for word in words], key=len)\n",
    "    return longest\n",
    "\n",
    "# Example sentence\n",
    "sentence = \"The greatest glory in living lies not in never falling, but in rising every time we fall.\"\n",
    "\n",
    "# Get the longest word\n",
    "longest = longest_word(sentence)\n",
    "\n",
    "# Output: Display the result\n",
    "print(\"The longest word in the sentence is:\", longest)\n",
    "\n"
   ]
  },
  {
   "cell_type": "code",
   "execution_count": 47,
   "id": "4e55c845-401b-4a37-9ecf-7117b8afb630",
   "metadata": {},
   "outputs": [
    {
     "name": "stdout",
     "output_type": "stream",
     "text": [
      "Strings with more than three vowels: ['beautiful', 'aeiou']\n"
     ]
    }
   ],
   "source": [
    "# 38. Create a program that filters a list of strings to include only those with more than three vowels using list comprehension.\n",
    "\n",
    "# Function to filter strings with more than three vowels\n",
    "def filter_strings_by_vowels(strings):\n",
    "    # Using list comprehension to filter strings with more than three vowels\n",
    "    filtered_strings = [string for string in strings if sum(1 for char in string.lower() if char in 'aeiou') > 3]\n",
    "    return filtered_strings\n",
    "\n",
    "# List of strings\n",
    "strings = [\"hello\", \"beautiful\", \"world\", \"amazing\", \"aeiou\", \"python\"]\n",
    "\n",
    "# Filter the strings\n",
    "filtered_strings = filter_strings_by_vowels(strings)\n",
    "\n",
    "# Output: Display the filtered list of strings\n",
    "print(\"Strings with more than three vowels:\", filtered_strings)"
   ]
  },
  {
   "cell_type": "code",
   "execution_count": 49,
   "id": "4cf0810d-b2bb-42b8-9596-3f8741f9cd96",
   "metadata": {},
   "outputs": [
    {
     "name": "stdout",
     "output_type": "stream",
     "text": [
      "The sum of the digits of numbers from 1 to 1000 is: 13501\n"
     ]
    }
   ],
   "source": [
    "#39. Develop a program that calculates the sum of the digits of numbers from 1 to 1000 using list comprehension.\n",
    "\n",
    "# Function to calculate the sum of digits of numbers from 1 to 1000\n",
    "def sum_of_digits(limit):\n",
    "    # Using list comprehension to sum the digits of numbers from 1 to 'limit'\n",
    "    total_sum = sum([sum(int(digit) for digit in str(number)) for number in range(1, limit + 1)])\n",
    "    return total_sum\n",
    "\n",
    "# Calculate the sum of digits of numbers from 1 to 1000\n",
    "result = sum_of_digits(1000)\n",
    "\n",
    "# Output: Display the result\n",
    "print(\"The sum of the digits of numbers from 1 to 1000 is:\", result)"
   ]
  },
  {
   "cell_type": "code",
   "execution_count": 55,
   "id": "d1a22443-dbda-4af2-9fa5-599f788786c3",
   "metadata": {},
   "outputs": [
    {
     "name": "stdout",
     "output_type": "stream",
     "text": [
      "Prime Palindromic Numbers up to 1000 are: [2, 3, 5, 7, 11, 101, 131, 151, 181, 191, 313, 353, 373, 383, 727, 757, 787, 797, 919, 929]\n"
     ]
    }
   ],
   "source": [
    "# 40. Write a program that generates a list of prime palindromic numbers using list comprehension.\n",
    "\n",
    "# Function to check if a number is prime\n",
    "def is_prime(num):\n",
    "    if num < 2:\n",
    "        return False\n",
    "    for i in range(2, int(num ** 0.5) + 1):\n",
    "        if num % i == 0:\n",
    "            return False\n",
    "    return True\n",
    "\n",
    "# Function to check if a number is palindromic\n",
    "def is_palindrome(num):\n",
    "    return str(num) == str(num)[::-1]\n",
    "\n",
    "# Generate a list of prime palindromic numbers up to a specified limit\n",
    "def prime_palindromic_numbers(limit):\n",
    "    return [num for num in range(2, limit + 1) if is_prime(num) and is_palindrome(num)]\n",
    "\n",
    "# Set the limit to which prime palindromic numbers will be generated\n",
    "limit = 1000\n",
    "\n",
    "# Get the list of prime palindromic numbers\n",
    "prime_palindromes = prime_palindromic_numbers(limit)\n",
    "\n",
    "# Output: Display the result\n",
    "print(\"Prime Palindromic Numbers up to\", limit, \"are:\", prime_palindromes)\n"
   ]
  },
  {
   "cell_type": "code",
   "execution_count": null,
   "id": "289ef0d6-f167-430b-a661-b327fafda8fe",
   "metadata": {},
   "outputs": [],
   "source": []
  }
 ],
 "metadata": {
  "kernelspec": {
   "display_name": "Python 3 (ipykernel)",
   "language": "python",
   "name": "python3"
  },
  "language_info": {
   "codemirror_mode": {
    "name": "ipython",
    "version": 3
   },
   "file_extension": ".py",
   "mimetype": "text/x-python",
   "name": "python",
   "nbconvert_exporter": "python",
   "pygments_lexer": "ipython3",
   "version": "3.12.4"
  }
 },
 "nbformat": 4,
 "nbformat_minor": 5
}
