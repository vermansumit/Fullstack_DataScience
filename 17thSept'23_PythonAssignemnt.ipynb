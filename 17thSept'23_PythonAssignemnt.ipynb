{
 "cells": [
  {
   "cell_type": "code",
   "execution_count": null,
   "id": "164281ed-3117-419f-aa9c-a5358168f4e0",
   "metadata": {},
   "outputs": [],
   "source": [
    "''' For Loop '''"
   ]
  },
  {
   "cell_type": "code",
   "execution_count": 1,
   "id": "2c4b2cce-560f-4dda-add0-060df928ddb1",
   "metadata": {},
   "outputs": [
    {
     "name": "stdout",
     "output_type": "stream",
     "text": [
      "1\n",
      "2\n",
      "3\n",
      "4\n",
      "5\n",
      "6\n",
      "7\n",
      "8\n",
      "9\n",
      "10\n"
     ]
    }
   ],
   "source": [
    "# 1.\tWrite a Python program to print numbers from 1 to 10 using a for loop.\n",
    "\n",
    "# Program to print numbers from 1 to 10\n",
    "for number in range(1, 11):  # range(1, 11) generates numbers from 1 to 10\n",
    "    print(number)"
   ]
  },
  {
   "cell_type": "code",
   "execution_count": 3,
   "id": "2173403e-7b12-400c-b0ff-8d405a6f0c1e",
   "metadata": {},
   "outputs": [
    {
     "data": {
      "text/plain": [
       "\" In Python, both for and while loops are used to repeatedly execute a block of code, but they differ in their structure, purpose, and typical use cases. Here's a breakdown of the differences:\\n\\n1. Purpose\\nfor loop: Used when the number of iterations is known or when iterating over a sequence (e.g., a list, tuple, string, or range).\\nwhile loop: Used when the number of iterations is not known in advance, and the loop continues until a specified condition becomes false.\\n2. Syntax\\n    for loop:\\n\\n    python\\n\\n    for variable in sequence:\\n        # code block\\n    It iterates over items in a sequence or range.\\n\\n    while loop:\\n\\n    python\\n\\n    while condition:\\n        # code block\\n    It executes as long as the condition evaluates to True.\\n\\n3. Use Cases\\nfor loop:\\n    - Iterating through a range of numbers.\\n    - Traversing through items in a list, string, or dictionary.\\n    - When the number of iterations is predetermined.\\n\\nwhile loop:\\n\\n    - Repeating a task until a condition changes (e.g., waiting for user input or processing until a variable reaches a certain value).\\n    - Infinite loops when paired with a condition that is always True (e.g., event-driven programs). \""
      ]
     },
     "execution_count": 3,
     "metadata": {},
     "output_type": "execute_result"
    }
   ],
   "source": [
    "# 2.\tExplain the difference between a for loop and a while loop in Python.\n",
    "\n",
    "''' In Python, both for and while loops are used to repeatedly execute a block of code, but they differ in their structure, purpose, and typical use cases. Here's a breakdown of the differences:\n",
    "\n",
    "1. Purpose\n",
    "for loop: Used when the number of iterations is known or when iterating over a sequence (e.g., a list, tuple, string, or range).\n",
    "while loop: Used when the number of iterations is not known in advance, and the loop continues until a specified condition becomes false.\n",
    "2. Syntax\n",
    "    for loop:\n",
    "\n",
    "    python\n",
    "\n",
    "    for variable in sequence:\n",
    "        # code block\n",
    "    It iterates over items in a sequence or range.\n",
    "\n",
    "    while loop:\n",
    "\n",
    "    python\n",
    "\n",
    "    while condition:\n",
    "        # code block\n",
    "    It executes as long as the condition evaluates to True.\n",
    "\n",
    "3. Use Cases\n",
    "for loop:\n",
    "    - Iterating through a range of numbers.\n",
    "    - Traversing through items in a list, string, or dictionary.\n",
    "    - When the number of iterations is predetermined.\n",
    "\n",
    "while loop:\n",
    "\n",
    "    - Repeating a task until a condition changes (e.g., waiting for user input or processing until a variable reaches a certain value).\n",
    "    - Infinite loops when paired with a condition that is always True (e.g., event-driven programs). '''\n",
    "\n",
    "\n",
    "\n"
   ]
  },
  {
   "cell_type": "code",
   "execution_count": 5,
   "id": "b43798e7-d6b9-4647-a225-7fd2ded93262",
   "metadata": {},
   "outputs": [
    {
     "name": "stdout",
     "output_type": "stream",
     "text": [
      "The sum of numbers from 1 to 100 is: 5050\n"
     ]
    }
   ],
   "source": [
    "# 3.\tWrite a Python program to calculate the sum of all numbers from 1 to 100 using a for loop.\n",
    "\n",
    "\n",
    "# Program to calculate the sum of all numbers from 1 to 100\n",
    "total_sum = 0  # Initialize the sum to 0\n",
    "\n",
    "# Iterate through numbers from 1 to 100\n",
    "for number in range(1, 101):  # range(1, 101) generates numbers from 1 to 100\n",
    "    total_sum += number  # Add each number to the total sum\n",
    "\n",
    "# Print the result\n",
    "print(\"The sum of numbers from 1 to 100 is:\", total_sum)\n"
   ]
  },
  {
   "cell_type": "code",
   "execution_count": null,
   "id": "b8490119-2e95-4b90-871d-e95a2dfe4578",
   "metadata": {},
   "outputs": [],
   "source": [
    "# 4.\tHow do you iterate through a list using a for loop in Python?\n",
    "\n",
    "'''\n",
    "To iterate through a list in Python using a for loop, you simply use the for loop with the list as the sequence. The for loop automatically iterates over each element in the list, one at a time. Here's how it works:\n",
    "\n",
    "Syntax\n",
    "    for element in list_name:\n",
    "        # Code block using the element\n",
    "Example\n",
    "    # Define a list\n",
    "    fruits = [\"apple\", \"banana\", \"cherry\", \"date\"]\n",
    "\n",
    "    # Iterate through the list\n",
    "    for fruit in fruits:\n",
    "        print(fruit)\n",
    "Output\n",
    "    apple\n",
    "    banana\n",
    "    cherry\n",
    "    date\n",
    "Explanation\n",
    "    The list fruits contains the items \"apple\", \"banana\", \"cherry\", and \"date\".\n",
    "    The for loop assigns each item from the list to the variable fruit in each iteration.\n",
    "    Inside the loop, you can perform operations using the current item (fruit).\n",
    "Variations\n",
    "1- Using Indexes: If you need to access the index along with the value, you can use the enumerate() function:\n",
    "\n",
    "    for index, fruit in enumerate(fruits):\n",
    "        print(f\"Index {index}: {fruit}\")\n",
    "Output:\n",
    "    Index 0: apple\n",
    "    Index 1: banana\n",
    "    Index 2: cherry\n",
    "    Index 3: date\n",
    "\n",
    "2- Modifying the Elements: You can modify the elements by iterating over the indexes:\n",
    "    for i in range(len(fruits)):\n",
    "        fruits[i] = fruits[i].upper()\n",
    "    print(fruits)\n",
    "Output:\n",
    "    ['APPLE', 'BANANA', 'CHERRY', 'DATE']\n",
    "\n",
    "3- Using List Comprehensions: If you just want to apply a transformation or filter, you can use a list comprehension:\n",
    "\n",
    "    capitalized_fruits = [fruit.capitalize() for fruit in fruits]\n",
    "    print(capitalized_fruits)\n",
    "\n",
    "Output:\n",
    "    ['Apple', 'Banana', 'Cherry', 'Date'] '''"
   ]
  },
  {
   "cell_type": "code",
   "execution_count": 7,
   "id": "b5ee7644-d542-45e0-bb3c-c355e215198d",
   "metadata": {},
   "outputs": [
    {
     "name": "stdout",
     "output_type": "stream",
     "text": [
      "The product of all elements in the list is: 120\n"
     ]
    }
   ],
   "source": [
    "# 5.\tWrite a Python program to find the product of all elements in a list using a for loop.\n",
    "\n",
    "# Program to find the product of all elements in a list\n",
    "\n",
    "# Define the list\n",
    "numbers = [2, 3, 4, 5]\n",
    "\n",
    "# Initialize the product to 1\n",
    "product = 1\n",
    "\n",
    "# Iterate through the list\n",
    "for number in numbers:\n",
    "    product *= number  # Multiply each number with the product\n",
    "\n",
    "# Print the result\n",
    "print(\"The product of all elements in the list is:\", product)\n"
   ]
  },
  {
   "cell_type": "code",
   "execution_count": 9,
   "id": "3ff0f22f-9c29-4024-b10f-b380ef1b8a5a",
   "metadata": {},
   "outputs": [
    {
     "name": "stdout",
     "output_type": "stream",
     "text": [
      "2\n",
      "4\n",
      "6\n",
      "8\n",
      "10\n",
      "12\n",
      "14\n",
      "16\n",
      "18\n",
      "20\n"
     ]
    }
   ],
   "source": [
    "# 6.\tCreate a Python program that prints all even numbers from 1 to 20 using a for loop.\n",
    "\n",
    "\n",
    "# Program to print all even numbers from 1 to 20\n",
    "\n",
    "# Iterate through numbers from 1 to 20\n",
    "for number in range(1, 21):  # range(1, 21) generates numbers from 1 to 20\n",
    "    if number % 2 == 0:  # Check if the number is even\n",
    "        print(number)\n"
   ]
  },
  {
   "cell_type": "code",
   "execution_count": 11,
   "id": "fd870fb2-52f1-4c94-a60d-360638e6d2ca",
   "metadata": {},
   "outputs": [
    {
     "name": "stdin",
     "output_type": "stream",
     "text": [
      "Enter a number:  9\n"
     ]
    },
    {
     "name": "stdout",
     "output_type": "stream",
     "text": [
      "The factorial of 9 is: 362880\n"
     ]
    }
   ],
   "source": [
    "# 7.\tWrite a Python program that calculates the factorial of a number using a for loop.\n",
    "\n",
    "# Program to calculate the factorial of a number\n",
    "\n",
    "# Input from the user\n",
    "number = int(input(\"Enter a number: \"))\n",
    "\n",
    "# Initialize the factorial to 1\n",
    "factorial = 1\n",
    "\n",
    "# Calculate factorial using a for loop\n",
    "for i in range(1, number + 1):  # range(1, number+1) includes all numbers from 1 to 'number'\n",
    "    factorial *= i\n",
    "\n",
    "# Print the result\n",
    "print(f\"The factorial of {number} is: {factorial}\")\n"
   ]
  },
  {
   "cell_type": "code",
   "execution_count": null,
   "id": "7915112e-cd18-44fa-8425-6787ead69c1d",
   "metadata": {},
   "outputs": [],
   "source": [
    "# 8.\tHow can you iterate through the characters of a string using a for loop in Python?\n",
    "\n",
    "''' \n",
    "In Python, you can iterate through the characters of a string using a for loop. Strings are iterable, so the loop processes each character one at a time.\n",
    "\n",
    "        for char in string_name:\n",
    "            # Code block using the character\n",
    "    Example\n",
    "        Here’s an example to demonstrate iterating through the characters of a string:\n",
    "            # Define a string\n",
    "                text = \"hello\"\n",
    "\n",
    "            # Iterate through the characters of the string\n",
    "                for char in text:\n",
    "                    print(char)\n",
    "    Output\n",
    "\n",
    "            h\n",
    "            e\n",
    "            l\n",
    "            l\n",
    "            o\n",
    "\n",
    "    Explanation\n",
    "        The string text contains the characters \"h\", \"e\", \"l\", \"l\", and \"o\".\n",
    "        The for loop assigns each character of the string to the variable char during each iteration.\n",
    "        Inside the loop, the current character is printed.\n",
    "\n",
    "    Additional Use Cases\n",
    "        Accessing Index Along with Characters: Use enumerate() to get both the index and the character:\n",
    "\n",
    "        for index, char in enumerate(text):\n",
    "            print(f\"Index {index}: {char}\")\n",
    "        Output:\n",
    "            Index 0: h\n",
    "            Index 1: e\n",
    "            Index 2: l\n",
    "            Index 3: l\n",
    "            Index 4: o\n",
    "        Processing Each Character: Convert characters to uppercase as you iterate:\n",
    "            for char in text:\n",
    "                print(char.upper())\n",
    "        Output:\n",
    "                    H\n",
    "                    E\n",
    "                    L\n",
    "                    L\n",
    "                    O\n",
    "'''"
   ]
  },
  {
   "cell_type": "code",
   "execution_count": 13,
   "id": "a63ebf8e-f4e1-446e-8416-94bee945a07e",
   "metadata": {},
   "outputs": [
    {
     "name": "stdout",
     "output_type": "stream",
     "text": [
      "The largest number in the list is: 74\n"
     ]
    }
   ],
   "source": [
    "# 9.\tWrite a Python program to find the largest number in a list using a for loop.\n",
    "\n",
    "# Program to find the largest number in a list\n",
    "\n",
    "# Define the list\n",
    "numbers = [3, 41, 12, 9, 74, 15]\n",
    "\n",
    "# Initialize the largest number to the first element of the list\n",
    "largest = numbers[0]\n",
    "\n",
    "# Iterate through the list\n",
    "for number in numbers:\n",
    "    if number > largest:  # Check if the current number is larger than the largest\n",
    "        largest = number  # Update the largest number\n",
    "\n",
    "# Print the result\n",
    "print(\"The largest number in the list is:\", largest)"
   ]
  },
  {
   "cell_type": "code",
   "execution_count": 15,
   "id": "2d40e5a0-3ae9-491f-b8b1-1ff209e398e1",
   "metadata": {},
   "outputs": [
    {
     "name": "stdin",
     "output_type": "stream",
     "text": [
      "Enter the limit for the Fibonacci sequence:  15\n"
     ]
    },
    {
     "name": "stdout",
     "output_type": "stream",
     "text": [
      "Fibonacci sequence up to 15 :\n",
      "0 1 1 2 3 5 8 13 21 34 55 89 144 233 377 "
     ]
    }
   ],
   "source": [
    "# 10.\tCreate a Python program that prints the Fibonacci sequence up to a specified limit using a for loop.\n",
    "\n",
    "\n",
    "# Program to print the Fibonacci sequence up to a specified limit\n",
    "\n",
    "# Input the limit\n",
    "limit = int(input(\"Enter the limit for the Fibonacci sequence: \"))\n",
    "\n",
    "# Initialize the first two numbers of the Fibonacci sequence\n",
    "a, b = 0, 1\n",
    "\n",
    "# Print the Fibonacci sequence using a for loop\n",
    "print(\"Fibonacci sequence up to\", limit, \":\")\n",
    "for _ in range(limit):  # Run the loop for the specified limit\n",
    "    print(a, end=\" \")  # Print the current number\n",
    "    a, b = b, a + b  # Update the numbers for the next iteration\n"
   ]
  },
  {
   "cell_type": "code",
   "execution_count": 17,
   "id": "f8672a18-5749-40b7-a01f-5d8ecc4f509c",
   "metadata": {},
   "outputs": [
    {
     "name": "stdin",
     "output_type": "stream",
     "text": [
      "Enter a string:  United States of America\n"
     ]
    },
    {
     "name": "stdout",
     "output_type": "stream",
     "text": [
      "The number of vowels in the string is: 10\n"
     ]
    }
   ],
   "source": [
    "# 11.\tWrite a Python program to count the number of vowels in a given string using a for loop.\n",
    "\n",
    "\n",
    "# Program to count the number of vowels in a given string\n",
    "\n",
    "# Input the string\n",
    "text = input(\"Enter a string: \")\n",
    "\n",
    "# Initialize a variable to store the count of vowels\n",
    "vowel_count = 0\n",
    "\n",
    "# Define a set of vowels (both lowercase and uppercase)\n",
    "vowels = \"aeiouAEIOU\"\n",
    "\n",
    "# Iterate through each character in the string\n",
    "for char in text:\n",
    "    if char in vowels:  # Check if the character is a vowel\n",
    "        vowel_count += 1  # Increment the count\n",
    "\n",
    "# Print the result\n",
    "print(\"The number of vowels in the string is:\", vowel_count)\n"
   ]
  },
  {
   "cell_type": "code",
   "execution_count": 21,
   "id": "e82f2e4f-1fa0-4579-8480-36e67424905a",
   "metadata": {},
   "outputs": [
    {
     "name": "stdin",
     "output_type": "stream",
     "text": [
      "Enter a number to generate its multiplication table:  4\n"
     ]
    },
    {
     "name": "stdout",
     "output_type": "stream",
     "text": [
      "Multiplication table for 4:\n",
      "4 x 1 = 4\n",
      "4 x 2 = 8\n",
      "4 x 3 = 12\n",
      "4 x 4 = 16\n",
      "4 x 5 = 20\n",
      "4 x 6 = 24\n",
      "4 x 7 = 28\n",
      "4 x 8 = 32\n",
      "4 x 9 = 36\n",
      "4 x 10 = 40\n"
     ]
    }
   ],
   "source": [
    "# 12.\tCreate a Python program that generates a multiplication table for a given number using a for loop.\n",
    "\n",
    "# Program to generate a multiplication table for a given number\n",
    "\n",
    "# Input the number\n",
    "number = int(input(\"Enter a number to generate its multiplication table: \"))\n",
    "\n",
    "# Generate the multiplication table using a for loop\n",
    "print(f\"Multiplication table for {number}:\")\n",
    "\n",
    "for i in range(1, 11):  # Loop through numbers 1 to 10\n",
    "    result = number * i  # Multiply the given number by the loop variable\n",
    "    print(f\"{number} x {i} = {result}\")\n"
   ]
  },
  {
   "cell_type": "code",
   "execution_count": 23,
   "id": "fc498d8e-1a86-4f49-8893-acead645d4cc",
   "metadata": {},
   "outputs": [
    {
     "name": "stdout",
     "output_type": "stream",
     "text": [
      "Reversed list: [5, 4, 3, 2, 1]\n"
     ]
    }
   ],
   "source": [
    "# 13.\tWrite a Python program to reverse a list using a for loop.\n",
    "\n",
    "# Program to reverse a list using a for loop\n",
    "\n",
    "# Define the list\n",
    "original_list = [1, 2, 3, 4, 5]\n",
    "\n",
    "# Initialize an empty list to store the reversed list\n",
    "reversed_list = []\n",
    "\n",
    "# Iterate through the original list in reverse order using a for loop\n",
    "for item in original_list[::-1]:  # original_list[::-1] generates the list in reverse\n",
    "    reversed_list.append(item)  # Add each item to the reversed list\n",
    "\n",
    "# Print the reversed list\n",
    "print(\"Reversed list:\", reversed_list)\n"
   ]
  },
  {
   "cell_type": "code",
   "execution_count": 25,
   "id": "21e82f63-3d34-41f1-9e21-650b1e6514f4",
   "metadata": {},
   "outputs": [
    {
     "name": "stdout",
     "output_type": "stream",
     "text": [
      "Common elements: [3, 4, 5]\n"
     ]
    }
   ],
   "source": [
    "# 14.\tWrite a Python program to find the common elements between two lists using a for loop.\n",
    "\n",
    "# Program to find the common elements between two lists\n",
    "\n",
    "# Define the two lists\n",
    "list1 = [1, 2, 3, 4, 5]\n",
    "list2 = [3, 4, 5, 6, 7]\n",
    "\n",
    "# Initialize an empty list to store the common elements\n",
    "common_elements = []\n",
    "\n",
    "# Iterate through the first list\n",
    "for element in list1:\n",
    "    if element in list2:  # Check if the element is in the second list\n",
    "        common_elements.append(element)  # Add it to the common_elements list\n",
    "\n",
    "# Print the result\n",
    "print(\"Common elements:\", common_elements)\n"
   ]
  },
  {
   "cell_type": "code",
   "execution_count": null,
   "id": "9660b2d4-509d-40de-8c5f-cc7c9e16a46e",
   "metadata": {},
   "outputs": [],
   "source": [
    "# 15.\tExplain how to use a for loop to iterate through the keys and values of a dictionary in Python.\n",
    "\n",
    "'''  In Python, you can use a for loop to iterate through the keys and values of a dictionary using the items() method. The items() method returns each key-value pair in the dictionary as a tuple, which you can unpack inside the loop.\n",
    "\n",
    "Syntax\n",
    "            for key, value in dictionary.items():\n",
    "                # Code block using key and value\n",
    "Explanation\n",
    "    dictionary.items() generates a sequence of tuples where each tuple consists of a key and its corresponding value.\n",
    "    The for loop iterates over these tuples, and you can unpack the tuple into key and value variables.\n",
    "    Inside the loop, you can use key and value to access the key and value of each dictionary entry.\n",
    "\n",
    "Example\n",
    "                # Define a dictionary\n",
    "            my_dict = {'a': 1, 'b': 2, 'c': 3}\n",
    "\n",
    "                # Iterate through the dictionary keys and values\n",
    "            for key, value in my_dict.items():\n",
    "                print(f\"Key: {key}, Value: {value}\")\n",
    "Output\n",
    "                Key: a, Value: 1\n",
    "                Key: b, Value: 2\n",
    "                Key: c, Value: 3\n",
    "\n",
    "Explanation of the Example\n",
    "    my_dict is a dictionary where keys are 'a', 'b', and 'c', and their corresponding values are 1, 2, and 3.\n",
    "    The for loop iterates over the dictionary's items using my_dict.items(), which returns the key-value pairs.\n",
    "    Inside the loop, the key and value are unpacked and printed.\n",
    "\n",
    "Other Variations\n",
    "    Iterating only through keys: You can also iterate over just the keys using the keys() method:\n",
    "            for key in my_dict.keys():\n",
    "                print(f\"Key: {key}, Value: {my_dict[key]}\")\n",
    "    Iterating only through values: Similarly, you can iterate over just the values using the values() method:\n",
    "            for value in my_dict.values():\n",
    "                print(f\"Value: {value}\")\n",
    "                '''\n"
   ]
  },
  {
   "cell_type": "code",
   "execution_count": 27,
   "id": "8e75072f-594b-4215-aded-32d6e5472abc",
   "metadata": {},
   "outputs": [
    {
     "name": "stdin",
     "output_type": "stream",
     "text": [
      "Enter the first number:  25\n",
      "Enter the second number:  35\n"
     ]
    },
    {
     "name": "stdout",
     "output_type": "stream",
     "text": [
      "The GCD of 25 and 35 is: 5\n"
     ]
    }
   ],
   "source": [
    "# 16.\tWrite a Python program to find the GCD (Greatest Common Divisor) of two numbers using a for loop.\n",
    "\n",
    "# Program to find the GCD of two numbers using a for loop\n",
    "\n",
    "# Input the two numbers\n",
    "num1 = int(input(\"Enter the first number: \"))\n",
    "num2 = int(input(\"Enter the second number: \"))\n",
    "\n",
    "# Initialize the GCD to 1\n",
    "gcd = 1\n",
    "\n",
    "# Iterate through all numbers from 1 to the smaller of the two numbers\n",
    "for i in range(1, min(num1, num2) + 1):\n",
    "    if num1 % i == 0 and num2 % i == 0:  # Check if i is a divisor of both numbers\n",
    "        gcd = i  # Update the GCD\n",
    "\n",
    "# Print the result\n",
    "print(f\"The GCD of {num1} and {num2} is: {gcd}\")\n"
   ]
  },
  {
   "cell_type": "code",
   "execution_count": 29,
   "id": "1ccf173a-5d2e-4049-a5b5-59cd347fa9a8",
   "metadata": {},
   "outputs": [
    {
     "name": "stdin",
     "output_type": "stream",
     "text": [
      "Enter a string:  culcutta\n"
     ]
    },
    {
     "name": "stdout",
     "output_type": "stream",
     "text": [
      "The string is not a palindrome.\n"
     ]
    }
   ],
   "source": [
    "# 17.\tCreate a Python program that checks if a string is a palindrome using a for loop.\n",
    "\n",
    "# Program to check if a string is a palindrome using a for loop\n",
    "\n",
    "# Input the string\n",
    "text = input(\"Enter a string: \")\n",
    "\n",
    "# Remove spaces and convert to lowercase for case-insensitive comparison\n",
    "text = text.replace(\" \", \"\").lower()\n",
    "\n",
    "# Initialize a flag to check if the string is a palindrome\n",
    "is_palindrome = True\n",
    "\n",
    "# Iterate through the string and compare characters from both ends\n",
    "for i in range(len(text) // 2):\n",
    "    if text[i] != text[-(i + 1)]:  # Compare characters from both ends\n",
    "        is_palindrome = False\n",
    "        break  # If a mismatch is found, stop checking\n",
    "\n",
    "# Output the result\n",
    "if is_palindrome:\n",
    "    print(\"The string is a palindrome.\")\n",
    "else:\n",
    "    print(\"The string is not a palindrome.\")\n"
   ]
  },
  {
   "cell_type": "code",
   "execution_count": 2,
   "id": "70c5e446-3efc-4699-b22c-dec2feecc21b",
   "metadata": {},
   "outputs": [
    {
     "name": "stdout",
     "output_type": "stream",
     "text": [
      "Original list: [1, 2, 2, 3, 4, 4, 5]\n",
      "List without duplicates: [1, 2, 3, 4, 5]\n"
     ]
    }
   ],
   "source": [
    "# 18.\tWrite a Python program to remove duplicates from a list using a for loop.\n",
    "\n",
    "def remove_duplicates(input_list):\n",
    "    unique_list = []  # Initialize an empty list to store unique elements\n",
    "    for item in input_list:\n",
    "        if item not in unique_list:  # Check if the item is not already in the unique list\n",
    "            unique_list.append(item)  # Add the item to the unique list\n",
    "    return unique_list\n",
    "\n",
    "# Example usage\n",
    "original_list = [1, 2, 2, 3, 4, 4, 5]\n",
    "print(\"Original list:\", original_list)\n",
    "print(\"List without duplicates:\", remove_duplicates(original_list))\n"
   ]
  },
  {
   "cell_type": "code",
   "execution_count": 4,
   "id": "f71912f8-285c-48c2-be0f-63a62ef79496",
   "metadata": {},
   "outputs": [
    {
     "name": "stdout",
     "output_type": "stream",
     "text": [
      "Sentence: Python is a powerful programming language\n",
      "Number of words: 6\n"
     ]
    }
   ],
   "source": [
    "# 19.\tCreate a Python program that counts the number of words in a sentence using a for loop.\n",
    "\n",
    "def count_words(sentence):\n",
    "    # Split the sentence into words\n",
    "    words = sentence.split()\n",
    "    count = 0  # Initialize a counter\n",
    "    for word in words:\n",
    "        count += 1  # Increment the counter for each word\n",
    "    return count\n",
    "\n",
    "# Example usage\n",
    "sentence = \"Python is a powerful programming language\"\n",
    "print(\"Sentence:\", sentence)\n",
    "print(\"Number of words:\", count_words(sentence))\n"
   ]
  },
  {
   "cell_type": "code",
   "execution_count": 6,
   "id": "b6faa830-190f-449b-a3ec-8ceec11961b0",
   "metadata": {},
   "outputs": [
    {
     "name": "stdout",
     "output_type": "stream",
     "text": [
      "Sum of all odd numbers from 1 to 50: 625\n"
     ]
    }
   ],
   "source": [
    "# 20.\tWrite a Python program to find the sum of all odd numbers from 1 to 50 using a for loop.\n",
    "\n",
    "def sum_of_odds():\n",
    "    total = 0  # Initialize the sum\n",
    "    for number in range(1, 51):  # Iterate through numbers from 1 to 50\n",
    "        if number % 2 != 0:  # Check if the number is odd\n",
    "            total += number  # Add the odd number to the total\n",
    "    return total\n",
    "\n",
    "# Example usage\n",
    "print(\"Sum of all odd numbers from 1 to 50:\", sum_of_odds())\n"
   ]
  },
  {
   "cell_type": "code",
   "execution_count": 8,
   "id": "3953850e-21cc-4e61-8e40-b2f6f569b828",
   "metadata": {},
   "outputs": [
    {
     "name": "stdout",
     "output_type": "stream",
     "text": [
      "2000 is a leap year.\n",
      "2001 is not a leap year.\n",
      "2004 is a leap year.\n",
      "1900 is not a leap year.\n",
      "2024 is a leap year.\n"
     ]
    }
   ],
   "source": [
    "# 21.\tWrite a Python program that checks if a given year is a leap year using a for loop.\n",
    "\n",
    "def is_leap_year(year):\n",
    "    # Check if the year is a leap year\n",
    "    if (year % 4 == 0 and year % 100 != 0) or (year % 400 == 0):\n",
    "        return True\n",
    "    return False\n",
    "\n",
    "# Example usage: Checking a range of years using a for loop\n",
    "years = [2000, 2001, 2004, 1900, 2024]  # List of years to check\n",
    "for year in years:\n",
    "    if is_leap_year(year):\n",
    "        print(f\"{year} is a leap year.\")\n",
    "    else:\n",
    "        print(f\"{year} is not a leap year.\")\n"
   ]
  },
  {
   "cell_type": "code",
   "execution_count": 10,
   "id": "cf2082dc-17b7-491f-a465-13ce0e63e9ef",
   "metadata": {},
   "outputs": [
    {
     "name": "stdout",
     "output_type": "stream",
     "text": [
      "The approximate square root of 25 is: 5.0\n"
     ]
    }
   ],
   "source": [
    "# 22.\tCreate a Python program that calculates the square root of a number using a for loop.\n",
    "\n",
    "def square_root(number, iterations=10):\n",
    "    if number < 0:\n",
    "        return \"Square root of a negative number is not real.\"\n",
    "\n",
    "    # Start with an initial guess\n",
    "    guess = number / 2.0\n",
    "    for _ in range(iterations):\n",
    "        # Refine the guess using the Babylonian method\n",
    "        guess = (guess + number / guess) / 2.0\n",
    "    return guess\n",
    "\n",
    "# Example usage\n",
    "num = 25\n",
    "print(f\"The approximate square root of {num} is: {square_root(num)}\")\n"
   ]
  },
  {
   "cell_type": "code",
   "execution_count": 12,
   "id": "828d6e7d-7394-4b52-ac51-7fbb11bd4c40",
   "metadata": {},
   "outputs": [
    {
     "name": "stdout",
     "output_type": "stream",
     "text": [
      "The LCM of 12 and 15 is: 60\n"
     ]
    }
   ],
   "source": [
    "# 23.\tWrite a Python program to find the LCM (Least Common Multiple) of two numbers using a for loop.\n",
    "\n",
    "\n",
    "def find_lcm(num1, num2):\n",
    "    # The LCM is at least as large as the larger of the two numbers\n",
    "    greater = max(num1, num2)\n",
    "    \n",
    "    # Loop from the greater number upwards to find the LCM\n",
    "    for i in range(greater, (num1 * num2) + 1):\n",
    "        if i % num1 == 0 and i % num2 == 0:  # Check if divisible by both numbers\n",
    "            return i  # Return the LCM when found\n",
    "\n",
    "# Example usage\n",
    "number1 = 12\n",
    "number2 = 15\n",
    "print(f\"The LCM of {number1} and {number2} is: {find_lcm(number1, number2)}\")\n"
   ]
  },
  {
   "cell_type": "code",
   "execution_count": 14,
   "id": "e12955d7-e8b8-4a45-a1ee-de04b63aded0",
   "metadata": {},
   "outputs": [
    {
     "data": {
      "text/plain": [
       "' If else : '"
      ]
     },
     "execution_count": 14,
     "metadata": {},
     "output_type": "execute_result"
    }
   ],
   "source": [
    "\"\"\" If else : \"\"\""
   ]
  },
  {
   "cell_type": "code",
   "execution_count": 16,
   "id": "e3baab6c-c0fd-4c9d-a7ea-4402bceb223b",
   "metadata": {},
   "outputs": [
    {
     "name": "stdin",
     "output_type": "stream",
     "text": [
      "Enter a number:  30\n"
     ]
    },
    {
     "name": "stdout",
     "output_type": "stream",
     "text": [
      "The number is positive.\n"
     ]
    }
   ],
   "source": [
    "# 1.\tWrite a Python program to check if a number is positive, negative, or zero using an if-else statement.\n",
    "\n",
    "def check_number(num):\n",
    "    if num > 0:\n",
    "        return \"The number is positive.\"\n",
    "    elif num < 0:\n",
    "        return \"The number is negative.\"\n",
    "    else:\n",
    "        return \"The number is zero.\"\n",
    "\n",
    "# Example usage\n",
    "number = float(input(\"Enter a number: \"))\n",
    "print(check_number(number))\n"
   ]
  },
  {
   "cell_type": "code",
   "execution_count": 18,
   "id": "50c50142-4066-42ab-a6d4-1a667f959c37",
   "metadata": {},
   "outputs": [
    {
     "name": "stdin",
     "output_type": "stream",
     "text": [
      "Enter a number:  25\n"
     ]
    },
    {
     "name": "stdout",
     "output_type": "stream",
     "text": [
      "The number is odd.\n"
     ]
    }
   ],
   "source": [
    "# 2.\tCreate a Python program that checks if a given number is even or odd using an if-else statement.\n",
    "\n",
    "\n",
    "def check_even_odd(num):\n",
    "    if num % 2 == 0:\n",
    "        return \"The number is even.\"\n",
    "    else:\n",
    "        return \"The number is odd.\"\n",
    "\n",
    "# Example usage\n",
    "number = int(input(\"Enter a number: \"))\n",
    "print(check_even_odd(number))\n"
   ]
  },
  {
   "cell_type": "code",
   "execution_count": 20,
   "id": "8a35ca20-039e-4a77-8849-e6b51dadb007",
   "metadata": {},
   "outputs": [
    {
     "name": "stdin",
     "output_type": "stream",
     "text": [
      "Enter a number:  52\n"
     ]
    },
    {
     "name": "stdout",
     "output_type": "stream",
     "text": [
      "The number is positive and even.\n"
     ]
    }
   ],
   "source": [
    "# 3.\tHow can you use nested if-else statements in Python, and provide an example?\n",
    "\n",
    "def classify_number(num):\n",
    "    if num > 0:\n",
    "        if num % 2 == 0:\n",
    "            return \"The number is positive and even.\"\n",
    "        else:\n",
    "            return \"The number is positive and odd.\"\n",
    "    elif num < 0:\n",
    "        if num % 2 == 0:\n",
    "            return \"The number is negative and even.\"\n",
    "        else:\n",
    "            return \"The number is negative and odd.\"\n",
    "    else:\n",
    "        return \"The number is zero.\"\n",
    "\n",
    "# Example usage\n",
    "number = int(input(\"Enter a number: \"))\n",
    "print(classify_number(number))\n"
   ]
  },
  {
   "cell_type": "code",
   "execution_count": 22,
   "id": "5ac391d1-316e-4d0e-b5ea-ad8aa4071485",
   "metadata": {},
   "outputs": [
    {
     "name": "stdin",
     "output_type": "stream",
     "text": [
      "Enter the first number:  52\n",
      "Enter the second number:  63\n",
      "Enter the third number:  45\n"
     ]
    },
    {
     "name": "stdout",
     "output_type": "stream",
     "text": [
      "The largest number is: 63.0\n"
     ]
    }
   ],
   "source": [
    "# 4.\tWrite a Python program to determine the largest of three numbers using if-else.\n",
    "\n",
    "\n",
    "def find_largest(num1, num2, num3):\n",
    "  \"\"\"\n",
    "  This function finds the largest of three numbers using if-else statements.\n",
    "\n",
    "  Args:\n",
    "    num1: The first number.\n",
    "    num2: The second number.\n",
    "    num3: The third number.\n",
    "\n",
    "  Returns:\n",
    "    The largest of the three numbers.\n",
    "  \"\"\"\n",
    "\n",
    "  if num1 >= num2 and num1 >= num3:\n",
    "    return num1\n",
    "  elif num2 >= num1 and num2 >= num3:\n",
    "    return num2\n",
    "  else:\n",
    "    return num3\n",
    "\n",
    "# Get input from the user\n",
    "num1 = float(input(\"Enter the first number: \"))\n",
    "num2 = float(input(\"Enter the second number: \"))\n",
    "num3 = float(input(\"Enter the third number: \"))\n",
    "\n",
    "# Find the largest number\n",
    "largest_number = find_largest(num1, num2, num3)\n",
    "\n",
    "# Print the result\n",
    "print(\"The largest number is:\", largest_number)\n"
   ]
  },
  {
   "cell_type": "code",
   "execution_count": 26,
   "id": "608e4cef-8eb0-4af7-85a0-c6452a89c0be",
   "metadata": {},
   "outputs": [
    {
     "name": "stdin",
     "output_type": "stream",
     "text": [
      "Enter a number:  -6.354\n"
     ]
    },
    {
     "name": "stdout",
     "output_type": "stream",
     "text": [
      "The absolute value of -6.354 is: 6.354\n"
     ]
    }
   ],
   "source": [
    "# 5.\tWrite a Python program that calculates the absolute value of a number using if-else.\n",
    "\n",
    "# Program to calculate the absolute value of a number using if-else\n",
    "\n",
    "# Get input from the user\n",
    "num = float(input(\"Enter a number: \"))\n",
    "\n",
    "# Calculate the absolute value using if-else\n",
    "if num >= 0:\n",
    "    absolute_value = num\n",
    "else:\n",
    "    absolute_value = -num\n",
    "\n",
    "# Print the result\n",
    "print(\"The absolute value of\", num, \"is:\", absolute_value)\n",
    "\n"
   ]
  },
  {
   "cell_type": "code",
   "execution_count": 30,
   "id": "fe2f81e3-00ed-45dd-9e98-31c829511263",
   "metadata": {},
   "outputs": [
    {
     "name": "stdin",
     "output_type": "stream",
     "text": [
      "Enter a single character:  l\n"
     ]
    },
    {
     "name": "stdout",
     "output_type": "stream",
     "text": [
      "'l' is a consonant.\n"
     ]
    }
   ],
   "source": [
    "# 6.\tCreate a Python program that checks if a given character is a vowel or consonant using if-else.\n",
    "\n",
    "\n",
    "# Program to check if a character is a vowel or consonant\n",
    "\n",
    "# Get input from the user\n",
    "char = input(\"Enter a single character: \").lower()\n",
    "\n",
    "# Check if it's a valid alphabetic character\n",
    "if char.isalpha() and len(char) == 1:\n",
    "    # Check if it's a vowel\n",
    "    if char in 'aeiou':\n",
    "        print(f\"'{char}' is a vowel.\")\n",
    "    else:\n",
    "        print(f\"'{char}' is a consonant.\")\n",
    "else:\n",
    "    print(\"Invalid input! Please enter a single alphabetic character.\")\n"
   ]
  },
  {
   "cell_type": "code",
   "execution_count": 32,
   "id": "101c72c7-270b-4d64-97f8-6cd8f87c2529",
   "metadata": {},
   "outputs": [
    {
     "name": "stdin",
     "output_type": "stream",
     "text": [
      "Enter your age:  54\n"
     ]
    },
    {
     "name": "stdout",
     "output_type": "stream",
     "text": [
      "You are eligible to vote.\n"
     ]
    }
   ],
   "source": [
    "# 7.\tWrite a Python program to determine if a user is eligible to vote based on their age using if-else.\n",
    "\n",
    "\n",
    "# Program to check voting eligibility\n",
    "\n",
    "# Get the user's age\n",
    "age = int(input(\"Enter your age: \"))\n",
    "\n",
    "# Check if the user is eligible to vote\n",
    "if age >= 18:\n",
    "    print(\"You are eligible to vote.\")\n",
    "else:\n",
    "    print(\"You are not eligible to vote. You must be at least 18 years old.\")\n",
    "\n"
   ]
  },
  {
   "cell_type": "code",
   "execution_count": 34,
   "id": "687f4780-aa0b-4521-a9d4-27e31b83cfd4",
   "metadata": {},
   "outputs": [
    {
     "name": "stdin",
     "output_type": "stream",
     "text": [
      "Enter the purchase amount:  5000\n"
     ]
    },
    {
     "name": "stdout",
     "output_type": "stream",
     "text": [
      "Purchase Amount: $5000.00\n",
      "Discount: $1000.00\n",
      "Final Amount to Pay: $4000.00\n"
     ]
    }
   ],
   "source": [
    "# 8.\tCreate a Python program that calculates the discount amount based on the purchase amount using if-else.\n",
    "\n",
    "# Program to calculate the discount based on the purchase amount\n",
    "\n",
    "# Get the purchase amount from the user\n",
    "purchase_amount = float(input(\"Enter the purchase amount: \"))\n",
    "\n",
    "# Initialize discount variable\n",
    "discount = 0\n",
    "\n",
    "# Calculate discount based on purchase amount\n",
    "if purchase_amount >= 500:\n",
    "    discount = 0.2 * purchase_amount  # 20% discount\n",
    "elif purchase_amount >= 200:\n",
    "    discount = 0.1 * purchase_amount  # 10% discount\n",
    "elif purchase_amount >= 100:\n",
    "    discount = 0.05 * purchase_amount  # 5% discount\n",
    "else:\n",
    "    discount = 0  # No discount for amounts below 100\n",
    "\n",
    "# Calculate final amount after discount\n",
    "final_amount = purchase_amount - discount\n",
    "\n",
    "# Print the results\n",
    "print(f\"Purchase Amount: ${purchase_amount:.2f}\")\n",
    "print(f\"Discount: ${discount:.2f}\")\n",
    "print(f\"Final Amount to Pay: ${final_amount:.2f}\")\n"
   ]
  },
  {
   "cell_type": "code",
   "execution_count": 36,
   "id": "880ed3de-b0e3-40f7-b154-2e855e2537c6",
   "metadata": {},
   "outputs": [
    {
     "name": "stdin",
     "output_type": "stream",
     "text": [
      "Enter a number:  89\n",
      "Enter the lower limit of the range:  5\n",
      "Enter the upper limit of the range:  11\n"
     ]
    },
    {
     "name": "stdout",
     "output_type": "stream",
     "text": [
      "The number 89.0 is outside the range [5.0, 11.0].\n"
     ]
    }
   ],
   "source": [
    "# 9.\tWrite a Python program to check if a number is within a specified range using if-else.\n",
    "\n",
    "\n",
    "# Program to check if a number is within a specified range\n",
    "\n",
    "# Get the number from the user\n",
    "number = float(input(\"Enter a number: \"))\n",
    "\n",
    "# Get the range limits from the user\n",
    "lower_limit = float(input(\"Enter the lower limit of the range: \"))\n",
    "upper_limit = float(input(\"Enter the upper limit of the range: \"))\n",
    "\n",
    "# Check if the number is within the specified range\n",
    "if lower_limit <= number <= upper_limit:\n",
    "    print(f\"The number {number} is within the range [{lower_limit}, {upper_limit}].\")\n",
    "else:\n",
    "    print(f\"The number {number} is outside the range [{lower_limit}, {upper_limit}].\")\n"
   ]
  },
  {
   "cell_type": "code",
   "execution_count": 38,
   "id": "f8213c24-2710-4a02-9059-0e2227eaa7cb",
   "metadata": {},
   "outputs": [
    {
     "name": "stdin",
     "output_type": "stream",
     "text": [
      "Enter the student's score (0-100):  56\n"
     ]
    },
    {
     "name": "stdout",
     "output_type": "stream",
     "text": [
      "The student's grade is: F\n"
     ]
    }
   ],
   "source": [
    "# 10.\tCreate a Python program that determines the grade of a student based on their score using if-else.\n",
    "\n",
    "# Program to determine the grade of a student based on their score\n",
    "\n",
    "# Get the student's score\n",
    "score = float(input(\"Enter the student's score (0-100): \"))\n",
    "\n",
    "# Determine the grade based on the score\n",
    "if 90 <= score <= 100:\n",
    "    grade = \"A\"\n",
    "elif 80 <= score < 90:\n",
    "    grade = \"B\"\n",
    "elif 70 <= score < 80:\n",
    "    grade = \"C\"\n",
    "elif 60 <= score < 70:\n",
    "    grade = \"D\"\n",
    "elif 0 <= score < 60:\n",
    "    grade = \"F\"\n",
    "else:\n",
    "    grade = None\n",
    "\n",
    "# Print the grade or an error message\n",
    "if grade:\n",
    "    print(f\"The student's grade is: {grade}\")\n",
    "else:\n",
    "    print(\"Invalid score! Please enter a score between 0 and 100.\")\n",
    "\n"
   ]
  },
  {
   "cell_type": "code",
   "execution_count": 40,
   "id": "4d7637cd-a850-49bf-a079-fb8455a2b262",
   "metadata": {},
   "outputs": [
    {
     "name": "stdin",
     "output_type": "stream",
     "text": [
      "Enter a string:  empty\n"
     ]
    },
    {
     "name": "stdout",
     "output_type": "stream",
     "text": [
      "The string is not empty: 'empty'\n"
     ]
    }
   ],
   "source": [
    "# 11.\tWrite a Python program to check if a string is empty or not using if-else.\n",
    "\n",
    "# Program to check if a string is empty or not\n",
    "\n",
    "# Get input from the user\n",
    "user_input = input(\"Enter a string: \")\n",
    "\n",
    "# Check if the string is empty\n",
    "if user_input.strip() == \"\":\n",
    "    print(\"The string is empty.\")\n",
    "else:\n",
    "    print(f\"The string is not empty: '{user_input}'\")\n"
   ]
  },
  {
   "cell_type": "code",
   "execution_count": 42,
   "id": "2f408c51-4d44-477e-9db6-06765992e900",
   "metadata": {},
   "outputs": [
    {
     "name": "stdin",
     "output_type": "stream",
     "text": [
      "Enter the first side of the triangle:  6\n",
      "Enter the second side of the triangle:  9\n",
      "Enter the third side of the triangle:  7\n"
     ]
    },
    {
     "name": "stdout",
     "output_type": "stream",
     "text": [
      "The triangle is a Scalene triangle.\n"
     ]
    }
   ],
   "source": [
    "# 12.\tCreate a Python program that identifies the type of a triangle (e.g., equilateral, isosceles, or scalene) based on input values using if-else.\n",
    "\n",
    "# Program to identify the type of a triangle\n",
    "\n",
    "# Get the lengths of the three sides from the user\n",
    "side1 = float(input(\"Enter the first side of the triangle: \"))\n",
    "side2 = float(input(\"Enter the second side of the triangle: \"))\n",
    "side3 = float(input(\"Enter the third side of the triangle: \"))\n",
    "\n",
    "# Check if the input values form a valid triangle\n",
    "if side1 + side2 > side3 and side1 + side3 > side2 and side2 + side3 > side1:\n",
    "    # Determine the type of triangle\n",
    "    if side1 == side2 == side3:\n",
    "        print(\"The triangle is an Equilateral triangle.\")\n",
    "    elif side1 == side2 or side1 == side3 or side2 == side3:\n",
    "        print(\"The triangle is an Isosceles triangle.\")\n",
    "    else:\n",
    "        print(\"The triangle is a Scalene triangle.\")\n",
    "else:\n",
    "    print(\"The given sides do not form a valid triangle.\")\n"
   ]
  },
  {
   "cell_type": "code",
   "execution_count": 44,
   "id": "ba9bcd56-9c06-44b3-bca9-0e8aa6c76749",
   "metadata": {},
   "outputs": [
    {
     "name": "stdin",
     "output_type": "stream",
     "text": [
      "Enter a number (1-7) to represent a day of the week:  6\n"
     ]
    },
    {
     "name": "stdout",
     "output_type": "stream",
     "text": [
      "The day is Saturday.\n"
     ]
    }
   ],
   "source": [
    "# 13.\tWrite a Python program to determine the day of the week based on a user-provided number using if-else.\n",
    "\n",
    "# Program to determine the day of the week\n",
    "\n",
    "# Get input from the user\n",
    "day_number = int(input(\"Enter a number (1-7) to represent a day of the week: \"))\n",
    "\n",
    "# Determine the day of the week using if-else\n",
    "if day_number == 1:\n",
    "    print(\"The day is Monday.\")\n",
    "elif day_number == 2:\n",
    "    print(\"The day is Tuesday.\")\n",
    "elif day_number == 3:\n",
    "    print(\"The day is Wednesday.\")\n",
    "elif day_number == 4:\n",
    "    print(\"The day is Thursday.\")\n",
    "elif day_number == 5:\n",
    "    print(\"The day is Friday.\")\n",
    "elif day_number == 6:\n",
    "    print(\"The day is Saturday.\")\n",
    "elif day_number == 7:\n",
    "    print(\"The day is Sunday.\")\n",
    "else:\n",
    "    print(\"Invalid input! Please enter a number between 1 and 7.\")\n",
    "\n"
   ]
  },
  {
   "cell_type": "code",
   "execution_count": 48,
   "id": "5a6705d9-1f4a-42b7-936c-fa7f4aac4d08",
   "metadata": {},
   "outputs": [
    {
     "name": "stdin",
     "output_type": "stream",
     "text": [
      "Enter a year:  2025\n"
     ]
    },
    {
     "name": "stdout",
     "output_type": "stream",
     "text": [
      "2025 is not a leap year.\n"
     ]
    }
   ],
   "source": [
    "# 14.\tCreate a Python program that checks if a given year is a leap year using both if-else and a function.\n",
    "\n",
    "def is_leap_year(year):\n",
    "  \"\"\"\n",
    "  This function checks if a given year is a leap year.\n",
    "\n",
    "  Args:\n",
    "    year: The year to check.\n",
    "\n",
    "  Returns:\n",
    "    True if the year is a leap year, False otherwise.\n",
    "  \"\"\"\n",
    "\n",
    "  if (year % 4 == 0 and year % 100 != 0) or (year % 400 == 0):\n",
    "    return True\n",
    "  else:\n",
    "    return False\n",
    "\n",
    "# Get input from the user\n",
    "year = int(input(\"Enter a year: \"))\n",
    "\n",
    "# Check if the year is a leap year\n",
    "if is_leap_year(year):\n",
    "  print(year, \"is a leap year.\")\n",
    "else:\n",
    "  print(year, \"is not a leap year.\")"
   ]
  },
  {
   "cell_type": "code",
   "execution_count": 50,
   "id": "ac669c0a-c6c3-4cc8-962b-37c41ef47ef8",
   "metadata": {},
   "outputs": [
    {
     "name": "stdin",
     "output_type": "stream",
     "text": [
      "Enter a number:  56\n"
     ]
    },
    {
     "name": "stdout",
     "output_type": "stream",
     "text": [
      "The number is positive.\n"
     ]
    }
   ],
   "source": [
    "# 15.\tHow do you use the \"assert\" statement in Python to add debugging checks within if-else blocks?\n",
    "''' The assert statement in Python is used for debugging purposes to ensure \n",
    "that a condition is true during the execution of a program. \n",
    "If the condition evaluates to True, the program continues as normal. \n",
    "If it evaluates to False, an AssertionError is raised, which can include an optional error message.'''\n",
    "\n",
    "# Program to check if a number is positive or negative using assert for debugging\n",
    "\n",
    "# Get input from the user\n",
    "number = int(input(\"Enter a number: \"))\n",
    "\n",
    "# Assert that the number is an integer (you can include a condition to verify the input)\n",
    "assert isinstance(number, int), \"Input must be an integer!\"\n",
    "\n",
    "# Check if the number is positive or negative\n",
    "if number > 0:\n",
    "    print(\"The number is positive.\")\n",
    "elif number < 0:\n",
    "    print(\"The number is negative.\")\n",
    "else:\n",
    "    print(\"The number is zero.\")\n",
    "\n",
    "# Debugging check with assert\n",
    "assert number != 0, \"The number should not be zero in this check!\"\n",
    "\n",
    "\n"
   ]
  },
  {
   "cell_type": "code",
   "execution_count": 6,
   "id": "ba11b4af-f2e5-445e-90cb-ce243046eb90",
   "metadata": {},
   "outputs": [
    {
     "name": "stdin",
     "output_type": "stream",
     "text": [
      "Enter your age:  26\n"
     ]
    },
    {
     "name": "stdout",
     "output_type": "stream",
     "text": [
      "Not eligible for senior citizen discount.\n",
      "Sorry, no discount this time.\n"
     ]
    }
   ],
   "source": [
    "# 16.\tCreate a Python program that determines the eligibility of a person for a senior citizen discount based on age using if-else.\n",
    "\n",
    "def check_senior_discount(age):\n",
    "    \"\"\"\n",
    "    Determines if a person is eligible for a senior citizen discount based on age.\n",
    "\n",
    "    Args:\n",
    "        age: The age of the person (integer).\n",
    "\n",
    "    Returns:\n",
    "        True if eligible for the discount, False otherwise.  Prints a message indicating eligibility.\n",
    "        Handles invalid age input.\n",
    "    \"\"\"\n",
    "\n",
    "    try:\n",
    "        age = int(age)  # Try converting age to an integer. Important for input validation\n",
    "\n",
    "        if age < 0:\n",
    "            print(\"Invalid age. Age cannot be negative.\")\n",
    "            return False  # Or raise an exception if you prefer stricter error handling\n",
    "\n",
    "        senior_age_threshold = 60  # You can change this threshold if needed\n",
    "\n",
    "        if age >= senior_age_threshold:\n",
    "            print(\"Eligible for senior citizen discount.\")\n",
    "            return True\n",
    "        else:\n",
    "            print(\"Not eligible for senior citizen discount.\")\n",
    "            return False\n",
    "\n",
    "    except ValueError:\n",
    "        print(\"Invalid age. Please enter a valid integer age.\")\n",
    "        return False\n",
    "\n",
    "\n",
    "\n",
    "# Get age input from the user (and demonstrate how to call the function)\n",
    "while True: # Loop to allow the user to try again if they enter invalid input.\n",
    "    try:\n",
    "        age_input = input(\"Enter your age: \")\n",
    "        age = int(age_input) # Check if it's an integer *before* passing it to the function\n",
    "        break # Exit the loop if age is a valid integer\n",
    "    except ValueError:\n",
    "        print(\"Invalid input. Please enter a number.\")\n",
    "\n",
    "if check_senior_discount(age): # The function already prints the eligibility message, but you can also use the return value:\n",
    "    print(\"Enjoy your discount!\") # Example of what to do if the discount is applicable.\n",
    "else:\n",
    "    print(\"Sorry, no discount this time.\")"
   ]
  },
  {
   "cell_type": "code",
   "execution_count": 8,
   "id": "43226a4a-4988-4349-84a1-149bf14b5f18",
   "metadata": {},
   "outputs": [
    {
     "name": "stdin",
     "output_type": "stream",
     "text": [
      "Enter a character:  W\n"
     ]
    },
    {
     "name": "stdout",
     "output_type": "stream",
     "text": [
      "The character 'W' is uppercase.\n"
     ]
    }
   ],
   "source": [
    "# 17.\tWrite a Python program to categorize a given character as uppercase, lowercase, or neither using if-else.\n",
    "\n",
    "def categorize_character(char):\n",
    "    \"\"\"Categorizes a single character as uppercase, lowercase, or neither.\n",
    "\n",
    "    Args:\n",
    "        char: The character to categorize (string of length 1).\n",
    "\n",
    "    Returns:\n",
    "        A string indicating the category (\"uppercase\", \"lowercase\", or \"neither\").\n",
    "        Handles cases where input is not a single character.\n",
    "    \"\"\"\n",
    "\n",
    "    if not isinstance(char, str) or len(char) != 1:  # Check if it's a string of length 1\n",
    "        return \"Invalid input. Please enter a single character.\"\n",
    "\n",
    "    if 'A' <= char <= 'Z':\n",
    "        return \"uppercase\"\n",
    "    elif 'a' <= char <= 'z':\n",
    "        return \"lowercase\"\n",
    "    else:\n",
    "        return \"neither\"\n",
    "\n",
    "\n",
    "# Get character input from the user\n",
    "while True:\n",
    "    char_input = input(\"Enter a character: \")\n",
    "    if len(char_input) == 1: # Check if input is a single character *before* passing it to the function\n",
    "        break\n",
    "    else:\n",
    "        print(\"Invalid input. Please enter only one character.\")\n",
    "\n",
    "category = categorize_character(char_input)\n",
    "print(f\"The character '{char_input}' is {category}.\")"
   ]
  },
  {
   "cell_type": "code",
   "execution_count": 10,
   "id": "49016140-a51d-4a4f-896f-d9c325135a1d",
   "metadata": {},
   "outputs": [
    {
     "name": "stdin",
     "output_type": "stream",
     "text": [
      "Enter coefficient a:  5\n",
      "Enter coefficient b:  6\n",
      "Enter coefficient c:  9\n"
     ]
    },
    {
     "name": "stdout",
     "output_type": "stream",
     "text": [
      "The roots are complex: -0.6 ± 1.2i\n"
     ]
    }
   ],
   "source": [
    "# 18.\tWrite a Python program to determine the roots of a quadratic equation using if-else.\n",
    "\n",
    "import math\n",
    "\n",
    "def find_roots(a, b, c):\n",
    "    # Calculate the discriminant\n",
    "    discriminant = b**2 - 4*a*c\n",
    "    \n",
    "    # Check the nature of the roots\n",
    "    if discriminant > 0:\n",
    "        root1 = (-b + math.sqrt(discriminant)) / (2 * a)\n",
    "        root2 = (-b - math.sqrt(discriminant)) / (2 * a)\n",
    "        print(f\"The roots are real and distinct: {root1} and {root2}\")\n",
    "    elif discriminant == 0:\n",
    "        root = -b / (2 * a)\n",
    "        print(f\"The roots are real and equal: {root}\")\n",
    "    else:\n",
    "        real_part = -b / (2 * a)\n",
    "        imaginary_part = math.sqrt(abs(discriminant)) / (2 * a)\n",
    "        print(f\"The roots are complex: {real_part} ± {imaginary_part}i\")\n",
    "\n",
    "# Example usage\n",
    "a = float(input(\"Enter coefficient a: \"))\n",
    "b = float(input(\"Enter coefficient b: \"))\n",
    "c = float(input(\"Enter coefficient c: \"))\n",
    "\n",
    "if a == 0:\n",
    "    print(\"This is not a quadratic equation.\")\n",
    "else:\n",
    "    find_roots(a, b, c)\n"
   ]
  },
  {
   "cell_type": "code",
   "execution_count": 2,
   "id": "f8786661-ba14-4579-9c9a-6fbd959bcc3c",
   "metadata": {},
   "outputs": [
    {
     "name": "stdin",
     "output_type": "stream",
     "text": [
      "Enter a year:  2025\n"
     ]
    },
    {
     "name": "stdout",
     "output_type": "stream",
     "text": [
      "2025 is not a century year.\n"
     ]
    }
   ],
   "source": [
    "# 19.\tCreate a Python program that checks if a given year is a century year or not using if-else.\n",
    "\n",
    "\n",
    "def is_century_year(year):\n",
    "    if year % 100 == 0:\n",
    "        print(f\"{year} is a century year.\")\n",
    "    else:\n",
    "        print(f\"{year} is not a century year.\")\n",
    "\n",
    "# Input from user\n",
    "year = int(input(\"Enter a year: \"))\n",
    "is_century_year(year)\n"
   ]
  },
  {
   "cell_type": "code",
   "execution_count": 14,
   "id": "4f700f9d-128f-421c-9639-08d44f6781de",
   "metadata": {},
   "outputs": [
    {
     "name": "stdin",
     "output_type": "stream",
     "text": [
      "Enter a number:  25\n"
     ]
    },
    {
     "name": "stdout",
     "output_type": "stream",
     "text": [
      "25 is a perfect square.\n"
     ]
    }
   ],
   "source": [
    "# 20.\tWrite a Python program to determine if a given number is a perfect square using if-else.\n",
    "\n",
    "\n",
    "import math\n",
    "\n",
    "def is_perfect_square(number):\n",
    "    # Calculate the square root of the number\n",
    "    sqrt = math.sqrt(number)\n",
    "    \n",
    "    # Check if the square root is an integer\n",
    "    if sqrt.is_integer():\n",
    "        return True\n",
    "    else:\n",
    "        return False\n",
    "\n",
    "# Input from the user\n",
    "num = int(input(\"Enter a number: \"))\n",
    "\n",
    "# Check and display the result\n",
    "if is_perfect_square(num):\n",
    "    print(f\"{num} is a perfect square.\")\n",
    "else:\n",
    "    print(f\"{num} is not a perfect square.\")\n"
   ]
  },
  {
   "cell_type": "code",
   "execution_count": 16,
   "id": "f75fbec0-fec0-495f-8dee-e3bcc3f08511",
   "metadata": {},
   "outputs": [
    {
     "data": {
      "text/plain": [
       "' \\n1. continue Statement:\\nThe continue statement is used inside loops to skip the current iteration and move to the next iteration of the loop.\\n\\nPurpose: When continue is encountered, it prevents the remaining code in the current iteration from being executed \\nand jumps directly to the next loop iteration.\\n\\nExample : \\n\\nfor i in range(1, 6):\\n    if i == 3:\\n        continue  # Skip the iteration when i is 3\\n    print(i)\\n\\nOutput :\\n1\\n2\\n4\\n5\\n\\n2. break Statement:\\nThe break statement is used to exit the loop entirely before the loop has completed all its iterations.\\n\\nPurpose: When break is encountered, the loop is immediately terminated, and the program continues executing the code after the loop.\\n\\nExample : \\n\\nfor i in range(1, 6):\\n    if i == 4:\\n        break  # Exit the loop when i is 4\\n    print(i)\\n\\nOutput : \\n1\\n2\\n3\\n\\n'"
      ]
     },
     "execution_count": 16,
     "metadata": {},
     "output_type": "execute_result"
    }
   ],
   "source": [
    "# 21.\tExplain the purpose of the \"continue\" and \"break\" statements within if-else loops.\n",
    "\n",
    "''' \n",
    "1. continue Statement:\n",
    "The continue statement is used inside loops to skip the current iteration and move to the next iteration of the loop.\n",
    "\n",
    "Purpose: When continue is encountered, it prevents the remaining code in the current iteration from being executed \n",
    "and jumps directly to the next loop iteration.\n",
    "\n",
    "Example : \n",
    "\n",
    "for i in range(1, 6):\n",
    "    if i == 3:\n",
    "        continue  # Skip the iteration when i is 3\n",
    "    print(i)\n",
    "\n",
    "Output :\n",
    "1\n",
    "2\n",
    "4\n",
    "5\n",
    "\n",
    "2. break Statement:\n",
    "The break statement is used to exit the loop entirely before the loop has completed all its iterations.\n",
    "\n",
    "Purpose: When break is encountered, the loop is immediately terminated, and the program continues executing the code after the loop.\n",
    "\n",
    "Example : \n",
    "\n",
    "for i in range(1, 6):\n",
    "    if i == 4:\n",
    "        break  # Exit the loop when i is 4\n",
    "    print(i)\n",
    "\n",
    "Output : \n",
    "1\n",
    "2\n",
    "3\n",
    "\n",
    "'''"
   ]
  },
  {
   "cell_type": "code",
   "execution_count": 18,
   "id": "d2732bd9-b3ee-4daf-9a78-478a9288f007",
   "metadata": {},
   "outputs": [
    {
     "name": "stdin",
     "output_type": "stream",
     "text": [
      "Enter your weight in kg:  73.5\n",
      "Enter your height in meters:  5.2\n"
     ]
    },
    {
     "name": "stdout",
     "output_type": "stream",
     "text": [
      "Your BMI is: 2.72\n",
      "BMI Category: Underweight\n"
     ]
    }
   ],
   "source": [
    "# 22.\tCreate a Python program that calculates the BMI (Body Mass Index) of a person based on their weight and height using if-else.\n",
    "\n",
    "def calculate_bmi(weight, height):\n",
    "    # BMI calculation formula\n",
    "    bmi = weight / (height ** 2)\n",
    "    return bmi\n",
    "\n",
    "def bmi_category(bmi):\n",
    "    # Categorize BMI using if-else\n",
    "    if bmi < 18.5:\n",
    "        return \"Underweight\"\n",
    "    elif 18.5 <= bmi < 24.9:\n",
    "        return \"Normal weight\"\n",
    "    elif 25 <= bmi < 29.9:\n",
    "        return \"Overweight\"\n",
    "    else:\n",
    "        return \"Obesity\"\n",
    "\n",
    "# Input from the user\n",
    "weight = float(input(\"Enter your weight in kg: \"))\n",
    "height = float(input(\"Enter your height in meters: \"))\n",
    "\n",
    "# Calculate BMI\n",
    "bmi = calculate_bmi(weight, height)\n",
    "\n",
    "# Display the result and category\n",
    "print(f\"Your BMI is: {bmi:.2f}\")\n",
    "print(f\"BMI Category: {bmi_category(bmi)}\")\n"
   ]
  },
  {
   "cell_type": "code",
   "execution_count": 22,
   "id": "c0fd4d84-8f50-4f5b-a520-5648cc40c6bf",
   "metadata": {},
   "outputs": [
    {
     "name": "stdout",
     "output_type": "stream",
     "text": [
      "[12, 20, 15]\n"
     ]
    },
    {
     "data": {
      "text/plain": [
       "'\\nExplanation:\\n1. filter_greater_than_10 function: This function checks if a number is greater than 10 using an if-else statement. \\n                                    It returns True for numbers greater than 10, and False for numbers 10 or less.\\n2. filter() function: This applies the filter_greater_than_10 function to each element in the numbers list.\\n                      It only keeps the elements that return True (i.e., numbers greater than 10).\\n3. list() conversion: Since filter() returns an iterable, we use list() to convert it into a list and print the result.\\n'"
      ]
     },
     "execution_count": 22,
     "metadata": {},
     "output_type": "execute_result"
    }
   ],
   "source": [
    "# 23.\tHow can you use the \"filter()\" function with if-else statements to filter elements from a list?\n",
    "\n",
    "# Function to filter numbers greater than 10\n",
    "def filter_greater_than_10(num):\n",
    "    if num > 10:\n",
    "        return True  # Keep numbers greater than 10\n",
    "    else:\n",
    "        return False  # Exclude numbers 10 or less\n",
    "\n",
    "# List of numbers\n",
    "numbers = [5, 12, 7, 20, 3, 15, 8]\n",
    "\n",
    "# Use filter() to apply the condition\n",
    "filtered_numbers = filter(filter_greater_than_10, numbers)\n",
    "\n",
    "# Convert the result to a list and print\n",
    "filtered_list = list(filtered_numbers)\n",
    "print(filtered_list)\n",
    "\n",
    "'''\n",
    "Explanation:\n",
    "1. filter_greater_than_10 function: This function checks if a number is greater than 10 using an if-else statement. \n",
    "                                    It returns True for numbers greater than 10, and False for numbers 10 or less.\n",
    "2. filter() function: This applies the filter_greater_than_10 function to each element in the numbers list.\n",
    "                      It only keeps the elements that return True (i.e., numbers greater than 10).\n",
    "3. list() conversion: Since filter() returns an iterable, we use list() to convert it into a list and print the result.\n",
    "'''\n"
   ]
  },
  {
   "cell_type": "code",
   "execution_count": 24,
   "id": "e0f1efed-b3d7-4d81-ae7b-320d10435714",
   "metadata": {},
   "outputs": [
    {
     "name": "stdin",
     "output_type": "stream",
     "text": [
      "Enter a number:  55\n"
     ]
    },
    {
     "name": "stdout",
     "output_type": "stream",
     "text": [
      "55 is not a prime number.\n"
     ]
    }
   ],
   "source": [
    "# 24.\tWrite a Python program to determine if a given number is prime or not using if-else.\n",
    "\n",
    "def is_prime(number):\n",
    "    # Check if number is less than 2\n",
    "    if number <= 1:\n",
    "        return False  # Numbers less than or equal to 1 are not prime\n",
    "    \n",
    "    # Check divisibility from 2 to the square root of the number\n",
    "    for i in range(2, int(number**0.5) + 1):\n",
    "        if number % i == 0:\n",
    "            return False  # Number is divisible by i, so it's not prime\n",
    "    return True  # If no divisors are found, it's a prime number\n",
    "\n",
    "# Input from the user\n",
    "num = int(input(\"Enter a number: \"))\n",
    "\n",
    "# Determine if the number is prime\n",
    "if is_prime(num):\n",
    "    print(f\"{num} is a prime number.\")\n",
    "else:\n",
    "    print(f\"{num} is not a prime number.\")\n"
   ]
  },
  {
   "cell_type": "code",
   "execution_count": 26,
   "id": "cff5e73b-7f34-48c5-847a-5a2a0aaf9c15",
   "metadata": {},
   "outputs": [
    {
     "data": {
      "text/plain": [
       "' Map :- '"
      ]
     },
     "execution_count": 26,
     "metadata": {},
     "output_type": "execute_result"
    }
   ],
   "source": [
    "''' Map :- '''"
   ]
  },
  {
   "cell_type": "code",
   "execution_count": 28,
   "id": "aef62dfc-dbd7-461c-a15f-a44f0dd83275",
   "metadata": {},
   "outputs": [
    {
     "name": "stdout",
     "output_type": "stream",
     "text": [
      "[1, 4, 9, 16, 25]\n"
     ]
    }
   ],
   "source": [
    "# 1.\tExplain the purpose of the `map()` function in Python and provide an example of how it can be used to apply a function to each element of an iterable.\n",
    "\n",
    "'''\n",
    "The map() function in Python is used to apply a given function to each item of an iterable (like a list, tuple, etc.) \n",
    "and return a map object (an iterator) that produces the results of applying the function.\n",
    "The purpose of map() is to process and transform each element in an iterable without having to use an explicit loop.\n",
    "\n",
    "function: The function to apply to each item in the iterable.\n",
    "iterable: An iterable (such as a list, tuple, etc.) whose elements are passed to the function.\n",
    "Characteristics:\n",
    "The function will be applied to every item of the iterable.\n",
    "It returns an iterator, so you often need to convert the result to a list or another data structure to see the results.\n",
    "'''\n",
    "# Function to square a number\n",
    "def square(num):\n",
    "    return num ** 2\n",
    "\n",
    "# List of numbers\n",
    "numbers = [1, 2, 3, 4, 5]\n",
    "\n",
    "# Use map() to apply the square function to each element of the numbers list\n",
    "squared_numbers = map(square, numbers)\n",
    "\n",
    "# Convert the result to a list and print it\n",
    "squared_numbers_list = list(squared_numbers)\n",
    "print(squared_numbers_list)\n"
   ]
  },
  {
   "cell_type": "code",
   "execution_count": 30,
   "id": "7ad65feb-72d5-40cb-916f-534218b840cf",
   "metadata": {},
   "outputs": [
    {
     "name": "stdout",
     "output_type": "stream",
     "text": [
      "[1, 4, 9, 16, 25]\n"
     ]
    }
   ],
   "source": [
    "# 2.\tWrite a Python program that uses the `map()` function to square each element of a list of numbers.\n",
    "\n",
    "# List of numbers\n",
    "numbers = [1, 2, 3, 4, 5]\n",
    "\n",
    "# Use map() to apply a lambda function that squares each number\n",
    "squared_numbers = map(lambda num: num ** 2, numbers)\n",
    "\n",
    "# Convert the result to a list and print it\n",
    "squared_numbers_list = list(squared_numbers)\n",
    "print(squared_numbers_list)"
   ]
  },
  {
   "cell_type": "code",
   "execution_count": 32,
   "id": "08d6d15a-159b-47d3-bce4-98d3b43c1a80",
   "metadata": {},
   "outputs": [
    {
     "name": "stdout",
     "output_type": "stream",
     "text": [
      "[1, 4, 9, 16, 25]\n",
      "[1, 4, 9, 16, 25]\n",
      "[4, 16]\n"
     ]
    },
    {
     "data": {
      "text/plain": [
       "'\\n5. Use Cases:\\nChoose map() when:\\n\\nYou already have a function that you want to apply to each element.\\nYou prefer the lazy evaluation behavior (when working with large datasets).\\nYou want to use functional programming principles.\\nChoose list comprehension when:\\n\\nYou need to apply a transformation and potentially filter items in a single, clear expression.\\nYou prefer more readable and concise code for simple operations.\\nYou need more flexibility, such as using conditionals or iterating over multiple iterables.\\n'"
      ]
     },
     "execution_count": 32,
     "metadata": {},
     "output_type": "execute_result"
    }
   ],
   "source": [
    "# 3.\tHow does the `map()` function differ from a list comprehension in Python, and when would you choose one over the other?\n",
    "'''\n",
    "Both the map() function and list comprehensions in Python are used to apply a transformation to each element of an iterable. However, they differ in syntax, flexibility, and use cases. Here's a comparison:\n",
    "\n",
    "1. Syntax and Structure:\n",
    "map() function:\n",
    "\n",
    "Takes a function as its first argument and an iterable as the second argument.\n",
    "The function is applied to each element of the iterable.\n",
    "Returns a map object (an iterator), which needs to be converted to a list or another data structure if you want to use the results.\n",
    "'''\n",
    "\n",
    "numbers = [1, 2, 3, 4, 5]\n",
    "squared_numbers = map(lambda num: num ** 2, numbers)\n",
    "print(list(squared_numbers))  # Output: [1, 4, 9, 16, 25]\n",
    "\n",
    "'''\n",
    "List comprehension:\n",
    "\n",
    "Uses a more compact and expressive syntax.\n",
    "Directly creates a list by iterating over an iterable and applying the transformation in the expression.\n",
    "'''\n",
    "\n",
    "numbers = [1, 2, 3, 4, 5]\n",
    "squared_numbers = [num ** 2 for num in numbers]\n",
    "print(squared_numbers)  # Output: [1, 4, 9, 16, 25]\n",
    "\n",
    "\n",
    "'''\n",
    "2. Readability:\n",
    "List comprehension is more concise and generally easier to read for simple transformations because it’s inline and doesn’t require an additional function.\n",
    "\n",
    "map() function is useful when you want to apply an existing function to each item, or when the transformation logic is more complex (and might already be defined in a separate function).\n",
    "\n",
    "3. Performance:\n",
    "map() can be slightly more efficient for large datasets because it returns an iterator, meaning it computes the results lazily (on demand), rather than creating a full list in memory right away.\n",
    "List comprehension generates the entire list at once, which may use more memory when working with large datasets.\n",
    "4. Flexibility:\n",
    "List comprehension allows for more flexibility, such as using conditional logic and multiple for-loops within a single line.\n",
    "'''\n",
    "\n",
    "numbers = [1, 2, 3, 4, 5]\n",
    "even_squares = [num ** 2 for num in numbers if num % 2 == 0]\n",
    "print(even_squares)  # Output: [4, 16]\n",
    "\n",
    "'''\n",
    "5. Use Cases:\n",
    "Choose map() when:\n",
    "\n",
    "You already have a function that you want to apply to each element.\n",
    "You prefer the lazy evaluation behavior (when working with large datasets).\n",
    "You want to use functional programming principles.\n",
    "Choose list comprehension when:\n",
    "\n",
    "You need to apply a transformation and potentially filter items in a single, clear expression.\n",
    "You prefer more readable and concise code for simple operations.\n",
    "You need more flexibility, such as using conditionals or iterating over multiple iterables.\n",
    "'''\n",
    "\n"
   ]
  },
  {
   "cell_type": "code",
   "execution_count": 2,
   "id": "3d99215f-6960-45b4-b22b-1d4ee609dbf6",
   "metadata": {},
   "outputs": [
    {
     "name": "stdout",
     "output_type": "stream",
     "text": [
      "['ALICE', 'BOB', 'CHARLIE', 'DAVID', 'EVE']\n"
     ]
    }
   ],
   "source": [
    "# 4.\tCreate a Python program that uses the `map()` function to convert a list of names to uppercase.\n",
    "\n",
    "# Define a list of names\n",
    "names = [\"Alice\", \"Bob\", \"Charlie\", \"David\", \"Eve\"]\n",
    "\n",
    "# Use map() to convert each name to uppercase\n",
    "uppercase_names = list(map(str.upper, names))\n",
    "\n",
    "# Print the result\n",
    "print(uppercase_names)\n",
    "\n"
   ]
  },
  {
   "cell_type": "code",
   "execution_count": 6,
   "id": "71aa4db5-daa5-498a-b40a-d0adec67baa1",
   "metadata": {},
   "outputs": [
    {
     "name": "stdout",
     "output_type": "stream",
     "text": [
      "[5, 6, 6, 4, 10]\n"
     ]
    }
   ],
   "source": [
    "# 5.\tWrite a Python program that uses the `map()` function to calculate the length of each word in a list of strings.\n",
    "\n",
    "# Define a list of words\n",
    "words = [\"apple\", \"banana\", \"cherry\", \"date\", \"elderberry\"]\n",
    "\n",
    "# Use map() to calculate the length of each word\n",
    "word_lengths = list(map(len, words))\n",
    "\n",
    "# Print the result\n",
    "print(word_lengths)\n",
    "\n",
    "\n"
   ]
  },
  {
   "cell_type": "code",
   "execution_count": 8,
   "id": "d2cd2ddf-0b24-410b-815d-b1fd31e6f515",
   "metadata": {},
   "outputs": [
    {
     "name": "stdout",
     "output_type": "stream",
     "text": [
      "[11, 22, 33, 44]\n"
     ]
    }
   ],
   "source": [
    "# 6.\tHow can you use the `map()` function to apply a custom function to elements of multiple lists simultaneously in Python?\n",
    "\n",
    "# Define two lists\n",
    "list1 = [1, 2, 3, 4]\n",
    "list2 = [10, 20, 30, 40]\n",
    "\n",
    "# Define a custom function that adds corresponding elements\n",
    "def add_numbers(a, b):\n",
    "    return a + b\n",
    "\n",
    "# Use map() to apply the function to both lists simultaneously\n",
    "result = list(map(add_numbers, list1, list2))\n",
    "\n",
    "# Print the result\n",
    "print(result)  # Output: [11, 22, 33, 44]"
   ]
  },
  {
   "cell_type": "code",
   "execution_count": 10,
   "id": "3f9f3f97-474e-4b41-a005-e86003c2a016",
   "metadata": {},
   "outputs": [
    {
     "name": "stdout",
     "output_type": "stream",
     "text": [
      "[32.0, 50.0, 68.0, 86.0, 104.0]\n"
     ]
    }
   ],
   "source": [
    "# 7.\tCreate a Python program that uses `map()` to convert a list of temperatures from Celsius to Fahrenheit.\n",
    "\n",
    "\n",
    "# Define a list of temperatures in Celsius\n",
    "celsius_temps = [0, 10, 20, 30, 40]\n",
    "\n",
    "# Define a function to convert Celsius to Fahrenheit\n",
    "def celsius_to_fahrenheit(c):\n",
    "    return (c * 9/5) + 32\n",
    "\n",
    "# Use map() to convert temperatures to Fahrenheit\n",
    "fahrenheit_temps = list(map(celsius_to_fahrenheit, celsius_temps))\n",
    "\n",
    "# Print the result\n",
    "print(fahrenheit_temps)\n"
   ]
  },
  {
   "cell_type": "code",
   "execution_count": 12,
   "id": "6aa44482-7d14-4906-8d4d-03837fd63992",
   "metadata": {},
   "outputs": [
    {
     "name": "stdout",
     "output_type": "stream",
     "text": [
      "[1, 3, 4, 5, 5]\n"
     ]
    }
   ],
   "source": [
    "# 8.\tWrite a Python program that uses the `map()` function to round each element of a list of floating-point numbers to the nearest integer.\n",
    "\n",
    "\n",
    "# Define a list of floating-point numbers\n",
    "float_numbers = [1.2, 2.8, 3.5, 4.9, 5.1]\n",
    "\n",
    "# Use map() to round each number to the nearest integer\n",
    "rounded_numbers = list(map(round, float_numbers))\n",
    "\n",
    "# Print the result\n",
    "print(rounded_numbers)\n"
   ]
  },
  {
   "cell_type": "code",
   "execution_count": 14,
   "id": "0704325b-4f52-4312-9a66-58a283ee543a",
   "metadata": {},
   "outputs": [
    {
     "data": {
      "text/plain": [
       "' Reduce '"
      ]
     },
     "execution_count": 14,
     "metadata": {},
     "output_type": "execute_result"
    }
   ],
   "source": [
    "''' Reduce '''"
   ]
  },
  {
   "cell_type": "code",
   "execution_count": 16,
   "id": "1234bd7b-063c-4870-9ec1-9150063caf3d",
   "metadata": {},
   "outputs": [
    {
     "name": "stdout",
     "output_type": "stream",
     "text": [
      "15\n"
     ]
    }
   ],
   "source": [
    "# 1.\tWhat is the `reduce()` function in Python, and what module should you import to use it? Provide an example of its basic usage.\n",
    "\n",
    "from functools import reduce\n",
    "\n",
    "# Define a function to sum two numbers\n",
    "def add(x, y):\n",
    "    return x + y\n",
    "\n",
    "# Define a list of numbers\n",
    "numbers = [1, 2, 3, 4, 5]\n",
    "\n",
    "# Use reduce() to compute the sum of all elements\n",
    "result = reduce(add, numbers)\n",
    "\n",
    "# Print the result\n",
    "print(result)  # Output: 15\n"
   ]
  },
  {
   "cell_type": "code",
   "execution_count": 18,
   "id": "af4bc931-1cf9-4300-9039-0352fd80a25c",
   "metadata": {},
   "outputs": [
    {
     "name": "stdout",
     "output_type": "stream",
     "text": [
      "120\n"
     ]
    }
   ],
   "source": [
    "# 2.\tWrite a Python program that uses the `reduce()` function to find the product of all elements in a list.\n",
    "\n",
    "\n",
    "from functools import reduce\n",
    "\n",
    "# Define a list of numbers\n",
    "numbers = [1, 2, 3, 4, 5]\n",
    "\n",
    "# Define a function to compute the product of two numbers\n",
    "def multiply(x, y):\n",
    "    return x * y\n",
    "\n",
    "# Use reduce() to compute the product of all elements\n",
    "product = reduce(multiply, numbers)\n",
    "\n",
    "# Print the result\n",
    "print(product)"
   ]
  },
  {
   "cell_type": "code",
   "execution_count": 22,
   "id": "54dec367-9f93-4bf9-8f61-08c0a81dd8c6",
   "metadata": {},
   "outputs": [
    {
     "name": "stdout",
     "output_type": "stream",
     "text": [
      "24\n"
     ]
    }
   ],
   "source": [
    "# 3.\tCreate a Python program that uses `reduce()` to find the maximum element in a list of numbers.\n",
    "\n",
    "from functools import reduce\n",
    "\n",
    "# Define a list of numbers\n",
    "numbers = [1, 2, 3, 24, 15]\n",
    "\n",
    "# Define a function to find the maximum of two numbers\n",
    "def find_max(x, y):\n",
    "    return x if x > y else y\n",
    "\n",
    "# Use reduce() to find the maximum element in the list\n",
    "max_number = reduce(find_max, numbers)\n",
    "\n",
    "# Print the result\n",
    "print(max_number)\n"
   ]
  },
  {
   "cell_type": "code",
   "execution_count": 24,
   "id": "d37971ba-e6ae-44d0-8649-52be0f7082eb",
   "metadata": {},
   "outputs": [
    {
     "name": "stdout",
     "output_type": "stream",
     "text": [
      "Hello World! How are you?\n"
     ]
    }
   ],
   "source": [
    "# 4.\tHow can you use the `reduce()` function to concatenate a list of strings into a single string?\n",
    "\n",
    "from functools import reduce\n",
    "\n",
    "# Define a list of strings\n",
    "words = [\"Hello\", \" \", \"World\", \"!\", \" How\", \" are\", \" you?\"]\n",
    "\n",
    "# Use reduce() to concatenate the strings\n",
    "concatenated_string = reduce(lambda x, y: x + y, words)\n",
    "\n",
    "# Print the result\n",
    "print(concatenated_string)  # Output: Hello World! How are you?"
   ]
  },
  {
   "cell_type": "code",
   "execution_count": 26,
   "id": "8eba5147-2c15-488b-bf1a-e2437e29f3f8",
   "metadata": {},
   "outputs": [
    {
     "name": "stdout",
     "output_type": "stream",
     "text": [
      "120\n"
     ]
    }
   ],
   "source": [
    "# 5.\tWrite a Python program that calculates the factorial of a number using the `reduce()` function.\n",
    "\n",
    "from functools import reduce\n",
    "\n",
    "# Define a function to calculate the factorial\n",
    "def factorial(n):\n",
    "    if n == 0 or n == 1:\n",
    "        return 1\n",
    "    return reduce(lambda x, y: x * y, range(1, n + 1))\n",
    "\n",
    "# Define a number\n",
    "num = 5\n",
    "\n",
    "# Compute the factorial\n",
    "result = factorial(num)\n",
    "\n",
    "# Print the result\n",
    "print(result)\n"
   ]
  },
  {
   "cell_type": "code",
   "execution_count": 28,
   "id": "9745eed3-1e68-4145-96a7-64983c82ed4f",
   "metadata": {},
   "outputs": [
    {
     "name": "stdout",
     "output_type": "stream",
     "text": [
      "16\n"
     ]
    }
   ],
   "source": [
    "# 6.\tCreate a Python program that uses `reduce()` to find the GCD (Greatest Common Divisor) of a list of numbers.\n",
    "\n",
    "from functools import reduce\n",
    "import math\n",
    "\n",
    "# Define a function to compute the GCD of a list of numbers\n",
    "def compute_gcd(numbers):\n",
    "    return reduce(math.gcd, numbers)\n",
    "\n",
    "# Define a list of numbers\n",
    "numbers = [48, 64, 80, 32]\n",
    "\n",
    "# Compute the GCD\n",
    "result = compute_gcd(numbers)\n",
    "\n",
    "# Print the result\n",
    "print(result)"
   ]
  },
  {
   "cell_type": "code",
   "execution_count": 30,
   "id": "b0ae86d1-1fe0-43de-889c-013ae14fd2c3",
   "metadata": {},
   "outputs": [
    {
     "name": "stdout",
     "output_type": "stream",
     "text": [
      "15\n"
     ]
    }
   ],
   "source": [
    "# 7.\tWrite a Python program that uses the `reduce()` function to find the sum of the digits of a given number.\n",
    "\n",
    "from functools import reduce\n",
    "\n",
    "# Define a function to compute the sum of the digits of a number\n",
    "def sum_of_digits(n):\n",
    "    return reduce(lambda x, y: x + y, map(int, str(n)))\n",
    "\n",
    "# Define a number\n",
    "num = 12345\n",
    "\n",
    "# Compute the sum of its digits\n",
    "result = sum_of_digits(num)\n",
    "\n",
    "# Print the result\n",
    "print(result)"
   ]
  },
  {
   "cell_type": "code",
   "execution_count": 32,
   "id": "e1f34ef4-0833-4cdc-9b53-380180dbdd87",
   "metadata": {},
   "outputs": [
    {
     "data": {
      "text/plain": [
       "' Filter '"
      ]
     },
     "execution_count": 32,
     "metadata": {},
     "output_type": "execute_result"
    }
   ],
   "source": [
    "''' Filter '''"
   ]
  },
  {
   "cell_type": "code",
   "execution_count": 34,
   "id": "daa031a7-be84-4399-8238-1c082d500cf5",
   "metadata": {},
   "outputs": [
    {
     "name": "stdout",
     "output_type": "stream",
     "text": [
      "[2, 4, 6, 8, 10]\n"
     ]
    }
   ],
   "source": [
    "# 1.\tExplain the purpose of the `filter()` function in Python and provide an example of how it can be used to filter elements from an iterable.\n",
    "\n",
    "# Define a list of numbers\n",
    "numbers = [1, 2, 3, 4, 5, 6, 7, 8, 9, 10]\n",
    "\n",
    "# Use filter() to get only even numbers\n",
    "even_numbers = list(filter(lambda x: x % 2 == 0, numbers))\n",
    "\n",
    "# Print the result\n",
    "print(even_numbers)  # Output: [2, 4, 6, 8, 10]"
   ]
  },
  {
   "cell_type": "code",
   "execution_count": 36,
   "id": "9b2bf64b-a829-4c4b-b2c3-8dad6af8212c",
   "metadata": {},
   "outputs": [
    {
     "name": "stdout",
     "output_type": "stream",
     "text": [
      "[2, 4, 6, 8, 10]\n"
     ]
    }
   ],
   "source": [
    "# 2.\tWrite a Python program that uses the `filter()` function to select even numbers from a list of integers.\n",
    "\n",
    "# Define a list of integers\n",
    "numbers = [1, 2, 3, 4, 5, 6, 7, 8, 9, 10]\n",
    "\n",
    "# Use filter() to select even numbers\n",
    "even_numbers = list(filter(lambda x: x % 2 == 0, numbers))\n",
    "\n",
    "# Print the result\n",
    "print(even_numbers)"
   ]
  },
  {
   "cell_type": "code",
   "execution_count": 38,
   "id": "99ec8ff8-927a-4f43-b985-9aea2ac476f8",
   "metadata": {},
   "outputs": [
    {
     "name": "stdout",
     "output_type": "stream",
     "text": [
      "['Alice']\n"
     ]
    }
   ],
   "source": [
    "# 3.\tCreate a Python program that uses the `filter()` function to select names that start with a specific letter from a list of strings.\n",
    "\n",
    "# Define a list of names\n",
    "names = [\"Alice\", \"Bob\", \"Charlie\", \"David\", \"Eve\"]\n",
    "\n",
    "# Define the letter to filter by\n",
    "letter = \"A\"\n",
    "\n",
    "# Use filter() to select names that start with the specific letter\n",
    "filtered_names = list(filter(lambda name: name.startswith(letter), names))\n",
    "\n",
    "# Print the result\n",
    "print(filtered_names)\n"
   ]
  },
  {
   "cell_type": "code",
   "execution_count": 40,
   "id": "f1bcaf25-5f66-4ec4-a591-6e74cdbbc1b1",
   "metadata": {},
   "outputs": [
    {
     "name": "stdout",
     "output_type": "stream",
     "text": [
      "[2, 3, 5, 7, 11, 13, 17, 19]\n"
     ]
    }
   ],
   "source": [
    "# 4.\tWrite a Python program that uses the `filter()` function to select prime numbers from a list of integers.\n",
    "\n",
    "from math import isqrt\n",
    "\n",
    "# Define a function to check if a number is prime\n",
    "def is_prime(n):\n",
    "    if n < 2:\n",
    "        return False\n",
    "    for i in range(2, isqrt(n) + 1):\n",
    "        if n % i == 0:\n",
    "            return False\n",
    "    return True\n",
    "\n",
    "# Define a list of integers\n",
    "numbers = [1, 2, 3, 4, 5, 6, 7, 8, 9, 10, 11, 13, 17, 19]\n",
    "\n",
    "# Use filter() to select prime numbers\n",
    "prime_numbers = list(filter(is_prime, numbers))\n",
    "\n",
    "# Print the result\n",
    "print(prime_numbers)"
   ]
  },
  {
   "cell_type": "code",
   "execution_count": 42,
   "id": "90dafa95-99a5-44d0-b770-68809b34eb12",
   "metadata": {},
   "outputs": [
    {
     "name": "stdout",
     "output_type": "stream",
     "text": [
      "[1, 2, 3, 4, 5]\n"
     ]
    }
   ],
   "source": [
    "# 5.\tHow can you use the `filter()` function to remove None values from a list in Python?\n",
    "\n",
    "# Define a list with None values\n",
    "data = [1, None, 2, None, 3, 4, None, 5]\n",
    "\n",
    "# Use filter() to remove None values\n",
    "filtered_data = list(filter(None, data))\n",
    "\n",
    "# Print the result\n",
    "print(filtered_data)  # Output: [1, 2, 3, 4, 5]\n"
   ]
  },
  {
   "cell_type": "code",
   "execution_count": 44,
   "id": "23f9491e-d008-475f-9094-9eb7e8afd4e0",
   "metadata": {},
   "outputs": [
    {
     "name": "stdout",
     "output_type": "stream",
     "text": [
      "['banana', 'cherry', 'elderberry']\n"
     ]
    }
   ],
   "source": [
    "# 6.\tCreate a Python program that uses `filter()` to select words longer than a certain length from a list of strings.\n",
    "\n",
    "# Define a list of words\n",
    "words = [\"apple\", \"banana\", \"cherry\", \"date\", \"elderberry\", \"fig\", \"grape\"]\n",
    "\n",
    "# Define the minimum length\n",
    "min_length = 5\n",
    "\n",
    "# Use filter() to select words longer than the specified length\n",
    "long_words = list(filter(lambda word: len(word) > min_length, words))\n",
    "\n",
    "# Print the result\n",
    "print(long_words)\n"
   ]
  },
  {
   "cell_type": "code",
   "execution_count": 46,
   "id": "41b99137-b27b-44e5-8ada-ff762caaa4ca",
   "metadata": {},
   "outputs": [
    {
     "name": "stdout",
     "output_type": "stream",
     "text": [
      "[25, 30, 45, 50]\n"
     ]
    }
   ],
   "source": [
    "# 7.\tWrite a Python program that uses the `filter()` function to select elements greater than a specified threshold from a list of values.\n",
    "\n",
    "# Define a list of values\n",
    "values = [10, 25, 30, 45, 50, 5, 15]\n",
    "\n",
    "# Define the threshold\n",
    "threshold = 20\n",
    "\n",
    "# Use filter() to select elements greater than the specified threshold\n",
    "filtered_values = list(filter(lambda x: x > threshold, values))\n",
    "\n",
    "# Print the result\n",
    "print(filtered_values)\n"
   ]
  },
  {
   "cell_type": "code",
   "execution_count": 48,
   "id": "431cb371-6010-4f2d-9049-968df7f9b10e",
   "metadata": {},
   "outputs": [
    {
     "data": {
      "text/plain": [
       "' Recursion '"
      ]
     },
     "execution_count": 48,
     "metadata": {},
     "output_type": "execute_result"
    }
   ],
   "source": [
    "''' Recursion '''"
   ]
  },
  {
   "cell_type": "code",
   "execution_count": 52,
   "id": "d2de47f4-bec6-4aea-8959-c8af0b08d3fa",
   "metadata": {},
   "outputs": [
    {
     "name": "stdout",
     "output_type": "stream",
     "text": [
      "120\n"
     ]
    }
   ],
   "source": [
    "# 1.\tExplain the concept of recursion in Python. How does it differ from iteration?\n",
    "\n",
    "def factorial(n):\n",
    "    if n == 0 or n == 1:\n",
    "        return 1\n",
    "    return n * factorial(n - 1)\n",
    "\n",
    "print(factorial(5))"
   ]
  },
  {
   "cell_type": "code",
   "execution_count": 54,
   "id": "0c7f743d-a1c6-44b8-b292-19a6dd8dccb2",
   "metadata": {},
   "outputs": [
    {
     "name": "stdout",
     "output_type": "stream",
     "text": [
      "120\n"
     ]
    }
   ],
   "source": [
    "# 2.\tWrite a Python program to calculate the factorial of a number using recursion.\n",
    "\n",
    "# Define a recursive function to calculate factorial\n",
    "def factorial(n):\n",
    "    if n == 0 or n == 1:\n",
    "        return 1\n",
    "    return n * factorial(n - 1)\n",
    "\n",
    "# Define a number\n",
    "num = 5\n",
    "\n",
    "# Compute the factorial\n",
    "result = factorial(num)\n",
    "\n",
    "# Print the result\n",
    "print(result)"
   ]
  },
  {
   "cell_type": "code",
   "execution_count": 56,
   "id": "d6fa0b27-1ab2-4e8a-8907-2110b98f28d1",
   "metadata": {},
   "outputs": [
    {
     "name": "stdout",
     "output_type": "stream",
     "text": [
      "3\n"
     ]
    }
   ],
   "source": [
    "# 3.\tCreate a recursive Python function to find the nth Fibonacci number.\n",
    "\n",
    "\n",
    "# Define a recursive function to find the nth Fibonacci number\n",
    "def fibonacci(n):\n",
    "    if n <= 0:\n",
    "        return \"Invalid input\"\n",
    "    elif n == 1:\n",
    "        return 0\n",
    "    elif n == 2:\n",
    "        return 1\n",
    "    return fibonacci(n - 1) + fibonacci(n - 2)\n",
    "\n",
    "# Define a number\n",
    "num = 5\n",
    "\n",
    "# Compute the Fibonacci number\n",
    "result = fibonacci(num)\n",
    "\n",
    "# Print the result\n",
    "print(result)\n"
   ]
  },
  {
   "cell_type": "code",
   "execution_count": 58,
   "id": "cbe561e6-fc88-4311-b98a-dc117dea9ddd",
   "metadata": {},
   "outputs": [
    {
     "name": "stdout",
     "output_type": "stream",
     "text": [
      "15\n"
     ]
    }
   ],
   "source": [
    "# 4.\tWrite a recursive Python function to calculate the sum of all elements in a list.\n",
    "\n",
    "\n",
    "# Define a recursive function to calculate the sum of all elements in a list\n",
    "def sum_list(lst):\n",
    "    if not lst:\n",
    "        return 0\n",
    "    return lst[0] + sum_list(lst[1:])\n",
    "\n",
    "# Define a list of numbers\n",
    "numbers = [1, 2, 3, 4, 5]\n",
    "\n",
    "# Compute the sum of the list\n",
    "result = sum_list(numbers)\n",
    "\n",
    "# Print the result\n",
    "print(result)\n"
   ]
  },
  {
   "cell_type": "code",
   "execution_count": 60,
   "id": "9bfe80da-f304-4249-bd98-c0541aff0ba4",
   "metadata": {},
   "outputs": [
    {
     "data": {
      "text/plain": [
       "'\\nTo prevent a recursive function from running indefinitely and causing a stack overflow error, Folloiwng are the steps :\\n\\n1. Define a Base Case\\nEvery recursive function must have a base case that stops the recursion. Without it, the function will keep calling itself indefinitely.\\n\\ndef countdown(n):\\n    if n <= 0:  # Base case to stop recursion\\n        print(\"Done!\")\\n        return\\n    print(n)\\n    countdown(n - 1)  # Recursive call\\n\\ncountdown(5)\\n\\nExample :- Without a Base Case (Infinite Recursion)\\n\\ndef countdown(n):\\n    print(n)\\n    countdown(n - 1)  # No stopping condition → Stack Overflow!\\n\\ncountdown(5)  # Will run indefinitely until Python crashes\\n\\n2. Use Tail Recursion Optimization (if applicable)\\nPython does not optimize tail recursion, but in some cases, restructuring the function \\nto make the last operation the recursive call can reduce memory usage.\\n\\n3. Limit the Recursion Depth\\nPython has a default recursion depth of 1000. You can check and modify this limit using:\\n\\nimport sys\\nprint(sys.getrecursionlimit())  # Default is 1000\\n\\nsys.setrecursionlimit(2000)  # Increase the limit if necessary (use with caution!)\\nHowever, increasing the recursion limit is not a best practice. Instead, consider iterative solutions for deep recursion cases.\\n\\n4. Convert to Iteration When Possible\\nIf recursion is leading to excessive depth, converting to an iterative approach is often better.\\n\\nExample: Recursive Factorial (Risk of Stack Overflow for Large n)\\n\\ndef factorial(n):\\n    if n == 0 or n == 1:\\n        return 1\\n    return n * factorial(n - 1)\\n✅ Iterative Alternative (Safe for Large n)\\n\\ndef factorial_iterative(n):\\n    result = 1\\n    for i in range(2, n + 1):\\n        result *= i\\n    return result\\n'"
      ]
     },
     "execution_count": 60,
     "metadata": {},
     "output_type": "execute_result"
    }
   ],
   "source": [
    "# 5.\tHow can you prevent a recursive function from running indefinitely, causing a stack overflow error?\n",
    "'''\n",
    "To prevent a recursive function from running indefinitely and causing a stack overflow error, Folloiwng are the steps :\n",
    "\n",
    "1. Define a Base Case\n",
    "Every recursive function must have a base case that stops the recursion. Without it, the function will keep calling itself indefinitely.\n",
    "\n",
    "def countdown(n):\n",
    "    if n <= 0:  # Base case to stop recursion\n",
    "        print(\"Done!\")\n",
    "        return\n",
    "    print(n)\n",
    "    countdown(n - 1)  # Recursive call\n",
    "\n",
    "countdown(5)\n",
    "\n",
    "Example :- Without a Base Case (Infinite Recursion)\n",
    "\n",
    "def countdown(n):\n",
    "    print(n)\n",
    "    countdown(n - 1)  # No stopping condition → Stack Overflow!\n",
    "\n",
    "countdown(5)  # Will run indefinitely until Python crashes\n",
    "\n",
    "2. Use Tail Recursion Optimization (if applicable)\n",
    "Python does not optimize tail recursion, but in some cases, restructuring the function \n",
    "to make the last operation the recursive call can reduce memory usage.\n",
    "\n",
    "3. Limit the Recursion Depth\n",
    "Python has a default recursion depth of 1000. You can check and modify this limit using:\n",
    "\n",
    "import sys\n",
    "print(sys.getrecursionlimit())  # Default is 1000\n",
    "\n",
    "sys.setrecursionlimit(2000)  # Increase the limit if necessary (use with caution!)\n",
    "However, increasing the recursion limit is not a best practice. Instead, consider iterative solutions for deep recursion cases.\n",
    "\n",
    "4. Convert to Iteration When Possible\n",
    "If recursion is leading to excessive depth, converting to an iterative approach is often better.\n",
    "\n",
    "Example: Recursive Factorial (Risk of Stack Overflow for Large n)\n",
    "\n",
    "def factorial(n):\n",
    "    if n == 0 or n == 1:\n",
    "        return 1\n",
    "    return n * factorial(n - 1)\n",
    "✅ Iterative Alternative (Safe for Large n)\n",
    "\n",
    "def factorial_iterative(n):\n",
    "    result = 1\n",
    "    for i in range(2, n + 1):\n",
    "        result *= i\n",
    "    return result\n",
    "'''"
   ]
  },
  {
   "cell_type": "code",
   "execution_count": 62,
   "id": "3e033162-7602-414b-9ede-92c0f304de13",
   "metadata": {},
   "outputs": [
    {
     "name": "stdout",
     "output_type": "stream",
     "text": [
      "6\n"
     ]
    }
   ],
   "source": [
    "# 6.\tCreate a recursive Python function to find the greatest common divisor (GCD) of two numbers using the Euclidean algorithm.\n",
    "\n",
    "# Define a recursive function to find the GCD of two numbers using the Euclidean algorithm\n",
    "def gcd(a, b):\n",
    "    if b == 0:\n",
    "        return a\n",
    "    return gcd(b, a % b)\n",
    "\n",
    "# Define two numbers\n",
    "num1 = 48\n",
    "num2 = 18\n",
    "\n",
    "# Compute the GCD\n",
    "result = gcd(num1, num2)\n",
    "\n",
    "# Print the result\n",
    "print(result)\n"
   ]
  },
  {
   "cell_type": "code",
   "execution_count": 64,
   "id": "56fd4b41-1bed-48e9-9eeb-a492ce447df4",
   "metadata": {},
   "outputs": [
    {
     "name": "stdout",
     "output_type": "stream",
     "text": [
      "olleh\n"
     ]
    }
   ],
   "source": [
    "# 7.\tWrite a recursive Python function to reverse a string.\n",
    "\n",
    "# Define a recursive function to reverse a string\n",
    "def reverse_string(s):\n",
    "    if len(s) == 0:\n",
    "        return s\n",
    "    return s[-1] + reverse_string(s[:-1])\n",
    "\n",
    "# Define a string\n",
    "text = \"hello\"\n",
    "\n",
    "# Compute the reversed string\n",
    "result = reverse_string(text)\n",
    "\n",
    "# Print the result\n",
    "print(result)"
   ]
  },
  {
   "cell_type": "code",
   "execution_count": 66,
   "id": "6cdc5a16-5c5d-4a40-bbfc-9a8f7e903d08",
   "metadata": {},
   "outputs": [
    {
     "name": "stdout",
     "output_type": "stream",
     "text": [
      "8\n"
     ]
    }
   ],
   "source": [
    "# 8.\tCreate a recursive Python function to calculate the power of a number (x^n).\n",
    "\n",
    "# Define a recursive function to calculate the power of a number (x^n)\n",
    "def power(x, n):\n",
    "    if n == 0:\n",
    "        return 1\n",
    "    return x * power(x, n - 1)\n",
    "\n",
    "# Define base and exponent\n",
    "base = 2\n",
    "exponent = 3\n",
    "\n",
    "# Compute the power\n",
    "result = power(base, exponent)\n",
    "\n",
    "# Print the result\n",
    "print(result)\n"
   ]
  },
  {
   "cell_type": "code",
   "execution_count": 68,
   "id": "50632a44-c2ed-4402-9805-162a2d88e8d4",
   "metadata": {},
   "outputs": [
    {
     "name": "stdout",
     "output_type": "stream",
     "text": [
      "abc\n",
      "acb\n",
      "bac\n",
      "bca\n",
      "cba\n",
      "cab\n"
     ]
    }
   ],
   "source": [
    "# 9.\tWrite a recursive Python function to find all permutations of a given string.\n",
    "\n",
    "\n",
    "# Define a recursive function to find all permutations of a given string\n",
    "def permutations(s, step=0):\n",
    "    if step == len(s):\n",
    "        print(\"\".join(s))\n",
    "    for i in range(step, len(s)):\n",
    "        s_copy = [c for c in s]\n",
    "        s_copy[step], s_copy[i] = s_copy[i], s_copy[step]\n",
    "        permutations(s_copy, step + 1)\n",
    "\n",
    "# Define a string\n",
    "text = \"abc\"\n",
    "\n",
    "# Compute and print all permutations\n",
    "permutations(list(text))"
   ]
  },
  {
   "cell_type": "code",
   "execution_count": 70,
   "id": "51878ccb-8e3a-48a6-8073-12eb2ca9f2b6",
   "metadata": {},
   "outputs": [
    {
     "name": "stdout",
     "output_type": "stream",
     "text": [
      "True\n"
     ]
    }
   ],
   "source": [
    "# 10.\tWrite a recursive Python function to check if a string is a palindrome.\n",
    "\n",
    "# Define a recursive function to check if a string is a palindrome\n",
    "def is_palindrome(s):\n",
    "    if len(s) <= 1:\n",
    "        return True\n",
    "    if s[0] != s[-1]:\n",
    "        return False\n",
    "    return is_palindrome(s[1:-1])\n",
    "\n",
    "# Define a string\n",
    "text = \"racecar\"\n",
    "\n",
    "# Check if the string is a palindrome\n",
    "result = is_palindrome(text)\n",
    "\n",
    "# Print the result\n",
    "print(result)"
   ]
  },
  {
   "cell_type": "code",
   "execution_count": 72,
   "id": "d648d36d-f321-4a35-a3e7-0d1eaf6df782",
   "metadata": {},
   "outputs": [
    {
     "name": "stdout",
     "output_type": "stream",
     "text": [
      "[]\n",
      "[1]\n",
      "[1, 2]\n",
      "[1, 2, 3]\n",
      "[1, 3]\n",
      "[2]\n",
      "[2, 3]\n",
      "[3]\n"
     ]
    }
   ],
   "source": [
    "# 11.\tCreate a recursive Python function to generate all possible combinations of a list of elements.\n",
    "\n",
    "# Define a recursive function to generate all possible combinations of a list of elements\n",
    "def combinations(lst, current=[]):\n",
    "    if lst:\n",
    "        print(current)\n",
    "        for i in range(len(lst)):\n",
    "            combinations(lst[i + 1:], current + [lst[i]])\n",
    "    else:\n",
    "        print(current)\n",
    "\n",
    "# Define a list of elements\n",
    "elements = [1, 2, 3]\n",
    "\n",
    "# Generate and print all combinations\n",
    "combinations(elements)"
   ]
  },
  {
   "cell_type": "code",
   "execution_count": 74,
   "id": "f2639d80-fe85-46b1-a4d9-d563ac21bb48",
   "metadata": {},
   "outputs": [
    {
     "data": {
      "text/plain": [
       "' Basics of Functions '"
      ]
     },
     "execution_count": 74,
     "metadata": {},
     "output_type": "execute_result"
    }
   ],
   "source": [
    "''' Basics of Functions '''"
   ]
  },
  {
   "cell_type": "code",
   "execution_count": 76,
   "id": "2af8b0eb-c0fe-4ee6-910e-95ce5d3e6fc0",
   "metadata": {},
   "outputs": [
    {
     "data": {
      "text/plain": [
       "' A function in Python is a named block of code designed to perform a specific task.\\nIt encapsulates a sequence of instructions, potentially accepting input (parameters) and \\nreturning an output (return value), thereby promoting code reusability and modularity.'"
      ]
     },
     "execution_count": 76,
     "metadata": {},
     "output_type": "execute_result"
    }
   ],
   "source": [
    "# 1.\tWhat is a function in Python, and why is it used?\n",
    "''' A function in Python is a named block of code designed to perform a specific task.\n",
    "It encapsulates a sequence of instructions, potentially accepting input (parameters) and \n",
    "returning an output (return value), thereby promoting code reusability and modularity.'''\n"
   ]
  },
  {
   "cell_type": "code",
   "execution_count": null,
   "id": "7143e704-6bcb-4e2f-89d8-370395956c47",
   "metadata": {},
   "outputs": [],
   "source": [
    "# 2.\tHow do you define a function in Python? Provide an example.\n",
    "'''\n",
    "In Python, we can define a function using the def keyword, followed by the function name,\n",
    "parentheses (which can contain parameters), and a colon. The function body is indented and typically \n",
    "contains code that performs a task. If needed, a function can return a value using the return statement.\n",
    "\n",
    "Example :\n",
    "def greet(name):\n",
    "    \"\"\"This function takes a name as input and returns a greeting message.\"\"\"\n",
    "    return f\"Hello, {name}!\"\n",
    "\n",
    "# Calling the function\n",
    "message = greet(\"Alice\")\n",
    "print(message)\n",
    "'''\n"
   ]
  },
  {
   "cell_type": "code",
   "execution_count": 78,
   "id": "722c35a0-4ca9-4238-b71e-c4d5b90589e1",
   "metadata": {},
   "outputs": [
    {
     "data": {
      "text/plain": [
       "\"\\nDifference Between a Function Definition and a Function Call:\\nFunction Definition:\\n\\nThis is where you define a function using the def keyword.\\nIt specifies the function's name, parameters (if any), and the block of code that runs when the function is called.\\nThe function itself does nothing until it is called.\\nFunction Call:\\n\\nThis is when you execute (invoke) the function to perform its task.\\nIt requires using the function name followed by parentheses, passing arguments if needed.\\nThe function runs and may return a value.\\n\\nExample : \\n# Function Definition\\ndef add_numbers(a, b):\\n    return a + b  # Function body that performs addition\\n\\n# Function Call\\nresult = add_numbers(3, 5)  # Calls the function with arguments 3 and 5\\nprint(result)  # Output: 8\\n\""
      ]
     },
     "execution_count": 78,
     "metadata": {},
     "output_type": "execute_result"
    }
   ],
   "source": [
    "# 3.\tExplain the difference between a function definition and a function call.\n",
    "\n",
    "'''\n",
    "Difference Between a Function Definition and a Function Call:\n",
    "Function Definition:\n",
    "\n",
    "This is where you define a function using the def keyword.\n",
    "It specifies the function's name, parameters (if any), and the block of code that runs when the function is called.\n",
    "The function itself does nothing until it is called.\n",
    "Function Call:\n",
    "\n",
    "This is when you execute (invoke) the function to perform its task.\n",
    "It requires using the function name followed by parentheses, passing arguments if needed.\n",
    "The function runs and may return a value.\n",
    "\n",
    "Example : \n",
    "# Function Definition\n",
    "def add_numbers(a, b):\n",
    "    return a + b  # Function body that performs addition\n",
    "\n",
    "# Function Call\n",
    "result = add_numbers(3, 5)  # Calls the function with arguments 3 and 5\n",
    "print(result)  # Output: 8\n",
    "'''"
   ]
  },
  {
   "cell_type": "code",
   "execution_count": 84,
   "id": "2f5efed7-ad8d-4e7b-9940-243708c4a9e2",
   "metadata": {},
   "outputs": [
    {
     "name": "stdout",
     "output_type": "stream",
     "text": [
      "The sum of 10 and 20 is 30\n"
     ]
    }
   ],
   "source": [
    "# 4.\tWrite a Python program that defines a function to calculate the sum of two numbers and then calls the function.\n",
    "\n",
    "# Function to calculate the sum of two numbers\n",
    "def add_numbers(a, b):\n",
    "    return a + b  # Returns the sum of a and b\n",
    "\n",
    "# Calling the function\n",
    "num1 = 10\n",
    "num2 = 20\n",
    "result = add_numbers(num1, num2)\n",
    "\n",
    "# Display the result\n",
    "print(f\"The sum of {num1} and {num2} is {result}\")\n"
   ]
  },
  {
   "cell_type": "code",
   "execution_count": null,
   "id": "bc0ab490-9a2f-4a90-aa29-b7ec7f1db8aa",
   "metadata": {},
   "outputs": [],
   "source": [
    "# 5.\tWhat is a function signature, and what information does it typically include?\n",
    "\n",
    "'''\n",
    "Function Signature in Python\n",
    "A function signature refers to the definition of a function, specifically its name, \n",
    "parameters, and return type (if specified). It provides key details \n",
    "about how the function should be called and what arguments it requires.\n",
    "\n",
    "Information Typically Included in a Function Signature:\n",
    "Function Name – The identifier used to call the function.\n",
    "Parameters (Arguments) – The inputs required for the function, including their names and optional default values.\n",
    "Return Type (Optional) – Specifies what type of value the function returns (using type hints).\n",
    "\n",
    "Example :\n",
    "def greet(name: str, age: int = 18) -> str:\n",
    "    return f\"Hello, {name}! You are {age} years old.\"\n",
    "\n",
    "Breakdown:\n",
    "greet → Function name.\n",
    "name: str → A parameter name expected to be a string.\n",
    "age: int = 18 → A parameter age expected to be an integer, with a default value of 18.\n",
    "-> str → Indicates that the function returns a string.\n",
    "'''"
   ]
  },
  {
   "cell_type": "code",
   "execution_count": 86,
   "id": "1d600692-fc46-4c09-bb87-3f474bb28ba1",
   "metadata": {},
   "outputs": [
    {
     "name": "stdout",
     "output_type": "stream",
     "text": [
      "The product of 6 and 7 is 42\n"
     ]
    }
   ],
   "source": [
    "# 6.\tCreate a Python function that takes two arguments and returns their product.\n",
    "\n",
    "\n",
    "# Function to calculate the product of two numbers\n",
    "def multiply(a, b):\n",
    "    return a * b  # Returns the product of a and b\n",
    "\n",
    "# Example usage\n",
    "num1 = 6\n",
    "num2 = 7\n",
    "result = multiply(num1, num2)\n",
    "\n",
    "# Display the result\n",
    "print(f\"The product of {num1} and {num2} is {result}\")\n"
   ]
  },
  {
   "cell_type": "code",
   "execution_count": 88,
   "id": "0529390f-f0bc-45a0-ab69-d045fbf22c2b",
   "metadata": {},
   "outputs": [
    {
     "data": {
      "text/plain": [
       "' Function Parameters and Arguments '"
      ]
     },
     "execution_count": 88,
     "metadata": {},
     "output_type": "execute_result"
    }
   ],
   "source": [
    "''' Function Parameters and Arguments '''"
   ]
  },
  {
   "cell_type": "code",
   "execution_count": null,
   "id": "5c0affd0-15db-4ea2-a1db-5e4da9b4b0c4",
   "metadata": {},
   "outputs": [],
   "source": [
    "# 1.\tExplain the concepts of formal parameters and actual arguments in Python functions.\n",
    "\n",
    "'''\n",
    "Formal Parameters vs. Actual Arguments in Python Functions\n",
    "In Python functions, formal parameters and actual arguments refer to the variables involved in function calls.\n",
    "\n",
    "1. Formal Parameters (Parameters)\n",
    "These are the variables listed inside the parentheses in the function definition.\n",
    "They act as placeholders for the values (arguments) that will be passed to the function when it is called.\n",
    "Formal parameters do not have values until the function is invoked.\n",
    "2. Actual Arguments (Arguments)\n",
    "These are the values or variables that are passed to a function when it is called.\n",
    "They replace the formal parameters during execution.\n",
    "Actual arguments determine the function's output based on the given inputs.\n",
    "'''"
   ]
  },
  {
   "cell_type": "code",
   "execution_count": null,
   "id": "ed55a911-7344-41db-9d7b-d8aa78e69f21",
   "metadata": {},
   "outputs": [],
   "source": [
    "# 2.\tWrite a Python program that defines a function with default argument values.\n",
    "\n",
    "# Function with default arguments\n",
    "def greet(name=\"Guest\", message=\"Welcome!\"):\n",
    "    return f\"Hello, {name}! {message}\"\n",
    "\n",
    "# Calling the function with both arguments\n",
    "print(greet(\"Alice\", \"Good to see you!\"))\n",
    "\n",
    "# Calling the function with only one argument (default message used)\n",
    "print(greet(\"Bob\"))\n",
    "\n",
    "# Calling the function with no arguments (both default values used)\n",
    "print(greet())\n"
   ]
  },
  {
   "cell_type": "code",
   "execution_count": null,
   "id": "6337c86e-7c5d-43bc-b6dc-79e514197dc2",
   "metadata": {},
   "outputs": [],
   "source": [
    "# 3.\tHow do you use keyword arguments in Python function calls? Provide an example.\n",
    "\n",
    "'''\n",
    "Using Keyword Arguments in Python Function Calls\n",
    "In Python, keyword arguments allow you to pass values to a function by explicitly specifying the parameter names. \n",
    "This makes the function call more readable and allows arguments to be provided in any order.\n",
    "\n",
    "Syntax:\n",
    "function_name(param_name=value, param_name=value)\n",
    "\n",
    "Example :\n",
    "# Function with multiple parameters\n",
    "def describe_pet(animal_type, pet_name):\n",
    "    print(f\"I have a {animal_type} named {pet_name}.\")\n",
    "\n",
    "# Using keyword arguments\n",
    "describe_pet(animal_type=\"dog\", pet_name=\"Buddy\")\n",
    "describe_pet(pet_name=\"Whiskers\", animal_type=\"cat\")  # Order changed\n",
    "\n",
    "\n",
    "Benefits of Keyword Arguments:\n",
    "Improves Readability – It is clear what each argument represents.\n",
    "Allows Flexibility – Arguments can be passed in any order.\n",
    "Prevents Errors – Avoids confusion when a function has multiple parameters.\n",
    "\n",
    "'''"
   ]
  },
  {
   "cell_type": "code",
   "execution_count": 97,
   "id": "27b62276-fba6-48d4-a361-5e2ef286b968",
   "metadata": {},
   "outputs": [
    {
     "name": "stdout",
     "output_type": "stream",
     "text": [
      "60\n",
      "20\n",
      "21\n",
      "0\n"
     ]
    }
   ],
   "source": [
    "# 4.\tCreate a Python function that accepts a variable number of arguments and calculates their sum.\n",
    "\n",
    "# Function to calculate the sum of variable arguments\n",
    "def calculate_sum(*args):\n",
    "    return sum(args)  # Uses the built-in sum function\n",
    "\n",
    "# Example usage\n",
    "print(calculate_sum(10, 20, 30))  # Output: 60\n",
    "print(calculate_sum(5, 15))       # Output: 20\n",
    "print(calculate_sum(1, 2, 3, 4, 5, 6))  # Output: 21\n",
    "print(calculate_sum())            # Output: 0 (handles no arguments)\n"
   ]
  },
  {
   "cell_type": "code",
   "execution_count": null,
   "id": "20463dde-d39a-4a86-ac7b-d996a4a0fc5f",
   "metadata": {},
   "outputs": [],
   "source": [
    "# 5.\tWhat is the purpose of the `*args` and `**kwargs` syntax in function parameter lists?\n",
    "\n",
    "'''\n",
    "Purpose of *args and **kwargs in Function Parameters\n",
    "Python provides *args and **kwargs to allow functions to accept a variable number of arguments, making them more flexible.\n",
    "\n",
    "1. *args (Non-Keyword Variable Arguments)\n",
    "Allows a function to accept any number of positional arguments.\n",
    "The arguments are stored as a tuple.\n",
    "Used when you don’t know in advance how many arguments will be passed.\n",
    "\n",
    "Example :\n",
    "def add_numbers(*args):\n",
    "    return sum(args)  # Sum all arguments\n",
    "\n",
    "print(add_numbers(1, 2, 3))       # Output: 6\n",
    "print(add_numbers(10, 20, 30, 40)) # Output: 100\n",
    "print(add_numbers())              # Output: 0 (handles no arguments)\n",
    "\n",
    "'''\n"
   ]
  },
  {
   "cell_type": "code",
   "execution_count": 99,
   "id": "ca077c2d-de16-4641-96f4-d7e4ad6803fe",
   "metadata": {},
   "outputs": [
    {
     "data": {
      "text/plain": [
       "' Return Values and Scoping '"
      ]
     },
     "execution_count": 99,
     "metadata": {},
     "output_type": "execute_result"
    }
   ],
   "source": [
    "''' Return Values and Scoping '''"
   ]
  },
  {
   "cell_type": "code",
   "execution_count": null,
   "id": "bc92a9c2-32d3-4742-81fc-fde884a7bd65",
   "metadata": {},
   "outputs": [],
   "source": [
    "# 1.\tDescribe the role of the `return` statement in Python functions and provide examples.\n",
    "'''\n",
    "Role of the return Statement in Python Functions\n",
    "The return statement in Python is used to exit a function and send a value back to the caller. It allows functions to produce results instead of just executing code.\n",
    "\n",
    "Key Points About return:\n",
    "Returns a Value – The function sends data back to where it was called.\n",
    "Ends Function Execution – Code after return inside the function is not executed.\n",
    "Can Return Multiple Values – Python allows returning multiple values as a tuple.\n",
    "No return Means None – If a function does not explicitly return a value, it returns None by default.\n",
    "\n",
    "Example :\n",
    "def square(number):\n",
    "    return number ** 2  # Returns the square of the number\n",
    "\n",
    "result = square(5)\n",
    "print(result)  # Output: 25\n",
    "'''\n",
    "\n"
   ]
  },
  {
   "cell_type": "code",
   "execution_count": null,
   "id": "bfcff25a-174e-4bce-9026-236733135a45",
   "metadata": {},
   "outputs": [],
   "source": [
    "# 2.\tExplain the concept of variable scope in Python, including local and global variables.\n",
    "\n",
    "'''\n",
    "Variable Scope in Python: Local vs. Global Variables\n",
    "Variable scope refers to the region of the code where a variable is accessible. In Python, variables have different scopes based on where they are declared.\n",
    "\n",
    "1. Local Variables\n",
    "Defined inside a function.\n",
    "Only accessible within that function.\n",
    "Cannot be accessed outside the function.\n",
    "\n",
    "Example: Local Variable\n",
    "def greet():\n",
    "    message = \"Hello, World!\"  # Local variable\n",
    "    print(message)\n",
    "\n",
    "greet()  \n",
    "# print(message)  # This would cause an error because 'message' is not defined outside the function.\n",
    "\n",
    "2. Global Variables\n",
    "Defined outside any function.\n",
    "Accessible throughout the program (inside and outside functions).\n",
    "Can be modified inside a function using the global keyword.\n",
    "\n",
    "Example: Global Variable\n",
    "\n",
    "message = \"Hello, everyone!\"  # Global variable\n",
    "\n",
    "def greet():\n",
    "    print(message)  # Accessing the global variable\n",
    "\n",
    "greet()  \n",
    "print(message)  # Accessible outside the function\n",
    "\n",
    "3. Modifying Global Variables Inside a Function\n",
    "By default, functions cannot modify global variables.\n",
    "Use the global keyword to modify a global variable inside a function.\n",
    "\n",
    "Example: Using global\n",
    "counter = 0  # Global variable\n",
    "\n",
    "def increase_counter():\n",
    "    global counter  # Allows modification of the global variable\n",
    "    counter += 1\n",
    "    print(\"Counter inside function:\", counter)\n",
    "\n",
    "increase_counter()\n",
    "print(\"Counter outside function:\", counter)\n",
    "\n",
    "\n",
    "4. Nested Functions and Enclosing Scope (nonlocal)\n",
    "Functions can be defined inside other functions.\n",
    "The inner function can access variables from the enclosing function.\n",
    "Use nonlocal to modify an enclosing (non-global) variable.\n",
    "\n",
    "Example: Using nonlocal\n",
    "def outer():\n",
    "    count = 0  # Variable in enclosing scope\n",
    "    \n",
    "    def inner():\n",
    "        nonlocal count  # Modifies 'count' from the outer function\n",
    "        count += 1\n",
    "        print(\"Count inside inner function:\", count)\n",
    "\n",
    "    inner()\n",
    "    print(\"Count inside outer function:\", count)\n",
    "\n",
    "outer()\n",
    "\n",
    "Summary Table: Variable Scopes\n",
    "Scope\tDefined In\tAccessible Where?\tModifiable Inside Functions?\n",
    "Local\tInside a function\tOnly inside that function\tYes\n",
    "Global\tOutside all functions\tEverywhere\tYes (using global)\n",
    "Enclosing (Nonlocal)\tInside an outer function\tInner (nested) functions\tYes (using nonlocal)\n",
    "'''\n"
   ]
  },
  {
   "cell_type": "code",
   "execution_count": 101,
   "id": "cebb259a-3a8f-4288-87f4-f5ccad7c8307",
   "metadata": {},
   "outputs": [
    {
     "name": "stdout",
     "output_type": "stream",
     "text": [
      "Count inside function: 1\n",
      "Count inside function: 2\n",
      "Count outside function: 2\n"
     ]
    }
   ],
   "source": [
    "# 3.\tWrite a Python program that demonstrates the use of global variables within functions.\n",
    "\n",
    "# Global variable\n",
    "count = 0  \n",
    "\n",
    "# Function to modify the global variable\n",
    "def increment():\n",
    "    global count  # Use the global keyword to modify the global variable\n",
    "    count += 1\n",
    "    print(f\"Count inside function: {count}\")\n",
    "\n",
    "# Calling the function multiple times\n",
    "increment()  # Output: Count inside function: 1\n",
    "increment()  # Output: Count inside function: 2\n",
    "\n",
    "# Accessing the global variable outside the function\n",
    "print(f\"Count outside function: {count}\")  # Output: Count outside function: 2\n"
   ]
  },
  {
   "cell_type": "code",
   "execution_count": 103,
   "id": "165dfefc-f45e-41a3-a189-912d4d4db324",
   "metadata": {},
   "outputs": [
    {
     "name": "stdout",
     "output_type": "stream",
     "text": [
      "Factorial of 5 is 120\n"
     ]
    }
   ],
   "source": [
    "# 4.\tCreate a Python function that calculates the factorial of a number and returns it.\n",
    "\n",
    "# Function to calculate factorial\n",
    "def factorial(n):\n",
    "    if n == 0 or n == 1:  # Base case: factorial of 0 or 1 is 1\n",
    "        return 1\n",
    "    else:\n",
    "        return n * factorial(n - 1)  # Recursive case\n",
    "\n",
    "# Example usage\n",
    "num = 5\n",
    "result = factorial(num)\n",
    "print(f\"Factorial of {num} is {result}\")"
   ]
  },
  {
   "cell_type": "code",
   "execution_count": null,
   "id": "36f936bc-172e-40cb-8c03-48a2e69a562f",
   "metadata": {},
   "outputs": [],
   "source": [
    "# 5.\tHow can you access variables defined outside a function from within the function?\n",
    "\n",
    "'''\n",
    "1. Accessing Global Variables (Read-Only)\n",
    "If you only need to read the global variable inside the function, you can access it directly.\n",
    "Example: Accessing a Global Variable (Without Modification)\n",
    "message = \"Hello, World!\"  # Global variable\n",
    "\n",
    "def greet():\n",
    "    print(message)  # Accessing the global variable\n",
    "\n",
    "greet()  # Output: Hello, World!\n",
    "\n",
    "2. Modifying a Global Variable Using global\n",
    "If you need to modify a global variable inside a function, you must use the global keyword.\n",
    "Example: Using global to Modify a Global Variable\n",
    "\n",
    "counter = 0  # Global variable\n",
    "\n",
    "def increment():\n",
    "    global counter  # Declaring that we are using the global variable\n",
    "    counter += 1  # Modifying the global variable\n",
    "    print(\"Counter inside function:\", counter)\n",
    "\n",
    "increment()  \n",
    "increment()\n",
    "print(\"Counter outside function:\", counter)\n",
    "\n",
    "\n",
    "3. Using Function Parameters Instead of Global Variables\n",
    "A better approach is to pass the global variable as a function parameter, making the function more reusable.\n",
    "\n",
    "counter = 0  # Global variable\n",
    "\n",
    "def increment(value):\n",
    "    return value + 1  # Function returns an updated value instead of modifying global state\n",
    "\n",
    "counter = increment(counter)  # Updating global variable with return value\n",
    "print(\"Counter after increment:\", counter)\n",
    "\n",
    "\n",
    "4. Accessing Variables from an Enclosing Function (nonlocal)\n",
    "When working with nested functions, use nonlocal to access and modify variables from an enclosing (non-global) function.\n",
    "Example: Using nonlocal in Nested Functions\n",
    "def outer():\n",
    "    count = 0  # Variable in enclosing function\n",
    "\n",
    "    def inner():\n",
    "        nonlocal count  # Accesses the enclosing function's variable\n",
    "        count += 1\n",
    "        print(\"Count inside inner function:\", count)\n",
    "\n",
    "    inner()\n",
    "    print(\"Count inside outer function:\", count)\n",
    "\n",
    "outer()\n",
    "\n",
    "'''\n"
   ]
  },
  {
   "cell_type": "code",
   "execution_count": 107,
   "id": "dcfadfe7-323b-4d7b-abe7-5379eddfc3a3",
   "metadata": {},
   "outputs": [
    {
     "data": {
      "text/plain": [
       "'Lambda Functions and Higher-Order Functions'"
      ]
     },
     "execution_count": 107,
     "metadata": {},
     "output_type": "execute_result"
    }
   ],
   "source": [
    "'''Lambda Functions and Higher-Order Functions'''"
   ]
  },
  {
   "cell_type": "code",
   "execution_count": null,
   "id": "262fc86f-3219-4a6a-9971-86945eb4fca3",
   "metadata": {},
   "outputs": [],
   "source": [
    "# 1.\tWhat are lambda functions in Python, and when are they typically used?\n",
    "'''\n",
    "Lambda Functions in Python\n",
    "A lambda function in Python is a small, anonymous function that can have any number of arguments \n",
    "but only one expression. It is defined using the lambda keyword.\n",
    "\n",
    "Syntax:\n",
    "\n",
    "lambda arguments: expression\n",
    "\n",
    "\n",
    "When Are Lambda Functions Used?\n",
    "Lambda functions are commonly used when:\n",
    "\n",
    "A function is simple and only used once.\n",
    "You need a function as an argument (e.g., sorting, filtering).\n",
    "Shorter and cleaner code is preferred over defining a full function.\n",
    "'''"
   ]
  },
  {
   "cell_type": "code",
   "execution_count": 109,
   "id": "3d632ec0-e7e7-4c30-a151-278dfc85680d",
   "metadata": {},
   "outputs": [
    {
     "name": "stdout",
     "output_type": "stream",
     "text": [
      "Sorted list: [('Bob', 20), ('Charlie', 22), ('David', 23), ('Alice', 25)]\n"
     ]
    }
   ],
   "source": [
    "# 2.\tWrite a Python program that uses lambda functions to sort a list of tuples based on the second element.\n",
    "\n",
    "# List of tuples (name, age)\n",
    "students = [(\"Alice\", 25), (\"Bob\", 20), (\"Charlie\", 22), (\"David\", 23)]\n",
    "\n",
    "# Sorting based on the second element (age) using a lambda function\n",
    "sorted_students = sorted(students, key=lambda x: x[1])\n",
    "\n",
    "# Printing the sorted list\n",
    "print(\"Sorted list:\", sorted_students)\n",
    "\n",
    "\n",
    "\n"
   ]
  },
  {
   "cell_type": "code",
   "execution_count": null,
   "id": "62ffd06a-39bb-4a67-8877-20d3a7f603d9",
   "metadata": {},
   "outputs": [],
   "source": [
    "# 3.\tExplain the concept of higher-order functions in Python, and provide an example.\n",
    "\n",
    "'''\n",
    "Higher-Order Functions in Python\n",
    "A higher-order function is a function that does at least one of the following:\n",
    "\n",
    "Takes another function as an argument\n",
    "Returns a function as its result\n",
    "This makes functions in Python more flexible and allows for functional programming techniques.\n",
    "\n",
    "\n",
    "1. Passing a Function as an Argument\n",
    "Python allows you to pass functions as arguments to other functions.\n",
    "\n",
    "Example: Using a Higher-Order Function\n",
    "def apply_function(func, value):\n",
    "    return func(value)  # Calls the function passed as an argument\n",
    "\n",
    "# Example functions\n",
    "def square(x):\n",
    "    return x * x\n",
    "\n",
    "def cube(x):\n",
    "    return x * x * x\n",
    "\n",
    "# Passing functions as arguments\n",
    "print(apply_function(square, 4))  # Output: 16\n",
    "print(apply_function(cube, 3))    # Output: 27\n",
    "\n",
    "2. Returning a Function from Another Function\n",
    "A function can also return another function.\n",
    "\n",
    "Example: Returning a Function\n",
    "\n",
    "def multiplier(factor):\n",
    "    def multiply(number):\n",
    "        return number * factor  # Inner function uses the outer function's argument\n",
    "    return multiply  # Returning the inner function\n",
    "\n",
    "# Creating functions with different multipliers\n",
    "double = multiplier(2)\n",
    "triple = multiplier(3)\n",
    "\n",
    "print(double(5))  # Output: 10\n",
    "print(triple(4))  # Output: 12\n",
    "\n",
    "\n",
    "3. Built-in Higher-Order Functions\n",
    "Python has several built-in higher-order functions, such as:\n",
    "\n",
    "map() – Applies a function to every item in an iterable.\n",
    "filter() – Filters elements based on a condition.\n",
    "sorted() – Sorts elements using a key function.\n",
    "Example: Using map() with a Lambda Function\n",
    "\n",
    "numbers = [1, 2, 3, 4]\n",
    "squared_numbers = list(map(lambda x: x ** 2, numbers))\n",
    "print(squared_numbers)  # Output: [1, 4, 9, 16]\n",
    "'''\n",
    "\n",
    "\n"
   ]
  },
  {
   "cell_type": "code",
   "execution_count": 126,
   "id": "77641950-86f8-4dc5-9666-426b5d829723",
   "metadata": {},
   "outputs": [
    {
     "name": "stdout",
     "output_type": "stream",
     "text": [
      "Original List: [1, 2, 3, 4, 5]\n",
      "Squared List: [1, 4, 9, 16, 25]\n",
      "Doubled List: [2, 4, 6, 8, 10]\n"
     ]
    }
   ],
   "source": [
    "# 4.\tCreate a Python function that takes a list of numbers and a function as arguments, applying the function to each element in the list.\n",
    "\n",
    "# Higher-order function that applies a given function to each element in a list\n",
    "def apply_to_each(numbers, func):\n",
    "    return [func(num) for num in numbers]  # Applying func to each element\n",
    "\n",
    "# Example functions\n",
    "def square(x):\n",
    "    return x * x\n",
    "\n",
    "def double(x):\n",
    "    return x * 2\n",
    "\n",
    "# List of numbers\n",
    "numbers = [1, 2, 3, 4, 5]\n",
    "\n",
    "# Applying different functions\n",
    "squared_numbers = apply_to_each(numbers, square)\n",
    "doubled_numbers = apply_to_each(numbers, double)\n",
    "\n",
    "# Printing results\n",
    "print(\"Original List:\", numbers)\n",
    "print(\"Squared List:\", squared_numbers)  # Output: [1, 4, 9, 16, 25]\n",
    "print(\"Doubled List:\", doubled_numbers)  # Output: [2, 4, 6, 8, 10]\n"
   ]
  },
  {
   "cell_type": "code",
   "execution_count": 128,
   "id": "59dc5109-70c6-4946-aeac-90bf679c6b08",
   "metadata": {},
   "outputs": [
    {
     "data": {
      "text/plain": [
       "' Built-in Functions'"
      ]
     },
     "execution_count": 128,
     "metadata": {},
     "output_type": "execute_result"
    }
   ],
   "source": [
    "''' Built-in Functions'''"
   ]
  },
  {
   "cell_type": "code",
   "execution_count": 132,
   "id": "dc4c02b6-1aec-412d-adc2-b461af4c488b",
   "metadata": {},
   "outputs": [
    {
     "data": {
      "text/plain": [
       "'\\nRole of Built-in Functions in Python (len(), max(), min())\\nPython provides many built-in functions that simplify common operations. Three of the most useful functions are:\\n\\nlen() – Returns the number of elements in an object.\\nmax() – Returns the largest element from an iterable or the largest of multiple arguments.\\nmin() – Returns the smallest element from an iterable or the smallest of multiple arguments.\\n\\n1. len() – Getting the Length of an Object\\nThe len() function is used to determine the size (number of elements) in a sequence (e.g., list, string, tuple, dictionary).\\n\\nExample: Using len()\\n# Length of a string\\ntext = \"Python\"\\nprint(len(text))  # Output: 6\\n\\n# Length of a list\\nnumbers = [10, 20, 30, 40]\\nprint(len(numbers))  # Output: 4\\n\\n# Length of a dictionary (counts keys)\\nstudent_ages = {\"Alice\": 25, \"Bob\": 22}\\nprint(len(student_ages))  # Output: 2\\n\\n2. max() – Finding the Largest Element\\nThe max() function returns the largest value from an iterable or multiple arguments.\\n\\nExample: Using max()\\n# Finding the maximum in a list\\nnumbers = [5, 12, 8, 30, 25]\\nprint(max(numbers))  # Output: 30\\n\\n# Maximum of multiple arguments\\nprint(max(3, 7, 9, 2))  # Output: 9\\n\\n# Maximum string (lexicographical order)\\nwords = [\"apple\", \"banana\", \"cherry\"]\\nprint(max(words))  # Output: cherry (since \\'cherry\\' > \\'banana\\' > \\'apple\\' in ASCII)\\n\\n3. min() – Finding the Smallest Element\\nThe min() function works similarly to max(), but it returns the smallest value.\\n\\nExample: Using min()\\n# Finding the minimum in a list\\nnumbers = [5, 12, 8, 30, 25]\\nprint(min(numbers))  # Output: 5\\n\\n# Minimum of multiple arguments\\nprint(min(3, 7, 9, 2))  # Output: 2\\n\\n# Minimum string (lexicographical order)\\nwords = [\"apple\", \"banana\", \"cherry\"]\\nprint(min(words))  # Output: apple (since \\'apple\\' < \\'banana\\' < \\'cherry\\' in ASCII)\\n\\n'"
      ]
     },
     "execution_count": 132,
     "metadata": {},
     "output_type": "execute_result"
    }
   ],
   "source": [
    "# 1.\tDescribe the role of built-in functions like `len()`, `max()`, and `min()` in Python.\n",
    "\n",
    "'''\n",
    "Role of Built-in Functions in Python (len(), max(), min())\n",
    "Python provides many built-in functions that simplify common operations. Three of the most useful functions are:\n",
    "\n",
    "len() – Returns the number of elements in an object.\n",
    "max() – Returns the largest element from an iterable or the largest of multiple arguments.\n",
    "min() – Returns the smallest element from an iterable or the smallest of multiple arguments.\n",
    "\n",
    "1. len() – Getting the Length of an Object\n",
    "The len() function is used to determine the size (number of elements) in a sequence (e.g., list, string, tuple, dictionary).\n",
    "\n",
    "Example: Using len()\n",
    "# Length of a string\n",
    "text = \"Python\"\n",
    "print(len(text))  # Output: 6\n",
    "\n",
    "# Length of a list\n",
    "numbers = [10, 20, 30, 40]\n",
    "print(len(numbers))  # Output: 4\n",
    "\n",
    "# Length of a dictionary (counts keys)\n",
    "student_ages = {\"Alice\": 25, \"Bob\": 22}\n",
    "print(len(student_ages))  # Output: 2\n",
    "\n",
    "2. max() – Finding the Largest Element\n",
    "The max() function returns the largest value from an iterable or multiple arguments.\n",
    "\n",
    "Example: Using max()\n",
    "# Finding the maximum in a list\n",
    "numbers = [5, 12, 8, 30, 25]\n",
    "print(max(numbers))  # Output: 30\n",
    "\n",
    "# Maximum of multiple arguments\n",
    "print(max(3, 7, 9, 2))  # Output: 9\n",
    "\n",
    "# Maximum string (lexicographical order)\n",
    "words = [\"apple\", \"banana\", \"cherry\"]\n",
    "print(max(words))  # Output: cherry (since 'cherry' > 'banana' > 'apple' in ASCII)\n",
    "\n",
    "3. min() – Finding the Smallest Element\n",
    "The min() function works similarly to max(), but it returns the smallest value.\n",
    "\n",
    "Example: Using min()\n",
    "# Finding the minimum in a list\n",
    "numbers = [5, 12, 8, 30, 25]\n",
    "print(min(numbers))  # Output: 5\n",
    "\n",
    "# Minimum of multiple arguments\n",
    "print(min(3, 7, 9, 2))  # Output: 2\n",
    "\n",
    "# Minimum string (lexicographical order)\n",
    "words = [\"apple\", \"banana\", \"cherry\"]\n",
    "print(min(words))  # Output: apple (since 'apple' < 'banana' < 'cherry' in ASCII)\n",
    "\n",
    "'''"
   ]
  },
  {
   "cell_type": "code",
   "execution_count": 134,
   "id": "113c9097-65e8-4e82-b10e-4785686ed107",
   "metadata": {},
   "outputs": [
    {
     "name": "stdout",
     "output_type": "stream",
     "text": [
      "Original List: [1, 2, 3, 4, 5]\n",
      "Squared List: [1, 4, 9, 16, 25]\n"
     ]
    }
   ],
   "source": [
    "# 2.\tWrite a Python program that uses the `map()` function to apply a function to each element of a list.\n",
    "\n",
    "# Function to square a number\n",
    "def square(x):\n",
    "    return x * x\n",
    "\n",
    "# List of numbers\n",
    "numbers = [1, 2, 3, 4, 5]\n",
    "\n",
    "# Using map() to apply the square function to each element\n",
    "squared_numbers = list(map(square, numbers))\n",
    "\n",
    "# Printing the result\n",
    "print(\"Original List:\", numbers)\n",
    "print(\"Squared List:\", squared_numbers)\n"
   ]
  },
  {
   "cell_type": "code",
   "execution_count": null,
   "id": "bb2d76ab-31ab-41ec-b2c2-735c9a62a287",
   "metadata": {},
   "outputs": [],
   "source": [
    "# 3.\tHow does the `filter()` function work in Python, and when would you use it?\n",
    "\n",
    "'''\n",
    "Understanding filter() in Python\n",
    "The filter() function in Python is used to filter elements from an iterable (like a list or tuple) based on a given function. It returns only the elements that satisfy the condition.\n",
    "\n",
    "Syntax:\n",
    "filter(function, iterable)\n",
    "function: A function that returns True or False for each element.\n",
    "iterable: The collection to be filtered.\n",
    "Returns an iterator, which can be converted to a list using list().\n",
    "When to Use filter()\n",
    "Use filter() when you need to extract elements that meet a condition, such as:\n",
    "- Selecting even numbers from a list.\n",
    "- Filtering out empty strings from a list.\n",
    "- Extracting positive numbers from a dataset.\n",
    "\n",
    "Example 1: Filtering Even Numbers\n",
    "# Function to check if a number is even\n",
    "def is_even(n):\n",
    "    return n % 2 == 0\n",
    "\n",
    "numbers = [1, 2, 3, 4, 5, 6, 7, 8]\n",
    "\n",
    "# Using filter() to get only even numbers\n",
    "even_numbers = list(filter(is_even, numbers))\n",
    "\n",
    "print(even_numbers)  # Output: [2, 4, 6, 8]\n",
    "filter() keeps only the elements where is_even(n) returns True.\n",
    "\n",
    "Example 2: Using filter() with a Lambda Function\n",
    "A shorter way to use filter() is with a lambda function:\n",
    "\n",
    "numbers = [1, 2, 3, 4, 5, 6, 7, 8]\n",
    "even_numbers = list(filter(lambda x: x % 2 == 0, numbers))\n",
    "print(even_numbers)  # Output: [2, 4, 6, 8]\n",
    "✅ Lambda functions make filter() concise and readable!\n",
    "\n",
    "Example 3: Filtering Non-Empty Strings\n",
    "words = [\"hello\", \"\", \"world\", \"\", \"Python\", \" \"]\n",
    "\n",
    "# Filtering out empty strings (including spaces)\n",
    "non_empty_words = list(filter(lambda x: x.strip() != \"\", words))\n",
    "\n",
    "print(non_empty_words)  # Output: ['hello', 'world', 'Python']\n",
    "'''"
   ]
  },
  {
   "cell_type": "code",
   "execution_count": 136,
   "id": "3da4a7e3-de67-4862-b9dc-148d0ad5f6bc",
   "metadata": {},
   "outputs": [
    {
     "name": "stdout",
     "output_type": "stream",
     "text": [
      "Product of all elements: 120\n"
     ]
    }
   ],
   "source": [
    "# 4.\tCreate a Python program that uses the `reduce()` function to find the product of all elements in a list.\n",
    "\n",
    "from functools import reduce\n",
    "\n",
    "# Function to multiply two numbers\n",
    "def multiply(x, y):\n",
    "    return x * y\n",
    "\n",
    "# List of numbers\n",
    "numbers = [1, 2, 3, 4, 5]\n",
    "\n",
    "# Using reduce() to find the product of all elements\n",
    "product = reduce(multiply, numbers)\n",
    "\n",
    "# Printing the result\n",
    "print(\"Product of all elements:\", product)\n"
   ]
  },
  {
   "cell_type": "code",
   "execution_count": 138,
   "id": "ffe75b13-8619-48b2-a9a5-44e4e009cb10",
   "metadata": {},
   "outputs": [
    {
     "data": {
      "text/plain": [
       "' Function Documentation and Best Practices '"
      ]
     },
     "execution_count": 138,
     "metadata": {},
     "output_type": "execute_result"
    }
   ],
   "source": [
    "''' Function Documentation and Best Practices '''"
   ]
  },
  {
   "cell_type": "code",
   "execution_count": null,
   "id": "220a9592-1061-4e1f-9d19-5f5002522bd0",
   "metadata": {},
   "outputs": [],
   "source": [
    "# 1.\tExplain the purpose of docstrings in Python functions and how to write them.\n",
    "\n",
    "'''\n",
    "Docstrings in Python Functions\n",
    "A docstring in Python is a special string used to document a function, class, or module. It provides information about what the function does, its parameters, and its return value.\n",
    "\n",
    "Why Use Docstrings?\n",
    "Improves code readability.\n",
    "Helps other developers understand the function’s purpose.\n",
    "Accessible using the help() function.\n",
    "Standard practice for writing clean and maintainable code.\n",
    "\n",
    "How to Write a Docstring?\n",
    "A docstring is written using triple double quotes (\"\"\") immediately after the function definition.\n",
    "\n",
    "Example: Writing a Docstring for a Function\n",
    "def add_numbers(a, b):\n",
    "    \"\"\"\n",
    "    Adds two numbers and returns the sum.\n",
    "    \n",
    "    Parameters:\n",
    "    a (int or float): The first number.\n",
    "    b (int or float): The second number.\n",
    "    \n",
    "    Returns:\n",
    "    int or float: The sum of a and b.\n",
    "    \"\"\"\n",
    "    return a + b\n",
    "\n",
    "# Accessing the docstring\n",
    "print(add_numbers.__doc__)\n",
    "Explanation:\n",
    "First line: Brief description of the function.\n",
    "Blank line: (Optional) Separates the summary from details.\n",
    "Parameter section: Describes input arguments.\n",
    "Returns section: Describes the return value.\n",
    "Using help() to View a Docstring\n",
    "You can view a function’s documentation using the help() function:\n",
    "\n",
    "help(add_numbers)\n",
    "Output:\n",
    "\n",
    "sql\n",
    "Copy\n",
    "Edit\n",
    "Help on function add_numbers in module __main__:\n",
    "\n",
    "add_numbers(a, b)\n",
    "    Adds two numbers and returns the sum.\n",
    "    \n",
    "    Parameters:\n",
    "    a (int or float): The first number.\n",
    "    b (int or float): The second number.\n",
    "    \n",
    "    Returns:\n",
    "    int or float: The sum of a and b.\n",
    "'''\n"
   ]
  },
  {
   "cell_type": "code",
   "execution_count": null,
   "id": "aad63ac2-a22d-4e52-8aaa-6f0c2482e445",
   "metadata": {},
   "outputs": [],
   "source": [
    "# 2.\tDescribe some best practices for naming functions and variables in Python, including naming conventions and guidelines.\n",
    "\n",
    "Best Practices for Naming Functions and Variables in Python\n",
    "Using clear and consistent naming conventions improves code readability, maintainability, and collaboration. Below are key best practices:\n",
    "\n",
    "1. Use Descriptive and Meaningful Names\n",
    "Yes - Choose names that clearly describe the function or variable’s purpose.\n",
    "No - Avoid single-letter names (except for loop counters like i, j, k).\n",
    "\n",
    "Good Example:\n",
    "\n",
    "total_price = 150.75  # Clear and meaningful\n",
    "def calculate_area(radius):  # Function describes its purpose\n",
    "    return 3.14 * radius * radius\n",
    "\n",
    "Bad Example:\n",
    "\n",
    "x = 150.75  # Unclear variable name\n",
    "def func(r):  # Function name and parameter are too vague\n",
    "    return 3.14 * r * r\n",
    "\n",
    "2. Follow Python Naming Conventions (PEP 8)\n",
    "Python follows PEP 8 guidelines for naming functions and variables.\n",
    "\n",
    "Element\tConvention\tExample\n",
    "Variables\tsnake_case (lowercase, words separated by underscores)\ttotal_price = 100\n",
    "Functions\tsnake_case\tdef calculate_area(radius):\n",
    "Constants\tUPPER_CASE_SNAKE\tPI = 3.14159\n",
    "Classes\tPascalCase (also called CamelCase)\tclass DataProcessor:\n",
    "Private Variables/Functions\tStart with an underscore _\t_secret_value = 42\n",
    "\n",
    "3. Avoid Reserved Keywords\n",
    "Python has built-in keywords like def, class, if, else, etc., which cannot be used as variable or function names.\n",
    "\n",
    "Bad Example:\n",
    "def def():  # 'def' is a reserved keyword\n",
    "    pass\n",
    "\n",
    "Good Example:\n",
    "def define_function():\n",
    "    pass\n",
    "\n",
    "4. Use Consistent Naming in Functions and Variables\n",
    "If a function returns a boolean value, start its name with is_, has_, or can_ to indicate a condition.\n",
    "\n",
    "Good Example:\n",
    "def is_even(number):\n",
    "    return number % 2 == 0\n",
    "\n",
    "Bad Example:\n",
    "def even_number(n):\n",
    "    return n % 2 == 0\n",
    "\n",
    "5. Avoid Unnecessary Abbreviations\n",
    "Names should be short but understandable.\n",
    "\n",
    "Good Example:\n",
    "user_count = 50\n",
    "def fetch_data_from_server():\n",
    "    pass\n",
    "\n",
    "Bad Example:\n",
    "usrCnt = 50  # Hard to understand\n",
    "def fdtSrv():  # Not readable\n",
    "    pass\n",
    "\n",
    "6. Use Plural Names for Collections\n",
    "Good Example:\n",
    "students = [\"Alice\", \"Bob\", \"Charlie\"]\n",
    "scores = [90, 85, 88]\n",
    "\n",
    "Bad Example:\n",
    "student_list = [\"Alice\", \"Bob\", \"Charlie\"]  # Not bad, but redundant\n",
    "\n",
    "    \n",
    "7. Use Verb-Noun Pairs for Function Names\n",
    "Functions should start with a verb to indicate an action.\n",
    "\n",
    "Good Example:\n",
    "def get_user_data():\n",
    "    pass\n",
    "\n",
    "def send_email_notification():\n",
    "    pass\n",
    "\n",
    "Bad Example:\n",
    "def data():\n",
    "    pass\n",
    "\n",
    "8. Follow Case Sensitivity in Python\n",
    "Python is case-sensitive, meaning UserCount and usercount are different variables. Choose a consistent format.\n",
    "\n",
    "Good Example:\n",
    "total_sales = 5000\n",
    "\n",
    "Bad Example:\n",
    "\n",
    "TotalSales = 5000  # Inconsistent with lowercase convention\n",
    "9. Use _ to Indicate Unused Variables\n",
    "If a variable is needed for iteration but not used, use _ as a placeholder.\n",
    "\n",
    "Good Example:\n",
    "\n",
    "for _ in range(5):  # Loop runs 5 times but doesn’t use the variable\n",
    "    print(\"Hello\")\n",
    "\n",
    "\n"
   ]
  }
 ],
 "metadata": {
  "kernelspec": {
   "display_name": "Python [conda env:base] *",
   "language": "python",
   "name": "conda-base-py"
  },
  "language_info": {
   "codemirror_mode": {
    "name": "ipython",
    "version": 3
   },
   "file_extension": ".py",
   "mimetype": "text/x-python",
   "name": "python",
   "nbconvert_exporter": "python",
   "pygments_lexer": "ipython3",
   "version": "3.12.4"
  }
 },
 "nbformat": 4,
 "nbformat_minor": 5
}
