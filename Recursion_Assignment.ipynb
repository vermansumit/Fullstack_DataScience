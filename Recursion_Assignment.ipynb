{
 "cells": [
  {
   "cell_type": "code",
   "execution_count": 1,
   "id": "db8d08b4-78e3-4f4d-adc3-3c0f840ddbd4",
   "metadata": {},
   "outputs": [
    {
     "data": {
      "text/plain": [
       "' Recursion Assignment '"
      ]
     },
     "execution_count": 1,
     "metadata": {},
     "output_type": "execute_result"
    }
   ],
   "source": [
    "''' Recursion Assignment '''\n"
   ]
  },
  {
   "cell_type": "code",
   "execution_count": 3,
   "id": "8f7da10d-eb82-4b48-885e-ee05294d9329",
   "metadata": {},
   "outputs": [
    {
     "name": "stdout",
     "output_type": "stream",
     "text": [
      "Move disk 1 from A to C\n",
      "Move disk 2 from A to B\n",
      "Move disk 1 from C to B\n",
      "Move disk 3 from A to C\n",
      "Move disk 1 from B to A\n",
      "Move disk 2 from B to C\n",
      "Move disk 1 from A to C\n"
     ]
    }
   ],
   "source": [
    "# Q.1 Can you explain the logic and working of the Tower of Hanoi algorithm by writing a Java program? How does the recursion work, and how are the movements of disks between rods accomplished?\n",
    "\n",
    "# Answer.\n",
    "'''\n",
    "Move n-1 disks from source to auxiliary.\n",
    "Move the nth (largest) disk from source to destination.\n",
    "Move n-1 disks from auxiliary to destination.\n",
    "Base case: If only 1 disk, move it directly.\n",
    "'''\n",
    "\n",
    "def tower_of_hanoi(n, source, auxiliary, destination):\n",
    "    if n == 1:\n",
    "        print(f\"Move disk 1 from {source} to {destination}\")\n",
    "        return\n",
    "    tower_of_hanoi(n-1, source, destination, auxiliary)\n",
    "    print(f\"Move disk {n} from {source} to {destination}\")\n",
    "    tower_of_hanoi(n-1, auxiliary, source, destination)\n",
    "\n",
    "# Example usage for 3 disks:\n",
    "tower_of_hanoi(3, 'A', 'B', 'C')\n"
   ]
  },
  {
   "cell_type": "code",
   "execution_count": 5,
   "id": "123bf38d-3284-42ad-b452-e62d0878cda9",
   "metadata": {},
   "outputs": [
    {
     "name": "stdout",
     "output_type": "stream",
     "text": [
      "3\n",
      "5\n"
     ]
    }
   ],
   "source": [
    "# Q.2 Given two strings word1 and word2, return the minimum number of operations required to convert word1 to word2.\n",
    "'''\n",
    "Example 1:\n",
    "Input: word1 = \"horse\", word2 = \"ros\"\n",
    "Output: 3\n",
    "Explanation:\n",
    "horse -> rorse (replace 'h' with 'r')\n",
    "rorse -> rose (remove 'r')\n",
    "rose -> ros (remove 'e')\n",
    "\n",
    "Example 2:\n",
    "Input: word1 = \"intention\", word2 = \"execution\"\n",
    "Output: 5\n",
    "Explanation:\n",
    "intention -> inention (remove 't')\n",
    "inention -> enention (replace 'i' with 'e')\n",
    "enention -> exention (replace 'n' with 'x')\n",
    "exention -> exection (replace 'n' with 'c')\n",
    "exection -> execution (insert 'u')\n",
    "'''\n",
    "\n",
    "\n",
    "# Answer.\n",
    "\n",
    "# Use recursion with memoization (or dynamic programming).\n",
    "# If letters match, move to the next.\n",
    "# Else, try insert, delete, and replace, and take the minimum.\n",
    "\n",
    "def min_distance(word1, word2):\n",
    "    from functools import lru_cache\n",
    "\n",
    "    @lru_cache(maxsize=None)\n",
    "    def dp(i, j):\n",
    "        if i == len(word1): return len(word2) - j\n",
    "        if j == len(word2): return len(word1) - i\n",
    "        if word1[i] == word2[j]:\n",
    "            return dp(i+1, j+1)\n",
    "        insert = 1 + dp(i, j+1)\n",
    "        delete = 1 + dp(i+1, j)\n",
    "        replace = 1 + dp(i+1, j+1)\n",
    "        return min(insert, delete, replace)\n",
    "    return dp(0, 0)\n",
    "\n",
    "# Example usage:\n",
    "print(min_distance(\"horse\", \"ros\"))        # Output: 3\n",
    "print(min_distance(\"intention\", \"execution\"))  # Output: 5\n"
   ]
  },
  {
   "cell_type": "code",
   "execution_count": 7,
   "id": "699cd96b-35fc-4574-9ef9-3bb854442d70",
   "metadata": {},
   "outputs": [
    {
     "name": "stdout",
     "output_type": "stream",
     "text": [
      "22\n"
     ]
    }
   ],
   "source": [
    "# Q. 3 Print the max value of the array [ 13, 1, -3, 22, 5].\n",
    "\n",
    "# Answer.\n",
    "arr = [13, 1, -3, 22, 5]\n",
    "print(max(arr))  # Output: 22\n"
   ]
  },
  {
   "cell_type": "code",
   "execution_count": 9,
   "id": "3c48d0f5-3eab-4741-809c-74b59a552a9c",
   "metadata": {},
   "outputs": [
    {
     "name": "stdout",
     "output_type": "stream",
     "text": [
      "120\n"
     ]
    }
   ],
   "source": [
    "# Q.4 Find the sum of the values of the array [92, 23, 15, -20, 10].\n",
    "\n",
    "# Answer.\n",
    "arr = [92, 23, 15, -20, 10]\n",
    "print(sum(arr))"
   ]
  },
  {
   "cell_type": "code",
   "execution_count": 11,
   "id": "8d7cf191-b45d-4c64-abb1-268919e38e1e",
   "metadata": {},
   "outputs": [
    {
     "name": "stdout",
     "output_type": "stream",
     "text": [
      "Yes\n",
      "No\n"
     ]
    }
   ],
   "source": [
    "# Q.5 Given a number n. Print if it is an armstrong number or not.An armstrong number is a number if the sum of every digit in that number raised to the power of total digits in that number is equal to the number.\n",
    "'''\n",
    "Example : 153 = 1^3 + 5^3 + 3^3 = 1 + 125 + 27 = 153 hence 153 is an armstrong number. (Easy)\n",
    "Input1 : 153\n",
    "Output1 : Yes\n",
    "Input 2 : 134\n",
    "Output2 : No\n",
    "'''\n",
    "\n",
    "# Answer.\n",
    "\n",
    "def is_armstrong(n):\n",
    "    digits = [int(d) for d in str(n)]\n",
    "    power = len(digits)\n",
    "    total = sum(d ** power for d in digits)\n",
    "    return total == n\n",
    "\n",
    "# Example usage:\n",
    "n1 = 153\n",
    "n2 = 134\n",
    "\n",
    "print(\"Yes\" if is_armstrong(n1) else \"No\")  # Output: Yes\n",
    "print(\"Yes\" if is_armstrong(n2) else \"No\")  # Output: No"
   ]
  },
  {
   "cell_type": "code",
   "execution_count": null,
   "id": "8f180028-b373-48ef-978e-add25186c634",
   "metadata": {},
   "outputs": [],
   "source": []
  }
 ],
 "metadata": {
  "kernelspec": {
   "display_name": "Python [conda env:base] *",
   "language": "python",
   "name": "conda-base-py"
  },
  "language_info": {
   "codemirror_mode": {
    "name": "ipython",
    "version": 3
   },
   "file_extension": ".py",
   "mimetype": "text/x-python",
   "name": "python",
   "nbconvert_exporter": "python",
   "pygments_lexer": "ipython3",
   "version": "3.12.4"
  }
 },
 "nbformat": 4,
 "nbformat_minor": 5
}
