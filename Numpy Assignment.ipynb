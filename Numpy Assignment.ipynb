{
 "cells": [
  {
   "cell_type": "code",
   "execution_count": 1,
   "id": "577b332a-fbca-402a-a9f6-975d7086fae9",
   "metadata": {},
   "outputs": [
    {
     "data": {
      "text/plain": [
       "'\\nA Python library is a collection of precompiled code—such as modules, functions, and classes—that can be reused\\nin your programs to perform specific tasks. Libraries are designed to make programming more efficient by allowing \\ndevelopers to avoid writing code from scratch for common operations. Instead, you can import and use existing, \\nwell-tested code from libraries to handle tasks ranging from mathematical computations and data analysis to web \\ndevelopment and machine learning\\n\\nuse of Python libraries?\\n\\nEfficiency and Productivity: Libraries provide ready-to-use code, saving developers time and effort by \\n                            eliminating the need to reinvent the wheel for standard tasks.\\n\\nCode Reusability: They allow you to reuse code across different projects, making your work more modular and maintainable.\\n\\nStandardization and Reliability: Libraries are thoroughly tested and maintained by communities or organizations, \\n                            ensuring reliability and reducing bugs in your code.\\n\\nAccess to Advanced Functionality: Libraries enable you to perform complex operations—such as data visualization, \\n                            machine learning, or web development—with simple function calls, even if you are not an \\n                            expert in those domains.\\n\\nCommunity Support: Popular libraries have large communities, offering documentation, tutorials, and support, \\n                            which helps in troubleshooting and learning.\\n\\nSimplified Maintenance: Using libraries helps keep your codebase smaller and easier to maintain, as common functionalities\\n                            are handled by well-maintained external code\\n'"
      ]
     },
     "execution_count": 1,
     "metadata": {},
     "output_type": "execute_result"
    }
   ],
   "source": [
    "# 1. What is python library? why do we use python libraries ?\n",
    "\n",
    "# Solution :\n",
    "'''\n",
    "A Python library is a collection of precompiled code—such as modules, functions, and classes—that can be reused\n",
    "in your programs to perform specific tasks. Libraries are designed to make programming more efficient by allowing \n",
    "developers to avoid writing code from scratch for common operations. Instead, you can import and use existing, \n",
    "well-tested code from libraries to handle tasks ranging from mathematical computations and data analysis to web \n",
    "development and machine learning\n",
    "\n",
    "use of Python libraries?\n",
    "\n",
    "Efficiency and Productivity: Libraries provide ready-to-use code, saving developers time and effort by \n",
    "                            eliminating the need to reinvent the wheel for standard tasks.\n",
    "\n",
    "Code Reusability: They allow you to reuse code across different projects, making your work more modular and maintainable.\n",
    "\n",
    "Standardization and Reliability: Libraries are thoroughly tested and maintained by communities or organizations, \n",
    "                            ensuring reliability and reducing bugs in your code.\n",
    "\n",
    "Access to Advanced Functionality: Libraries enable you to perform complex operations—such as data visualization, \n",
    "                            machine learning, or web development—with simple function calls, even if you are not an \n",
    "                            expert in those domains.\n",
    "\n",
    "Community Support: Popular libraries have large communities, offering documentation, tutorials, and support, \n",
    "                            which helps in troubleshooting and learning.\n",
    "\n",
    "Simplified Maintenance: Using libraries helps keep your codebase smaller and easier to maintain, as common functionalities\n",
    "                            are handled by well-maintained external code\n",
    "'''\n"
   ]
  },
  {
   "cell_type": "code",
   "execution_count": 11,
   "id": "7c5a1e63-7328-47e0-a4af-6c115d82a12c",
   "metadata": {},
   "outputs": [
    {
     "data": {
      "text/plain": [
       "'\\nDifferences between Python Lists and NumPy Arrays\\nData Type Flexibility\\n        Python List: Can store elements of different data types (e.g., integers, strings, objects).\\n        NumPy Array: All elements must be of the same data type (homogeneous).\\n\\nMemory Efficiency\\n        Python List: Less memory efficient; each element is a separate object with metadata.\\n        NumPy Array: More memory efficient; data is stored in a contiguous block of memory.\\n\\nPerformance\\n        Python List: Slower for numerical operations.\\n        NumPy Array: Much faster for numerical computations due to vectorized operations.\\n\\nOperations and Functionality\\n        Python List: Supports basic operations like append, insert, remove, etc.\\n        NumPy Array: Supports advanced mathematical operations, multi-dimensional slicing, and element-wise computations.\\n\\nResizing\\n        Python List: Can be resized dynamically (grow or shrink).\\n        NumPy Array: Fixed size; resizing creates a new array.\\n\\nUse Cases\\n        Python List: Suitable for general-purpose data storage.\\n        NumPy Array: Ideal for numerical computations and handling large datasets.\\n'"
      ]
     },
     "execution_count": 11,
     "metadata": {},
     "output_type": "execute_result"
    }
   ],
   "source": [
    "# 2. What is the difference between numpy array and list?\n",
    "\n",
    "# Solution :\n",
    "'''\n",
    "Differences between Python Lists and NumPy Arrays\n",
    "Data Type Flexibility\n",
    "        Python List: Can store elements of different data types (e.g., integers, strings, objects).\n",
    "        NumPy Array: All elements must be of the same data type (homogeneous).\n",
    "\n",
    "Memory Efficiency\n",
    "        Python List: Less memory efficient; each element is a separate object with metadata.\n",
    "        NumPy Array: More memory efficient; data is stored in a contiguous block of memory.\n",
    "\n",
    "Performance\n",
    "        Python List: Slower for numerical operations.\n",
    "        NumPy Array: Much faster for numerical computations due to vectorized operations.\n",
    "\n",
    "Operations and Functionality\n",
    "        Python List: Supports basic operations like append, insert, remove, etc.\n",
    "        NumPy Array: Supports advanced mathematical operations, multi-dimensional slicing, and element-wise computations.\n",
    "\n",
    "Resizing\n",
    "        Python List: Can be resized dynamically (grow or shrink).\n",
    "        NumPy Array: Fixed size; resizing creates a new array.\n",
    "\n",
    "Use Cases\n",
    "        Python List: Suitable for general-purpose data storage.\n",
    "        NumPy Array: Ideal for numerical computations and handling large datasets.\n",
    "'''\n"
   ]
  },
  {
   "cell_type": "code",
   "execution_count": 15,
   "id": "d9308c32-b16d-478f-8f4e-a10e26f0a74f",
   "metadata": {},
   "outputs": [],
   "source": [
    "import numpy as np"
   ]
  },
  {
   "cell_type": "code",
   "execution_count": 3,
   "id": "6388b686-a02b-4c22-9330-21c6d680a73b",
   "metadata": {},
   "outputs": [
    {
     "name": "stdout",
     "output_type": "stream",
     "text": [
      "Shape: (3, 4)\n",
      "Size: 12\n",
      "Dimension: 2\n"
     ]
    }
   ],
   "source": [
    "# 3. find the shape, size and dimension of the following array?\n",
    "'''\n",
    "[[1, 2, 3, 4],\n",
    " [5, 6, 7, 8],\n",
    " [9, 10, 11, 12]]\n",
    "'''\n",
    "\n",
    "# Solution\n",
    "arr = np.array([[1, 2, 3, 4], [5, 6, 7, 8], [9, 10, 11, 12]])\n",
    "\n",
    "print(\"Shape:\", arr.shape)\n",
    "print(\"Size:\", arr.size)\n",
    "print(\"Dimension:\", arr.ndim)\n"
   ]
  },
  {
   "cell_type": "code",
   "execution_count": 7,
   "id": "581f7ad1-e5ef-49f2-a2c4-dd7327459f88",
   "metadata": {},
   "outputs": [
    {
     "name": "stdout",
     "output_type": "stream",
     "text": [
      "[1 2 3 4]\n"
     ]
    }
   ],
   "source": [
    "# 4. Write the python code to access the first row of the following array ?\n",
    "'''\n",
    "[[1, 2, 3, 4],\n",
    " [5, 6, 7, 8],\n",
    " [9, 10, 11, 12]]\n",
    "'''\n",
    "\n",
    "# Solution :\n",
    "arr = np.array([[1, 2, 3, 4], [5, 6, 7, 8], [9, 10, 11, 12]])\n",
    "print(arr[0])"
   ]
  },
  {
   "cell_type": "code",
   "execution_count": 17,
   "id": "d8b4c82b-c13a-40fc-97ba-d096f3156db7",
   "metadata": {},
   "outputs": [
    {
     "name": "stdout",
     "output_type": "stream",
     "text": [
      "12\n"
     ]
    }
   ],
   "source": [
    "# 5. How to you access the element at the third row and fourth column from the given numpy array?\n",
    "'''\n",
    "[[1, 2, 3, 4],\n",
    " [5, 6, 7, 8],\n",
    " [9, 10, 11, 12]]\n",
    "'''\n",
    "\n",
    "# Solution:\n",
    "arr = np.array([[1, 2, 3, 4], [5, 6, 7, 8], [9, 10, 11, 12]])\n",
    "print(arr[2,3])\n"
   ]
  },
  {
   "cell_type": "code",
   "execution_count": 21,
   "id": "0c5685ff-4cc8-4e79-b4b2-f75237f44886",
   "metadata": {},
   "outputs": [
    {
     "name": "stdout",
     "output_type": "stream",
     "text": [
      "[[ 2  4]\n",
      " [ 6  8]\n",
      " [10 12]]\n"
     ]
    }
   ],
   "source": [
    "# 6. write code to extract all odd-indexed elements from the given numpy array?\n",
    "'''\n",
    "[[1, 2, 3, 4],\n",
    " [5, 6, 7, 8],\n",
    " [9, 10, 11, 12]]\n",
    "'''\n",
    "\n",
    "# Solution :\n",
    "arr = np.array([[1, 2, 3, 4], [5, 6, 7, 8], [9, 10, 11, 12]])\n",
    "print(arr[:, 1::2])\n"
   ]
  },
  {
   "cell_type": "code",
   "execution_count": 27,
   "id": "b81ce7bf-4f77-442c-a83e-f54483d94528",
   "metadata": {},
   "outputs": [
    {
     "name": "stdout",
     "output_type": "stream",
     "text": [
      "[[0.02570817 0.38377122 0.80938044]\n",
      " [0.45677929 0.82641362 0.09987203]\n",
      " [0.56719159 0.49404166 0.97233686]]\n"
     ]
    }
   ],
   "source": [
    "# 7. How can you generate a random 3 x 3 matrix with values between 0 and 1?\n",
    "\n",
    "# Solution \n",
    "\n",
    "random_matrix = np.random.rand(3,3)\n",
    "print(random_matrix)"
   ]
  },
  {
   "cell_type": "code",
   "execution_count": null,
   "id": "82a3dbba-4262-4b12-82ef-c81a7833b713",
   "metadata": {},
   "outputs": [],
   "source": [
    "# 8. Describe the difference between np.random.rand and np.random.randn?\n",
    "\n",
    "# solution :\n",
    "'''\n",
    "1.\n",
    "np.random.rand\n",
    "    Distribution: Uniform distribution\n",
    "    Range: Values are drawn uniformly between 0 (inclusive) and 1 (exclusive)\n",
    "    Use case: When you want random numbers spread evenly across an interval.\n",
    "\n",
    "Example:\n",
    "        np.random.rand(3)\n",
    "\n",
    "2.\n",
    "np.random.randn\n",
    "    Distribution: Standard normal (Gaussian) distribution\n",
    "    Mean: 0\n",
    "    Variance: 1\n",
    "    Range: Values can be any real number, but most are clustered around 0, with some outliers.\n",
    "    \n",
    "Example:\n",
    "    np.random.randn(3)  \n",
    "'''\n"
   ]
  },
  {
   "cell_type": "code",
   "execution_count": 29,
   "id": "f2725216-3c92-4955-9d89-dbdf364ab15f",
   "metadata": {},
   "outputs": [
    {
     "name": "stdout",
     "output_type": "stream",
     "text": [
      "[[[ 1]\n",
      "  [ 2]\n",
      "  [ 3]\n",
      "  [ 4]]\n",
      "\n",
      " [[ 5]\n",
      "  [ 6]\n",
      "  [ 7]\n",
      "  [ 8]]\n",
      "\n",
      " [[ 9]\n",
      "  [10]\n",
      "  [11]\n",
      "  [12]]]\n"
     ]
    }
   ],
   "source": [
    "# 9. Write a code to increase the dimension of the following array?\n",
    "'''\n",
    "[[1, 2, 3, 4],\n",
    " [5, 6, 7, 8],\n",
    " [9, 10, 11, 12]]\n",
    "'''\n",
    "\n",
    "# Solution :\n",
    "\n",
    "import numpy as np\n",
    "\n",
    "arr = np.array([[1, 2, 3, 4],\n",
    "                [5, 6, 7, 8],\n",
    "                [9, 10, 11, 12]])\n",
    "\n",
    "# Increase dimension: reshape to 3x4x1 (adds a third dimension)\n",
    "arr_3d = arr.reshape(3, 4, 1)\n",
    "print(arr_3d)\n",
    "\n",
    "\n",
    "\n",
    "\n"
   ]
  },
  {
   "cell_type": "code",
   "execution_count": 33,
   "id": "e4cea892-13b2-4b22-a670-b3c0f00d2b24",
   "metadata": {},
   "outputs": [
    {
     "name": "stdout",
     "output_type": "stream",
     "text": [
      "by using.T attribute\n",
      "[[ 1  5  9]\n",
      " [ 2  6 10]\n",
      " [ 3  7 11]\n",
      " [ 4  8 12]]\n",
      "by using Transpose function\n",
      "[[ 1  5  9]\n",
      " [ 2  6 10]\n",
      " [ 3  7 11]\n",
      " [ 4  8 12]]\n"
     ]
    }
   ],
   "source": [
    "# 10. How to transpose the following array in numpy?\n",
    "'''\n",
    "[[1, 2, 3, 4],\n",
    " [5, 6, 7, 8],\n",
    " [9, 10, 11, 12]]\n",
    "'''\n",
    "\n",
    "# solution\n",
    "import numpy as np\n",
    "\n",
    "arr = np.array([[1, 2, 3, 4],\n",
    "                [5, 6, 7, 8],\n",
    "                [9, 10, 11, 12]])\n",
    "\n",
    "# Using .T attribute\n",
    "transposed_arr = arr.T\n",
    "print(\"by using.T attribute\")\n",
    "print(transposed_arr)\n",
    "\n",
    "# Or using the transpose function\n",
    "transposed_arr = np.transpose(arr)\n",
    "print(\"by using Transpose function\")\n",
    "print(transposed_arr)\n"
   ]
  },
  {
   "cell_type": "code",
   "execution_count": 41,
   "id": "1d86b72c-1bc4-4e2a-b2d8-a61463ae8864",
   "metadata": {},
   "outputs": [
    {
     "name": "stdout",
     "output_type": "stream",
     "text": [
      " 1. Index wise multiplication \n",
      "[[  1   4   9  16]\n",
      " [ 25  36  49  64]\n",
      " [ 81 100 121 144]]\n",
      " 2. Matrix Multiplication \n",
      "[[ 30  70 110]\n",
      " [ 70 174 278]\n",
      " [110 278 446]]\n",
      " 3. Add both the matrics \n",
      "[[ 2  4  6  8]\n",
      " [10 12 14 16]\n",
      " [18 20 22 24]]\n",
      " 4. Substract matrix B from A \n",
      "[[0 0 0 0]\n",
      " [0 0 0 0]\n",
      " [0 0 0 0]]\n",
      " 5. Divide Matrix B by A \n",
      "[[1. 1. 1. 1.]\n",
      " [1. 1. 1. 1.]\n",
      " [1. 1. 1. 1.]]\n"
     ]
    }
   ],
   "source": [
    "# 11. Consider the following matrix.\n",
    "matrix_a = [[1,2,3,4],[5,6,7,8],[9,10,11,12]]\n",
    "matrix_b = [[1,2,3,4],[5,6,7,8],[9,10,11,12]]\n",
    "'''\n",
    "Perform the following operation using python :\n",
    "1. Index wise multiplication\n",
    "2. Matrix Multiplication\n",
    "3. Add both the matrics\n",
    "4. Substract matrix B from A\n",
    "5. Divide Matrix B by A\n",
    "'''\n",
    "\n",
    "# Solutions:\n",
    "\n",
    "import numpy as np\n",
    "\n",
    "matrix_a = np.array([[1,2,3,4],[5,6,7,8],[9,10,11,12]])\n",
    "matrix_b = np.array([[1,2,3,4],[5,6,7,8],[9,10,11,12]])\n",
    "\n",
    "# 1. Index-wise (element-wise) multiplication\n",
    "element_wise = matrix_a * matrix_b\n",
    "print(\" 1. Index wise multiplication \")\n",
    "print(element_wise)\n",
    "\n",
    "# 2. Matrix multiplication\n",
    "matrix_mult = np.dot(matrix_a, matrix_b.T)\n",
    "print(\" 2. Matrix Multiplication \")\n",
    "print(matrix_mult)\n",
    "\n",
    "# 3. Addition\n",
    "addition = matrix_a + matrix_b\n",
    "print(\" 3. Add both the matrics \")\n",
    "print(addition)\n",
    "\n",
    "# 4. Subtraction\n",
    "subtraction = matrix_a - matrix_b\n",
    "print(\" 4. Substract matrix B from A \")\n",
    "print(subtraction)\n",
    "\n",
    "# 5. Division (element-wise)\n",
    "division = np.divide(matrix_b, matrix_a)\n",
    "print(\" 5. Divide Matrix B by A \")\n",
    "print(division)\n",
    "\n"
   ]
  },
  {
   "cell_type": "code",
   "execution_count": 43,
   "id": "e2e22e29-4117-46e2-9627-87df369dbf81",
   "metadata": {},
   "outputs": [
    {
     "name": "stdout",
     "output_type": "stream",
     "text": [
      "[  256     1 13090]\n"
     ]
    }
   ],
   "source": [
    "# 12. Which function is numpy can be used to swap the byte order of an array?\n",
    "\n",
    "# Solution\n",
    "import numpy as np\n",
    "\n",
    "arr = np.array([1, 256, 8755], dtype=np.int16)\n",
    "arr_swapped = arr.byteswap()\n",
    "print(arr_swapped)\n"
   ]
  },
  {
   "cell_type": "code",
   "execution_count": null,
   "id": "773eccbe-655a-4f1b-b6da-00bb0a3dfd95",
   "metadata": {},
   "outputs": [],
   "source": [
    "# 13. What is the significance of the np.linalg.inv function?\n",
    "\n",
    "# Solutions\n",
    "'''\n",
    "The np.linalg.inv function in NumPy is used to compute the multiplicative inverse of a square matrix, \n",
    "a fundamental operation in linear algebra. Its significance lies in enabling solutions to systems of linear equations, \n",
    "statistical analyses, and machine learning algorithms.\n",
    "\n",
    "Key Significance\n",
    "Matrix Inversion:\n",
    "    Computes the matrix A−1 such that A⋅A−1 =I, where I is the identity matrix.\n",
    "    Essential for solving equations of the form Ax=B (solution: x=A−1B).\n",
    "\n",
    "Square Matrix Requirement:\n",
    "    Works only on square matrices (same rows and columns) with a non-zero determinant.\n",
    "\n",
    "Error Handling:\n",
    "    Raises LinAlgError if the matrix is singular (non-invertible) or not square.\n",
    "'''"
   ]
  },
  {
   "cell_type": "code",
   "execution_count": null,
   "id": "52691fdb-c27d-4c5c-b498-f51d031de050",
   "metadata": {},
   "outputs": [],
   "source": [
    "# 14. What does the np.reshape function do, and how it is used?\n",
    "\n",
    "# Solutions \n",
    "'''\n",
    "The np.reshape function in NumPy is used to change the shape (dimensions) of an array without altering its data.\n",
    "This means you can rearrange the elements of an array into a new configuration—for example, converting a 1D array \n",
    "into a 2D or 3D array, or flattening a multi-dimensional array into 1D.\n",
    "\n",
    "Function Signature:\n",
    "        numpy.reshape(a, newshape, order='C')\n",
    "a: The array to be reshaped.\n",
    "newshape: The desired shape as a tuple or integer.\n",
    "order: Optional; determines the order in which elements are read/written ('C' for row-major, 'F' for column-major)\n",
    "\n",
    "Usage Example:\n",
    "import numpy as np\n",
    "arr = np.array([1, 2, 3, 4, 5, 6])\n",
    "reshaped = np.reshape(arr, (2, 3))\n",
    "print(reshaped)\n",
    "\n",
    "\n",
    "Key Features\n",
    "    No Data Change: Only the shape (dimensions) of the array is changed, not the underlying data.\n",
    "    Total Elements Must Match: The product of the new shape must equal the number of elements in the original array.\n",
    "    Flexible Dimension: You can use -1 for one dimension, and NumPy will automatically calculate it.\n",
    "    Order Parameter: Controls the order of element traversal during reshaping.\n",
    "\n",
    "'''\n",
    "\n"
   ]
  },
  {
   "cell_type": "code",
   "execution_count": 45,
   "id": "180a0984-1f4b-420c-a1e2-636541e019c4",
   "metadata": {},
   "outputs": [
    {
     "name": "stdout",
     "output_type": "stream",
     "text": [
      "[[11 22 33]\n",
      " [14 25 36]]\n"
     ]
    }
   ],
   "source": [
    "# 15. What is broadcasting in numpy?\n",
    "\n",
    "# Solutions.\n",
    "'''\n",
    "Broadcasting in NumPy is a powerful mechanism that allows arithmetic operations to be performed between \n",
    "arrays of different shapes and sizes, without explicitly reshaping or looping through data. When you operate on arrays, \n",
    "NumPy automatically expands the smaller array along certain dimensions so that its shape matches the larger array, \n",
    "enabling efficient, element-wise computations.\n",
    "\n",
    "Key Features of Broadcasting:\n",
    "    Automatic Shape Alignment: If two arrays have different shapes, NumPy tries to make them compatible by\n",
    "    \"stretching\" the smaller array along dimensions of size 1 or missing dimensions.\n",
    "    \n",
    "    Efficiency: Broadcasting avoids unnecessary memory usage and loops, making operations faster and more memory-efficient.\n",
    "    \n",
    "    Rules: For broadcasting to work, the shapes of the arrays must be compatible—each dimension must be either equal in\n",
    "    length or one of them must be 1.\n",
    "'''\n",
    "# Example \n",
    "import numpy as np\n",
    "a = np.array([[1, 2, 3], [4, 5, 6]])  # shape (2,3)\n",
    "b = np.array([10, 20, 30])             # shape (3,)\n",
    "result = a + b\n",
    "print(result)\n",
    "# Output:\n",
    "# [[11 22 33]\n",
    "#  [14 25 36]]\n"
   ]
  },
  {
   "cell_type": "code",
   "execution_count": null,
   "id": "9ee18974-5ddb-4dfd-afb7-c65c1f21a38e",
   "metadata": {},
   "outputs": [],
   "source": []
  }
 ],
 "metadata": {
  "kernelspec": {
   "display_name": "Python [conda env:base] *",
   "language": "python",
   "name": "conda-base-py"
  },
  "language_info": {
   "codemirror_mode": {
    "name": "ipython",
    "version": 3
   },
   "file_extension": ".py",
   "mimetype": "text/x-python",
   "name": "python",
   "nbconvert_exporter": "python",
   "pygments_lexer": "ipython3",
   "version": "3.12.4"
  }
 },
 "nbformat": 4,
 "nbformat_minor": 5
}
