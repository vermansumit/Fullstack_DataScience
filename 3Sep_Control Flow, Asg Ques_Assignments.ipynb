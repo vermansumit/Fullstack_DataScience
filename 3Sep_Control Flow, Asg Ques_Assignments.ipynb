{
 "cells": [
  {
   "cell_type": "code",
   "execution_count": null,
   "id": "d8266424-04c5-4180-b39e-5a07b73ec31a",
   "metadata": {},
   "outputs": [],
   "source": [
    "''' Basic if-else statements : '''"
   ]
  },
  {
   "cell_type": "code",
   "execution_count": 13,
   "id": "ab0338ec-3f2d-4752-8311-b0b37d3e7f39",
   "metadata": {},
   "outputs": [
    {
     "name": "stdin",
     "output_type": "stream",
     "text": [
      "input your number here : 5\n"
     ]
    },
    {
     "name": "stdout",
     "output_type": "stream",
     "text": [
      "Given Number is Positive\n"
     ]
    }
   ],
   "source": [
    "# 1. Write a Python program to check if a given number is positive or negative.\n",
    "# asking user to input any number\n",
    "number = input(\"input your number here :\")\n",
    "# converting given number to float to check\n",
    "givenNum = float(number)\n",
    "# check number as per condition\n",
    "if givenNum >= 0:\n",
    "    print(\"Given Number is Positive\")\n",
    "else :\n",
    "    print(\"Given Number is Negative\")"
   ]
  },
  {
   "cell_type": "code",
   "execution_count": 15,
   "id": "fef26c7b-94ad-4275-b555-7193884318b5",
   "metadata": {},
   "outputs": [
    {
     "name": "stdin",
     "output_type": "stream",
     "text": [
      "provide your age :  17\n"
     ]
    },
    {
     "name": "stdout",
     "output_type": "stream",
     "text": [
      " You not eligible to Vote\n"
     ]
    }
   ],
   "source": [
    "# 2. Create a program that determines if a person is eligible to vote based on their age.\n",
    "# Asking user input the age\n",
    "age = input(\"provide your age : \")\n",
    "# changing given number into integer\n",
    "agecheck = int(age)\n",
    "# checking eligibility to vote\n",
    "if agecheck >= 18:\n",
    "    print(\" You are eligible to vote\")\n",
    "else :\n",
    "    print(\" You not eligible to Vote\")"
   ]
  },
  {
   "cell_type": "code",
   "execution_count": 17,
   "id": "b0db758c-6b23-49c9-bf9d-6077e9d52bd2",
   "metadata": {},
   "outputs": [
    {
     "name": "stdout",
     "output_type": "stream",
     "text": [
      "maximum number is :  34\n"
     ]
    }
   ],
   "source": [
    "# 3. Develop a program to find the maximum of two numbers using if-else statements.\n",
    "\n",
    "# to find the maximum number ot two number\n",
    "def maxnumber(a, b):\n",
    "    if a > b:\n",
    "        return a\n",
    "    else :\n",
    "        return b\n",
    "# asking for user input\n",
    "num = maxnumber(20, 34)\n",
    "# printing the result \n",
    "print (\"maximum number is : \", num)"
   ]
  },
  {
   "cell_type": "code",
   "execution_count": 19,
   "id": "9d221770-9e78-460b-a0e4-c2ae9b044334",
   "metadata": {},
   "outputs": [
    {
     "name": "stdin",
     "output_type": "stream",
     "text": [
      "Enter year to be checked: 2024\n"
     ]
    },
    {
     "name": "stdout",
     "output_type": "stream",
     "text": [
      "The year is a leap year!\n"
     ]
    }
   ],
   "source": [
    "# 4. Write a Python script to classify a given year as a leap year or not.\n",
    "\n",
    "# Asking user input the year\n",
    "year=int(input(\"Enter year to be checked:\"))\n",
    "\n",
    "#checking year is a leap year\n",
    "if(year%4==0 and year%100!=0 or year%400==0):\n",
    "    print(\"The year is a leap year!\")\n",
    "else:\n",
    "    print(\"The year isn't a leap year!\")"
   ]
  },
  {
   "cell_type": "code",
   "execution_count": 21,
   "id": "ac07f0ec-fc25-4c6a-82df-681d08805a9e",
   "metadata": {},
   "outputs": [
    {
     "name": "stdin",
     "output_type": "stream",
     "text": [
      "Enter a character:  s\n"
     ]
    },
    {
     "name": "stdout",
     "output_type": "stream",
     "text": [
      "s is a Consonant\n"
     ]
    }
   ],
   "source": [
    "# 5. Create a program that checks whether a character is a vowel or a consonant.\n",
    "\n",
    "# taking user input\n",
    "ch = input(\"Enter a character: \")\n",
    "\n",
    "# checking if character is a vowel\n",
    "if(ch=='A' or ch=='a' or ch=='E' or ch =='e' or ch=='I'\n",
    " or ch=='i' or ch=='O' or ch=='o' or ch=='U' or ch=='u'):\n",
    "    print(ch, \"is a Vowel\")\n",
    "else:\n",
    "    print(ch, \"is a Consonant\")\n"
   ]
  },
  {
   "cell_type": "code",
   "execution_count": 25,
   "id": "e93fd9ff-0531-45dc-b8e2-97ed0d75b931",
   "metadata": {},
   "outputs": [
    {
     "name": "stdin",
     "output_type": "stream",
     "text": [
      "provide your number 23\n"
     ]
    },
    {
     "name": "stdout",
     "output_type": "stream",
     "text": [
      "Given Number is : Odd\n"
     ]
    }
   ],
   "source": [
    "# 6. Implement a program to determine whether a given number is even or odd.\n",
    "\n",
    "# definging the fucntion to calculate the value\n",
    "def oddeven(a):\n",
    "    if a%2 == 0:\n",
    "        return \"Even\"\n",
    "    else :\n",
    "        return \"Odd\"\n",
    "# asking to input some number\n",
    "number = int(input(\"provide your number\"))\n",
    "\n",
    "# printing the resule \n",
    "print(\"Given Number is :\", oddeven(number))"
   ]
  },
  {
   "cell_type": "code",
   "execution_count": 6,
   "id": "e526eafd-911c-484b-91fa-31aa0019269b",
   "metadata": {},
   "outputs": [
    {
     "name": "stdin",
     "output_type": "stream",
     "text": [
      "provide your number:  -10\n"
     ]
    },
    {
     "name": "stdout",
     "output_type": "stream",
     "text": [
      "Absolute Value of given number is :  10\n"
     ]
    }
   ],
   "source": [
    "# 7. Write a Python function to calculate the absolute value of a number without using the `abs()` function.\n",
    "\n",
    "# defining the function to get absolute value\n",
    "def absolutevalue(a):\n",
    "    if a <= 0 :\n",
    "        return a * -1\n",
    "    else :\n",
    "        return a\n",
    "\n",
    "# asking user to provide the number\n",
    "a = int(input(\"provide your number: \"))\n",
    "\n",
    "# printing the result\n",
    "print(\"Absolute Value of given number is : \", absolutevalue(a))\n",
    "\n"
   ]
  },
  {
   "cell_type": "code",
   "execution_count": 18,
   "id": "9e8c6209-8966-43aa-ad5a-09fe45f36bd6",
   "metadata": {},
   "outputs": [
    {
     "name": "stdin",
     "output_type": "stream",
     "text": [
      "provide your first number : 59\n",
      "provide your Second number : 11\n",
      "provide your third number : 23\n"
     ]
    },
    {
     "name": "stdout",
     "output_type": "stream",
     "text": [
      "Largest number is :  59\n"
     ]
    }
   ],
   "source": [
    "# 8. Develop a program that determines the largest of three given numbers using if-else statements.\n",
    "\n",
    "def largenum(a, b, c):\n",
    "    if a > b :\n",
    "        if a > c:\n",
    "            return a\n",
    "        else :\n",
    "            return c\n",
    "    else :\n",
    "        if b > c:\n",
    "            return b\n",
    "        else :\n",
    "            return c\n",
    "\n",
    "a = int(input(\"provide your first number :\"))\n",
    "b = int(input(\"provide your Second number :\"))\n",
    "c = int(input(\"provide your third number :\"))\n",
    "print (\"Largest number is : \", largenum(a, b, c))\n"
   ]
  },
  {
   "cell_type": "code",
   "execution_count": 6,
   "id": "dab01403-254e-4fed-8cb3-8cfac2c03afa",
   "metadata": {},
   "outputs": [
    {
     "name": "stdin",
     "output_type": "stream",
     "text": [
      "Enter a string:  refer\n"
     ]
    },
    {
     "name": "stdout",
     "output_type": "stream",
     "text": [
      "The string is a palindrome!\n"
     ]
    }
   ],
   "source": [
    "# 9. Create a program that checks if a given string is a palindrome.\n",
    "\n",
    "def is_palindrome(s):\n",
    "    # Remove spaces and convert to lowercase\n",
    "    cleaned_str = ''.join(char.lower() for char in s if char.isalnum())\n",
    "    \n",
    "    # Check if the cleaned string is equal to its reverse\n",
    "    return cleaned_str == cleaned_str[::-1]\n",
    "\n",
    "# Get user input\n",
    "input_str = input(\"Enter a string: \")\n",
    "\n",
    "# Check if the string is a palindrome and print the result\n",
    "if is_palindrome(input_str):\n",
    "    print(\"The string is a palindrome!\")\n",
    "else:\n",
    "    print(\"The string is not a palindrome.\")"
   ]
  },
  {
   "cell_type": "code",
   "execution_count": 10,
   "id": "94df44a5-6d14-4832-ad76-30ac59066ac0",
   "metadata": {},
   "outputs": [
    {
     "name": "stdin",
     "output_type": "stream",
     "text": [
      "Enter the student's score (0-100):  86.2\n"
     ]
    },
    {
     "name": "stdout",
     "output_type": "stream",
     "text": [
      "Grade: B\n"
     ]
    }
   ],
   "source": [
    "# 10. Write a Python program to calculate the grade based on a student's score.\n",
    "\n",
    "def calculate_grade(score):\n",
    "    # Check if the score is within a valid range\n",
    "    if score < 0 or score > 100:\n",
    "        return \"Invalid score! Please enter a number between 0 and 100.\"\n",
    "    \n",
    "    # Determine the grade using only if and else\n",
    "    if score >= 90:\n",
    "        return \"A\"\n",
    "    else:\n",
    "        if score >= 80:\n",
    "            return \"B\"\n",
    "        else:\n",
    "            if score >= 70:\n",
    "                return \"C\"\n",
    "            else:\n",
    "                if score >= 60:\n",
    "                    return \"D\"\n",
    "                else:\n",
    "                    return \"F\"\n",
    "\n",
    "# Get user input\n",
    "try:\n",
    "    score = float(input(\"Enter the student's score (0-100): \"))\n",
    "    # Calculate and print the grade\n",
    "    print(\"Grade:\", calculate_grade(score))\n",
    "except ValueError:\n",
    "    print(\"Invalid input! Please enter a numeric value.\")"
   ]
  },
  {
   "cell_type": "code",
   "execution_count": 12,
   "id": "2d48061b-245d-4f83-8d22-828cceb1e67f",
   "metadata": {},
   "outputs": [
    {
     "data": {
      "text/plain": [
       "' Nested If-Else Statements: '"
      ]
     },
     "execution_count": 12,
     "metadata": {},
     "output_type": "execute_result"
    }
   ],
   "source": [
    "''' Nested If-Else Statements: '''"
   ]
  },
  {
   "cell_type": "code",
   "execution_count": 14,
   "id": "a454cc3b-c659-4db0-a6ac-5d7749431d12",
   "metadata": {},
   "outputs": [
    {
     "name": "stdin",
     "output_type": "stream",
     "text": [
      "Enter the first number:  20\n",
      "Enter the second number:  21\n",
      "Enter the third number:  52\n"
     ]
    },
    {
     "name": "stdout",
     "output_type": "stream",
     "text": [
      "The largest number is: 52.0\n"
     ]
    }
   ],
   "source": [
    "# 11. Write a program to find the largest among three numbers using nested if-else statements.\n",
    "\n",
    "# Get user input for three numbers\n",
    "num1 = float(input(\"Enter the first number: \"))\n",
    "num2 = float(input(\"Enter the second number: \"))\n",
    "num3 = float(input(\"Enter the third number: \"))\n",
    "\n",
    "# Using nested if-else statements to find the largest number\n",
    "if num1 >= num2:\n",
    "    if num1 >= num3:\n",
    "        largest = num1\n",
    "    else:\n",
    "        largest = num3\n",
    "else:\n",
    "    if num2 >= num3:\n",
    "        largest = num2\n",
    "    else:\n",
    "        largest = num3\n",
    "\n",
    "# Print the largest number\n",
    "print(\"The largest number is:\", largest)"
   ]
  },
  {
   "cell_type": "code",
   "execution_count": 16,
   "id": "07e9ea2d-a710-4a35-8497-298017d443f7",
   "metadata": {},
   "outputs": [
    {
     "name": "stdin",
     "output_type": "stream",
     "text": [
      "Enter the length of the first side:  6\n",
      "Enter the length of the second side:  6\n",
      "Enter the length of the third side:  7\n"
     ]
    },
    {
     "name": "stdout",
     "output_type": "stream",
     "text": [
      "The triangle is Isosceles.\n"
     ]
    }
   ],
   "source": [
    "# 12. Implement a program to determine if a triangle is equilateral, isosceles, or scalene.\n",
    "\n",
    "# Get user input for the sides of the triangle\n",
    "side1 = float(input(\"Enter the length of the first side: \"))\n",
    "side2 = float(input(\"Enter the length of the second side: \"))\n",
    "side3 = float(input(\"Enter the length of the third side: \"))\n",
    "\n",
    "# Check if the inputs can form a valid triangle\n",
    "if side1 + side2 > side3 and side1 + side3 > side2 and side2 + side3 > side1:\n",
    "    # Determine the type of triangle\n",
    "    if side1 == side2 == side3:\n",
    "        print(\"The triangle is Equilateral.\")\n",
    "    elif side1 == side2 or side1 == side3 or side2 == side3:\n",
    "        print(\"The triangle is Isosceles.\")\n",
    "    else:\n",
    "        print(\"The triangle is Scalene.\")\n",
    "else:\n",
    "    print(\"The given sides do not form a valid triangle.\")\n"
   ]
  },
  {
   "cell_type": "code",
   "execution_count": 18,
   "id": "a63dc41c-c5a4-4221-b3e9-76a695c04ef8",
   "metadata": {},
   "outputs": [
    {
     "name": "stdin",
     "output_type": "stream",
     "text": [
      "Enter a year:  2024\n"
     ]
    },
    {
     "name": "stdout",
     "output_type": "stream",
     "text": [
      "2024 is a leap year but not a century year.\n"
     ]
    }
   ],
   "source": [
    "# 13. Develop a program that checks if a year is a leap year and also if it is a century year.\n",
    "\n",
    "# Get user input for the year\n",
    "year = int(input(\"Enter a year: \"))\n",
    "\n",
    "# Check if the year is a century year\n",
    "if year % 100 == 0:\n",
    "    century = True\n",
    "else:\n",
    "    century = False\n",
    "\n",
    "# Check if the year is a leap year\n",
    "if (year % 4 == 0 and year % 100 != 0) or (year % 400 == 0):\n",
    "    leap_year = True\n",
    "else:\n",
    "    leap_year = False\n",
    "\n",
    "# Display the results\n",
    "if leap_year and century:\n",
    "    print(f\"{year} is a leap year and also a century year.\")\n",
    "elif leap_year:\n",
    "    print(f\"{year} is a leap year but not a century year.\")\n",
    "elif century:\n",
    "    print(f\"{year} is a century year but not a leap year.\")\n",
    "else:\n",
    "    print(f\"{year} is neither a leap year nor a century year.\")"
   ]
  },
  {
   "cell_type": "code",
   "execution_count": 20,
   "id": "2f57c211-2069-4731-95ae-158a608e5e1b",
   "metadata": {},
   "outputs": [
    {
     "name": "stdin",
     "output_type": "stream",
     "text": [
      "Enter a number:  75\n"
     ]
    },
    {
     "name": "stdout",
     "output_type": "stream",
     "text": [
      "The number is positive.\n"
     ]
    }
   ],
   "source": [
    "# 14. Write a Python script to determine if a number is positive, negative, or zero.\n",
    "\n",
    "# Get user input\n",
    "number = float(input(\"Enter a number: \"))\n",
    "\n",
    "# Check if the number is positive, negative, or zero\n",
    "if number > 0:\n",
    "    print(\"The number is positive.\")\n",
    "elif number < 0:\n",
    "    print(\"The number is negative.\")\n",
    "else:\n",
    "    print(\"The number is zero.\")\n"
   ]
  },
  {
   "cell_type": "code",
   "execution_count": 22,
   "id": "03114284-5952-4112-a7b5-6a55d3d3b57f",
   "metadata": {},
   "outputs": [
    {
     "name": "stdin",
     "output_type": "stream",
     "text": [
      "Enter the person's age:  21\n"
     ]
    },
    {
     "name": "stdout",
     "output_type": "stream",
     "text": [
      "The person is not a teenager.\n"
     ]
    }
   ],
   "source": [
    "# 15. Create a program to check if a person is a teenager (between 13 and 19 years old).\n",
    "\n",
    "# Get user input for age\n",
    "age = int(input(\"Enter the person's age: \"))\n",
    "\n",
    "# Check if the person is a teenager\n",
    "if age >= 13 and age <= 19:\n",
    "    print(\"The person is a teenager.\")\n",
    "else:\n",
    "    print(\"The person is not a teenager.\")\n",
    "\n"
   ]
  },
  {
   "cell_type": "code",
   "execution_count": 24,
   "id": "6eb2aad3-e86f-49bd-b3b8-6f07ad99e2ca",
   "metadata": {},
   "outputs": [
    {
     "name": "stdin",
     "output_type": "stream",
     "text": [
      "Enter the angle in degrees:  35\n"
     ]
    },
    {
     "name": "stdout",
     "output_type": "stream",
     "text": [
      "The angle is Acute.\n"
     ]
    }
   ],
   "source": [
    "# 16. Develop a program that determines the type of angle based on its measure (acute, obtuse, or right).\n",
    "\n",
    "# Get user input for the angle measure\n",
    "angle = float(input(\"Enter the angle in degrees: \"))\n",
    "\n",
    "# Determine the type of angle\n",
    "if angle > 0 and angle < 90:\n",
    "    print(\"The angle is Acute.\")\n",
    "elif angle == 90:\n",
    "    print(\"The angle is Right.\")\n",
    "elif angle > 90 and angle < 180:\n",
    "    print(\"The angle is Obtuse.\")\n",
    "else:\n",
    "    print(\"Invalid angle. Please enter an angle between 0 and 180 degrees.\")"
   ]
  },
  {
   "cell_type": "code",
   "execution_count": 26,
   "id": "913c5876-60e1-4c21-a896-95b4f8eafd73",
   "metadata": {},
   "outputs": [
    {
     "name": "stdin",
     "output_type": "stream",
     "text": [
      "Enter the coefficient a:  5\n",
      "Enter the coefficient b:  6\n",
      "Enter the coefficient c:  9\n"
     ]
    },
    {
     "name": "stdout",
     "output_type": "stream",
     "text": [
      "The roots of the quadratic equation are: (-0.6+1.2j) and (-0.6-1.2j)\n"
     ]
    }
   ],
   "source": [
    "# 17. Write a Python program to calculate the roots of a quadratic equation.\n",
    "\n",
    "\n",
    "import cmath  # To handle complex square roots\n",
    "\n",
    "# Get coefficients from the user\n",
    "a = float(input(\"Enter the coefficient a: \"))\n",
    "b = float(input(\"Enter the coefficient b: \"))\n",
    "c = float(input(\"Enter the coefficient c: \"))\n",
    "\n",
    "# Calculate the discriminant\n",
    "discriminant = b**2 - 4*a*c\n",
    "\n",
    "# Calculate the two roots using the quadratic formula\n",
    "root1 = (-b + cmath.sqrt(discriminant)) / (2 * a)\n",
    "root2 = (-b - cmath.sqrt(discriminant)) / (2 * a)\n",
    "\n",
    "# Print the roots\n",
    "print(f\"The roots of the quadratic equation are: {root1} and {root2}\")"
   ]
  },
  {
   "cell_type": "code",
   "execution_count": 2,
   "id": "54b2b2df-2f15-4754-9976-cee39e87b31c",
   "metadata": {},
   "outputs": [
    {
     "name": "stdin",
     "output_type": "stream",
     "text": [
      "Enter a number (1-7):  3\n"
     ]
    },
    {
     "name": "stdout",
     "output_type": "stream",
     "text": [
      "The day is Wednesday.\n"
     ]
    }
   ],
   "source": [
    "# 18. Implement a program to determine the day of the week based on a user-provided number (1 for Monday, 2 for Tuesday, etc.).\n",
    "\n",
    "# Get user input for the day number\n",
    "day_number = int(input(\"Enter a number (1-7): \"))\n",
    "\n",
    "# Determine the day of the week using nested if-else statements\n",
    "if day_number == 1:\n",
    "    print(\"The day is Monday.\")\n",
    "else:\n",
    "    if day_number == 2:\n",
    "        print(\"The day is Tuesday.\")\n",
    "    else:\n",
    "        if day_number == 3:\n",
    "            print(\"The day is Wednesday.\")\n",
    "        else:\n",
    "            if day_number == 4:\n",
    "                print(\"The day is Thursday.\")\n",
    "            else:\n",
    "                if day_number == 5:\n",
    "                    print(\"The day is Friday.\")\n",
    "                else:\n",
    "                    if day_number == 6:\n",
    "                        print(\"The day is Saturday.\")\n",
    "                    else:\n",
    "                        if day_number == 7:\n",
    "                            print(\"The day is Sunday.\")\n",
    "                        else:\n",
    "                            print(\"Invalid number! Please enter a number between 1 and 7.\")\n"
   ]
  },
  {
   "cell_type": "code",
   "execution_count": 4,
   "id": "729829d7-3b6c-4b75-8045-a5e74bf0004d",
   "metadata": {},
   "outputs": [
    {
     "name": "stdin",
     "output_type": "stream",
     "text": [
      "Enter a year:  1957\n"
     ]
    },
    {
     "name": "stdout",
     "output_type": "stream",
     "text": [
      "1957 is not a leap year.\n"
     ]
    }
   ],
   "source": [
    "# 19. Create a program that determines if a year is a leap year and also if it is evenly divisible by 400.\n",
    "\n",
    "# Get user input for the year\n",
    "year = int(input(\"Enter a year: \"))\n",
    "\n",
    "# Determine if the year is a leap year and also divisible by 400 using nested if-else\n",
    "if year % 4 == 0:\n",
    "    if year % 100 == 0:\n",
    "        if year % 400 == 0:\n",
    "            print(f\"{year} is a leap year and is also divisible by 400.\")\n",
    "        else:\n",
    "            print(f\"{year} is not a leap year (divisible by 100 but not by 400).\")\n",
    "    else:\n",
    "        print(f\"{year} is a leap year.\")\n",
    "else:\n",
    "    print(f\"{year} is not a leap year.\")\n"
   ]
  },
  {
   "cell_type": "code",
   "execution_count": 8,
   "id": "339e1a91-4e8f-4684-86e3-eda9e0cfd30d",
   "metadata": {},
   "outputs": [
    {
     "name": "stdin",
     "output_type": "stream",
     "text": [
      "Enter a number:  5\n"
     ]
    },
    {
     "name": "stdout",
     "output_type": "stream",
     "text": [
      "5 is a prime number.\n"
     ]
    }
   ],
   "source": [
    "# 20. Develop a program that checks if a given number is prime or not using nested if-else statements.\n",
    "\n",
    "\n",
    "# Get user input for the number\n",
    "number = int(input(\"Enter a number: \"))\n",
    "\n",
    "# Check if the number is prime using nested if-else statements\n",
    "if number > 1:\n",
    "    if number == 2:\n",
    "        print(f\"{number} is a prime number.\")\n",
    "    else:\n",
    "        if number == 3:\n",
    "            print(f\"{number} is a prime number.\")\n",
    "        else:\n",
    "            if number % 2 == 0:\n",
    "                print(f\"{number} is not a prime number (divisible by 2).\")\n",
    "            else:\n",
    "                if number % 3 == 0:\n",
    "                    print(f\"{number} is not a prime number (divisible by 3).\")\n",
    "                else:\n",
    "                    print(f\"{number} is a prime number.\")\n",
    "else:\n",
    "    print(f\"{number} is not a prime number.\")\n"
   ]
  },
  {
   "cell_type": "code",
   "execution_count": null,
   "id": "c892d8cb-c201-491b-ae42-6ae70bb8a765",
   "metadata": {},
   "outputs": [],
   "source": [
    "''' Elif Statements: '''"
   ]
  },
  {
   "cell_type": "code",
   "execution_count": 10,
   "id": "89a80f22-d8d8-4154-abbf-4142e6a2ec4d",
   "metadata": {},
   "outputs": [
    {
     "name": "stdin",
     "output_type": "stream",
     "text": [
      "Enter the student's score (0-100):  68\n"
     ]
    },
    {
     "name": "stdout",
     "output_type": "stream",
     "text": [
      "Grade: D\n"
     ]
    }
   ],
   "source": [
    "# 21. Write a Python program to assign grades based on different ranges of scores using elif statements.\n",
    "\n",
    "# Get the student's score as input\n",
    "score = float(input(\"Enter the student's score (0-100): \"))\n",
    "\n",
    "# Assign grades based on the score using elif statements\n",
    "if score >= 90 and score <= 100:\n",
    "    print(\"Grade: A\")\n",
    "elif score >= 80 and score < 90:\n",
    "    print(\"Grade: B\")\n",
    "elif score >= 70 and score < 80:\n",
    "    print(\"Grade: C\")\n",
    "elif score >= 60 and score < 70:\n",
    "    print(\"Grade: D\")\n",
    "elif score >= 0 and score < 60:\n",
    "    print(\"Grade: F\")\n",
    "else:\n",
    "    print(\"Invalid score! Please enter a score between 0 and 100.\")\n"
   ]
  },
  {
   "cell_type": "code",
   "execution_count": 12,
   "id": "41b29e61-0768-434a-a1b5-054e0d95fc0b",
   "metadata": {},
   "outputs": [
    {
     "name": "stdin",
     "output_type": "stream",
     "text": [
      "Enter the first angle:  60\n",
      "Enter the second angle:  60\n",
      "Enter the third angle:  60\n"
     ]
    },
    {
     "name": "stdout",
     "output_type": "stream",
     "text": [
      "This is an Acute Triangle.\n"
     ]
    }
   ],
   "source": [
    "# 22. Implement a program to determine the type of a triangle based on its angles.\n",
    "\n",
    "\n",
    "# Get the three angles of the triangle from the user\n",
    "angle1 = float(input(\"Enter the first angle: \"))\n",
    "angle2 = float(input(\"Enter the second angle: \"))\n",
    "angle3 = float(input(\"Enter the third angle: \"))\n",
    "\n",
    "# Check if the angles form a valid triangle\n",
    "if angle1 + angle2 + angle3 == 180 and angle1 > 0 and angle2 > 0 and angle3 > 0:\n",
    "    # Determine the type of triangle based on the angles\n",
    "    if angle1 == 90 or angle2 == 90 or angle3 == 90:\n",
    "        print(\"This is a Right Triangle.\")\n",
    "    elif angle1 > 90 or angle2 > 90 or angle3 > 90:\n",
    "        print(\"This is an Obtuse Triangle.\")\n",
    "    else:\n",
    "        print(\"This is an Acute Triangle.\")\n",
    "else:\n",
    "    print(\"Invalid angles! The sum of the angles must be 180 degrees.\")"
   ]
  },
  {
   "cell_type": "code",
   "execution_count": 18,
   "id": "20812016-edf8-41fb-a179-4753905a2773",
   "metadata": {},
   "outputs": [
    {
     "name": "stdin",
     "output_type": "stream",
     "text": [
      "Enter your weight in kilograms:  78\n",
      "Enter your height in meters:  5.8\n"
     ]
    },
    {
     "name": "stdout",
     "output_type": "stream",
     "text": [
      "Your BMI is: 2.32\n",
      "Category: Underweight\n"
     ]
    }
   ],
   "source": [
    "# 23. Develop a program to categorize a given person's BMI into underweight, normal, overweight, or obese using elif statements.\n",
    "\n",
    "# Get user input for weight in kilograms and height in meters\n",
    "weight = float(input(\"Enter your weight in kilograms: \"))\n",
    "height = float(input(\"Enter your height in meters: \"))\n",
    "\n",
    "# Calculate BMI\n",
    "bmi = weight / (height ** 2)\n",
    "\n",
    "# Categorize BMI using elif statements\n",
    "print(f\"Your BMI is: {bmi:.2f}\")\n",
    "if bmi < 18.5:\n",
    "    print(\"Category: Underweight\")\n",
    "elif bmi >= 18.5 and bmi < 25.0:\n",
    "    print(\"Category: Normal weight\")\n",
    "elif bmi >= 25.0 and bmi < 30.0:\n",
    "    print(\"Category: Overweight\")\n",
    "else:\n",
    "    print(\"Category: Obese\")\n"
   ]
  },
  {
   "cell_type": "code",
   "execution_count": 20,
   "id": "7e13c573-46a4-4b09-b9d2-4787285f0e47",
   "metadata": {},
   "outputs": [
    {
     "name": "stdin",
     "output_type": "stream",
     "text": [
      "Enter a number:  5\n"
     ]
    },
    {
     "name": "stdout",
     "output_type": "stream",
     "text": [
      "The number is positive.\n"
     ]
    }
   ],
   "source": [
    "# 24. Create a program that determines whether a given number is positive, negative, or zero using elif statements.\n",
    "\n",
    "# Get user input for the number\n",
    "number = float(input(\"Enter a number: \"))\n",
    "\n",
    "# Determine if the number is positive, negative, or zero using elif statements\n",
    "if number > 0:\n",
    "    print(\"The number is positive.\")\n",
    "elif number < 0:\n",
    "    print(\"The number is negative.\")\n",
    "else:\n",
    "    print(\"The number is zero.\")"
   ]
  },
  {
   "cell_type": "code",
   "execution_count": 22,
   "id": "e7de8435-25a1-4d83-a4ec-27b23ad8ab84",
   "metadata": {},
   "outputs": [
    {
     "name": "stdin",
     "output_type": "stream",
     "text": [
      "Enter a character:  AA\n"
     ]
    },
    {
     "name": "stdout",
     "output_type": "stream",
     "text": [
      "The character is uppercase.\n"
     ]
    }
   ],
   "source": [
    "# 25. Write a Python script to determine the type of a character (uppercase, lowercase, or special) using elif statements.\n",
    "\n",
    "# Get the user input for a character\n",
    "char = input(\"Enter a character: \")\n",
    "\n",
    "# Check if the character is uppercase, lowercase, or special using elif statements\n",
    "if char.isupper():\n",
    "    print(\"The character is uppercase.\")\n",
    "elif char.islower():\n",
    "    print(\"The character is lowercase.\")\n",
    "else:\n",
    "    print(\"The character is special.\")\n"
   ]
  },
  {
   "cell_type": "code",
   "execution_count": 24,
   "id": "a174663b-3100-4a0c-9848-4a50ed81033c",
   "metadata": {},
   "outputs": [
    {
     "name": "stdin",
     "output_type": "stream",
     "text": [
      "Enter the purchase amount: $ 321\n"
     ]
    },
    {
     "name": "stdout",
     "output_type": "stream",
     "text": [
      "Original Price: $321.00\n",
      "Discount: 30%\n",
      "Discounted Price: $224.70\n"
     ]
    }
   ],
   "source": [
    "# 26. Implement a program to calculate the discounted price based on different purchase amounts using elif statements.\n",
    "\n",
    "# Get the purchase amount from the user\n",
    "purchase_amount = float(input(\"Enter the purchase amount: $\"))\n",
    "\n",
    "# Calculate the discounted price using elif statements\n",
    "if purchase_amount < 50:\n",
    "    discount = 0  # No discount\n",
    "    discounted_price = purchase_amount\n",
    "elif purchase_amount >= 50 and purchase_amount < 100:\n",
    "    discount = 10  # 10% discount\n",
    "    discounted_price = purchase_amount * 0.90  # Applying 10% discount\n",
    "elif purchase_amount >= 100 and purchase_amount < 200:\n",
    "    discount = 20  # 20% discount\n",
    "    discounted_price = purchase_amount * 0.80  # Applying 20% discount\n",
    "else:\n",
    "    discount = 30  # 30% discount\n",
    "    discounted_price = purchase_amount * 0.70  # Applying 30% discount\n",
    "\n",
    "# Display the results\n",
    "print(f\"Original Price: ${purchase_amount:.2f}\")\n",
    "print(f\"Discount: {discount}%\")\n",
    "print(f\"Discounted Price: ${discounted_price:.2f}\")\n"
   ]
  },
  {
   "cell_type": "code",
   "execution_count": 26,
   "id": "88855164-261b-4d15-b706-fc8b4bc797de",
   "metadata": {},
   "outputs": [
    {
     "name": "stdin",
     "output_type": "stream",
     "text": [
      "Enter your electricity consumption in kWh:  187\n"
     ]
    },
    {
     "name": "stdout",
     "output_type": "stream",
     "text": [
      "Electricity Consumption: 187.0 kWh\n",
      "Total Bill: $23.05\n"
     ]
    }
   ],
   "source": [
    "# 27. Develop a program to calculate the electricity bill based on different consumption slabs using elif statements.\n",
    "\n",
    "# Get the electricity consumption in kWh from the user\n",
    "consumption = float(input(\"Enter your electricity consumption in kWh: \"))\n",
    "\n",
    "# Calculate the electricity bill using elif statements\n",
    "if consumption <= 100:\n",
    "    bill = consumption * 0.10  # First 100 kWh at $0.10 per kWh\n",
    "elif consumption <= 200:\n",
    "    bill = (100 * 0.10) + ((consumption - 100) * 0.15)  # Next 100 kWh at $0.15 per kWh\n",
    "elif consumption <= 400:\n",
    "    bill = (100 * 0.10) + (100 * 0.15) + ((consumption - 200) * 0.20)  # Next 200 kWh at $0.20 per kWh\n",
    "else:\n",
    "    bill = (100 * 0.10) + (100 * 0.15) + (200 * 0.20) + ((consumption - 400) * 0.25)  # Above 400 kWh at $0.25 per kWh\n",
    "\n",
    "# Display the results\n",
    "print(f\"Electricity Consumption: {consumption} kWh\")\n",
    "print(f\"Total Bill: ${bill:.2f}\")\n"
   ]
  },
  {
   "cell_type": "code",
   "execution_count": 30,
   "id": "ab94964f-dfa8-4fa0-8b39-f14405bab61f",
   "metadata": {},
   "outputs": [
    {
     "name": "stdin",
     "output_type": "stream",
     "text": [
      "Enter the length of the first side:  5\n",
      "Enter the length of the second side:  8\n",
      "Enter the length of the third side:  5\n",
      "Enter the length of the fourth side:  8\n",
      "Enter the first angle (in degrees):  90\n",
      "Enter the second angle (in degrees):  90\n",
      "Enter the third angle (in degrees):  90\n",
      "Enter the fourth angle (in degrees):  90\n"
     ]
    },
    {
     "name": "stdout",
     "output_type": "stream",
     "text": [
      "This is a Rectangle.\n"
     ]
    }
   ],
   "source": [
    "# 28. Create a program to determine the type of quadrilateral based on its angles and sides using elif statements.\n",
    "\n",
    "# Get user input for sides and angles of the quadrilateral\n",
    "side1 = float(input(\"Enter the length of the first side: \"))\n",
    "side2 = float(input(\"Enter the length of the second side: \"))\n",
    "side3 = float(input(\"Enter the length of the third side: \"))\n",
    "side4 = float(input(\"Enter the length of the fourth side: \"))\n",
    "\n",
    "angle1 = float(input(\"Enter the first angle (in degrees): \"))\n",
    "angle2 = float(input(\"Enter the second angle (in degrees): \"))\n",
    "angle3 = float(input(\"Enter the third angle (in degrees): \"))\n",
    "angle4 = float(input(\"Enter the fourth angle (in degrees): \"))\n",
    "\n",
    "# Check if the angles form a valid quadrilateral (sum must be 360 degrees)\n",
    "if angle1 + angle2 + angle3 + angle4 != 360:\n",
    "    print(\"Invalid angles! The sum of the angles of a quadrilateral must be 360 degrees.\")\n",
    "else:\n",
    "    # Determine the type of quadrilateral based on the sides and angles\n",
    "    if side1 == side2 == side3 == side4 and angle1 == angle2 == angle3 == angle4 == 90:\n",
    "        print(\"This is a Square.\")\n",
    "    elif side1 == side3 and side2 == side4 and angle1 == angle2 == angle3 == angle4 == 90:\n",
    "        print(\"This is a Rectangle.\")\n",
    "    elif side1 == side2 == side3 == side4 and angle1 == angle3 and angle2 == angle4:\n",
    "        print(\"This is a Rhombus.\")\n",
    "    elif side1 == side3 and side2 == side4 and angle1 == angle3 and angle2 == angle4:\n",
    "        print(\"This is a Parallelogram.\")\n",
    "    elif side1 != side2 and side2 != side3 and side3 != side4 and side1 != side4:\n",
    "        print(\"This is a General Quadrilateral.\")\n",
    "    else:\n",
    "        print(\"This is a Trapezoid.\")\n"
   ]
  },
  {
   "cell_type": "code",
   "execution_count": 32,
   "id": "ba819e88-85b8-4553-9146-8625a547009e",
   "metadata": {},
   "outputs": [
    {
     "name": "stdin",
     "output_type": "stream",
     "text": [
      "Enter the month (e.g., January, February, etc.):  april\n"
     ]
    },
    {
     "name": "stdout",
     "output_type": "stream",
     "text": [
      "The season is Spring.\n"
     ]
    }
   ],
   "source": [
    "# 29. Write a Python script to determine the season based on a user-provided month using elif statements.\n",
    "\n",
    "# Get the month from the user\n",
    "month = input(\"Enter the month (e.g., January, February, etc.): \").capitalize()\n",
    "\n",
    "# Determine the season using elif statements\n",
    "if month in [\"March\", \"April\", \"May\"]:\n",
    "    print(\"The season is Spring.\")\n",
    "elif month in [\"June\", \"July\", \"August\"]:\n",
    "    print(\"The season is Summer.\")\n",
    "elif month in [\"September\", \"October\", \"November\"]:\n",
    "    print(\"The season is Autumn (Fall).\")\n",
    "elif month in [\"December\", \"January\", \"February\"]:\n",
    "    print(\"The season is Winter.\")\n",
    "else:\n",
    "    print(\"Invalid month entered. Please enter a valid month name.\")"
   ]
  },
  {
   "cell_type": "code",
   "execution_count": 34,
   "id": "7243ccde-5cb4-446d-b5f6-c4b9fe39d67d",
   "metadata": {},
   "outputs": [
    {
     "name": "stdin",
     "output_type": "stream",
     "text": [
      "Enter a year:  2021\n",
      "Enter the month (e.g., January, February, etc.):  december\n"
     ]
    },
    {
     "name": "stdout",
     "output_type": "stream",
     "text": [
      "The year 2021 is a common year.\n",
      "December has 31 days.\n"
     ]
    }
   ],
   "source": [
    "# 30. Implement a program to determine the type of a year (leap or common) and month (30 or 31 days) using elif statements.\n",
    "\n",
    "# Function to check if a year is a leap year\n",
    "def is_leap_year(year):\n",
    "    if (year % 4 == 0 and year % 100 != 0) or (year % 400 == 0):\n",
    "        return True\n",
    "    else:\n",
    "        return False\n",
    "\n",
    "# Get the year and month from the user\n",
    "year = int(input(\"Enter a year: \"))\n",
    "month = input(\"Enter the month (e.g., January, February, etc.): \").capitalize()\n",
    "\n",
    "# Check if the year is a leap year\n",
    "if is_leap_year(year):\n",
    "    print(f\"The year {year} is a leap year.\")\n",
    "else:\n",
    "    print(f\"The year {year} is a common year.\")\n",
    "\n",
    "# Determine the number of days in the month\n",
    "if month in [\"January\", \"March\", \"May\", \"July\", \"August\", \"October\", \"December\"]:\n",
    "    print(f\"{month} has 31 days.\")\n",
    "elif month in [\"April\", \"June\", \"September\", \"November\"]:\n",
    "    print(f\"{month} has 30 days.\")\n",
    "elif month == \"February\":\n",
    "    if is_leap_year(year):\n",
    "        print(f\"February in {year} has 29 days.\")\n",
    "    else:\n",
    "        print(f\"February in {year} has 28 days.\")\n",
    "else:\n",
    "    print(\"Invalid month entered. Please enter a valid month name.\")\n",
    "\n"
   ]
  },
  {
   "cell_type": "code",
   "execution_count": null,
   "id": "a7f8284b-f475-4fbb-991e-772e7440ba17",
   "metadata": {},
   "outputs": [],
   "source": [
    "''' Basic Level '''"
   ]
  },
  {
   "cell_type": "code",
   "execution_count": 36,
   "id": "527b5d68-4110-4f4c-aa05-6be6a175a720",
   "metadata": {},
   "outputs": [
    {
     "name": "stdin",
     "output_type": "stream",
     "text": [
      "Enter a number:  6\n"
     ]
    },
    {
     "name": "stdout",
     "output_type": "stream",
     "text": [
      "The number 6.0 is positive.\n"
     ]
    }
   ],
   "source": [
    "# 1. Write a Python program that checks if a given number is positive, negative, or zero.\n",
    "\n",
    "# Input: Get a number from the user\n",
    "number = float(input(\"Enter a number: \"))\n",
    "\n",
    "# Check if the number is positive, negative, or zero\n",
    "if number > 0:\n",
    "    print(f\"The number {number} is positive.\")\n",
    "elif number < 0:\n",
    "    print(f\"The number {number} is negative.\")\n",
    "else:\n",
    "    print(f\"The number {number} is zero.\")\n"
   ]
  },
  {
   "cell_type": "code",
   "execution_count": 38,
   "id": "87b3584a-1804-43a2-8afb-d5528674eff3",
   "metadata": {},
   "outputs": [
    {
     "name": "stdin",
     "output_type": "stream",
     "text": [
      "Enter your age:  36\n"
     ]
    },
    {
     "name": "stdout",
     "output_type": "stream",
     "text": [
      "You are eligible to vote.\n"
     ]
    }
   ],
   "source": [
    "# 2. Create a program to determine if a person is eligible to vote based on their age.\n",
    "\n",
    "# Input: Get the person's age\n",
    "age = int(input(\"Enter your age: \"))\n",
    "\n",
    "# Check if the person is eligible to vote\n",
    "if age >= 18:\n",
    "    print(\"You are eligible to vote.\")\n",
    "else:\n",
    "    print(\"You are not eligible to vote.\")"
   ]
  },
  {
   "cell_type": "code",
   "execution_count": 40,
   "id": "6d286025-244f-45b5-acf6-68868775e004",
   "metadata": {},
   "outputs": [
    {
     "name": "stdin",
     "output_type": "stream",
     "text": [
      "Enter the first number:  6\n",
      "Enter the second number:  9.5\n"
     ]
    },
    {
     "name": "stdout",
     "output_type": "stream",
     "text": [
      "The maximum number is 9.5.\n"
     ]
    }
   ],
   "source": [
    "# 3. Write a program to find the maximum of two given numbers using conditional statements.\n",
    "\n",
    "# Input: Get two numbers from the user\n",
    "num1 = float(input(\"Enter the first number: \"))\n",
    "num2 = float(input(\"Enter the second number: \"))\n",
    "\n",
    "# Determine the maximum number\n",
    "if num1 > num2:\n",
    "    print(f\"The maximum number is {num1}.\")\n",
    "elif num2 > num1:\n",
    "    print(f\"The maximum number is {num2}.\")\n",
    "else:\n",
    "    print(\"Both numbers are equal.\")\n",
    "    \n"
   ]
  },
  {
   "cell_type": "code",
   "execution_count": 42,
   "id": "8578bdd4-4a28-4841-a913-3921e0d5d41b",
   "metadata": {},
   "outputs": [
    {
     "name": "stdin",
     "output_type": "stream",
     "text": [
      "Enter the exam score (0-100):  87\n"
     ]
    },
    {
     "name": "stdout",
     "output_type": "stream",
     "text": [
      "The student's grade is: B\n"
     ]
    }
   ],
   "source": [
    "# 4. Develop a program that calculates the grade of a student based on their exam score.\n",
    "\n",
    "# Input: Get the student's exam score\n",
    "score = float(input(\"Enter the exam score (0-100): \"))\n",
    "\n",
    "# Determine the grade based on the score\n",
    "if score >= 90:\n",
    "    grade = \"A\"\n",
    "elif score >= 80:\n",
    "    grade = \"B\"\n",
    "elif score >= 70:\n",
    "    grade = \"C\"\n",
    "elif score >= 60:\n",
    "    grade = \"D\"\n",
    "elif score >= 0:\n",
    "    grade = \"F\"\n",
    "else:\n",
    "    grade = None  # Invalid score\n",
    "\n",
    "# Output the result\n",
    "if grade:\n",
    "    print(f\"The student's grade is: {grade}\")\n",
    "else:\n",
    "    print(\"Invalid score! Please enter a number between 0 and 100.\")"
   ]
  },
  {
   "cell_type": "code",
   "execution_count": 44,
   "id": "75ca105f-7e04-4370-9146-24fe84159673",
   "metadata": {},
   "outputs": [
    {
     "name": "stdin",
     "output_type": "stream",
     "text": [
      "Enter a year:  2024\n"
     ]
    },
    {
     "name": "stdout",
     "output_type": "stream",
     "text": [
      "2024 is a leap year.\n"
     ]
    }
   ],
   "source": [
    "# 5. Create a program that checks if a year is a leap year or not.\n",
    "\n",
    "# Input: Get the year from the user\n",
    "year = int(input(\"Enter a year: \"))\n",
    "\n",
    "# Check if the year is a leap year\n",
    "if year % 4 == 0:\n",
    "    if year % 100 == 0:\n",
    "        if year % 400 == 0:\n",
    "            print(f\"{year} is a leap year.\")\n",
    "        else:\n",
    "            print(f\"{year} is not a leap year.\")\n",
    "    else:\n",
    "        print(f\"{year} is a leap year.\")\n",
    "else:\n",
    "    print(f\"{year} is not a leap year.\")"
   ]
  },
  {
   "cell_type": "code",
   "execution_count": 46,
   "id": "1ff1ec70-d200-417e-8790-60ff1608b18e",
   "metadata": {},
   "outputs": [
    {
     "name": "stdin",
     "output_type": "stream",
     "text": [
      "Enter the length of the first side:  6\n",
      "Enter the length of the second side:  4\n",
      "Enter the length of the third side:  9\n"
     ]
    },
    {
     "name": "stdout",
     "output_type": "stream",
     "text": [
      "The triangle is Scalene (all sides are different).\n"
     ]
    }
   ],
   "source": [
    "# 6. Write a program to classify a triangle based on its sides' lengths.\n",
    "\n",
    "# Input: Get the lengths of the three sides of the triangle\n",
    "side1 = float(input(\"Enter the length of the first side: \"))\n",
    "side2 = float(input(\"Enter the length of the second side: \"))\n",
    "side3 = float(input(\"Enter the length of the third side: \"))\n",
    "\n",
    "# Check if the inputs form a valid triangle\n",
    "if side1 + side2 > side3 and side1 + side3 > side2 and side2 + side3 > side1:\n",
    "    # Classify the triangle based on its sides\n",
    "    if side1 == side2 == side3:\n",
    "        print(\"The triangle is Equilateral (all sides are equal).\")\n",
    "    elif side1 == side2 or side1 == side3 or side2 == side3:\n",
    "        print(\"The triangle is Isosceles (two sides are equal).\")\n",
    "    else:\n",
    "        print(\"The triangle is Scalene (all sides are different).\")\n",
    "else:\n",
    "    print(\"The given sides do not form a valid triangle.\")"
   ]
  },
  {
   "cell_type": "code",
   "execution_count": 48,
   "id": "8dd3e855-e9a7-430f-95f7-e824af02111e",
   "metadata": {},
   "outputs": [
    {
     "name": "stdin",
     "output_type": "stream",
     "text": [
      "Enter the first number:  12\n",
      "Enter the second number:  45\n",
      "Enter the third number:  9\n"
     ]
    },
    {
     "name": "stdout",
     "output_type": "stream",
     "text": [
      "The largest number is 45.0.\n"
     ]
    }
   ],
   "source": [
    "# 7. Build a program that determines the largest of three given numbers.\n",
    "\n",
    "# Input: Get three numbers from the user\n",
    "num1 = float(input(\"Enter the first number: \"))\n",
    "num2 = float(input(\"Enter the second number: \"))\n",
    "num3 = float(input(\"Enter the third number: \"))\n",
    "\n",
    "# Determine the largest number\n",
    "if num1 >= num2 and num1 >= num3:\n",
    "    print(f\"The largest number is {num1}.\")\n",
    "elif num2 >= num1 and num2 >= num3:\n",
    "    print(f\"The largest number is {num2}.\")\n",
    "else:\n",
    "    print(f\"The largest number is {num3}.\")\n"
   ]
  },
  {
   "cell_type": "code",
   "execution_count": 50,
   "id": "7349e213-2cba-43b3-82c5-c84ab7ab3f81",
   "metadata": {},
   "outputs": [
    {
     "name": "stdin",
     "output_type": "stream",
     "text": [
      "Enter a single character:  d\n"
     ]
    },
    {
     "name": "stdout",
     "output_type": "stream",
     "text": [
      "The character 'd' is a consonant.\n"
     ]
    }
   ],
   "source": [
    "# 8. Develop a program that checks whether a character is a vowel or a consonant.\n",
    "\n",
    "# Input: Get a character from the user\n",
    "char = input(\"Enter a single character: \").lower()\n",
    "\n",
    "# Check if the input is a single alphabet character\n",
    "if len(char) == 1 and char.isalpha():\n",
    "    # Check if the character is a vowel or a consonant\n",
    "    if char in \"aeiou\":\n",
    "        print(f\"The character '{char}' is a vowel.\")\n",
    "    else:\n",
    "        print(f\"The character '{char}' is a consonant.\")\n",
    "else:\n",
    "    print(\"Invalid input! Please enter a single alphabetic character.\")"
   ]
  },
  {
   "cell_type": "code",
   "execution_count": 54,
   "id": "195df726-c856-479c-8660-5fb3a7f476cd",
   "metadata": {},
   "outputs": [
    {
     "name": "stdin",
     "output_type": "stream",
     "text": [
      "Enter the total shopping cart amount: $ 760\n"
     ]
    },
    {
     "name": "stdout",
     "output_type": "stream",
     "text": [
      "Original Amount: 760.00\n",
      "Discount Applied: 25%\n",
      "Discount Amount: 190.00\n",
      "Final Price: 570.00\n"
     ]
    }
   ],
   "source": [
    "# 9. Create a program to calculate the total cost of a shopping cart based on discounts.\n",
    "\n",
    "\n",
    "# Input: Get the total amount from the user\n",
    "total_amount = float(input(\"Enter the total shopping cart amount: $\"))\n",
    "\n",
    "# Calculate the discount and final price based on the total amount\n",
    "if total_amount >= 500:\n",
    "    discount = 0.25  # 25% discount\n",
    "elif total_amount >= 300:\n",
    "    discount = 0.20  # 20% discount\n",
    "elif total_amount >= 100:\n",
    "    discount = 0.10  # 10% discount\n",
    "else:\n",
    "    discount = 0.0  # No discount\n",
    "\n",
    "# Calculate discount amount and final price\n",
    "discount_amount = total_amount * discount\n",
    "final_price = total_amount - discount_amount\n",
    "\n",
    "# Output the results\n",
    "print(f\"Original Amount: {total_amount:.2f}\")\n",
    "print(f\"Discount Applied: {discount * 100:.0f}%\")\n",
    "print(f\"Discount Amount: {discount_amount:.2f}\")\n",
    "print(f\"Final Price: {final_price:.2f}\")\n"
   ]
  },
  {
   "cell_type": "code",
   "execution_count": 56,
   "id": "dbeb5446-82e1-4aea-81a5-a299e8b51c44",
   "metadata": {},
   "outputs": [
    {
     "name": "stdin",
     "output_type": "stream",
     "text": [
      "Enter a number:  124\n"
     ]
    },
    {
     "name": "stdout",
     "output_type": "stream",
     "text": [
      "The number 124 is even.\n"
     ]
    }
   ],
   "source": [
    "# 10. Write a program that checks if a given number is even or odd.\n",
    "\n",
    "# Input: Get a number from the user\n",
    "num = int(input(\"Enter a number: \"))\n",
    "\n",
    "# Check if the number is even or odd\n",
    "if num % 2 == 0:\n",
    "    print(f\"The number {num} is even.\")\n",
    "else:\n",
    "    print(f\"The number {num} is odd.\")\n"
   ]
  },
  {
   "cell_type": "code",
   "execution_count": 58,
   "id": "081cd0b1-8bb5-49da-aec5-d1da35d413e4",
   "metadata": {},
   "outputs": [
    {
     "data": {
      "text/plain": [
       "' Intermediate Level '"
      ]
     },
     "execution_count": 58,
     "metadata": {},
     "output_type": "execute_result"
    }
   ],
   "source": [
    "''' Intermediate Level '''"
   ]
  },
  {
   "cell_type": "code",
   "execution_count": 60,
   "id": "969aad5c-a501-4642-8400-014e4b7d3a8f",
   "metadata": {},
   "outputs": [
    {
     "name": "stdin",
     "output_type": "stream",
     "text": [
      "Enter the coefficient a:  96\n",
      "Enter the coefficient b:  54\n",
      "Enter the coefficient c:  32\n"
     ]
    },
    {
     "name": "stdout",
     "output_type": "stream",
     "text": [
      "The equation has complex roots: -0.28125 + 0.5042140129283729i and -0.28125 - 0.5042140129283729i\n"
     ]
    }
   ],
   "source": [
    "# 11. Write a program that calculates the roots of a quadratic equation .\n",
    "\n",
    "import math\n",
    "\n",
    "# Input: Get the coefficients of the quadratic equation\n",
    "a = float(input(\"Enter the coefficient a: \"))\n",
    "b = float(input(\"Enter the coefficient b: \"))\n",
    "c = float(input(\"Enter the coefficient c: \"))\n",
    "\n",
    "# Calculate the discriminant (b^2 - 4ac)\n",
    "discriminant = b**2 - 4*a*c\n",
    "\n",
    "# Check the discriminant to determine the nature of the roots\n",
    "if discriminant > 0:\n",
    "    # Two real and distinct roots\n",
    "    root1 = (-b + math.sqrt(discriminant)) / (2*a)\n",
    "    root2 = (-b - math.sqrt(discriminant)) / (2*a)\n",
    "    print(f\"The equation has two real and distinct roots: {root1} and {root2}\")\n",
    "elif discriminant == 0:\n",
    "    # One real root (repeated)\n",
    "    root = -b / (2*a)\n",
    "    print(f\"The equation has one real root: {root}\")\n",
    "else:\n",
    "    # Complex roots\n",
    "    real_part = -b / (2*a)\n",
    "    imaginary_part = math.sqrt(-discriminant) / (2*a)\n",
    "    print(f\"The equation has complex roots: {real_part} + {imaginary_part}i and {real_part} - {imaginary_part}i\")\n"
   ]
  },
  {
   "cell_type": "code",
   "execution_count": 62,
   "id": "f93373ed-d20f-4715-b53d-8cee76408f9d",
   "metadata": {},
   "outputs": [
    {
     "name": "stdin",
     "output_type": "stream",
     "text": [
      "Enter a day number (1-7):  4\n"
     ]
    },
    {
     "name": "stdout",
     "output_type": "stream",
     "text": [
      "The day is Thursday.\n"
     ]
    }
   ],
   "source": [
    "# 12. Create a program that determines the day of the week based on the day number (1-7).\n",
    "\n",
    "# Input: Get the day number from the user\n",
    "day_number = int(input(\"Enter a day number (1-7): \"))\n",
    "\n",
    "# Determine the day of the week\n",
    "if day_number == 1:\n",
    "    print(\"The day is Monday.\")\n",
    "elif day_number == 2:\n",
    "    print(\"The day is Tuesday.\")\n",
    "elif day_number == 3:\n",
    "    print(\"The day is Wednesday.\")\n",
    "elif day_number == 4:\n",
    "    print(\"The day is Thursday.\")\n",
    "elif day_number == 5:\n",
    "    print(\"The day is Friday.\")\n",
    "elif day_number == 6:\n",
    "    print(\"The day is Saturday.\")\n",
    "elif day_number == 7:\n",
    "    print(\"The day is Sunday.\")\n",
    "else:\n",
    "    print(\"Invalid input! Please enter a number between 1 and 7.\")\n"
   ]
  },
  {
   "cell_type": "code",
   "execution_count": 64,
   "id": "20ecbc1d-3da6-4007-9862-c5b617725316",
   "metadata": {},
   "outputs": [
    {
     "name": "stdin",
     "output_type": "stream",
     "text": [
      "Enter a non-negative integer:  6\n"
     ]
    },
    {
     "name": "stdout",
     "output_type": "stream",
     "text": [
      "The factorial of 6 is 720.\n"
     ]
    }
   ],
   "source": [
    "# 13. Develop a program that calculates the factorial of a given number using recursion.\n",
    "\n",
    "# Function to calculate factorial using recursion\n",
    "def factorial(n):\n",
    "    if n == 0 or n == 1:  # Base case: factorial of 0 or 1 is 1\n",
    "        return 1\n",
    "    else:\n",
    "        return n * factorial(n - 1)  # Recursive case\n",
    "\n",
    "# Input: Get a number from the user\n",
    "num = int(input(\"Enter a non-negative integer: \"))\n",
    "\n",
    "# Check if the input is valid\n",
    "if num < 0:\n",
    "    print(\"Factorial is not defined for negative numbers.\")\n",
    "else:\n",
    "    # Calculate and display the factorial\n",
    "    result = factorial(num)\n",
    "    print(f\"The factorial of {num} is {result}.\")"
   ]
  },
  {
   "cell_type": "code",
   "execution_count": 66,
   "id": "d9f47e36-5e5e-4c58-9fab-bc8befd76fa4",
   "metadata": {},
   "outputs": [
    {
     "name": "stdin",
     "output_type": "stream",
     "text": [
      "Enter the first number:  65\n",
      "Enter the second number:  251\n",
      "Enter the third number:  486\n"
     ]
    },
    {
     "name": "stdout",
     "output_type": "stream",
     "text": [
      "The largest number is 486.0.\n"
     ]
    }
   ],
   "source": [
    "# 14. Write a program to find the largest among three numbers without using the `max()` function.\n",
    "\n",
    "# Input: Get three numbers from the user\n",
    "num1 = float(input(\"Enter the first number: \"))\n",
    "num2 = float(input(\"Enter the second number: \"))\n",
    "num3 = float(input(\"Enter the third number: \"))\n",
    "\n",
    "# Determine the largest number\n",
    "if num1 >= num2 and num1 >= num3:\n",
    "    largest = num1\n",
    "elif num2 >= num1 and num2 >= num3:\n",
    "    largest = num2\n",
    "else:\n",
    "    largest = num3\n",
    "\n",
    "# Output the largest number\n",
    "print(f\"The largest number is {largest}.\")\n"
   ]
  },
  {
   "cell_type": "code",
   "execution_count": 72,
   "id": "60455ebb-9b3f-4aca-88b4-d8253fc97a71",
   "metadata": {},
   "outputs": [
    {
     "name": "stdout",
     "output_type": "stream",
     "text": [
      "\n",
      "ATM Transaction Menu:\n",
      "1. Check Balance\n",
      "2. Deposit Money\n",
      "3. Withdraw Money\n",
      "4. Exit\n"
     ]
    },
    {
     "name": "stdin",
     "output_type": "stream",
     "text": [
      "Choose an option (1-4):  1\n"
     ]
    },
    {
     "name": "stdout",
     "output_type": "stream",
     "text": [
      "Your current balance is: $1000.00\n",
      "\n",
      "ATM Transaction Menu:\n",
      "1. Check Balance\n",
      "2. Deposit Money\n",
      "3. Withdraw Money\n",
      "4. Exit\n"
     ]
    },
    {
     "name": "stdin",
     "output_type": "stream",
     "text": [
      "Choose an option (1-4):  4\n"
     ]
    },
    {
     "name": "stdout",
     "output_type": "stream",
     "text": [
      "Thank you for using the ATM. Have a great day!\n"
     ]
    }
   ],
   "source": [
    "# 15. Create a program that simulates a basic ATM transaction menu.\n",
    "# Initial balance\n",
    "balance = 1000.0\n",
    "\n",
    "# Function to display the menu\n",
    "def display_menu():\n",
    "    print(\"\\nATM Transaction Menu:\")\n",
    "    print(\"1. Check Balance\")\n",
    "    print(\"2. Deposit Money\")\n",
    "    print(\"3. Withdraw Money\")\n",
    "    print(\"4. Exit\")\n",
    "\n",
    "# Function to handle the ATM transactions\n",
    "def atm():\n",
    "    global balance\n",
    "    while True:\n",
    "        display_menu()\n",
    "        # Get user choice\n",
    "        choice = input(\"Choose an option (1-4): \")\n",
    "\n",
    "        if choice == \"1\":\n",
    "            # Check Balance\n",
    "            print(f\"Your current balance is: ${balance:.2f}\")\n",
    "        elif choice == \"2\":\n",
    "            # Deposit Money\n",
    "            deposit = float(input(\"Enter the amount to deposit: \"))\n",
    "            if deposit > 0:\n",
    "                balance += deposit\n",
    "                print(f\"${deposit:.2f} deposited successfully.\")\n",
    "                print(f\"Your new balance is: ${balance:.2f}\")\n",
    "            else:\n",
    "                print(\"Invalid deposit amount. Please try again.\")\n",
    "        elif choice == \"3\":\n",
    "            # Withdraw Money\n",
    "            withdraw = float(input(\"Enter the amount to withdraw: \"))\n",
    "            if 0 < withdraw <= balance:\n",
    "                balance -= withdraw\n",
    "                print(f\"${withdraw:.2f} withdrawn successfully.\")\n",
    "                print(f\"Your new balance is: ${balance:.2f}\")\n",
    "            elif withdraw > balance:\n",
    "                print(\"Insufficient balance.\")\n",
    "            else:\n",
    "                print(\"Invalid withdrawal amount. Please try again.\")\n",
    "        elif choice == \"4\":\n",
    "            # Exit\n",
    "            print(\"Thank you for using the ATM. Have a great day!\")\n",
    "            break\n",
    "        else:\n",
    "            print(\"Invalid choice. Please select a valid option.\")\n",
    "\n",
    "# Run the ATM program\n",
    "atm()"
   ]
  },
  {
   "cell_type": "code",
   "execution_count": 74,
   "id": "1b7a2f77-aaac-4041-ac39-fe05e02e3cc9",
   "metadata": {},
   "outputs": [
    {
     "name": "stdin",
     "output_type": "stream",
     "text": [
      "Enter a string:  satna\n"
     ]
    },
    {
     "name": "stdout",
     "output_type": "stream",
     "text": [
      "\"satna\" is not a palindrome.\n"
     ]
    }
   ],
   "source": [
    "# 16. Build a program that checks if a given string is a palindrome or not.\n",
    "\n",
    "# Function to check if a string is a palindrome\n",
    "def is_palindrome(string):\n",
    "    # Remove spaces and convert to lowercase for consistent comparison\n",
    "    string = string.replace(\" \", \"\").lower()\n",
    "    # Compare the string with its reverse\n",
    "    return string == string[::-1]\n",
    "\n",
    "# Input: Get a string from the user\n",
    "user_input = input(\"Enter a string: \")\n",
    "\n",
    "# Check if the string is a palindrome\n",
    "if is_palindrome(user_input):\n",
    "    print(f'\"{user_input}\" is a palindrome.')\n",
    "else:\n",
    "    print(f'\"{user_input}\" is not a palindrome.')\n"
   ]
  },
  {
   "cell_type": "code",
   "execution_count": null,
   "id": "2703fa00-2c3b-4291-97fe-4b97b9990f6c",
   "metadata": {},
   "outputs": [],
   "source": [
    "# 17. Write a program that calculates the average of a list of numbers, excluding the smallest and largest values.\n",
    "\n",
    "# Function to calculate the average excluding the smallest and largest values\n",
    "def trimmed_average(numbers):\n",
    "    if len(numbers) <= 2:\n",
    "        print(\"Not enough numbers to exclude the smallest and largest values.\")\n",
    "        return None\n",
    "    \n",
    "    # Remove the smallest and largest values\n",
    "    sorted_numbers = sorted(numbers)\n",
    "    trimmed_numbers = sorted_numbers[1:-1]  # Exclude the first and last values\n",
    "    \n",
    "    # Calculate the average\n",
    "    average = sum(trimmed_numbers) / len(trimmed_numbers)\n",
    "    return average\n",
    "\n",
    "# Input: Get a list of numbers from the user\n",
    "user_input = input(\"Enter a list of numbers separated by spaces: \")\n",
    "numbers = list(map(float, user_input.split()))\n",
    "\n",
    "# Calculate the trimmed average\n",
    "average = trimmed_average(numbers)\n",
    "\n",
    "# Output the result\n",
    "if average is not None:\n",
    "    print(f\"The average, excluding the smallest and largest values, is: {average:.2f}\")\n"
   ]
  },
  {
   "cell_type": "code",
   "execution_count": 76,
   "id": "9d361dd3-1e15-4807-a113-8b95274703f1",
   "metadata": {},
   "outputs": [
    {
     "name": "stdin",
     "output_type": "stream",
     "text": [
      "Enter the temperature in Celsius:  23\n"
     ]
    },
    {
     "name": "stdout",
     "output_type": "stream",
     "text": [
      "23.00°C is equal to 73.40°F.\n"
     ]
    }
   ],
   "source": [
    "# 18. Develop a program that converts a given temperature from Celsius to Fahrenheit.\n",
    "\n",
    "# Function to convert Celsius to Fahrenheit\n",
    "def celsius_to_fahrenheit(celsius):\n",
    "    return (celsius * 9/5) + 32\n",
    "\n",
    "# Input: Get the temperature in Celsius from the user\n",
    "celsius = float(input(\"Enter the temperature in Celsius: \"))\n",
    "\n",
    "# Convert the temperature to Fahrenheit\n",
    "fahrenheit = celsius_to_fahrenheit(celsius)\n",
    "\n",
    "# Output the result\n",
    "print(f\"{celsius:.2f}°C is equal to {fahrenheit:.2f}°F.\")\n",
    "\n"
   ]
  },
  {
   "cell_type": "code",
   "execution_count": 80,
   "id": "d8f143ee-49c1-4bb4-a2f9-c43cb4099c60",
   "metadata": {},
   "outputs": [
    {
     "name": "stdout",
     "output_type": "stream",
     "text": [
      "Welcome to the Basic Calculator!\n",
      "Choose an operation:\n",
      "1. Addition (+)\n",
      "2. Subtraction (-)\n",
      "3. Multiplication (*)\n",
      "4. Division (/)\n"
     ]
    },
    {
     "name": "stdin",
     "output_type": "stream",
     "text": [
      "Enter the number corresponding to the operation (1/2/3/4):  1\n",
      "Enter the first number:  5\n",
      "Enter the second number:  9\n"
     ]
    },
    {
     "name": "stdout",
     "output_type": "stream",
     "text": [
      "The result of 5.0 + 9.0 is 14.0.\n"
     ]
    }
   ],
   "source": [
    "# 19. Create a program that simulates a basic calculator for addition, subtraction, multiplication, and division.\n",
    "\n",
    "# Function to perform basic calculator operations\n",
    "def calculator():\n",
    "    print(\"Welcome to the Basic Calculator!\")\n",
    "    print(\"Choose an operation:\")\n",
    "    print(\"1. Addition (+)\")\n",
    "    print(\"2. Subtraction (-)\")\n",
    "    print(\"3. Multiplication (*)\")\n",
    "    print(\"4. Division (/)\")\n",
    "\n",
    "    # Get user's choice\n",
    "    choice = input(\"Enter the number corresponding to the operation (1/2/3/4): \")\n",
    "\n",
    "    # Check for a valid choice\n",
    "    if choice not in ['1', '2', '3', '4']:\n",
    "        print(\"Invalid choice. Please select a valid operation.\")\n",
    "        return\n",
    "\n",
    "    # Get the numbers for the operation\n",
    "    try:\n",
    "        num1 = float(input(\"Enter the first number: \"))\n",
    "        num2 = float(input(\"Enter the second number: \"))\n",
    "    except ValueError:\n",
    "        print(\"Invalid input. Please enter numeric values.\")\n",
    "        return\n",
    "\n",
    "    # Perform the selected operation\n",
    "    if choice == '1':\n",
    "        result = num1 + num2\n",
    "        print(f\"The result of {num1} + {num2} is {result}.\")\n",
    "    elif choice == '2':\n",
    "        result = num1 - num2\n",
    "        print(f\"The result of {num1} - {num2} is {result}.\")\n",
    "    elif choice == '3':\n",
    "        result = num1 * num2\n",
    "        print(f\"The result of {num1} * {num2} is {result}.\")\n",
    "    elif choice == '4':\n",
    "        if num2 == 0:\n",
    "            print(\"Division by zero is not allowed.\")\n",
    "        else:\n",
    "            result = num1 / num2\n",
    "            print(f\"The result of {num1} / {num2} is {result}.\")\n",
    "\n",
    "# Run the calculator program\n",
    "calculator()"
   ]
  },
  {
   "cell_type": "code",
   "execution_count": 82,
   "id": "d674abaf-5929-4d21-9ebf-166f57c74f83",
   "metadata": {},
   "outputs": [
    {
     "name": "stdout",
     "output_type": "stream",
     "text": [
      "Cubic Equation Solver: ax^3 + bx^2 + cx + d = 0\n"
     ]
    },
    {
     "name": "stdin",
     "output_type": "stream",
     "text": [
      "Enter coefficient a:  6\n",
      "Enter coefficient b:  4\n",
      "Enter coefficient c:  3\n",
      "Enter coefficient d:  8\n"
     ]
    },
    {
     "name": "stdout",
     "output_type": "stream",
     "text": [
      "The roots of the cubic equation are:\n",
      "Root 1: (0.4247431165106813+0.9317681438847806j)\n",
      "Root 2: (0.26122999145262005-0.8373637971164722j)\n",
      "Root 3: (-1.352639774629968-0.09440434676830839j)\n"
     ]
    }
   ],
   "source": [
    "# 20. Write a program that determines the roots of a cubic equation using the Cardano formula.\n",
    "\n",
    "import cmath\n",
    "\n",
    "def solve_cubic(a, b, c, d):\n",
    "    \"\"\"\n",
    "    Solves the cubic equation ax^3 + bx^2 + cx + d = 0 using the Cardano formula.\n",
    "    Returns the roots of the cubic equation.\n",
    "    \"\"\"\n",
    "    if a == 0:\n",
    "        raise ValueError(\"The coefficient 'a' must not be zero for a cubic equation.\")\n",
    "\n",
    "    # Normalize the coefficients\n",
    "    p = (3 * a * c - b**2) / (3 * a**2)\n",
    "    q = (2 * b**3 - 9 * a * b * c + 27 * a**2 * d) / (27 * a**3)\n",
    "\n",
    "    # Calculate the discriminant\n",
    "    discriminant = (q / 2)**2 + (p / 3)**3\n",
    "\n",
    "    # Calculate the roots\n",
    "    if discriminant > 0:\n",
    "        # One real root and two complex roots\n",
    "        u = (-q / 2 + cmath.sqrt(discriminant))**(1/3)\n",
    "        v = (-q / 2 - cmath.sqrt(discriminant))**(1/3)\n",
    "        root1 = u + v\n",
    "        root2 = -(u + v) / 2 + (u - v) * cmath.sqrt(3) * 1j / 2\n",
    "        root3 = -(u + v) / 2 - (u - v) * cmath.sqrt(3) * 1j / 2\n",
    "    elif discriminant == 0:\n",
    "        # All roots are real, at least two are equal\n",
    "        u = (-q / 2)**(1/3)\n",
    "        root1 = 2 * u\n",
    "        root2 = -u\n",
    "        root3 = -u\n",
    "    else:\n",
    "        # All roots are real\n",
    "        r = (-p / 3)**(1/2)\n",
    "        theta = cmath.acos(-q / (2 * r**3))\n",
    "        root1 = 2 * r * cmath.cos(theta / 3)\n",
    "        root2 = 2 * r * cmath.cos((theta + 2 * cmath.pi) / 3)\n",
    "        root3 = 2 * r * cmath.cos((theta + 4 * cmath.pi) / 3)\n",
    "\n",
    "    # Adjust roots for the normalization\n",
    "    root1 -= b / (3 * a)\n",
    "    root2 -= b / (3 * a)\n",
    "    root3 -= b / (3 * a)\n",
    "\n",
    "    return root1, root2, root3\n",
    "\n",
    "\n",
    "# Input: Coefficients of the cubic equation\n",
    "print(\"Cubic Equation Solver: ax^3 + bx^2 + cx + d = 0\")\n",
    "a = float(input(\"Enter coefficient a: \"))\n",
    "b = float(input(\"Enter coefficient b: \"))\n",
    "c = float(input(\"Enter coefficient c: \"))\n",
    "d = float(input(\"Enter coefficient d: \"))\n",
    "\n",
    "# Solve the cubic equation\n",
    "try:\n",
    "    roots = solve_cubic(a, b, c, d)\n",
    "    print(f\"The roots of the cubic equation are:\")\n",
    "    print(f\"Root 1: {roots[0]}\")\n",
    "    print(f\"Root 2: {roots[1]}\")\n",
    "    print(f\"Root 3: {roots[2]}\")\n",
    "except ValueError as e:\n",
    "    print(e)\n"
   ]
  },
  {
   "cell_type": "code",
   "execution_count": null,
   "id": "3d5b64c3-77f8-480b-8903-ad3624e4b632",
   "metadata": {},
   "outputs": [],
   "source": [
    "''' Advanced Level: '''"
   ]
  },
  {
   "cell_type": "code",
   "execution_count": 84,
   "id": "583432a1-5270-4301-9b76-4271e104ea90",
   "metadata": {},
   "outputs": [
    {
     "name": "stdin",
     "output_type": "stream",
     "text": [
      "Enter your annual income:  269000\n"
     ]
    },
    {
     "name": "stdout",
     "output_type": "stream",
     "text": [
      "Your income tax is: $66700.00\n"
     ]
    }
   ],
   "source": [
    "# 21. Create a program that calculates the income tax based on the user's income and tax brackets.\n",
    "\n",
    "\n",
    "# Function to calculate income tax\n",
    "def calculate_income_tax(income):\n",
    "    tax = 0\n",
    "\n",
    "    if income <= 0:\n",
    "        print(\"Invalid income. Please enter a positive value.\")\n",
    "        return tax\n",
    "    elif income <= 10000:\n",
    "        # No tax for income up to $10,000\n",
    "        tax = 0\n",
    "    elif income <= 30000:\n",
    "        # 10% tax for income between $10,001 and $30,000\n",
    "        tax = (income - 10000) * 0.10\n",
    "    elif income <= 100000:\n",
    "        # 10% tax for $10,001 to $30,000 and 20% for income between $30,001 and $100,000\n",
    "        tax = (30000 - 10000) * 0.10 + (income - 30000) * 0.20\n",
    "    else:\n",
    "        # 10% for $10,001 to $30,000, 20% for $30,001 to $100,000, and 30% for income above $100,000\n",
    "        tax = (30000 - 10000) * 0.10 + (100000 - 30000) * 0.20 + (income - 100000) * 0.30\n",
    "\n",
    "    return tax\n",
    "\n",
    "# Input: Get the user's income\n",
    "income = float(input(\"Enter your annual income: \"))\n",
    "\n",
    "# Calculate the tax\n",
    "income_tax = calculate_income_tax(income)\n",
    "\n",
    "# Output the result\n",
    "print(f\"Your income tax is: ${income_tax:.2f}\")\n"
   ]
  },
  {
   "cell_type": "code",
   "execution_count": 94,
   "id": "464d502c-00b2-49d4-aa9a-e911f7fe5106",
   "metadata": {},
   "outputs": [
    {
     "name": "stdin",
     "output_type": "stream",
     "text": [
      "Enter your choice (rock, paper, or scissors):  ROCK\n"
     ]
    },
    {
     "name": "stdout",
     "output_type": "stream",
     "text": [
      "You chose: rock\n",
      "The computer chose: rock\n",
      "It's a tie!\n"
     ]
    }
   ],
   "source": [
    "# 22. Write a program that simulates a rock-paper-scissors game against the computer.\n",
    "\n",
    "import random\n",
    "\n",
    "def play_rock_paper_scissors():\n",
    "    # List of possible choices\n",
    "    choices = [\"rock\", \"paper\", \"scissors\"]\n",
    "\n",
    "    # Get user's choice\n",
    "    user_choice = input(\"Enter your choice (rock, paper, or scissors): \").lower()\n",
    "\n",
    "    # Validate user input\n",
    "    if user_choice not in choices:\n",
    "        print(\"Invalid choice! Please choose 'rock', 'paper', or 'scissors'.\")\n",
    "        return\n",
    "\n",
    "    # Computer randomly selects its choice\n",
    "    computer_choice = random.choice(choices)\n",
    "\n",
    "    # Print both choices\n",
    "    print(f\"You chose: {user_choice}\")\n",
    "    print(f\"The computer chose: {computer_choice}\")\n",
    "\n",
    "    # Determine the winner\n",
    "    if user_choice == computer_choice:\n",
    "        print(\"It's a tie!\")\n",
    "    elif (user_choice == \"rock\" and computer_choice == \"scissors\") or \\\n",
    "         (user_choice == \"scissors\" and computer_choice == \"paper\") or \\\n",
    "         (user_choice == \"paper\" and computer_choice == \"rock\"):\n",
    "        print(\"You win!\")\n",
    "    else:\n",
    "        print(\"You lose!\")\n",
    "\n",
    "# Run the game\n",
    "play_rock_paper_scissors()\n",
    "\n"
   ]
  },
  {
   "cell_type": "code",
   "execution_count": 96,
   "id": "cb69becb-6fe1-4a71-85eb-e9d78a6fcd2d",
   "metadata": {},
   "outputs": [
    {
     "name": "stdin",
     "output_type": "stream",
     "text": [
      "Enter desired password length:  15\n",
      "Include uppercase letters? (yes/no):  YES\n",
      "Include digits? (yes/no):  yes\n",
      "Include special characters? (yes/no):  yes\n"
     ]
    },
    {
     "name": "stdout",
     "output_type": "stream",
     "text": [
      "Generated password: jX:t_|NWn5ijnRk\n"
     ]
    }
   ],
   "source": [
    "# 23. Develop a program that generates a random password based on user preferences (length, complexity).\n",
    "\n",
    "import random\n",
    "import string\n",
    "\n",
    "def generate_password(length, use_uppercase, use_digits, use_special_chars):\n",
    "    # Define possible characters based on user preferences\n",
    "    characters = string.ascii_lowercase  # Always include lowercase letters\n",
    "    \n",
    "    if use_uppercase:\n",
    "        characters += string.ascii_uppercase  # Include uppercase letters if selected\n",
    "    if use_digits:\n",
    "        characters += string.digits  # Include digits if selected\n",
    "    if use_special_chars:\n",
    "        characters += string.punctuation  # Include special characters if selected\n",
    "\n",
    "    # Ensure the password length is at least 1\n",
    "    if length < 1:\n",
    "        return \"Password length must be at least 1.\"\n",
    "\n",
    "    # Generate the password by randomly selecting characters\n",
    "    password = ''.join(random.choice(characters) for i in range(length))\n",
    "    \n",
    "    return password\n",
    "\n",
    "# Input: Get user preferences\n",
    "length = int(input(\"Enter desired password length: \"))\n",
    "use_uppercase = input(\"Include uppercase letters? (yes/no): \").lower() == 'yes'\n",
    "use_digits = input(\"Include digits? (yes/no): \").lower() == 'yes'\n",
    "use_special_chars = input(\"Include special characters? (yes/no): \").lower() == 'yes'\n",
    "\n",
    "# Generate the password\n",
    "password = generate_password(length, use_uppercase, use_digits, use_special_chars)\n",
    "\n",
    "# Output the generated password\n",
    "print(f\"Generated password: {password}\")\n"
   ]
  },
  {
   "cell_type": "code",
   "execution_count": 98,
   "id": "2b1f2b6b-bc27-4c55-bfa5-3fb0826482d8",
   "metadata": {},
   "outputs": [
    {
     "name": "stdout",
     "output_type": "stream",
     "text": [
      "Welcome to the Adventure Game!\n",
      "You find yourself in a dark forest. There are two paths ahead.\n",
      "1. Take the left path.\n",
      "2. Take the right path.\n"
     ]
    },
    {
     "name": "stdin",
     "output_type": "stream",
     "text": [
      "What do you want to do? (1/2):  1\n"
     ]
    },
    {
     "name": "stdout",
     "output_type": "stream",
     "text": [
      "\n",
      "You walk down the left path and encounter a friendly dog.\n",
      "The dog looks hungry.\n",
      "1. Feed the dog.\n",
      "2. Ignore the dog and continue walking.\n"
     ]
    },
    {
     "name": "stdin",
     "output_type": "stream",
     "text": [
      "What do you want to do? (1/2):  1\n"
     ]
    },
    {
     "name": "stdout",
     "output_type": "stream",
     "text": [
      "\n",
      "The dog happily follows you and leads you to a hidden treasure!\n",
      "You win!\n"
     ]
    }
   ],
   "source": [
    "# 24. Create a program that implements a simple text-based adventure game with branching scenarios.\n",
    "\n",
    "def start_adventure():\n",
    "    print(\"Welcome to the Adventure Game!\")\n",
    "    print(\"You find yourself in a dark forest. There are two paths ahead.\")\n",
    "    print(\"1. Take the left path.\")\n",
    "    print(\"2. Take the right path.\")\n",
    "\n",
    "    choice1 = input(\"What do you want to do? (1/2): \")\n",
    "\n",
    "    if choice1 == \"1\":\n",
    "        print(\"\\nYou walk down the left path and encounter a friendly dog.\")\n",
    "        print(\"The dog looks hungry.\")\n",
    "        print(\"1. Feed the dog.\")\n",
    "        print(\"2. Ignore the dog and continue walking.\")\n",
    "\n",
    "        choice2 = input(\"What do you want to do? (1/2): \")\n",
    "\n",
    "        if choice2 == \"1\":\n",
    "            print(\"\\nThe dog happily follows you and leads you to a hidden treasure!\")\n",
    "            print(\"You win!\")\n",
    "        else:\n",
    "            print(\"\\nThe dog growls and blocks your path.\")\n",
    "            print(\"You decide to turn back. Game over.\")\n",
    "\n",
    "    elif choice1 == \"2\":\n",
    "        print(\"\\nYou walk down the right path and find a mysterious cave.\")\n",
    "        print(\"1. Enter the cave.\")\n",
    "        print(\"2. Stay outside and explore the surroundings.\")\n",
    "\n",
    "        choice2 = input(\"What do you want to do? (1/2): \")\n",
    "\n",
    "        if choice2 == \"1\":\n",
    "            print(\"\\nInside the cave, you find a chest filled with gold!\")\n",
    "            print(\"You win!\")\n",
    "        else:\n",
    "            print(\"\\nWhile exploring, you slip into a hidden trap and fall into a pit.\")\n",
    "            print(\"Game over.\")\n",
    "\n",
    "    else:\n",
    "        print(\"\\nInvalid choice. The forest swallows you into darkness. Game over.\")\n",
    "\n",
    "# Start the game\n",
    "start_adventure()\n",
    "\n"
   ]
  },
  {
   "cell_type": "code",
   "execution_count": 100,
   "id": "07202998-44dd-4a63-aff8-fe8d54633473",
   "metadata": {},
   "outputs": [
    {
     "name": "stdout",
     "output_type": "stream",
     "text": [
      "Solve the linear equation ax + b = 0\n"
     ]
    },
    {
     "name": "stdin",
     "output_type": "stream",
     "text": [
      "Enter the coefficient a:  9\n",
      "Enter the constant b:  6\n"
     ]
    },
    {
     "name": "stdout",
     "output_type": "stream",
     "text": [
      "The solution is x = -0.67\n"
     ]
    }
   ],
   "source": [
    "# 25. Build a program that solves a linear equation for x, considering different cases.\n",
    "\n",
    "\n",
    "def solve_linear_equation(a, b):\n",
    "    \"\"\"\n",
    "    Solve the linear equation ax + b = 0.\n",
    "    \"\"\"\n",
    "    if a == 0:\n",
    "        if b == 0:\n",
    "            return \"Infinite solutions (any value of x satisfies the equation).\"\n",
    "        else:\n",
    "            return \"No solution (the equation is inconsistent).\"\n",
    "    else:\n",
    "        x = -b / a\n",
    "        return f\"The solution is x = {x:.2f}\"\n",
    "\n",
    "# Input: Coefficients of the equation\n",
    "print(\"Solve the linear equation ax + b = 0\")\n",
    "a = float(input(\"Enter the coefficient a: \"))\n",
    "b = float(input(\"Enter the constant b: \"))\n",
    "\n",
    "# Solve the equation\n",
    "result = solve_linear_equation(a, b)\n",
    "\n",
    "# Output the result\n",
    "print(result)"
   ]
  },
  {
   "cell_type": "code",
   "execution_count": 102,
   "id": "c2cc8f2d-d2f7-4440-861f-2c5b5350de18",
   "metadata": {},
   "outputs": [
    {
     "name": "stdout",
     "output_type": "stream",
     "text": [
      "Welcome to the Quiz Game!\n",
      "Answer the following multiple-choice questions.\n",
      "\n",
      "Question 1: What is the capital of France?\n",
      "1. Paris\n",
      "2. Berlin\n",
      "3. Madrid\n",
      "4. Rome\n"
     ]
    },
    {
     "name": "stdin",
     "output_type": "stream",
     "text": [
      "Your answer (1/2/3/4):  1\n"
     ]
    },
    {
     "name": "stdout",
     "output_type": "stream",
     "text": [
      "Correct!\n",
      "\n",
      "Question 2: Which planet is known as the Red Planet?\n",
      "1. Earth\n",
      "2. Mars\n",
      "3. Jupiter\n",
      "4. Venus\n"
     ]
    },
    {
     "name": "stdin",
     "output_type": "stream",
     "text": [
      "Your answer (1/2/3/4):  2\n"
     ]
    },
    {
     "name": "stdout",
     "output_type": "stream",
     "text": [
      "Correct!\n",
      "\n",
      "Question 3: Who wrote 'To Kill a Mockingbird'?\n",
      "1. Harper Lee\n",
      "2. J.K. Rowling\n",
      "3. Mark Twain\n",
      "4. Jane Austen\n"
     ]
    },
    {
     "name": "stdin",
     "output_type": "stream",
     "text": [
      "Your answer (1/2/3/4):  3\n"
     ]
    },
    {
     "name": "stdout",
     "output_type": "stream",
     "text": [
      "Wrong! The correct answer was 1. 1. Harper Lee\n",
      "\n",
      "Question 4: What is the largest ocean on Earth?\n",
      "1. Atlantic Ocean\n",
      "2. Indian Ocean\n",
      "3. Arctic Ocean\n",
      "4. Pacific Ocean\n"
     ]
    },
    {
     "name": "stdin",
     "output_type": "stream",
     "text": [
      "Your answer (1/2/3/4):  4\n"
     ]
    },
    {
     "name": "stdout",
     "output_type": "stream",
     "text": [
      "Correct!\n",
      "\n",
      "Question 5: What is the boiling point of water at sea level in Celsius?\n",
      "1. 90°C\n",
      "2. 100°C\n",
      "3. 80°C\n",
      "4. 120°C\n"
     ]
    },
    {
     "name": "stdin",
     "output_type": "stream",
     "text": [
      "Your answer (1/2/3/4):  2\n"
     ]
    },
    {
     "name": "stdout",
     "output_type": "stream",
     "text": [
      "Correct!\n",
      "\n",
      "Your final score is 4/5.\n",
      "Good job! You have decent knowledge.\n"
     ]
    }
   ],
   "source": [
    "# 26. Write a program that simulates a basic quiz game with multiple-choice questions and scoring.\n",
    "\n",
    "def quiz_game():\n",
    "    print(\"Welcome to the Quiz Game!\")\n",
    "    print(\"Answer the following multiple-choice questions.\\n\")\n",
    "    \n",
    "    # Questions, choices, and answers\n",
    "    questions = [\n",
    "        {\n",
    "            \"question\": \"What is the capital of France?\",\n",
    "            \"choices\": [\"1. Paris\", \"2. Berlin\", \"3. Madrid\", \"4. Rome\"],\n",
    "            \"answer\": \"1\"\n",
    "        },\n",
    "        {\n",
    "            \"question\": \"Which planet is known as the Red Planet?\",\n",
    "            \"choices\": [\"1. Earth\", \"2. Mars\", \"3. Jupiter\", \"4. Venus\"],\n",
    "            \"answer\": \"2\"\n",
    "        },\n",
    "        {\n",
    "            \"question\": \"Who wrote 'To Kill a Mockingbird'?\",\n",
    "            \"choices\": [\"1. Harper Lee\", \"2. J.K. Rowling\", \"3. Mark Twain\", \"4. Jane Austen\"],\n",
    "            \"answer\": \"1\"\n",
    "        },\n",
    "        {\n",
    "            \"question\": \"What is the largest ocean on Earth?\",\n",
    "            \"choices\": [\"1. Atlantic Ocean\", \"2. Indian Ocean\", \"3. Arctic Ocean\", \"4. Pacific Ocean\"],\n",
    "            \"answer\": \"4\"\n",
    "        },\n",
    "        {\n",
    "            \"question\": \"What is the boiling point of water at sea level in Celsius?\",\n",
    "            \"choices\": [\"1. 90°C\", \"2. 100°C\", \"3. 80°C\", \"4. 120°C\"],\n",
    "            \"answer\": \"2\"\n",
    "        }\n",
    "    ]\n",
    "    \n",
    "    # Initialize score\n",
    "    score = 0\n",
    "\n",
    "    # Loop through each question\n",
    "    for idx, q in enumerate(questions):\n",
    "        print(f\"Question {idx + 1}: {q['question']}\")\n",
    "        for choice in q[\"choices\"]:\n",
    "            print(choice)\n",
    "        \n",
    "        # Get user answer\n",
    "        user_answer = input(\"Your answer (1/2/3/4): \")\n",
    "        \n",
    "        # Check the answer\n",
    "        if user_answer == q[\"answer\"]:\n",
    "            print(\"Correct!\\n\")\n",
    "            score += 1\n",
    "        else:\n",
    "            print(f\"Wrong! The correct answer was {q['answer']}. {q['choices'][int(q['answer']) - 1]}\\n\")\n",
    "\n",
    "    # Display the final score\n",
    "    print(f\"Your final score is {score}/{len(questions)}.\")\n",
    "    \n",
    "    # Feedback based on performance\n",
    "    if score == len(questions):\n",
    "        print(\"Excellent! You're a quiz master!\")\n",
    "    elif score >= len(questions) // 2:\n",
    "        print(\"Good job! You have decent knowledge.\")\n",
    "    else:\n",
    "        print(\"Better luck next time!\")\n",
    "\n",
    "# Run the quiz game\n",
    "quiz_game()"
   ]
  },
  {
   "cell_type": "code",
   "execution_count": 104,
   "id": "d3f4894f-06c9-4069-92ad-a56cbcd3482c",
   "metadata": {},
   "outputs": [
    {
     "name": "stdin",
     "output_type": "stream",
     "text": [
      "Enter a year to check if it's a prime number:  2016\n"
     ]
    },
    {
     "name": "stdout",
     "output_type": "stream",
     "text": [
      "The year 2016 is not a prime number.\n"
     ]
    }
   ],
   "source": [
    "# 27. Develop a program that determines whether a given year is a prime number or not.\n",
    "\n",
    "def is_prime_year(year):\n",
    "    \"\"\"\n",
    "    Determine if a given year is a prime number.\n",
    "    \"\"\"\n",
    "    if year <= 1:\n",
    "        return False  # Years less than or equal to 1 are not prime\n",
    "    \n",
    "    # Check divisors from 2 to the square root of the year\n",
    "    for i in range(2, int(year**0.5) + 1):\n",
    "        if year % i == 0:\n",
    "            return False  # Found a divisor, not prime\n",
    "    return True  # No divisors found, it's prime\n",
    "\n",
    "# Input: Get the year from the user\n",
    "year = int(input(\"Enter a year to check if it's a prime number: \"))\n",
    "\n",
    "# Check if the year is prime\n",
    "if is_prime_year(year):\n",
    "    print(f\"The year {year} is a prime number.\")\n",
    "else:\n",
    "    print(f\"The year {year} is not a prime number.\")\n"
   ]
  },
  {
   "cell_type": "code",
   "execution_count": 106,
   "id": "323d3d71-987f-4240-b747-e1c63744027c",
   "metadata": {},
   "outputs": [
    {
     "name": "stdout",
     "output_type": "stream",
     "text": [
      "Enter three numbers to sort in ascending order:\n"
     ]
    },
    {
     "name": "stdin",
     "output_type": "stream",
     "text": [
      "First number:  6\n",
      "Second number:  4\n",
      "Third number:  8\n"
     ]
    },
    {
     "name": "stdout",
     "output_type": "stream",
     "text": [
      "The numbers in ascending order are: 4.0, 6.0, 8.0\n"
     ]
    }
   ],
   "source": [
    "# 28. Create a program that sorts three numbers in ascending order using conditional statements.\n",
    "\n",
    "def sort_three_numbers(a, b, c):\n",
    "    \"\"\"\n",
    "    Sort three numbers in ascending order using conditional statements.\n",
    "    \"\"\"\n",
    "    if a > b:\n",
    "        a, b = b, a  # Swap a and b if a > b\n",
    "    if b > c:\n",
    "        b, c = c, b  # Swap b and c if b > c\n",
    "    if a > b:\n",
    "        a, b = b, a  # Swap a and b again if needed\n",
    "    \n",
    "    return a, b, c\n",
    "\n",
    "# Input: Get three numbers from the user\n",
    "print(\"Enter three numbers to sort in ascending order:\")\n",
    "num1 = float(input(\"First number: \"))\n",
    "num2 = float(input(\"Second number: \"))\n",
    "num3 = float(input(\"Third number: \"))\n",
    "\n",
    "# Sort the numbers\n",
    "sorted_numbers = sort_three_numbers(num1, num2, num3)\n",
    "\n",
    "# Output the sorted numbers\n",
    "print(f\"The numbers in ascending order are: {sorted_numbers[0]}, {sorted_numbers[1]}, {sorted_numbers[2]}\")\n"
   ]
  },
  {
   "cell_type": "code",
   "execution_count": 108,
   "id": "ce2b792b-e251-4c67-8de6-5fefb38e418e",
   "metadata": {},
   "outputs": [
    {
     "name": "stdout",
     "output_type": "stream",
     "text": [
      "Quartic Equation Solver\n",
      "The general form is: ax^4 + bx^3 + cx^2 + dx + e = 0\n",
      "Enter the coefficients (a, b, c, d, e):\n"
     ]
    },
    {
     "name": "stdin",
     "output_type": "stream",
     "text": [
      "Coefficient a:  5\n",
      "Coefficient b:  7\n",
      "Coefficient c:  23\n",
      "Coefficient d:  65\n",
      "Coefficient e:  6\n"
     ]
    },
    {
     "name": "stdout",
     "output_type": "stream",
     "text": [
      "\n",
      "The roots of the quartic equation are:\n",
      "Root 1: (0.3839249581463035+2.4329789692629036j)\n",
      "Root 2: (0.3839249581463035-2.4329789692629036j)\n",
      "Root 3: (-2.072406104398204+0j)\n",
      "Root 4: (-0.09544381189440355+0j)\n"
     ]
    }
   ],
   "source": [
    "# 29. Build a program that determines the roots of a quartic equation using numerical methods.\n",
    "\n",
    "import numpy as np\n",
    "\n",
    "def find_roots(coefficients):\n",
    "    \"\"\"\n",
    "    Finds the roots of a quartic equation using numerical methods.\n",
    "    \n",
    "    Parameters:\n",
    "    coefficients (list): Coefficients of the quartic equation in decreasing order of power.\n",
    "    \n",
    "    Returns:\n",
    "    roots (list): A list of real and complex roots.\n",
    "    \"\"\"\n",
    "    # Use NumPy to find roots\n",
    "    roots = np.roots(coefficients)\n",
    "    return roots\n",
    "\n",
    "def main():\n",
    "    print(\"Quartic Equation Solver\")\n",
    "    print(\"The general form is: ax^4 + bx^3 + cx^2 + dx + e = 0\")\n",
    "    \n",
    "    # Input coefficients\n",
    "    print(\"Enter the coefficients (a, b, c, d, e):\")\n",
    "    a = float(input(\"Coefficient a: \"))\n",
    "    b = float(input(\"Coefficient b: \"))\n",
    "    c = float(input(\"Coefficient c: \"))\n",
    "    d = float(input(\"Coefficient d: \"))\n",
    "    e = float(input(\"Coefficient e: \"))\n",
    "    \n",
    "    if a == 0:\n",
    "        print(\"This is not a quartic equation since the leading coefficient (a) is 0.\")\n",
    "        return\n",
    "    \n",
    "    # Find roots\n",
    "    coefficients = [a, b, c, d, e]\n",
    "    roots = find_roots(coefficients)\n",
    "    \n",
    "    # Display results\n",
    "    print(\"\\nThe roots of the quartic equation are:\")\n",
    "    for i, root in enumerate(roots, 1):\n",
    "        print(f\"Root {i}: {root}\")\n",
    "\n",
    "if __name__ == \"__main__\":\n",
    "    main()\n"
   ]
  },
  {
   "cell_type": "code",
   "execution_count": 110,
   "id": "41a09686-591a-4816-b02b-f823ffb700f5",
   "metadata": {},
   "outputs": [
    {
     "name": "stdout",
     "output_type": "stream",
     "text": [
      "BMI Calculator\n"
     ]
    },
    {
     "name": "stdin",
     "output_type": "stream",
     "text": [
      "Enter your weight in kilograms:  75\n",
      "Enter your height in meters:  5.8\n"
     ]
    },
    {
     "name": "stdout",
     "output_type": "stream",
     "text": [
      "\n",
      "Your BMI is: 2.23\n",
      "Underweight: Consider consulting a dietitian for a balanced diet to reach a healthy weight.\n"
     ]
    }
   ],
   "source": [
    "# 30. Write a program that calculates the BMI (Body Mass Index) and provides health recommendations based on the user's input.\n",
    "\n",
    "def calculate_bmi(weight, height):\n",
    "    \"\"\"\n",
    "    Calculate BMI using the formula: BMI = weight (kg) / height^2 (m^2)\n",
    "    \"\"\"\n",
    "    return weight / (height ** 2)\n",
    "\n",
    "def get_health_recommendation(bmi):\n",
    "    \"\"\"\n",
    "    Provide health recommendations based on BMI.\n",
    "    \"\"\"\n",
    "    if bmi < 18.5:\n",
    "        return \"Underweight: Consider consulting a dietitian for a balanced diet to reach a healthy weight.\"\n",
    "    elif 18.5 <= bmi < 24.9:\n",
    "        return \"Normal weight: Maintain your current lifestyle and a healthy diet.\"\n",
    "    elif 25 <= bmi < 29.9:\n",
    "        return \"Overweight: Incorporate regular exercise and a balanced diet into your routine.\"\n",
    "    else:\n",
    "        return \"Obese: Consult a healthcare provider for personalized guidance.\"\n",
    "\n",
    "def main():\n",
    "    print(\"BMI Calculator\")\n",
    "    \n",
    "    # Input: User's weight and height\n",
    "    weight = float(input(\"Enter your weight in kilograms: \"))\n",
    "    height = float(input(\"Enter your height in meters: \"))\n",
    "    \n",
    "    if weight <= 0 or height <= 0:\n",
    "        print(\"Error: Weight and height must be positive values.\")\n",
    "        return\n",
    "    \n",
    "    # Calculate BMI\n",
    "    bmi = calculate_bmi(weight, height)\n",
    "    \n",
    "    # Provide results\n",
    "    print(f\"\\nYour BMI is: {bmi:.2f}\")\n",
    "    print(get_health_recommendation(bmi))\n",
    "\n",
    "if __name__ == \"__main__\":\n",
    "    main()\n",
    "\n",
    "\n"
   ]
  },
  {
   "cell_type": "code",
   "execution_count": null,
   "id": "fa11396a-ea67-401f-9fb6-d917edcdb660",
   "metadata": {},
   "outputs": [],
   "source": [
    "''' Challenge Level: '''"
   ]
  },
  {
   "cell_type": "code",
   "execution_count": 114,
   "id": "6ba5f5ab-e07a-4a92-9926-8636135ad936",
   "metadata": {},
   "outputs": [
    {
     "name": "stdout",
     "output_type": "stream",
     "text": [
      "Password Validator\n"
     ]
    },
    {
     "name": "stdin",
     "output_type": "stream",
     "text": [
      "Enter a password to validate:  Sumit@123654\n"
     ]
    },
    {
     "name": "stdout",
     "output_type": "stream",
     "text": [
      "\n",
      "Valid: Your password meets all the requirements.\n"
     ]
    }
   ],
   "source": [
    "# 31. Create a program that validates a password based on complexity rules (length, characters, etc.).\n",
    "\n",
    "def validate_password(password):\n",
    "    \"\"\"\n",
    "    Validate a password based on complexity rules.\n",
    "    \n",
    "    Rules:\n",
    "    1. Minimum length of 8 characters.\n",
    "    2. Must contain at least one uppercase letter.\n",
    "    3. Must contain at least one lowercase letter.\n",
    "    4. Must contain at least one number.\n",
    "    5. Must contain at least one special character (!@#$%^&*()-_+=).\n",
    "    \"\"\"\n",
    "    if len(password) < 8:\n",
    "        return \"Invalid: Password must be at least 8 characters long.\"\n",
    "    \n",
    "    if not any(char.isupper() for char in password):\n",
    "        return \"Invalid: Password must contain at least one uppercase letter.\"\n",
    "    \n",
    "    if not any(char.islower() for char in password):\n",
    "        return \"Invalid: Password must contain at least one lowercase letter.\"\n",
    "    \n",
    "    if not any(char.isdigit() for char in password):\n",
    "        return \"Invalid: Password must contain at least one number.\"\n",
    "    \n",
    "    if not any(char in \"!@#$%^&*()-_+=\" for char in password):\n",
    "        return \"Invalid: Password must contain at least one special character (!@#$%^&*()-_+=).\"\n",
    "    \n",
    "    return \"Valid: Your password meets all the requirements.\"\n",
    "\n",
    "def main():\n",
    "    print(\"Password Validator\")\n",
    "    password = input(\"Enter a password to validate: \")\n",
    "    \n",
    "    # Validate the password\n",
    "    validation_result = validate_password(password)\n",
    "    \n",
    "    # Display the result\n",
    "    print(f\"\\n{validation_result}\")\n",
    "\n",
    "if __name__ == \"__main__\":\n",
    "    main()\n"
   ]
  },
  {
   "cell_type": "code",
   "execution_count": 122,
   "id": "2592f69e-6684-4555-820f-13506a58a0e1",
   "metadata": {},
   "outputs": [
    {
     "name": "stdout",
     "output_type": "stream",
     "text": [
      "Matrix Operations (Addition and Subtraction)\n"
     ]
    },
    {
     "name": "stdin",
     "output_type": "stream",
     "text": [
      "Enter the number of rows:  3\n",
      "Enter the number of columns:  3\n"
     ]
    },
    {
     "name": "stdout",
     "output_type": "stream",
     "text": [
      "\n",
      "Matrix 1:\n",
      "Enter the elements for a 3x3 matrix:\n"
     ]
    },
    {
     "name": "stdin",
     "output_type": "stream",
     "text": [
      "Enter row 1:  1 2 3\n",
      "Enter row 2:  4 5 6\n",
      "Enter row 3:  9 8 7\n"
     ]
    },
    {
     "name": "stdout",
     "output_type": "stream",
     "text": [
      "\n",
      "Matrix 2:\n",
      "Enter the elements for a 3x3 matrix:\n"
     ]
    },
    {
     "name": "stdin",
     "output_type": "stream",
     "text": [
      "Enter row 1:  9 6 3\n",
      "Enter row 2:  8 5 2\n",
      "Enter row 3:  1 4 7\n"
     ]
    },
    {
     "name": "stdout",
     "output_type": "stream",
     "text": [
      "\n",
      "Matrix 1:\n",
      "1 2 3\n",
      "4 5 6\n",
      "9 8 7\n",
      "\n",
      "Matrix 2:\n",
      "9 6 3\n",
      "8 5 2\n",
      "1 4 7\n",
      "\n",
      "Choose an operation:\n",
      "1. Matrix Addition\n",
      "2. Matrix Subtraction\n"
     ]
    },
    {
     "name": "stdin",
     "output_type": "stream",
     "text": [
      "Enter 1 or 2:  1\n"
     ]
    },
    {
     "name": "stdout",
     "output_type": "stream",
     "text": [
      "\n",
      "Matrix Addition Result:\n",
      "10 8 6\n",
      "12 10 8\n",
      "10 12 14\n"
     ]
    }
   ],
   "source": [
    "# 32. Develop a program that performs matrix addition and subtraction based on user input.\n",
    "\n",
    "\n",
    "def input_matrix(rows, cols):\n",
    "    \"\"\"\n",
    "    Function to input a matrix of given rows and columns.\n",
    "    \"\"\"\n",
    "    matrix = []\n",
    "    print(f\"Enter the elements for a {rows}x{cols} matrix:\")\n",
    "    for i in range(rows):\n",
    "        row = list(map(int, input(f\"Enter row {i+1}: \").split()))\n",
    "        if len(row) != cols:\n",
    "            print(f\"Error: Row must contain exactly {cols} elements.\")\n",
    "            return None\n",
    "        matrix.append(row)\n",
    "    return matrix\n",
    "\n",
    "def print_matrix(matrix):\n",
    "    \"\"\"\n",
    "    Function to print a matrix in a readable format.\n",
    "    \"\"\"\n",
    "    for row in matrix:\n",
    "        print(\" \".join(map(str, row)))\n",
    "\n",
    "def add_matrices(matrix1, matrix2):\n",
    "    \"\"\"\n",
    "    Function to add two matrices.\n",
    "    \"\"\"\n",
    "    rows = len(matrix1)\n",
    "    cols = len(matrix1[0])\n",
    "    result = []\n",
    "    for i in range(rows):\n",
    "        row = []\n",
    "        for j in range(cols):\n",
    "            row.append(matrix1[i][j] + matrix2[i][j])\n",
    "        result.append(row)\n",
    "    return result\n",
    "\n",
    "def subtract_matrices(matrix1, matrix2):\n",
    "    \"\"\"\n",
    "    Function to subtract two matrices.\n",
    "    \"\"\"\n",
    "    rows = len(matrix1)\n",
    "    cols = len(matrix1[0])\n",
    "    result = []\n",
    "    for i in range(rows):\n",
    "        row = []\n",
    "        for j in range(cols):\n",
    "            row.append(matrix1[i][j] - matrix2[i][j])\n",
    "        result.append(row)\n",
    "    return result\n",
    "\n",
    "def main():\n",
    "    print(\"Matrix Operations (Addition and Subtraction)\")\n",
    "\n",
    "    # Input matrix dimensions\n",
    "    rows = int(input(\"Enter the number of rows: \"))\n",
    "    cols = int(input(\"Enter the number of columns: \"))\n",
    "    \n",
    "    # Input two matrices\n",
    "    print(\"\\nMatrix 1:\")\n",
    "    matrix1 = input_matrix(rows, cols)\n",
    "    if matrix1 is None:\n",
    "        return\n",
    "    \n",
    "    print(\"\\nMatrix 2:\")\n",
    "    matrix2 = input_matrix(rows, cols)\n",
    "    if matrix2 is None:\n",
    "        return\n",
    "    \n",
    "    # Display matrices\n",
    "    print(\"\\nMatrix 1:\")\n",
    "    print_matrix(matrix1)\n",
    "    \n",
    "    print(\"\\nMatrix 2:\")\n",
    "    print_matrix(matrix2)\n",
    "\n",
    "    # User choice for operation\n",
    "    print(\"\\nChoose an operation:\")\n",
    "    print(\"1. Matrix Addition\")\n",
    "    print(\"2. Matrix Subtraction\")\n",
    "    choice = input(\"Enter 1 or 2: \")\n",
    "\n",
    "    if choice == '1':\n",
    "        result = add_matrices(matrix1, matrix2)\n",
    "        print(\"\\nMatrix Addition Result:\")\n",
    "        print_matrix(result)\n",
    "    elif choice == '2':\n",
    "        result = subtract_matrices(matrix1, matrix2)\n",
    "        print(\"\\nMatrix Subtraction Result:\")\n",
    "        print_matrix(result)\n",
    "    else:\n",
    "        print(\"Invalid choice! Please enter 1 for addition or 2 for subtraction.\")\n",
    "\n",
    "if __name__ == \"__main__\":\n",
    "    main()\n"
   ]
  },
  {
   "cell_type": "code",
   "execution_count": 124,
   "id": "9db06998-2848-405b-a94c-18c4b443cf49",
   "metadata": {},
   "outputs": [
    {
     "name": "stdout",
     "output_type": "stream",
     "text": [
      "GCD Calculator using Euclidean Algorithm\n"
     ]
    },
    {
     "name": "stdin",
     "output_type": "stream",
     "text": [
      "Enter the first number:  5\n",
      "Enter the second number:  7\n"
     ]
    },
    {
     "name": "stdout",
     "output_type": "stream",
     "text": [
      "The GCD of 5 and 7 is 1\n"
     ]
    }
   ],
   "source": [
    "# 33. Write a program that calculates the greatest common divisor (GCD) of two numbers using the Euclidean algorithm.\n",
    "\n",
    "def gcd(a, b):\n",
    "    \"\"\"\n",
    "    Function to calculate the greatest common divisor (GCD) using the Euclidean algorithm.\n",
    "    \"\"\"\n",
    "    while b != 0:\n",
    "        a, b = b, a % b  # Replace a with b, and b with the remainder of a divided by b\n",
    "    return a\n",
    "\n",
    "def main():\n",
    "    print(\"GCD Calculator using Euclidean Algorithm\")\n",
    "    \n",
    "    # Input two numbers\n",
    "    num1 = int(input(\"Enter the first number: \"))\n",
    "    num2 = int(input(\"Enter the second number: \"))\n",
    "    \n",
    "    # Calculate GCD\n",
    "    result = gcd(num1, num2)\n",
    "    \n",
    "    # Display result\n",
    "    print(f\"The GCD of {num1} and {num2} is {result}\")\n",
    "\n",
    "if __name__ == \"__main__\":\n",
    "    main()\n"
   ]
  },
  {
   "cell_type": "code",
   "execution_count": 126,
   "id": "c5a15837-3ea5-42d3-ab95-152ff6f195e1",
   "metadata": {},
   "outputs": [
    {
     "name": "stdout",
     "output_type": "stream",
     "text": [
      "Matrix Multiplication\n"
     ]
    },
    {
     "name": "stdin",
     "output_type": "stream",
     "text": [
      "Enter the number of rows for Matrix 1:  2\n",
      "Enter the number of columns for Matrix 1:  2\n"
     ]
    },
    {
     "name": "stdout",
     "output_type": "stream",
     "text": [
      "\n",
      "Matrix 1:\n",
      "Enter the elements for a 2x2 matrix:\n"
     ]
    },
    {
     "name": "stdin",
     "output_type": "stream",
     "text": [
      "Enter row 1:  9 4\n",
      "Enter row 2:  6 7\n",
      "Enter the number of rows for Matrix 2:  3\n",
      "Enter the number of columns for Matrix 2:  3\n"
     ]
    },
    {
     "name": "stdout",
     "output_type": "stream",
     "text": [
      "\n",
      "Matrix 2:\n",
      "Enter the elements for a 3x3 matrix:\n"
     ]
    },
    {
     "name": "stdin",
     "output_type": "stream",
     "text": [
      "Enter row 1:  9 5 1\n",
      "Enter row 2:  2 4 7\n",
      "Enter row 3:  8 6 3\n"
     ]
    },
    {
     "name": "stdout",
     "output_type": "stream",
     "text": [
      "\n",
      "Matrix 1:\n",
      "9 4\n",
      "6 7\n",
      "\n",
      "Matrix 2:\n",
      "9 5 1\n",
      "2 4 7\n",
      "8 6 3\n",
      "Error: Matrix multiplication is not possible. The number of columns of the first matrix must equal the number of rows of the second matrix.\n"
     ]
    }
   ],
   "source": [
    "# 34. Build a program that performs matrix multiplication using nested loops and conditional statements.\n",
    "\n",
    "def input_matrix(rows, cols):\n",
    "    \"\"\"\n",
    "    Function to input a matrix of given rows and columns.\n",
    "    \"\"\"\n",
    "    matrix = []\n",
    "    print(f\"Enter the elements for a {rows}x{cols} matrix:\")\n",
    "    for i in range(rows):\n",
    "        row = list(map(int, input(f\"Enter row {i+1}: \").split()))\n",
    "        if len(row) != cols:\n",
    "            print(f\"Error: Row must contain exactly {cols} elements.\")\n",
    "            return None\n",
    "        matrix.append(row)\n",
    "    return matrix\n",
    "\n",
    "def print_matrix(matrix):\n",
    "    \"\"\"\n",
    "    Function to print a matrix in a readable format.\n",
    "    \"\"\"\n",
    "    for row in matrix:\n",
    "        print(\" \".join(map(str, row)))\n",
    "\n",
    "def multiply_matrices(matrix1, matrix2):\n",
    "    \"\"\"\n",
    "    Function to multiply two matrices.\n",
    "    The number of columns of matrix1 must equal the number of rows of matrix2.\n",
    "    \"\"\"\n",
    "    rows1 = len(matrix1)\n",
    "    cols1 = len(matrix1[0])\n",
    "    rows2 = len(matrix2)\n",
    "    cols2 = len(matrix2[0])\n",
    "\n",
    "    # Check if multiplication is possible\n",
    "    if cols1 != rows2:\n",
    "        print(\"Error: Matrix multiplication is not possible. The number of columns of the first matrix must equal the number of rows of the second matrix.\")\n",
    "        return None\n",
    "\n",
    "    # Initialize the result matrix with zeros\n",
    "    result = [[0 for _ in range(cols2)] for _ in range(rows1)]\n",
    "\n",
    "    # Matrix multiplication using nested loops\n",
    "    for i in range(rows1):\n",
    "        for j in range(cols2):\n",
    "            for k in range(cols1):\n",
    "                result[i][j] += matrix1[i][k] * matrix2[k][j]\n",
    "\n",
    "    return result\n",
    "\n",
    "def main():\n",
    "    print(\"Matrix Multiplication\")\n",
    "\n",
    "    # Input matrix dimensions\n",
    "    rows1 = int(input(\"Enter the number of rows for Matrix 1: \"))\n",
    "    cols1 = int(input(\"Enter the number of columns for Matrix 1: \"))\n",
    "    \n",
    "    # Input Matrix 1\n",
    "    print(\"\\nMatrix 1:\")\n",
    "    matrix1 = input_matrix(rows1, cols1)\n",
    "    if matrix1 is None:\n",
    "        return\n",
    "\n",
    "    rows2 = int(input(\"Enter the number of rows for Matrix 2: \"))\n",
    "    cols2 = int(input(\"Enter the number of columns for Matrix 2: \"))\n",
    "    \n",
    "    # Input Matrix 2\n",
    "    print(\"\\nMatrix 2:\")\n",
    "    matrix2 = input_matrix(rows2, cols2)\n",
    "    if matrix2 is None:\n",
    "        return\n",
    "\n",
    "    # Display matrices\n",
    "    print(\"\\nMatrix 1:\")\n",
    "    print_matrix(matrix1)\n",
    "    \n",
    "    print(\"\\nMatrix 2:\")\n",
    "    print_matrix(matrix2)\n",
    "\n",
    "    # Perform matrix multiplication\n",
    "    result = multiply_matrices(matrix1, matrix2)\n",
    "\n",
    "    # Display result if multiplication is possible\n",
    "    if result:\n",
    "        print(\"\\nMatrix Multiplication Result:\")\n",
    "        print_matrix(result)\n",
    "\n",
    "if __name__ == \"__main__\":\n",
    "    main()\n"
   ]
  },
  {
   "cell_type": "code",
   "execution_count": 128,
   "id": "dbbfa058-d27e-40fa-b121-c6977d896c0f",
   "metadata": {},
   "outputs": [
    {
     "name": "stdout",
     "output_type": "stream",
     "text": [
      "Welcome to Tic-Tac-Toe!\n",
      "\n",
      "\n",
      "  |   |  \n",
      "---------\n",
      "  |   |  \n",
      "---------\n",
      "  |   |  \n",
      "\n",
      "\n"
     ]
    },
    {
     "name": "stdin",
     "output_type": "stream",
     "text": [
      "Enter your move (1-9):  1\n"
     ]
    },
    {
     "name": "stdout",
     "output_type": "stream",
     "text": [
      "\n",
      "\n",
      "X |   |  \n",
      "---------\n",
      "  |   |  \n",
      "---------\n",
      "  |   |  \n",
      "\n",
      "\n",
      "Computer's turn:\n",
      "\n",
      "\n",
      "X |   |  \n",
      "---------\n",
      "  |   |  \n",
      "---------\n",
      "O |   |  \n",
      "\n",
      "\n"
     ]
    },
    {
     "name": "stdin",
     "output_type": "stream",
     "text": [
      "Enter your move (1-9):  6\n"
     ]
    },
    {
     "name": "stdout",
     "output_type": "stream",
     "text": [
      "\n",
      "\n",
      "X |   |  \n",
      "---------\n",
      "  |   | X\n",
      "---------\n",
      "O |   |  \n",
      "\n",
      "\n",
      "Computer's turn:\n",
      "\n",
      "\n",
      "X |   |  \n",
      "---------\n",
      "  |   | X\n",
      "---------\n",
      "O | O |  \n",
      "\n",
      "\n"
     ]
    },
    {
     "name": "stdin",
     "output_type": "stream",
     "text": [
      "Enter your move (1-9):  9\n"
     ]
    },
    {
     "name": "stdout",
     "output_type": "stream",
     "text": [
      "\n",
      "\n",
      "X |   |  \n",
      "---------\n",
      "  |   | X\n",
      "---------\n",
      "O | O | X\n",
      "\n",
      "\n",
      "Computer's turn:\n",
      "\n",
      "\n",
      "X | O |  \n",
      "---------\n",
      "  |   | X\n",
      "---------\n",
      "O | O | X\n",
      "\n",
      "\n"
     ]
    },
    {
     "name": "stdin",
     "output_type": "stream",
     "text": [
      "Enter your move (1-9):  5\n"
     ]
    },
    {
     "name": "stdout",
     "output_type": "stream",
     "text": [
      "\n",
      "\n",
      "X | O |  \n",
      "---------\n",
      "  | X | X\n",
      "---------\n",
      "O | O | X\n",
      "\n",
      "\n",
      "You win!\n"
     ]
    }
   ],
   "source": [
    "# 35. Create a program that simulates a basic text-based tic-tac-toe game against the computer.\n",
    "\n",
    "import random\n",
    "\n",
    "# Function to print the Tic-Tac-Toe board\n",
    "def print_board(board):\n",
    "    print(\"\\n\")\n",
    "    for i in range(3):\n",
    "        print(\" | \".join(board[i]))\n",
    "        if i < 2:\n",
    "            print(\"---------\")\n",
    "    print(\"\\n\")\n",
    "\n",
    "# Function to check if a player has won\n",
    "def check_winner(board, player):\n",
    "    # Check rows, columns, and diagonals\n",
    "    for i in range(3):\n",
    "        if all([cell == player for cell in board[i]]):  # Check rows\n",
    "            return True\n",
    "        if all([board[j][i] == player for j in range(3)]):  # Check columns\n",
    "            return True\n",
    "    if board[0][0] == player and board[1][1] == player and board[2][2] == player:  # Check diagonal\n",
    "        return True\n",
    "    if board[0][2] == player and board[1][1] == player and board[2][0] == player:  # Check opposite diagonal\n",
    "        return True\n",
    "    return False\n",
    "\n",
    "# Function to check if the board is full (tie condition)\n",
    "def is_board_full(board):\n",
    "    for row in board:\n",
    "        if \" \" in row:\n",
    "            return False\n",
    "    return True\n",
    "\n",
    "# Function to get the computer's move\n",
    "def computer_move(board):\n",
    "    available_moves = [(i, j) for i in range(3) for j in range(3) if board[i][j] == \" \"]\n",
    "    return random.choice(available_moves)\n",
    "\n",
    "# Function to make the player's move\n",
    "def player_move(board):\n",
    "    while True:\n",
    "        try:\n",
    "            move = int(input(\"Enter your move (1-9): \")) - 1\n",
    "            row, col = move // 3, move % 3\n",
    "            if board[row][col] == \" \":\n",
    "                board[row][col] = \"X\"\n",
    "                break\n",
    "            else:\n",
    "                print(\"That spot is already taken. Try again.\")\n",
    "        except (ValueError, IndexError):\n",
    "            print(\"Invalid move. Please enter a number between 1 and 9.\")\n",
    "\n",
    "# Main function to play the game\n",
    "def main():\n",
    "    board = [[\" \" for _ in range(3)] for _ in range(3)]  # Initialize an empty board\n",
    "    print(\"Welcome to Tic-Tac-Toe!\")\n",
    "    print_board(board)\n",
    "\n",
    "    while True:\n",
    "        # Player's turn\n",
    "        player_move(board)\n",
    "        print_board(board)\n",
    "        if check_winner(board, \"X\"):\n",
    "            print(\"You win!\")\n",
    "            break\n",
    "        if is_board_full(board):\n",
    "            print(\"It's a tie!\")\n",
    "            break\n",
    "\n",
    "        # Computer's turn\n",
    "        print(\"Computer's turn:\")\n",
    "        row, col = computer_move(board)\n",
    "        board[row][col] = \"O\"\n",
    "        print_board(board)\n",
    "        if check_winner(board, \"O\"):\n",
    "            print(\"Computer wins!\")\n",
    "            break\n",
    "        if is_board_full(board):\n",
    "            print(\"It's a tie!\")\n",
    "            break\n",
    "\n",
    "if __name__ == \"__main__\":\n",
    "    main()\n"
   ]
  },
  {
   "cell_type": "code",
   "execution_count": 130,
   "id": "0d6123af-fbe8-482b-87b1-2c228230abaa",
   "metadata": {},
   "outputs": [
    {
     "name": "stdin",
     "output_type": "stream",
     "text": [
      "Enter the number of terms to generate in the Fibonacci sequence:  6\n"
     ]
    },
    {
     "name": "stdout",
     "output_type": "stream",
     "text": [
      "Fibonacci sequence up to 6 terms: [0, 1, 1, 2, 3, 5]\n"
     ]
    }
   ],
   "source": [
    "# 36. Write a program that generates Fibonacci numbers up to a specified term using iterative methods.\n",
    "\n",
    "def generate_fibonacci(n):\n",
    "    # Check if the number of terms is non-negative\n",
    "    if n <= 0:\n",
    "        print(\"Please enter a positive integer.\")\n",
    "        return\n",
    "    \n",
    "    # Handle the case when the number of terms is 1\n",
    "    if n == 1:\n",
    "        print(\"Fibonacci sequence up to\", n, \": 0\")\n",
    "        return\n",
    "\n",
    "    # Initialize the first two Fibonacci numbers\n",
    "    fib_sequence = [0, 1]\n",
    "    \n",
    "    # Generate Fibonacci numbers up to the nth term using iteration\n",
    "    for i in range(2, n):\n",
    "        next_term = fib_sequence[i - 1] + fib_sequence[i - 2]\n",
    "        fib_sequence.append(next_term)\n",
    "    \n",
    "    # Print the Fibonacci sequence\n",
    "    print(\"Fibonacci sequence up to\", n, \"terms:\", fib_sequence)\n",
    "\n",
    "# Input from the user\n",
    "num_terms = int(input(\"Enter the number of terms to generate in the Fibonacci sequence: \"))\n",
    "generate_fibonacci(num_terms)"
   ]
  },
  {
   "cell_type": "code",
   "execution_count": 132,
   "id": "3d73d139-4eba-4da6-b6de-97cf1cb1a137",
   "metadata": {},
   "outputs": [
    {
     "name": "stdin",
     "output_type": "stream",
     "text": [
      "Enter the term (n) for the Fibonacci sequence:  9\n"
     ]
    },
    {
     "name": "stdout",
     "output_type": "stream",
     "text": [
      "The 9th Fibonacci number is: 34\n"
     ]
    }
   ],
   "source": [
    "# 37. Develop a program that calculates the nth term of the Fibonacci sequence using memoization.\n",
    "\n",
    "# Define a function to calculate Fibonacci number using memoization\n",
    "def fibonacci(n, memo={}):\n",
    "    # Base cases\n",
    "    if n <= 1:\n",
    "        return n\n",
    "    \n",
    "    # If the result is already in the memo, return it\n",
    "    if n in memo:\n",
    "        return memo[n]\n",
    "    \n",
    "    # Calculate the Fibonacci number and store it in the memo\n",
    "    memo[n] = fibonacci(n-1, memo) + fibonacci(n-2, memo)\n",
    "    \n",
    "    return memo[n]\n",
    "\n",
    "# Input from the user\n",
    "num = int(input(\"Enter the term (n) for the Fibonacci sequence: \"))\n",
    "\n",
    "# Calculate and print the nth Fibonacci number\n",
    "print(f\"The {num}th Fibonacci number is: {fibonacci(num)}\")\n"
   ]
  },
  {
   "cell_type": "code",
   "execution_count": 134,
   "id": "011ce046-dbb2-43a7-9adb-09a5194d90df",
   "metadata": {},
   "outputs": [
    {
     "name": "stdin",
     "output_type": "stream",
     "text": [
      "Enter the year:  2006\n",
      "Enter the month (1-12):  6\n"
     ]
    },
    {
     "name": "stdout",
     "output_type": "stream",
     "text": [
      "Calendar for June 2006\n",
      "Mo Tu We Th Fr Sa Su\n",
      "          1  2  3  4  5  6  7 \n",
      " 8  9 10 11 12 13 14 \n",
      "15 16 17 18 19 20 21 \n",
      "22 23 24 25 26 27 28 \n",
      "29 30 \n"
     ]
    }
   ],
   "source": [
    "# 38. Create a program that generates a calendar for a given month and year using conditional statements.\n",
    "\n",
    "import calendar\n",
    "\n",
    "def generate_calendar(year, month):\n",
    "    # List of days in each month for common years\n",
    "    days_in_month = [31, 28, 31, 30, 31, 30, 31, 31, 30, 31, 30, 31]\n",
    "    \n",
    "    # Check for leap year and adjust February days\n",
    "    if (year % 4 == 0 and year % 100 != 0) or (year % 400 == 0):\n",
    "        days_in_month[1] = 29  # February has 29 days in leap years\n",
    "    \n",
    "    # Validate the month\n",
    "    if month < 1 or month > 12:\n",
    "        print(\"Invalid month! Please enter a month between 1 and 12.\")\n",
    "        return\n",
    "    \n",
    "    # Get the first weekday of the month and the number of days in the month\n",
    "    first_day_of_month, num_days_in_month = calendar.monthrange(year, month)\n",
    "    \n",
    "    # Print the header (Month and Year)\n",
    "    print(f\"Calendar for {calendar.month_name[month]} {year}\")\n",
    "    print(\"Mo Tu We Th Fr Sa Su\")\n",
    "    \n",
    "    # Print leading spaces for the first week\n",
    "    current_day = 1\n",
    "    for _ in range(first_day_of_month):\n",
    "        print(\"  \", end=\" \")\n",
    "    \n",
    "    # Print the days of the month\n",
    "    for day in range(1, num_days_in_month + 1):\n",
    "        print(f\"{day:2}\", end=\" \")\n",
    "        current_day += 1\n",
    "        \n",
    "        # If it's Sunday, start a new line\n",
    "        if current_day > 7:\n",
    "            current_day = 1\n",
    "            print()\n",
    "    \n",
    "    print()  # Newline at the end for formatting\n",
    "\n",
    "# Input from user\n",
    "year = int(input(\"Enter the year: \"))\n",
    "month = int(input(\"Enter the month (1-12): \"))\n",
    "\n",
    "# Generate and print the calendar\n",
    "generate_calendar(year, month)\n"
   ]
  },
  {
   "cell_type": "code",
   "execution_count": 136,
   "id": "b85b985a-0aff-4d03-b241-5ab2761a1d81",
   "metadata": {},
   "outputs": [
    {
     "name": "stdout",
     "output_type": "stream",
     "text": [
      "Welcome to Blackjack!\n",
      "Player's hand: 10 of Clubs, 3 of Clubs\n",
      "Dealer's hand: A of Spades, [Hidden Card]\n"
     ]
    },
    {
     "name": "stdin",
     "output_type": "stream",
     "text": [
      "\n",
      "Would you like to [H]it or [S]tand?  H\n"
     ]
    },
    {
     "name": "stdout",
     "output_type": "stream",
     "text": [
      "Player's hand: 10 of Clubs, 3 of Clubs, 4 of Hearts\n"
     ]
    },
    {
     "name": "stdin",
     "output_type": "stream",
     "text": [
      "\n",
      "Would you like to [H]it or [S]tand?  H\n"
     ]
    },
    {
     "name": "stdout",
     "output_type": "stream",
     "text": [
      "Player's hand: 10 of Clubs, 3 of Clubs, 4 of Hearts, 7 of Clubs\n",
      "\n",
      "Your hand value is 24. You busted!\n"
     ]
    }
   ],
   "source": [
    "# 39. Build a program that simulates a basic text-based blackjack game against the computer.\n",
    "\n",
    "import random\n",
    "\n",
    "# Define card values\n",
    "card_values = {\n",
    "    '2': 2, '3': 3, '4': 4, '5': 5, '6': 6, '7': 7, '8': 8, '9': 9, '10': 10,\n",
    "    'J': 10, 'Q': 10, 'K': 10, 'A': 11\n",
    "}\n",
    "\n",
    "# Create a deck of cards\n",
    "def create_deck():\n",
    "    suits = ['Hearts', 'Diamonds', 'Clubs', 'Spades']\n",
    "    deck = [f'{rank} of {suit}' for rank in card_values.keys() for suit in suits]\n",
    "    random.shuffle(deck)\n",
    "    return deck\n",
    "\n",
    "# Calculate hand value\n",
    "def calculate_hand_value(hand):\n",
    "    value = 0\n",
    "    aces = 0\n",
    "    for card in hand:\n",
    "        rank = card.split(' ')[0]\n",
    "        value += card_values[rank]\n",
    "        if rank == 'A':\n",
    "            aces += 1\n",
    "    # Adjust for Aces (Ace can be worth 1 or 11)\n",
    "    while value > 21 and aces:\n",
    "        value -= 10\n",
    "        aces -= 1\n",
    "    return value\n",
    "\n",
    "# Display the cards\n",
    "def display_hand(player, hand):\n",
    "    print(f\"{player}'s hand: {', '.join(hand)}\")\n",
    "\n",
    "# Main game logic\n",
    "def play_blackjack():\n",
    "    print(\"Welcome to Blackjack!\")\n",
    "    \n",
    "    # Create a deck and deal initial hands\n",
    "    deck = create_deck()\n",
    "    player_hand = [deck.pop(), deck.pop()]\n",
    "    dealer_hand = [deck.pop(), deck.pop()]\n",
    "    \n",
    "    # Show initial hands\n",
    "    display_hand(\"Player\", player_hand)\n",
    "    print(f\"Dealer's hand: {dealer_hand[0]}, [Hidden Card]\")\n",
    "    \n",
    "    # Player's turn\n",
    "    while True:\n",
    "        player_value = calculate_hand_value(player_hand)\n",
    "        if player_value > 21:\n",
    "            print(f\"\\nYour hand value is {player_value}. You busted!\")\n",
    "            return\n",
    "        \n",
    "        move = input(\"\\nWould you like to [H]it or [S]tand? \").lower()\n",
    "        \n",
    "        if move == 'h':\n",
    "            player_hand.append(deck.pop())\n",
    "            display_hand(\"Player\", player_hand)\n",
    "        elif move == 's':\n",
    "            break\n",
    "        else:\n",
    "            print(\"Invalid input. Please choose [H]it or [S]tand.\")\n",
    "    \n",
    "    # Dealer's turn\n",
    "    dealer_value = calculate_hand_value(dealer_hand)\n",
    "    while dealer_value < 17:\n",
    "        dealer_hand.append(deck.pop())\n",
    "        dealer_value = calculate_hand_value(dealer_hand)\n",
    "    \n",
    "    # Show hands and compare values\n",
    "    display_hand(\"Dealer\", dealer_hand)\n",
    "    \n",
    "    if dealer_value > 21:\n",
    "        print(f\"\\nDealer's hand value is {dealer_value}. Dealer busted! You win!\")\n",
    "    elif dealer_value > player_value:\n",
    "        print(f\"\\nDealer's hand value is {dealer_value}. Dealer wins!\")\n",
    "    elif dealer_value < player_value:\n",
    "        print(f\"\\nYour hand value is {player_value}. You win!\")\n",
    "    else:\n",
    "        print(f\"\\nIt's a tie! Both you and the dealer have {player_value}.\")\n",
    "\n",
    "# Run the game\n",
    "if __name__ == \"__main__\":\n",
    "    play_blackjack()\n"
   ]
  },
  {
   "cell_type": "code",
   "execution_count": 138,
   "id": "7757934b-96d4-4770-82dc-06879fa79bd2",
   "metadata": {},
   "outputs": [
    {
     "name": "stdin",
     "output_type": "stream",
     "text": [
      "Enter a number to find its prime factors:  6\n"
     ]
    },
    {
     "name": "stdout",
     "output_type": "stream",
     "text": [
      "Prime factors of 6: [2, 3]\n"
     ]
    }
   ],
   "source": [
    "# 40. Write a program that generates the prime factors of a given number using trial division.\n",
    "\n",
    "import math\n",
    "\n",
    "# Function to generate prime factors using trial division\n",
    "def prime_factors(n):\n",
    "    factors = []\n",
    "    \n",
    "    # Handle the smallest prime factor (2)\n",
    "    while n % 2 == 0:\n",
    "        factors.append(2)\n",
    "        n //= 2\n",
    "    \n",
    "    # Check for odd factors from 3 onwards\n",
    "    divisor = 3\n",
    "    while divisor <= math.sqrt(n):\n",
    "        while n % divisor == 0:\n",
    "            factors.append(divisor)\n",
    "            n //= divisor\n",
    "        divisor += 2\n",
    "    \n",
    "    # If n is a prime number greater than 2\n",
    "    if n > 2:\n",
    "        factors.append(n)\n",
    "    \n",
    "    return factors\n",
    "\n",
    "# Input from the user\n",
    "number = int(input(\"Enter a number to find its prime factors: \"))\n",
    "\n",
    "# Get the prime factors\n",
    "factors = prime_factors(number)\n",
    "\n",
    "# Display the result\n",
    "print(f\"Prime factors of {number}: {factors}\")\n"
   ]
  }
 ],
 "metadata": {
  "kernelspec": {
   "display_name": "Python 3 (ipykernel)",
   "language": "python",
   "name": "python3"
  },
  "language_info": {
   "codemirror_mode": {
    "name": "ipython",
    "version": 3
   },
   "file_extension": ".py",
   "mimetype": "text/x-python",
   "name": "python",
   "nbconvert_exporter": "python",
   "pygments_lexer": "ipython3",
   "version": "3.12.4"
  }
 },
 "nbformat": 4,
 "nbformat_minor": 5
}
